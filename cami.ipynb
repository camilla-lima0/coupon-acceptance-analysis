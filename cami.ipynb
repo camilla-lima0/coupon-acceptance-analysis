{
 "cells": [
  {
   "cell_type": "markdown",
   "metadata": {
    "id": "CcUT6Fon_qRE"
   },
   "source": [
    "### Required Assignment 5.1: Will the Customer Accept the Coupon?\n",
    "\n",
    "**Context**\n",
    "\n",
    "Imagine driving through town and a coupon is delivered to your cell phone for a restaurant near where you are driving. Would you accept that coupon and take a short detour to the restaurant? Would you accept the coupon but use it on a subsequent trip? Would you ignore the coupon entirely? What if the coupon was for a bar instead of a restaurant? What about a coffee house? Would you accept a bar coupon with a minor passenger in the car? What about if it was just you and your partner in the car? Would weather impact the rate of acceptance? What about the time of day?\n",
    "\n",
    "Obviously, proximity to the business is a factor on whether the coupon is delivered to the driver or not, but what are the factors that determine whether a driver accepts the coupon once it is delivered to them? How would you determine whether a driver is likely to accept a coupon?\n",
    "\n",
    "**Overview**\n",
    "\n",
    "The goal of this project is to use what you know about visualizations and probability distributions to distinguish between customers who accepted a driving coupon versus those that did not.\n",
    "\n",
    "**Data**\n",
    "\n",
    "This data comes to us from the UCI Machine Learning repository and was collected via a survey on Amazon Mechanical Turk. The survey describes different driving scenarios including the destination, current time, weather, passenger, etc., and then ask the person whether he will accept the coupon if he is the driver. Answers that the user will drive there ‘right away’ or ‘later before the coupon expires’ are labeled as ‘Y = 1’ and answers ‘no, I do not want the coupon’ are labeled as ‘Y = 0’.  There are five different types of coupons -- less expensive restaurants (under \\$20), coffee houses, carry out & take away, bar, and more expensive restaurants (\\$20 - $50)."
   ]
  },
  {
   "cell_type": "markdown",
   "metadata": {
    "id": "1wORvMBJ_qRF"
   },
   "source": [
    "**Deliverables**\n",
    "\n",
    "Your final product should be a brief report that highlights the differences between customers who did and did not accept the coupons.  To explore the data you will utilize your knowledge of plotting, statistical summaries, and visualization using Python. You will publish your findings in a public facing github repository as your first portfolio piece.\n",
    "\n",
    "\n",
    "\n"
   ]
  },
  {
   "cell_type": "markdown",
   "metadata": {
    "id": "pG6_Ym6q_qRG"
   },
   "source": [
    "### Data Description\n",
    "Keep in mind that these values mentioned below are average values.\n",
    "\n",
    "The attributes of this data set include:\n",
    "1. User attributes\n",
    "    -  Gender: male, female\n",
    "    -  Age: below 21, 21 to 25, 26 to 30, etc.\n",
    "    -  Marital Status: single, married partner, unmarried partner, or widowed\n",
    "    -  Number of children: 0, 1, or more than 1\n",
    "    -  Education: high school, bachelors degree, associates degree, or graduate degree\n",
    "    -  Occupation: architecture & engineering, business & financial, etc.\n",
    "    -  Annual income: less than \\\\$12500, \\\\$12500 - \\\\$24999, \\\\$25000 - \\\\$37499, etc.\n",
    "    -  Number of times that he/she goes to a bar: 0, less than 1, 1 to 3, 4 to 8 or greater than 8\n",
    "    -  Number of times that he/she buys takeaway food: 0, less than 1, 1 to 3, 4 to 8 or greater\n",
    "    than 8\n",
    "    -  Number of times that he/she goes to a coffee house: 0, less than 1, 1 to 3, 4 to 8 or\n",
    "    greater than 8\n",
    "    -  Number of times that he/she eats at a restaurant with average expense less than \\\\$20 per\n",
    "    person: 0, less than 1, 1 to 3, 4 to 8 or greater than 8\n",
    "    -  Number of times that he/she goes to a bar: 0, less than 1, 1 to 3, 4 to 8 or greater than 8\n",
    "    \n",
    "\n",
    "2. Contextual attributes\n",
    "    - Driving destination: home, work, or no urgent destination\n",
    "    - Location of user, coupon and destination: we provide a map to show the geographical\n",
    "    location of the user, destination, and the venue, and we mark the distance between each\n",
    "    two places with time of driving. The user can see whether the venue is in the same\n",
    "    direction as the destination.\n",
    "    - Weather: sunny, rainy, or snowy\n",
    "    - Temperature: 30F, 55F, or 80F\n",
    "    - Time: 10AM, 2PM, or 6PM\n",
    "    - Passenger: alone, partner, kid(s), or friend(s)\n",
    "\n",
    "\n",
    "3. Coupon attributes\n",
    "    - time before it expires: 2 hours or one day"
   ]
  },
  {
   "cell_type": "code",
   "execution_count": 144,
   "metadata": {
    "id": "dzNoP3o__qRG"
   },
   "outputs": [],
   "source": [
    "import matplotlib.pyplot as plt\n",
    "import plotly.express as px\n",
    "import seaborn as sns\n",
    "import pandas as pd\n",
    "import numpy as np"
   ]
  },
  {
   "cell_type": "markdown",
   "metadata": {
    "id": "Ct8pI1uE_qRG"
   },
   "source": [
    "### Problems\n",
    "\n",
    "Use the prompts below to get started with your data analysis.  \n",
    "\n",
    "1. Read in the `coupons.csv` file.\n",
    "\n",
    "\n"
   ]
  },
  {
   "cell_type": "code",
   "execution_count": 49,
   "metadata": {
    "id": "X0vbffYg_qRH"
   },
   "outputs": [],
   "source": [
    "data = pd.read_csv('data/coupons.csv')"
   ]
  },
  {
   "cell_type": "code",
   "execution_count": 223,
   "metadata": {
    "id": "TXofQ_DF_qRH",
    "outputId": "2fc96a2c-1112-4b54-f24f-dbb9bc88abfb"
   },
   "outputs": [
    {
     "data": {
      "text/html": [
       "<div>\n",
       "<style scoped>\n",
       "    .dataframe tbody tr th:only-of-type {\n",
       "        vertical-align: middle;\n",
       "    }\n",
       "\n",
       "    .dataframe tbody tr th {\n",
       "        vertical-align: top;\n",
       "    }\n",
       "\n",
       "    .dataframe thead th {\n",
       "        text-align: right;\n",
       "    }\n",
       "</style>\n",
       "<table border=\"1\" class=\"dataframe\">\n",
       "  <thead>\n",
       "    <tr style=\"text-align: right;\">\n",
       "      <th></th>\n",
       "      <th>destination</th>\n",
       "      <th>passanger</th>\n",
       "      <th>weather</th>\n",
       "      <th>temperature</th>\n",
       "      <th>time</th>\n",
       "      <th>coupon</th>\n",
       "      <th>expiration</th>\n",
       "      <th>gender</th>\n",
       "      <th>age</th>\n",
       "      <th>maritalStatus</th>\n",
       "      <th>...</th>\n",
       "      <th>CoffeeHouse</th>\n",
       "      <th>CarryAway</th>\n",
       "      <th>RestaurantLessThan20</th>\n",
       "      <th>Restaurant20To50</th>\n",
       "      <th>toCoupon_GEQ5min</th>\n",
       "      <th>toCoupon_GEQ15min</th>\n",
       "      <th>toCoupon_GEQ25min</th>\n",
       "      <th>direction_same</th>\n",
       "      <th>direction_opp</th>\n",
       "      <th>Y</th>\n",
       "    </tr>\n",
       "  </thead>\n",
       "  <tbody>\n",
       "    <tr>\n",
       "      <th>12679</th>\n",
       "      <td>Home</td>\n",
       "      <td>Partner</td>\n",
       "      <td>Rainy</td>\n",
       "      <td>55</td>\n",
       "      <td>6PM</td>\n",
       "      <td>Carry out &amp; Take away</td>\n",
       "      <td>1d</td>\n",
       "      <td>Male</td>\n",
       "      <td>26</td>\n",
       "      <td>Single</td>\n",
       "      <td>...</td>\n",
       "      <td>NaN</td>\n",
       "      <td>NaN</td>\n",
       "      <td>NaN</td>\n",
       "      <td>NaN</td>\n",
       "      <td>1</td>\n",
       "      <td>0</td>\n",
       "      <td>0</td>\n",
       "      <td>1</td>\n",
       "      <td>0</td>\n",
       "      <td>1</td>\n",
       "    </tr>\n",
       "    <tr>\n",
       "      <th>12680</th>\n",
       "      <td>Work</td>\n",
       "      <td>Alone</td>\n",
       "      <td>Rainy</td>\n",
       "      <td>55</td>\n",
       "      <td>7AM</td>\n",
       "      <td>Carry out &amp; Take away</td>\n",
       "      <td>1d</td>\n",
       "      <td>Male</td>\n",
       "      <td>26</td>\n",
       "      <td>Single</td>\n",
       "      <td>...</td>\n",
       "      <td>NaN</td>\n",
       "      <td>NaN</td>\n",
       "      <td>NaN</td>\n",
       "      <td>NaN</td>\n",
       "      <td>1</td>\n",
       "      <td>0</td>\n",
       "      <td>0</td>\n",
       "      <td>0</td>\n",
       "      <td>1</td>\n",
       "      <td>1</td>\n",
       "    </tr>\n",
       "    <tr>\n",
       "      <th>12681</th>\n",
       "      <td>Work</td>\n",
       "      <td>Alone</td>\n",
       "      <td>Snowy</td>\n",
       "      <td>30</td>\n",
       "      <td>7AM</td>\n",
       "      <td>Coffee House</td>\n",
       "      <td>1d</td>\n",
       "      <td>Male</td>\n",
       "      <td>26</td>\n",
       "      <td>Single</td>\n",
       "      <td>...</td>\n",
       "      <td>NaN</td>\n",
       "      <td>NaN</td>\n",
       "      <td>NaN</td>\n",
       "      <td>NaN</td>\n",
       "      <td>1</td>\n",
       "      <td>0</td>\n",
       "      <td>0</td>\n",
       "      <td>1</td>\n",
       "      <td>0</td>\n",
       "      <td>0</td>\n",
       "    </tr>\n",
       "    <tr>\n",
       "      <th>12682</th>\n",
       "      <td>Work</td>\n",
       "      <td>Alone</td>\n",
       "      <td>Snowy</td>\n",
       "      <td>30</td>\n",
       "      <td>7AM</td>\n",
       "      <td>Bar</td>\n",
       "      <td>1d</td>\n",
       "      <td>Male</td>\n",
       "      <td>26</td>\n",
       "      <td>Single</td>\n",
       "      <td>...</td>\n",
       "      <td>NaN</td>\n",
       "      <td>NaN</td>\n",
       "      <td>NaN</td>\n",
       "      <td>NaN</td>\n",
       "      <td>1</td>\n",
       "      <td>1</td>\n",
       "      <td>1</td>\n",
       "      <td>0</td>\n",
       "      <td>1</td>\n",
       "      <td>0</td>\n",
       "    </tr>\n",
       "    <tr>\n",
       "      <th>12683</th>\n",
       "      <td>Work</td>\n",
       "      <td>Alone</td>\n",
       "      <td>Sunny</td>\n",
       "      <td>80</td>\n",
       "      <td>7AM</td>\n",
       "      <td>Restaurant(20-50)</td>\n",
       "      <td>2h</td>\n",
       "      <td>Male</td>\n",
       "      <td>26</td>\n",
       "      <td>Single</td>\n",
       "      <td>...</td>\n",
       "      <td>NaN</td>\n",
       "      <td>NaN</td>\n",
       "      <td>NaN</td>\n",
       "      <td>NaN</td>\n",
       "      <td>1</td>\n",
       "      <td>0</td>\n",
       "      <td>0</td>\n",
       "      <td>1</td>\n",
       "      <td>0</td>\n",
       "      <td>0</td>\n",
       "    </tr>\n",
       "  </tbody>\n",
       "</table>\n",
       "<p>5 rows × 26 columns</p>\n",
       "</div>"
      ],
      "text/plain": [
       "      destination passanger weather  temperature time                 coupon  \\\n",
       "12679        Home   Partner   Rainy           55  6PM  Carry out & Take away   \n",
       "12680        Work     Alone   Rainy           55  7AM  Carry out & Take away   \n",
       "12681        Work     Alone   Snowy           30  7AM           Coffee House   \n",
       "12682        Work     Alone   Snowy           30  7AM                    Bar   \n",
       "12683        Work     Alone   Sunny           80  7AM      Restaurant(20-50)   \n",
       "\n",
       "      expiration gender age maritalStatus  ...  CoffeeHouse CarryAway  \\\n",
       "12679         1d   Male  26        Single  ...          NaN       NaN   \n",
       "12680         1d   Male  26        Single  ...          NaN       NaN   \n",
       "12681         1d   Male  26        Single  ...          NaN       NaN   \n",
       "12682         1d   Male  26        Single  ...          NaN       NaN   \n",
       "12683         2h   Male  26        Single  ...          NaN       NaN   \n",
       "\n",
       "      RestaurantLessThan20 Restaurant20To50 toCoupon_GEQ5min  \\\n",
       "12679                  NaN              NaN                1   \n",
       "12680                  NaN              NaN                1   \n",
       "12681                  NaN              NaN                1   \n",
       "12682                  NaN              NaN                1   \n",
       "12683                  NaN              NaN                1   \n",
       "\n",
       "      toCoupon_GEQ15min toCoupon_GEQ25min direction_same direction_opp  Y  \n",
       "12679                 0                 0              1             0  1  \n",
       "12680                 0                 0              0             1  1  \n",
       "12681                 0                 0              1             0  0  \n",
       "12682                 1                 1              0             1  0  \n",
       "12683                 0                 0              1             0  0  \n",
       "\n",
       "[5 rows x 26 columns]"
      ]
     },
     "execution_count": 223,
     "metadata": {},
     "output_type": "execute_result"
    }
   ],
   "source": [
    "data.tail()"
   ]
  },
  {
   "cell_type": "markdown",
   "metadata": {
    "id": "GcDs78ZH_qRH"
   },
   "source": [
    "2. Investigate the dataset for missing or problematic data."
   ]
  },
  {
   "cell_type": "code",
   "execution_count": 225,
   "metadata": {
    "id": "6CwL6oWj_qRH"
   },
   "outputs": [
    {
     "data": {
      "text/html": [
       "<div>\n",
       "<style scoped>\n",
       "    .dataframe tbody tr th:only-of-type {\n",
       "        vertical-align: middle;\n",
       "    }\n",
       "\n",
       "    .dataframe tbody tr th {\n",
       "        vertical-align: top;\n",
       "    }\n",
       "\n",
       "    .dataframe thead th {\n",
       "        text-align: right;\n",
       "    }\n",
       "</style>\n",
       "<table border=\"1\" class=\"dataframe\">\n",
       "  <thead>\n",
       "    <tr style=\"text-align: right;\">\n",
       "      <th></th>\n",
       "      <th>car</th>\n",
       "      <th>Bar</th>\n",
       "      <th>CoffeeHouse</th>\n",
       "      <th>CarryAway</th>\n",
       "      <th>RestaurantLessThan20</th>\n",
       "      <th>Restaurant20To50</th>\n",
       "    </tr>\n",
       "  </thead>\n",
       "  <tbody>\n",
       "    <tr>\n",
       "      <th>0</th>\n",
       "      <td>NaN</td>\n",
       "      <td>NaN</td>\n",
       "      <td>NaN</td>\n",
       "      <td>NaN</td>\n",
       "      <td>NaN</td>\n",
       "      <td>NaN</td>\n",
       "    </tr>\n",
       "    <tr>\n",
       "      <th>1</th>\n",
       "      <td>NaN</td>\n",
       "      <td>NaN</td>\n",
       "      <td>NaN</td>\n",
       "      <td>NaN</td>\n",
       "      <td>NaN</td>\n",
       "      <td>NaN</td>\n",
       "    </tr>\n",
       "    <tr>\n",
       "      <th>2</th>\n",
       "      <td>NaN</td>\n",
       "      <td>NaN</td>\n",
       "      <td>NaN</td>\n",
       "      <td>NaN</td>\n",
       "      <td>NaN</td>\n",
       "      <td>NaN</td>\n",
       "    </tr>\n",
       "    <tr>\n",
       "      <th>3</th>\n",
       "      <td>NaN</td>\n",
       "      <td>NaN</td>\n",
       "      <td>NaN</td>\n",
       "      <td>NaN</td>\n",
       "      <td>NaN</td>\n",
       "      <td>NaN</td>\n",
       "    </tr>\n",
       "    <tr>\n",
       "      <th>4</th>\n",
       "      <td>NaN</td>\n",
       "      <td>NaN</td>\n",
       "      <td>NaN</td>\n",
       "      <td>NaN</td>\n",
       "      <td>NaN</td>\n",
       "      <td>NaN</td>\n",
       "    </tr>\n",
       "    <tr>\n",
       "      <th>...</th>\n",
       "      <td>...</td>\n",
       "      <td>...</td>\n",
       "      <td>...</td>\n",
       "      <td>...</td>\n",
       "      <td>...</td>\n",
       "      <td>...</td>\n",
       "    </tr>\n",
       "    <tr>\n",
       "      <th>12679</th>\n",
       "      <td>NaN</td>\n",
       "      <td>NaN</td>\n",
       "      <td>NaN</td>\n",
       "      <td>NaN</td>\n",
       "      <td>NaN</td>\n",
       "      <td>NaN</td>\n",
       "    </tr>\n",
       "    <tr>\n",
       "      <th>12680</th>\n",
       "      <td>NaN</td>\n",
       "      <td>NaN</td>\n",
       "      <td>NaN</td>\n",
       "      <td>NaN</td>\n",
       "      <td>NaN</td>\n",
       "      <td>NaN</td>\n",
       "    </tr>\n",
       "    <tr>\n",
       "      <th>12681</th>\n",
       "      <td>NaN</td>\n",
       "      <td>NaN</td>\n",
       "      <td>NaN</td>\n",
       "      <td>NaN</td>\n",
       "      <td>NaN</td>\n",
       "      <td>NaN</td>\n",
       "    </tr>\n",
       "    <tr>\n",
       "      <th>12682</th>\n",
       "      <td>NaN</td>\n",
       "      <td>NaN</td>\n",
       "      <td>NaN</td>\n",
       "      <td>NaN</td>\n",
       "      <td>NaN</td>\n",
       "      <td>NaN</td>\n",
       "    </tr>\n",
       "    <tr>\n",
       "      <th>12683</th>\n",
       "      <td>NaN</td>\n",
       "      <td>NaN</td>\n",
       "      <td>NaN</td>\n",
       "      <td>NaN</td>\n",
       "      <td>NaN</td>\n",
       "      <td>NaN</td>\n",
       "    </tr>\n",
       "  </tbody>\n",
       "</table>\n",
       "<p>12684 rows × 6 columns</p>\n",
       "</div>"
      ],
      "text/plain": [
       "       car  Bar CoffeeHouse CarryAway RestaurantLessThan20 Restaurant20To50\n",
       "0      NaN  NaN         NaN       NaN                  NaN              NaN\n",
       "1      NaN  NaN         NaN       NaN                  NaN              NaN\n",
       "2      NaN  NaN         NaN       NaN                  NaN              NaN\n",
       "3      NaN  NaN         NaN       NaN                  NaN              NaN\n",
       "4      NaN  NaN         NaN       NaN                  NaN              NaN\n",
       "...    ...  ...         ...       ...                  ...              ...\n",
       "12679  NaN  NaN         NaN       NaN                  NaN              NaN\n",
       "12680  NaN  NaN         NaN       NaN                  NaN              NaN\n",
       "12681  NaN  NaN         NaN       NaN                  NaN              NaN\n",
       "12682  NaN  NaN         NaN       NaN                  NaN              NaN\n",
       "12683  NaN  NaN         NaN       NaN                  NaN              NaN\n",
       "\n",
       "[12684 rows x 6 columns]"
      ]
     },
     "execution_count": 225,
     "metadata": {},
     "output_type": "execute_result"
    }
   ],
   "source": [
    "#finding columns with missing data\n",
    "\n",
    "columns_with_missing = data.columns[data.isnull().any()].tolist()\n",
    "columns_with_missing\n",
    "\n",
    "#now visualizing the data issues\n",
    "\n",
    "data[columns_with_missing]\n"
   ]
  },
  {
   "cell_type": "markdown",
   "metadata": {
    "id": "bSdVSpYB_qRH"
   },
   "source": [
    "3. Decide what to do about your missing data -- drop, replace, other..."
   ]
  },
  {
   "cell_type": "code",
   "execution_count": 227,
   "metadata": {
    "id": "tyvoAC5F_qRI"
   },
   "outputs": [
    {
     "name": "stdout",
     "output_type": "stream",
     "text": [
      "<class 'pandas.core.frame.DataFrame'>\n",
      "Index: 108 entries, 1237 to 8297\n",
      "Data columns (total 26 columns):\n",
      " #   Column                Non-Null Count  Dtype \n",
      "---  ------                --------------  ----- \n",
      " 0   destination           108 non-null    object\n",
      " 1   passanger             108 non-null    object\n",
      " 2   weather               108 non-null    object\n",
      " 3   temperature           108 non-null    int64 \n",
      " 4   time                  108 non-null    object\n",
      " 5   coupon                108 non-null    object\n",
      " 6   expiration            108 non-null    object\n",
      " 7   gender                108 non-null    object\n",
      " 8   age                   108 non-null    object\n",
      " 9   maritalStatus         108 non-null    object\n",
      " 10  has_children          108 non-null    int64 \n",
      " 11  education             108 non-null    object\n",
      " 12  occupation            108 non-null    object\n",
      " 13  income                108 non-null    object\n",
      " 14  car                   108 non-null    object\n",
      " 15  Bar                   108 non-null    object\n",
      " 16  CoffeeHouse           108 non-null    object\n",
      " 17  CarryAway             108 non-null    object\n",
      " 18  RestaurantLessThan20  108 non-null    object\n",
      " 19  Restaurant20To50      108 non-null    object\n",
      " 20  toCoupon_GEQ5min      108 non-null    int64 \n",
      " 21  toCoupon_GEQ15min     108 non-null    int64 \n",
      " 22  toCoupon_GEQ25min     108 non-null    int64 \n",
      " 23  direction_same        108 non-null    int64 \n",
      " 24  direction_opp         108 non-null    int64 \n",
      " 25  Y                     108 non-null    int64 \n",
      "dtypes: int64(8), object(18)\n",
      "memory usage: 22.8+ KB\n"
     ]
    }
   ],
   "source": [
    "\n",
    "data2 = data.dropna(subset=columns_with_missing)\n",
    "data2.info()"
   ]
  },
  {
   "cell_type": "code",
   "execution_count": 229,
   "metadata": {},
   "outputs": [
    {
     "data": {
      "text/plain": [
       "[]"
      ]
     },
     "execution_count": 229,
     "metadata": {},
     "output_type": "execute_result"
    }
   ],
   "source": [
    "still_missing = data2.columns[data2.isnull().any()].tolist()\n",
    "still_missing\n"
   ]
  },
  {
   "cell_type": "markdown",
   "metadata": {},
   "source": [
    "I decided to continue using the original datafram versus the one with dropna() because the columns that had NaN were not key to my analysis and the data set would get too small (108 rows). \n"
   ]
  },
  {
   "cell_type": "markdown",
   "metadata": {
    "id": "YE6oJbXd_qRI"
   },
   "source": [
    "4. What proportion of the total observations chose to accept the coupon?\n",
    "\n"
   ]
  },
  {
   "cell_type": "code",
   "execution_count": 241,
   "metadata": {
    "id": "86GGqBTv_qRI"
   },
   "outputs": [
    {
     "data": {
      "text/plain": [
       "56.84326710816777"
      ]
     },
     "execution_count": 241,
     "metadata": {},
     "output_type": "execute_result"
    }
   ],
   "source": [
    "average_acceptance_rate = data['Y'].mean() * 100\n",
    "average_acceptance_rate"
   ]
  },
  {
   "cell_type": "markdown",
   "metadata": {
    "id": "vflz0DoE_qRI"
   },
   "source": [
    "5. Use a bar plot to visualize the `coupon` column."
   ]
  },
  {
   "cell_type": "code",
   "execution_count": 239,
   "metadata": {
    "id": "dHFh3E45_qRI",
    "jp-MarkdownHeadingCollapsed": true
   },
   "outputs": [
    {
     "data": {
      "text/plain": [
       "<Axes: ylabel='coupon'>"
      ]
     },
     "execution_count": 239,
     "metadata": {},
     "output_type": "execute_result"
    },
    {
     "data": {
      "image/png": "[encoded data removed]",
      "text/plain": [
       "<Figure size 640x480 with 1 Axes>"
      ]
     },
     "metadata": {},
     "output_type": "display_data"
    }
   ],
   "source": [
    "sns.barplot(data['coupon'])"
   ]
  },
  {
   "cell_type": "markdown",
   "metadata": {
    "id": "Qw4lCyx2_qRI"
   },
   "source": [
    "6. Use a histogram to visualize the temperature column."
   ]
  },
  {
   "cell_type": "code",
   "execution_count": null,
   "metadata": {
    "id": "Yg9Anv71_qRI"
   },
   "outputs": [],
   "source": []
  },
  {
   "cell_type": "code",
   "execution_count": null,
   "metadata": {
    "id": "zLtOaJQk_qRI"
   },
   "outputs": [],
   "source": []
  },
  {
   "cell_type": "code",
   "execution_count": null,
   "metadata": {
    "id": "7GBHZKBp_qRJ"
   },
   "outputs": [],
   "source": []
  },
  {
   "cell_type": "code",
   "execution_count": null,
   "metadata": {
    "id": "Y5nBUA-j_qRJ"
   },
   "outputs": [],
   "source": []
  },
  {
   "cell_type": "code",
   "execution_count": null,
   "metadata": {
    "id": "ShcUC-Vm_qRJ"
   },
   "outputs": [],
   "source": []
  },
  {
   "cell_type": "markdown",
   "metadata": {
    "id": "FupfgeJk_qRJ"
   },
   "source": [
    "**Investigating the Bar Coupons**\n",
    "\n",
    "Now, we will lead you through an exploration of just the bar related coupons.  \n",
    "\n",
    "1. Create a new `DataFrame` that contains just the bar coupons.\n"
   ]
  },
  {
   "cell_type": "code",
   "execution_count": null,
   "metadata": {
    "id": "tMBlWuGq_qRJ"
   },
   "outputs": [],
   "source": []
  },
  {
   "cell_type": "markdown",
   "metadata": {
    "id": "8ue6uCqf_qRJ"
   },
   "source": [
    "2. What proportion of bar coupons were accepted?\n"
   ]
  },
  {
   "cell_type": "code",
   "execution_count": null,
   "metadata": {
    "id": "hSdte8Mi_qRK"
   },
   "outputs": [],
   "source": []
  },
  {
   "cell_type": "markdown",
   "metadata": {
    "id": "85nA_iEi_qRK"
   },
   "source": [
    "3. Compare the acceptance rate between those who went to a bar 3 or fewer times a month to those who went more.\n"
   ]
  },
  {
   "cell_type": "code",
   "execution_count": null,
   "metadata": {
    "id": "LBOrN-XM_qRK"
   },
   "outputs": [],
   "source": []
  },
  {
   "cell_type": "markdown",
   "metadata": {
    "id": "RBgcQwH4_qRK"
   },
   "source": [
    "4. Compare the acceptance rate between drivers who go to a bar more than once a month and are over the age of 25 to the all others.  Is there a difference?\n"
   ]
  },
  {
   "cell_type": "code",
   "execution_count": null,
   "metadata": {
    "id": "bf28bbeX_qRK"
   },
   "outputs": [],
   "source": []
  },
  {
   "cell_type": "markdown",
   "metadata": {
    "id": "S4RKT4PJ_qRK"
   },
   "source": [
    "5. Use the same process to compare the acceptance rate between drivers who go to bars more than once a month and had passengers that were not a kid and had occupations other than farming, fishing, or forestry.\n"
   ]
  },
  {
   "cell_type": "code",
   "execution_count": null,
   "metadata": {
    "id": "sENaI2Tg_qRK"
   },
   "outputs": [],
   "source": []
  },
  {
   "cell_type": "markdown",
   "metadata": {
    "id": "n2LIUTil_qRK"
   },
   "source": [
    "6. Compare the acceptance rates between those drivers who:\n",
    "\n",
    "- go to bars more than once a month, had passengers that were not a kid, and were not widowed *OR*\n",
    "- go to bars more than once a month and are under the age of 30 *OR*\n",
    "- go to cheap restaurants more than 4 times a month and income is less than 50K.\n",
    "\n"
   ]
  },
  {
   "cell_type": "code",
   "execution_count": null,
   "metadata": {
    "id": "aK_wEzx7_qRK"
   },
   "outputs": [],
   "source": []
  },
  {
   "cell_type": "markdown",
   "metadata": {
    "id": "v3fL3QkO_qRK"
   },
   "source": [
    "7.  Based on these observations, what do you hypothesize about drivers who accepted the bar coupons?"
   ]
  },
  {
   "cell_type": "code",
   "execution_count": null,
   "metadata": {
    "id": "Y48naDFh_qRL"
   },
   "outputs": [],
   "source": []
  },
  {
   "cell_type": "markdown",
   "metadata": {
    "id": "r4Hu1zOb_qRL"
   },
   "source": [
    "### Independent Investigation\n",
    "\n",
    "Using the bar coupon example as motivation, you are to explore one of the other coupon groups and try to determine the characteristics of passengers who accept the coupons.  "
   ]
  },
  {
   "cell_type": "code",
   "execution_count": 402,
   "metadata": {},
   "outputs": [
    {
     "data": {
      "image/png": "[encoded data removed]",
      "text/plain": [
       "<Figure size 1500x500 with 3 Axes>"
      ]
     },
     "metadata": {},
     "output_type": "display_data"
    }
   ],
   "source": [
    "\n",
    "time_acceptance = data2.groupby('time')['Y'].mean().reset_index()\n",
    "time_acceptance['acceptance_rate'] = time_acceptance['Y'] * 100\n",
    "\n",
    "coupon_acceptance = data.groupby('coupon')['Y'].mean().reset_index()\n",
    "coupon_acceptance['acceptance_rate'] = coupon_acceptance['Y'] * 100\n",
    "\n",
    "pass_acceptance = data.groupby('passanger')['Y'].mean().reset_index()\n",
    "pass_acceptance['acceptance_rate'] = weather_acceptance['Y'] * 100\n",
    "\n",
    "\n",
    "# Create subplots\n",
    "fig, axes = plt.subplots(1, 3, figsize=(15, 5)) # 1 row, 3 columns\n",
    "\n",
    "# Plot the first barplot\n",
    "sns.barplot(x='time', y='acceptance_rate', data=time_acceptance, ax=axes[0])\n",
    "axes[0].set_title('Acceptance Rate (%) by Time of Day')\n",
    "axes[0].tick_params(axis='x', rotation=30) \n",
    "\n",
    "# Plot the second barplot\n",
    "sns.barplot(x='coupon', y='acceptance_rate', data=coupon_acceptance, ax=axes[1])\n",
    "axes[1].set_title('Acceptance Rate (%) by Coupon Type')\n",
    "axes[1].tick_params(axis='x', rotation=30) \n",
    "\n",
    "# Plot the third barplot\n",
    "sns.barplot(x='passanger', y='acceptance_rate', data=pass_acceptance, ax=axes[2])\n",
    "axes[2].set_title('Acceptance Rate (%) by Passenger Type')\n",
    "axes[2].tick_params(axis='x', rotation=30) \n",
    "\n",
    "# Adjust layout to prevent overlapping titles\n",
    "plt.tight_layout()\n",
    "\n",
    "# Show the plots\n",
    "plt.show()\n"
   ]
  },
  {
   "cell_type": "code",
   "execution_count": 359,
   "metadata": {
    "id": "0c71cQhu_qRL"
   },
   "outputs": [
    {
     "data": {
      "application/vnd.plotly.v1+json": {
       "config": {
        "plotlyServerURL": "https://plot.ly"
       },
       "data": [
        {
         "alignmentgroup": "True",
         "hovertemplate": "Time of Day=%{x}<br>Acceptance Rate (%)=%{y}<extra></extra>",
         "legendgroup": "10AM",
         "marker": {
          "color": "#636efa",
          "pattern": {
           "shape": ""
          }
         },
         "name": "10AM",
         "offsetgroup": "10AM",
         "orientation": "v",
         "showlegend": true,
         "textposition": "auto",
         "type": "bar",
         "x": [
          "10AM"
         ],
         "xaxis": "x",
         "y": [
          43.47826086956522
         ],
         "yaxis": "y"
        },
        {
         "alignmentgroup": "True",
         "hovertemplate": "Time of Day=%{x}<br>Acceptance Rate (%)=%{y}<extra></extra>",
         "legendgroup": "10PM",
         "marker": {
          "color": "#EF553B",
          "pattern": {
           "shape": ""
          }
         },
         "name": "10PM",
         "offsetgroup": "10PM",
         "orientation": "v",
         "showlegend": true,
         "textposition": "auto",
         "type": "bar",
         "x": [
          "10PM"
         ],
         "xaxis": "x",
         "y": [
          60
         ],
         "yaxis": "y"
        },
        {
         "alignmentgroup": "True",
         "hovertemplate": "Time of Day=%{x}<br>Acceptance Rate (%)=%{y}<extra></extra>",
         "legendgroup": "2PM",
         "marker": {
          "color": "#00cc96",
          "pattern": {
           "shape": ""
          }
         },
         "name": "2PM",
         "offsetgroup": "2PM",
         "orientation": "v",
         "showlegend": true,
         "textposition": "auto",
         "type": "bar",
         "x": [
          "2PM"
         ],
         "xaxis": "x",
         "y": [
          76.19047619047619
         ],
         "yaxis": "y"
        },
        {
         "alignmentgroup": "True",
         "hovertemplate": "Time of Day=%{x}<br>Acceptance Rate (%)=%{y}<extra></extra>",
         "legendgroup": "6PM",
         "marker": {
          "color": "#ab63fa",
          "pattern": {
           "shape": ""
          }
         },
         "name": "6PM",
         "offsetgroup": "6PM",
         "orientation": "v",
         "showlegend": true,
         "textposition": "auto",
         "type": "bar",
         "x": [
          "6PM"
         ],
         "xaxis": "x",
         "y": [
          48.148148148148145
         ],
         "yaxis": "y"
        },
        {
         "alignmentgroup": "True",
         "hovertemplate": "Time of Day=%{x}<br>Acceptance Rate (%)=%{y}<extra></extra>",
         "legendgroup": "7AM",
         "marker": {
          "color": "#FFA15A",
          "pattern": {
           "shape": ""
          }
         },
         "name": "7AM",
         "offsetgroup": "7AM",
         "orientation": "v",
         "showlegend": true,
         "textposition": "auto",
         "type": "bar",
         "x": [
          "7AM"
         ],
         "xaxis": "x",
         "y": [
          62.96296296296296
         ],
         "yaxis": "y"
        }
       ],
       "layout": {
        "autosize": true,
        "barmode": "relative",
        "legend": {
         "title": {
          "text": "Time of Day"
         },
         "tracegroupgap": 0
        },
        "template": {
         "data": {
          "bar": [
           {
            "error_x": {
             "color": "#2a3f5f"
            },
            "error_y": {
             "color": "#2a3f5f"
            },
            "marker": {
             "line": {
              "color": "#E5ECF6",
              "width": 0.5
             },
             "pattern": {
              "fillmode": "overlay",
              "size": 10,
              "solidity": 0.2
             }
            },
            "type": "bar"
           }
          ],
          "barpolar": [
           {
            "marker": {
             "line": {
              "color": "#E5ECF6",
              "width": 0.5
             },
             "pattern": {
              "fillmode": "overlay",
              "size": 10,
              "solidity": 0.2
             }
            },
            "type": "barpolar"
           }
          ],
          "carpet": [
           {
            "aaxis": {
             "endlinecolor": "#2a3f5f",
             "gridcolor": "white",
             "linecolor": "white",
             "minorgridcolor": "white",
             "startlinecolor": "#2a3f5f"
            },
            "baxis": {
             "endlinecolor": "#2a3f5f",
             "gridcolor": "white",
             "linecolor": "white",
             "minorgridcolor": "white",
             "startlinecolor": "#2a3f5f"
            },
            "type": "carpet"
           }
          ],
          "choropleth": [
           {
            "colorbar": {
             "outlinewidth": 0,
             "ticks": ""
            },
            "type": "choropleth"
           }
          ],
          "contour": [
           {
            "colorbar": {
             "outlinewidth": 0,
             "ticks": ""
            },
            "colorscale": [
             [
              0,
              "#0d0887"
             ],
             [
              0.1111111111111111,
              "#46039f"
             ],
             [
              0.2222222222222222,
              "#7201a8"
             ],
             [
              0.3333333333333333,
              "#9c179e"
             ],
             [
              0.4444444444444444,
              "#bd3786"
             ],
             [
              0.5555555555555556,
              "#d8576b"
             ],
             [
              0.6666666666666666,
              "#ed7953"
             ],
             [
              0.7777777777777778,
              "#fb9f3a"
             ],
             [
              0.8888888888888888,
              "#fdca26"
             ],
             [
              1,
              "#f0f921"
             ]
            ],
            "type": "contour"
           }
          ],
          "contourcarpet": [
           {
            "colorbar": {
             "outlinewidth": 0,
             "ticks": ""
            },
            "type": "contourcarpet"
           }
          ],
          "heatmap": [
           {
            "colorbar": {
             "outlinewidth": 0,
             "ticks": ""
            },
            "colorscale": [
             [
              0,
              "#0d0887"
             ],
             [
              0.1111111111111111,
              "#46039f"
             ],
             [
              0.2222222222222222,
              "#7201a8"
             ],
             [
              0.3333333333333333,
              "#9c179e"
             ],
             [
              0.4444444444444444,
              "#bd3786"
             ],
             [
              0.5555555555555556,
              "#d8576b"
             ],
             [
              0.6666666666666666,
              "#ed7953"
             ],
             [
              0.7777777777777778,
              "#fb9f3a"
             ],
             [
              0.8888888888888888,
              "#fdca26"
             ],
             [
              1,
              "#f0f921"
             ]
            ],
            "type": "heatmap"
           }
          ],
          "heatmapgl": [
           {
            "colorbar": {
             "outlinewidth": 0,
             "ticks": ""
            },
            "colorscale": [
             [
              0,
              "#0d0887"
             ],
             [
              0.1111111111111111,
              "#46039f"
             ],
             [
              0.2222222222222222,
              "#7201a8"
             ],
             [
              0.3333333333333333,
              "#9c179e"
             ],
             [
              0.4444444444444444,
              "#bd3786"
             ],
             [
              0.5555555555555556,
              "#d8576b"
             ],
             [
              0.6666666666666666,
              "#ed7953"
             ],
             [
              0.7777777777777778,
              "#fb9f3a"
             ],
             [
              0.8888888888888888,
              "#fdca26"
             ],
             [
              1,
              "#f0f921"
             ]
            ],
            "type": "heatmapgl"
           }
          ],
          "histogram": [
           {
            "marker": {
             "pattern": {
              "fillmode": "overlay",
              "size": 10,
              "solidity": 0.2
             }
            },
            "type": "histogram"
           }
          ],
          "histogram2d": [
           {
            "colorbar": {
             "outlinewidth": 0,
             "ticks": ""
            },
            "colorscale": [
             [
              0,
              "#0d0887"
             ],
             [
              0.1111111111111111,
              "#46039f"
             ],
             [
              0.2222222222222222,
              "#7201a8"
             ],
             [
              0.3333333333333333,
              "#9c179e"
             ],
             [
              0.4444444444444444,
              "#bd3786"
             ],
             [
              0.5555555555555556,
              "#d8576b"
             ],
             [
              0.6666666666666666,
              "#ed7953"
             ],
             [
              0.7777777777777778,
              "#fb9f3a"
             ],
             [
              0.8888888888888888,
              "#fdca26"
             ],
             [
              1,
              "#f0f921"
             ]
            ],
            "type": "histogram2d"
           }
          ],
          "histogram2dcontour": [
           {
            "colorbar": {
             "outlinewidth": 0,
             "ticks": ""
            },
            "colorscale": [
             [
              0,
              "#0d0887"
             ],
             [
              0.1111111111111111,
              "#46039f"
             ],
             [
              0.2222222222222222,
              "#7201a8"
             ],
             [
              0.3333333333333333,
              "#9c179e"
             ],
             [
              0.4444444444444444,
              "#bd3786"
             ],
             [
              0.5555555555555556,
              "#d8576b"
             ],
             [
              0.6666666666666666,
              "#ed7953"
             ],
             [
              0.7777777777777778,
              "#fb9f3a"
             ],
             [
              0.8888888888888888,
              "#fdca26"
             ],
             [
              1,
              "#f0f921"
             ]
            ],
            "type": "histogram2dcontour"
           }
          ],
          "mesh3d": [
           {
            "colorbar": {
             "outlinewidth": 0,
             "ticks": ""
            },
            "type": "mesh3d"
           }
          ],
          "parcoords": [
           {
            "line": {
             "colorbar": {
              "outlinewidth": 0,
              "ticks": ""
             }
            },
            "type": "parcoords"
           }
          ],
          "pie": [
           {
            "automargin": true,
            "type": "pie"
           }
          ],
          "scatter": [
           {
            "fillpattern": {
             "fillmode": "overlay",
             "size": 10,
             "solidity": 0.2
            },
            "type": "scatter"
           }
          ],
          "scatter3d": [
           {
            "line": {
             "colorbar": {
              "outlinewidth": 0,
              "ticks": ""
             }
            },
            "marker": {
             "colorbar": {
              "outlinewidth": 0,
              "ticks": ""
             }
            },
            "type": "scatter3d"
           }
          ],
          "scattercarpet": [
           {
            "marker": {
             "colorbar": {
              "outlinewidth": 0,
              "ticks": ""
             }
            },
            "type": "scattercarpet"
           }
          ],
          "scattergeo": [
           {
            "marker": {
             "colorbar": {
              "outlinewidth": 0,
              "ticks": ""
             }
            },
            "type": "scattergeo"
           }
          ],
          "scattergl": [
           {
            "marker": {
             "colorbar": {
              "outlinewidth": 0,
              "ticks": ""
             }
            },
            "type": "scattergl"
           }
          ],
          "scattermapbox": [
           {
            "marker": {
             "colorbar": {
              "outlinewidth": 0,
              "ticks": ""
             }
            },
            "type": "scattermapbox"
           }
          ],
          "scatterpolar": [
           {
            "marker": {
             "colorbar": {
              "outlinewidth": 0,
              "ticks": ""
             }
            },
            "type": "scatterpolar"
           }
          ],
          "scatterpolargl": [
           {
            "marker": {
             "colorbar": {
              "outlinewidth": 0,
              "ticks": ""
             }
            },
            "type": "scatterpolargl"
           }
          ],
          "scatterternary": [
           {
            "marker": {
             "colorbar": {
              "outlinewidth": 0,
              "ticks": ""
             }
            },
            "type": "scatterternary"
           }
          ],
          "surface": [
           {
            "colorbar": {
             "outlinewidth": 0,
             "ticks": ""
            },
            "colorscale": [
             [
              0,
              "#0d0887"
             ],
             [
              0.1111111111111111,
              "#46039f"
             ],
             [
              0.2222222222222222,
              "#7201a8"
             ],
             [
              0.3333333333333333,
              "#9c179e"
             ],
             [
              0.4444444444444444,
              "#bd3786"
             ],
             [
              0.5555555555555556,
              "#d8576b"
             ],
             [
              0.6666666666666666,
              "#ed7953"
             ],
             [
              0.7777777777777778,
              "#fb9f3a"
             ],
             [
              0.8888888888888888,
              "#fdca26"
             ],
             [
              1,
              "#f0f921"
             ]
            ],
            "type": "surface"
           }
          ],
          "table": [
           {
            "cells": {
             "fill": {
              "color": "#EBF0F8"
             },
             "line": {
              "color": "white"
             }
            },
            "header": {
             "fill": {
              "color": "#C8D4E3"
             },
             "line": {
              "color": "white"
             }
            },
            "type": "table"
           }
          ]
         },
         "layout": {
          "annotationdefaults": {
           "arrowcolor": "#2a3f5f",
           "arrowhead": 0,
           "arrowwidth": 1
          },
          "autotypenumbers": "strict",
          "coloraxis": {
           "colorbar": {
            "outlinewidth": 0,
            "ticks": ""
           }
          },
          "colorscale": {
           "diverging": [
            [
             0,
             "#8e0152"
            ],
            [
             0.1,
             "#c51b7d"
            ],
            [
             0.2,
             "#de77ae"
            ],
            [
             0.3,
             "#f1b6da"
            ],
            [
             0.4,
             "#fde0ef"
            ],
            [
             0.5,
             "#f7f7f7"
            ],
            [
             0.6,
             "#e6f5d0"
            ],
            [
             0.7,
             "#b8e186"
            ],
            [
             0.8,
             "#7fbc41"
            ],
            [
             0.9,
             "#4d9221"
            ],
            [
             1,
             "#276419"
            ]
           ],
           "sequential": [
            [
             0,
             "#0d0887"
            ],
            [
             0.1111111111111111,
             "#46039f"
            ],
            [
             0.2222222222222222,
             "#7201a8"
            ],
            [
             0.3333333333333333,
             "#9c179e"
            ],
            [
             0.4444444444444444,
             "#bd3786"
            ],
            [
             0.5555555555555556,
             "#d8576b"
            ],
            [
             0.6666666666666666,
             "#ed7953"
            ],
            [
             0.7777777777777778,
             "#fb9f3a"
            ],
            [
             0.8888888888888888,
             "#fdca26"
            ],
            [
             1,
             "#f0f921"
            ]
           ],
           "sequentialminus": [
            [
             0,
             "#0d0887"
            ],
            [
             0.1111111111111111,
             "#46039f"
            ],
            [
             0.2222222222222222,
             "#7201a8"
            ],
            [
             0.3333333333333333,
             "#9c179e"
            ],
            [
             0.4444444444444444,
             "#bd3786"
            ],
            [
             0.5555555555555556,
             "#d8576b"
            ],
            [
             0.6666666666666666,
             "#ed7953"
            ],
            [
             0.7777777777777778,
             "#fb9f3a"
            ],
            [
             0.8888888888888888,
             "#fdca26"
            ],
            [
             1,
             "#f0f921"
            ]
           ]
          },
          "colorway": [
           "#636efa",
           "#EF553B",
           "#00cc96",
           "#ab63fa",
           "#FFA15A",
           "#19d3f3",
           "#FF6692",
           "#B6E880",
           "#FF97FF",
           "#FECB52"
          ],
          "font": {
           "color": "#2a3f5f"
          },
          "geo": {
           "bgcolor": "white",
           "lakecolor": "white",
           "landcolor": "#E5ECF6",
           "showlakes": true,
           "showland": true,
           "subunitcolor": "white"
          },
          "hoverlabel": {
           "align": "left"
          },
          "hovermode": "closest",
          "mapbox": {
           "style": "light"
          },
          "paper_bgcolor": "white",
          "plot_bgcolor": "#E5ECF6",
          "polar": {
           "angularaxis": {
            "gridcolor": "white",
            "linecolor": "white",
            "ticks": ""
           },
           "bgcolor": "#E5ECF6",
           "radialaxis": {
            "gridcolor": "white",
            "linecolor": "white",
            "ticks": ""
           }
          },
          "scene": {
           "xaxis": {
            "backgroundcolor": "#E5ECF6",
            "gridcolor": "white",
            "gridwidth": 2,
            "linecolor": "white",
            "showbackground": true,
            "ticks": "",
            "zerolinecolor": "white"
           },
           "yaxis": {
            "backgroundcolor": "#E5ECF6",
            "gridcolor": "white",
            "gridwidth": 2,
            "linecolor": "white",
            "showbackground": true,
            "ticks": "",
            "zerolinecolor": "white"
           },
           "zaxis": {
            "backgroundcolor": "#E5ECF6",
            "gridcolor": "white",
            "gridwidth": 2,
            "linecolor": "white",
            "showbackground": true,
            "ticks": "",
            "zerolinecolor": "white"
           }
          },
          "shapedefaults": {
           "line": {
            "color": "#2a3f5f"
           }
          },
          "ternary": {
           "aaxis": {
            "gridcolor": "white",
            "linecolor": "white",
            "ticks": ""
           },
           "baxis": {
            "gridcolor": "white",
            "linecolor": "white",
            "ticks": ""
           },
           "bgcolor": "#E5ECF6",
           "caxis": {
            "gridcolor": "white",
            "linecolor": "white",
            "ticks": ""
           }
          },
          "title": {
           "x": 0.05
          },
          "xaxis": {
           "automargin": true,
           "gridcolor": "white",
           "linecolor": "white",
           "ticks": "",
           "title": {
            "standoff": 15
           },
           "zerolinecolor": "white",
           "zerolinewidth": 2
          },
          "yaxis": {
           "automargin": true,
           "gridcolor": "white",
           "linecolor": "white",
           "ticks": "",
           "title": {
            "standoff": 15
           },
           "zerolinecolor": "white",
           "zerolinewidth": 2
          }
         }
        },
        "title": {
         "text": "Acceptance Rate by Time of Day"
        },
        "xaxis": {
         "anchor": "y",
         "autorange": true,
         "categoryarray": [
          "10AM",
          "10PM",
          "2PM",
          "6PM",
          "7AM"
         ],
         "categoryorder": "array",
         "domain": [
          0,
          1
         ],
         "range": [
          -0.5,
          4.5
         ],
         "title": {
          "text": "Time of Day"
         },
         "type": "category"
        },
        "yaxis": {
         "anchor": "x",
         "autorange": true,
         "domain": [
          0,
          1
         ],
         "range": [
          0,
          80.20050125313283
         ],
         "title": {
          "text": "Acceptance Rate (%)"
         },
         "type": "linear"
        }
       }
      },
      "image/png": "[encoded data removed]",
      "text/html": [
       "<div>                            <div id=\"7d969384-2190-48ed-b6d1-c0afc75b7e3c\" class=\"plotly-graph-div\" style=\"height:525px; width:100%;\"></div>            <script type=\"text/javascript\">                require([\"plotly\"], function(Plotly) {                    window.PLOTLYENV=window.PLOTLYENV || {};                                    if (document.getElementById(\"7d969384-2190-48ed-b6d1-c0afc75b7e3c\")) {                    Plotly.newPlot(                        \"7d969384-2190-48ed-b6d1-c0afc75b7e3c\",                        [{\"alignmentgroup\":\"True\",\"hovertemplate\":\"Time of Day=%{x}\\u003cbr\\u003eAcceptance Rate (%)=%{y}\\u003cextra\\u003e\\u003c\\u002fextra\\u003e\",\"legendgroup\":\"10AM\",\"marker\":{\"color\":\"#636efa\",\"pattern\":{\"shape\":\"\"}},\"name\":\"10AM\",\"offsetgroup\":\"10AM\",\"orientation\":\"v\",\"showlegend\":true,\"textposition\":\"auto\",\"x\":[\"10AM\"],\"xaxis\":\"x\",\"y\":[43.47826086956522],\"yaxis\":\"y\",\"type\":\"bar\"},{\"alignmentgroup\":\"True\",\"hovertemplate\":\"Time of Day=%{x}\\u003cbr\\u003eAcceptance Rate (%)=%{y}\\u003cextra\\u003e\\u003c\\u002fextra\\u003e\",\"legendgroup\":\"10PM\",\"marker\":{\"color\":\"#EF553B\",\"pattern\":{\"shape\":\"\"}},\"name\":\"10PM\",\"offsetgroup\":\"10PM\",\"orientation\":\"v\",\"showlegend\":true,\"textposition\":\"auto\",\"x\":[\"10PM\"],\"xaxis\":\"x\",\"y\":[60.0],\"yaxis\":\"y\",\"type\":\"bar\"},{\"alignmentgroup\":\"True\",\"hovertemplate\":\"Time of Day=%{x}\\u003cbr\\u003eAcceptance Rate (%)=%{y}\\u003cextra\\u003e\\u003c\\u002fextra\\u003e\",\"legendgroup\":\"2PM\",\"marker\":{\"color\":\"#00cc96\",\"pattern\":{\"shape\":\"\"}},\"name\":\"2PM\",\"offsetgroup\":\"2PM\",\"orientation\":\"v\",\"showlegend\":true,\"textposition\":\"auto\",\"x\":[\"2PM\"],\"xaxis\":\"x\",\"y\":[76.19047619047619],\"yaxis\":\"y\",\"type\":\"bar\"},{\"alignmentgroup\":\"True\",\"hovertemplate\":\"Time of Day=%{x}\\u003cbr\\u003eAcceptance Rate (%)=%{y}\\u003cextra\\u003e\\u003c\\u002fextra\\u003e\",\"legendgroup\":\"6PM\",\"marker\":{\"color\":\"#ab63fa\",\"pattern\":{\"shape\":\"\"}},\"name\":\"6PM\",\"offsetgroup\":\"6PM\",\"orientation\":\"v\",\"showlegend\":true,\"textposition\":\"auto\",\"x\":[\"6PM\"],\"xaxis\":\"x\",\"y\":[48.148148148148145],\"yaxis\":\"y\",\"type\":\"bar\"},{\"alignmentgroup\":\"True\",\"hovertemplate\":\"Time of Day=%{x}\\u003cbr\\u003eAcceptance Rate (%)=%{y}\\u003cextra\\u003e\\u003c\\u002fextra\\u003e\",\"legendgroup\":\"7AM\",\"marker\":{\"color\":\"#FFA15A\",\"pattern\":{\"shape\":\"\"}},\"name\":\"7AM\",\"offsetgroup\":\"7AM\",\"orientation\":\"v\",\"showlegend\":true,\"textposition\":\"auto\",\"x\":[\"7AM\"],\"xaxis\":\"x\",\"y\":[62.96296296296296],\"yaxis\":\"y\",\"type\":\"bar\"}],                        {\"template\":{\"data\":{\"histogram2dcontour\":[{\"type\":\"histogram2dcontour\",\"colorbar\":{\"outlinewidth\":0,\"ticks\":\"\"},\"colorscale\":[[0.0,\"#0d0887\"],[0.1111111111111111,\"#46039f\"],[0.2222222222222222,\"#7201a8\"],[0.3333333333333333,\"#9c179e\"],[0.4444444444444444,\"#bd3786\"],[0.5555555555555556,\"#d8576b\"],[0.6666666666666666,\"#ed7953\"],[0.7777777777777778,\"#fb9f3a\"],[0.8888888888888888,\"#fdca26\"],[1.0,\"#f0f921\"]]}],\"choropleth\":[{\"type\":\"choropleth\",\"colorbar\":{\"outlinewidth\":0,\"ticks\":\"\"}}],\"histogram2d\":[{\"type\":\"histogram2d\",\"colorbar\":{\"outlinewidth\":0,\"ticks\":\"\"},\"colorscale\":[[0.0,\"#0d0887\"],[0.1111111111111111,\"#46039f\"],[0.2222222222222222,\"#7201a8\"],[0.3333333333333333,\"#9c179e\"],[0.4444444444444444,\"#bd3786\"],[0.5555555555555556,\"#d8576b\"],[0.6666666666666666,\"#ed7953\"],[0.7777777777777778,\"#fb9f3a\"],[0.8888888888888888,\"#fdca26\"],[1.0,\"#f0f921\"]]}],\"heatmap\":[{\"type\":\"heatmap\",\"colorbar\":{\"outlinewidth\":0,\"ticks\":\"\"},\"colorscale\":[[0.0,\"#0d0887\"],[0.1111111111111111,\"#46039f\"],[0.2222222222222222,\"#7201a8\"],[0.3333333333333333,\"#9c179e\"],[0.4444444444444444,\"#bd3786\"],[0.5555555555555556,\"#d8576b\"],[0.6666666666666666,\"#ed7953\"],[0.7777777777777778,\"#fb9f3a\"],[0.8888888888888888,\"#fdca26\"],[1.0,\"#f0f921\"]]}],\"heatmapgl\":[{\"type\":\"heatmapgl\",\"colorbar\":{\"outlinewidth\":0,\"ticks\":\"\"},\"colorscale\":[[0.0,\"#0d0887\"],[0.1111111111111111,\"#46039f\"],[0.2222222222222222,\"#7201a8\"],[0.3333333333333333,\"#9c179e\"],[0.4444444444444444,\"#bd3786\"],[0.5555555555555556,\"#d8576b\"],[0.6666666666666666,\"#ed7953\"],[0.7777777777777778,\"#fb9f3a\"],[0.8888888888888888,\"#fdca26\"],[1.0,\"#f0f921\"]]}],\"contourcarpet\":[{\"type\":\"contourcarpet\",\"colorbar\":{\"outlinewidth\":0,\"ticks\":\"\"}}],\"contour\":[{\"type\":\"contour\",\"colorbar\":{\"outlinewidth\":0,\"ticks\":\"\"},\"colorscale\":[[0.0,\"#0d0887\"],[0.1111111111111111,\"#46039f\"],[0.2222222222222222,\"#7201a8\"],[0.3333333333333333,\"#9c179e\"],[0.4444444444444444,\"#bd3786\"],[0.5555555555555556,\"#d8576b\"],[0.6666666666666666,\"#ed7953\"],[0.7777777777777778,\"#fb9f3a\"],[0.8888888888888888,\"#fdca26\"],[1.0,\"#f0f921\"]]}],\"surface\":[{\"type\":\"surface\",\"colorbar\":{\"outlinewidth\":0,\"ticks\":\"\"},\"colorscale\":[[0.0,\"#0d0887\"],[0.1111111111111111,\"#46039f\"],[0.2222222222222222,\"#7201a8\"],[0.3333333333333333,\"#9c179e\"],[0.4444444444444444,\"#bd3786\"],[0.5555555555555556,\"#d8576b\"],[0.6666666666666666,\"#ed7953\"],[0.7777777777777778,\"#fb9f3a\"],[0.8888888888888888,\"#fdca26\"],[1.0,\"#f0f921\"]]}],\"mesh3d\":[{\"type\":\"mesh3d\",\"colorbar\":{\"outlinewidth\":0,\"ticks\":\"\"}}],\"scatter\":[{\"fillpattern\":{\"fillmode\":\"overlay\",\"size\":10,\"solidity\":0.2},\"type\":\"scatter\"}],\"parcoords\":[{\"type\":\"parcoords\",\"line\":{\"colorbar\":{\"outlinewidth\":0,\"ticks\":\"\"}}}],\"scatterpolargl\":[{\"type\":\"scatterpolargl\",\"marker\":{\"colorbar\":{\"outlinewidth\":0,\"ticks\":\"\"}}}],\"bar\":[{\"error_x\":{\"color\":\"#2a3f5f\"},\"error_y\":{\"color\":\"#2a3f5f\"},\"marker\":{\"line\":{\"color\":\"#E5ECF6\",\"width\":0.5},\"pattern\":{\"fillmode\":\"overlay\",\"size\":10,\"solidity\":0.2}},\"type\":\"bar\"}],\"scattergeo\":[{\"type\":\"scattergeo\",\"marker\":{\"colorbar\":{\"outlinewidth\":0,\"ticks\":\"\"}}}],\"scatterpolar\":[{\"type\":\"scatterpolar\",\"marker\":{\"colorbar\":{\"outlinewidth\":0,\"ticks\":\"\"}}}],\"histogram\":[{\"marker\":{\"pattern\":{\"fillmode\":\"overlay\",\"size\":10,\"solidity\":0.2}},\"type\":\"histogram\"}],\"scattergl\":[{\"type\":\"scattergl\",\"marker\":{\"colorbar\":{\"outlinewidth\":0,\"ticks\":\"\"}}}],\"scatter3d\":[{\"type\":\"scatter3d\",\"line\":{\"colorbar\":{\"outlinewidth\":0,\"ticks\":\"\"}},\"marker\":{\"colorbar\":{\"outlinewidth\":0,\"ticks\":\"\"}}}],\"scattermapbox\":[{\"type\":\"scattermapbox\",\"marker\":{\"colorbar\":{\"outlinewidth\":0,\"ticks\":\"\"}}}],\"scatterternary\":[{\"type\":\"scatterternary\",\"marker\":{\"colorbar\":{\"outlinewidth\":0,\"ticks\":\"\"}}}],\"scattercarpet\":[{\"type\":\"scattercarpet\",\"marker\":{\"colorbar\":{\"outlinewidth\":0,\"ticks\":\"\"}}}],\"carpet\":[{\"aaxis\":{\"endlinecolor\":\"#2a3f5f\",\"gridcolor\":\"white\",\"linecolor\":\"white\",\"minorgridcolor\":\"white\",\"startlinecolor\":\"#2a3f5f\"},\"baxis\":{\"endlinecolor\":\"#2a3f5f\",\"gridcolor\":\"white\",\"linecolor\":\"white\",\"minorgridcolor\":\"white\",\"startlinecolor\":\"#2a3f5f\"},\"type\":\"carpet\"}],\"table\":[{\"cells\":{\"fill\":{\"color\":\"#EBF0F8\"},\"line\":{\"color\":\"white\"}},\"header\":{\"fill\":{\"color\":\"#C8D4E3\"},\"line\":{\"color\":\"white\"}},\"type\":\"table\"}],\"barpolar\":[{\"marker\":{\"line\":{\"color\":\"#E5ECF6\",\"width\":0.5},\"pattern\":{\"fillmode\":\"overlay\",\"size\":10,\"solidity\":0.2}},\"type\":\"barpolar\"}],\"pie\":[{\"automargin\":true,\"type\":\"pie\"}]},\"layout\":{\"autotypenumbers\":\"strict\",\"colorway\":[\"#636efa\",\"#EF553B\",\"#00cc96\",\"#ab63fa\",\"#FFA15A\",\"#19d3f3\",\"#FF6692\",\"#B6E880\",\"#FF97FF\",\"#FECB52\"],\"font\":{\"color\":\"#2a3f5f\"},\"hovermode\":\"closest\",\"hoverlabel\":{\"align\":\"left\"},\"paper_bgcolor\":\"white\",\"plot_bgcolor\":\"#E5ECF6\",\"polar\":{\"bgcolor\":\"#E5ECF6\",\"angularaxis\":{\"gridcolor\":\"white\",\"linecolor\":\"white\",\"ticks\":\"\"},\"radialaxis\":{\"gridcolor\":\"white\",\"linecolor\":\"white\",\"ticks\":\"\"}},\"ternary\":{\"bgcolor\":\"#E5ECF6\",\"aaxis\":{\"gridcolor\":\"white\",\"linecolor\":\"white\",\"ticks\":\"\"},\"baxis\":{\"gridcolor\":\"white\",\"linecolor\":\"white\",\"ticks\":\"\"},\"caxis\":{\"gridcolor\":\"white\",\"linecolor\":\"white\",\"ticks\":\"\"}},\"coloraxis\":{\"colorbar\":{\"outlinewidth\":0,\"ticks\":\"\"}},\"colorscale\":{\"sequential\":[[0.0,\"#0d0887\"],[0.1111111111111111,\"#46039f\"],[0.2222222222222222,\"#7201a8\"],[0.3333333333333333,\"#9c179e\"],[0.4444444444444444,\"#bd3786\"],[0.5555555555555556,\"#d8576b\"],[0.6666666666666666,\"#ed7953\"],[0.7777777777777778,\"#fb9f3a\"],[0.8888888888888888,\"#fdca26\"],[1.0,\"#f0f921\"]],\"sequentialminus\":[[0.0,\"#0d0887\"],[0.1111111111111111,\"#46039f\"],[0.2222222222222222,\"#7201a8\"],[0.3333333333333333,\"#9c179e\"],[0.4444444444444444,\"#bd3786\"],[0.5555555555555556,\"#d8576b\"],[0.6666666666666666,\"#ed7953\"],[0.7777777777777778,\"#fb9f3a\"],[0.8888888888888888,\"#fdca26\"],[1.0,\"#f0f921\"]],\"diverging\":[[0,\"#8e0152\"],[0.1,\"#c51b7d\"],[0.2,\"#de77ae\"],[0.3,\"#f1b6da\"],[0.4,\"#fde0ef\"],[0.5,\"#f7f7f7\"],[0.6,\"#e6f5d0\"],[0.7,\"#b8e186\"],[0.8,\"#7fbc41\"],[0.9,\"#4d9221\"],[1,\"#276419\"]]},\"xaxis\":{\"gridcolor\":\"white\",\"linecolor\":\"white\",\"ticks\":\"\",\"title\":{\"standoff\":15},\"zerolinecolor\":\"white\",\"automargin\":true,\"zerolinewidth\":2},\"yaxis\":{\"gridcolor\":\"white\",\"linecolor\":\"white\",\"ticks\":\"\",\"title\":{\"standoff\":15},\"zerolinecolor\":\"white\",\"automargin\":true,\"zerolinewidth\":2},\"scene\":{\"xaxis\":{\"backgroundcolor\":\"#E5ECF6\",\"gridcolor\":\"white\",\"linecolor\":\"white\",\"showbackground\":true,\"ticks\":\"\",\"zerolinecolor\":\"white\",\"gridwidth\":2},\"yaxis\":{\"backgroundcolor\":\"#E5ECF6\",\"gridcolor\":\"white\",\"linecolor\":\"white\",\"showbackground\":true,\"ticks\":\"\",\"zerolinecolor\":\"white\",\"gridwidth\":2},\"zaxis\":{\"backgroundcolor\":\"#E5ECF6\",\"gridcolor\":\"white\",\"linecolor\":\"white\",\"showbackground\":true,\"ticks\":\"\",\"zerolinecolor\":\"white\",\"gridwidth\":2}},\"shapedefaults\":{\"line\":{\"color\":\"#2a3f5f\"}},\"annotationdefaults\":{\"arrowcolor\":\"#2a3f5f\",\"arrowhead\":0,\"arrowwidth\":1},\"geo\":{\"bgcolor\":\"white\",\"landcolor\":\"#E5ECF6\",\"subunitcolor\":\"white\",\"showland\":true,\"showlakes\":true,\"lakecolor\":\"white\"},\"title\":{\"x\":0.05},\"mapbox\":{\"style\":\"light\"}}},\"xaxis\":{\"anchor\":\"y\",\"domain\":[0.0,1.0],\"title\":{\"text\":\"Time of Day\"},\"categoryorder\":\"array\",\"categoryarray\":[\"10AM\",\"10PM\",\"2PM\",\"6PM\",\"7AM\"]},\"yaxis\":{\"anchor\":\"x\",\"domain\":[0.0,1.0],\"title\":{\"text\":\"Acceptance Rate (%)\"}},\"legend\":{\"title\":{\"text\":\"Time of Day\"},\"tracegroupgap\":0},\"title\":{\"text\":\"Acceptance Rate by Time of Day\"},\"barmode\":\"relative\"},                        {\"responsive\": true}                    ).then(function(){\n",
       "                            \n",
       "var gd = document.getElementById('7d969384-2190-48ed-b6d1-c0afc75b7e3c');\n",
       "var x = new MutationObserver(function (mutations, observer) {{\n",
       "        var display = window.getComputedStyle(gd).display;\n",
       "        if (!display || display === 'none') {{\n",
       "            console.log([gd, 'removed!']);\n",
       "            Plotly.purge(gd);\n",
       "            observer.disconnect();\n",
       "        }}\n",
       "}});\n",
       "\n",
       "// Listen for the removal of the full notebook cells\n",
       "var notebookContainer = gd.closest('#notebook-container');\n",
       "if (notebookContainer) {{\n",
       "    x.observe(notebookContainer, {childList: true});\n",
       "}}\n",
       "\n",
       "// Listen for the clearing of the current output cell\n",
       "var outputEl = gd.closest('.output');\n",
       "if (outputEl) {{\n",
       "    x.observe(outputEl, {childList: true});\n",
       "}}\n",
       "\n",
       "                        })                };                });            </script>        </div>"
      ]
     },
     "metadata": {},
     "output_type": "display_data"
    },
    {
     "data": {
      "application/vnd.plotly.v1+json": {
       "config": {
        "plotlyServerURL": "https://plot.ly"
       },
       "data": [
        {
         "alignmentgroup": "True",
         "hovertemplate": "Coupon Type=%{x}<br>Acceptance Rate (%)=%{y}<extra></extra>",
         "legendgroup": "Bar",
         "marker": {
          "color": "#636efa",
          "pattern": {
           "shape": ""
          }
         },
         "name": "Bar",
         "offsetgroup": "Bar",
         "orientation": "v",
         "showlegend": true,
         "textposition": "auto",
         "type": "bar",
         "x": [
          "Bar"
         ],
         "xaxis": "x",
         "y": [
          41.00148735746158
         ],
         "yaxis": "y"
        },
        {
         "alignmentgroup": "True",
         "hovertemplate": "Coupon Type=%{x}<br>Acceptance Rate (%)=%{y}<extra></extra>",
         "legendgroup": "Carry out & Take away",
         "marker": {
          "color": "#EF553B",
          "pattern": {
           "shape": ""
          }
         },
         "name": "Carry out & Take away",
         "offsetgroup": "Carry out & Take away",
         "orientation": "v",
         "showlegend": true,
         "textposition": "auto",
         "type": "bar",
         "x": [
          "Carry out & Take away"
         ],
         "xaxis": "x",
         "y": [
          73.54784788967822
         ],
         "yaxis": "y"
        },
        {
         "alignmentgroup": "True",
         "hovertemplate": "Coupon Type=%{x}<br>Acceptance Rate (%)=%{y}<extra></extra>",
         "legendgroup": "Coffee House",
         "marker": {
          "color": "#00cc96",
          "pattern": {
           "shape": ""
          }
         },
         "name": "Coffee House",
         "offsetgroup": "Coffee House",
         "orientation": "v",
         "showlegend": true,
         "textposition": "auto",
         "type": "bar",
         "x": [
          "Coffee House"
         ],
         "xaxis": "x",
         "y": [
          49.92492492492492
         ],
         "yaxis": "y"
        },
        {
         "alignmentgroup": "True",
         "hovertemplate": "Coupon Type=%{x}<br>Acceptance Rate (%)=%{y}<extra></extra>",
         "legendgroup": "Restaurant(20-50)",
         "marker": {
          "color": "#ab63fa",
          "pattern": {
           "shape": ""
          }
         },
         "name": "Restaurant(20-50)",
         "offsetgroup": "Restaurant(20-50)",
         "orientation": "v",
         "showlegend": true,
         "textposition": "auto",
         "type": "bar",
         "x": [
          "Restaurant(20-50)"
         ],
         "xaxis": "x",
         "y": [
          44.10187667560322
         ],
         "yaxis": "y"
        },
        {
         "alignmentgroup": "True",
         "hovertemplate": "Coupon Type=%{x}<br>Acceptance Rate (%)=%{y}<extra></extra>",
         "legendgroup": "Restaurant(<20)",
         "marker": {
          "color": "#FFA15A",
          "pattern": {
           "shape": ""
          }
         },
         "name": "Restaurant(<20)",
         "offsetgroup": "Restaurant(<20)",
         "orientation": "v",
         "showlegend": true,
         "textposition": "auto",
         "type": "bar",
         "x": [
          "Restaurant(<20)"
         ],
         "xaxis": "x",
         "y": [
          70.71069633883704
         ],
         "yaxis": "y"
        }
       ],
       "layout": {
        "autosize": true,
        "barmode": "relative",
        "legend": {
         "title": {
          "text": "Coupon Type"
         },
         "tracegroupgap": 0
        },
        "template": {
         "data": {
          "bar": [
           {
            "error_x": {
             "color": "#2a3f5f"
            },
            "error_y": {
             "color": "#2a3f5f"
            },
            "marker": {
             "line": {
              "color": "#E5ECF6",
              "width": 0.5
             },
             "pattern": {
              "fillmode": "overlay",
              "size": 10,
              "solidity": 0.2
             }
            },
            "type": "bar"
           }
          ],
          "barpolar": [
           {
            "marker": {
             "line": {
              "color": "#E5ECF6",
              "width": 0.5
             },
             "pattern": {
              "fillmode": "overlay",
              "size": 10,
              "solidity": 0.2
             }
            },
            "type": "barpolar"
           }
          ],
          "carpet": [
           {
            "aaxis": {
             "endlinecolor": "#2a3f5f",
             "gridcolor": "white",
             "linecolor": "white",
             "minorgridcolor": "white",
             "startlinecolor": "#2a3f5f"
            },
            "baxis": {
             "endlinecolor": "#2a3f5f",
             "gridcolor": "white",
             "linecolor": "white",
             "minorgridcolor": "white",
             "startlinecolor": "#2a3f5f"
            },
            "type": "carpet"
           }
          ],
          "choropleth": [
           {
            "colorbar": {
             "outlinewidth": 0,
             "ticks": ""
            },
            "type": "choropleth"
           }
          ],
          "contour": [
           {
            "colorbar": {
             "outlinewidth": 0,
             "ticks": ""
            },
            "colorscale": [
             [
              0,
              "#0d0887"
             ],
             [
              0.1111111111111111,
              "#46039f"
             ],
             [
              0.2222222222222222,
              "#7201a8"
             ],
             [
              0.3333333333333333,
              "#9c179e"
             ],
             [
              0.4444444444444444,
              "#bd3786"
             ],
             [
              0.5555555555555556,
              "#d8576b"
             ],
             [
              0.6666666666666666,
              "#ed7953"
             ],
             [
              0.7777777777777778,
              "#fb9f3a"
             ],
             [
              0.8888888888888888,
              "#fdca26"
             ],
             [
              1,
              "#f0f921"
             ]
            ],
            "type": "contour"
           }
          ],
          "contourcarpet": [
           {
            "colorbar": {
             "outlinewidth": 0,
             "ticks": ""
            },
            "type": "contourcarpet"
           }
          ],
          "heatmap": [
           {
            "colorbar": {
             "outlinewidth": 0,
             "ticks": ""
            },
            "colorscale": [
             [
              0,
              "#0d0887"
             ],
             [
              0.1111111111111111,
              "#46039f"
             ],
             [
              0.2222222222222222,
              "#7201a8"
             ],
             [
              0.3333333333333333,
              "#9c179e"
             ],
             [
              0.4444444444444444,
              "#bd3786"
             ],
             [
              0.5555555555555556,
              "#d8576b"
             ],
             [
              0.6666666666666666,
              "#ed7953"
             ],
             [
              0.7777777777777778,
              "#fb9f3a"
             ],
             [
              0.8888888888888888,
              "#fdca26"
             ],
             [
              1,
              "#f0f921"
             ]
            ],
            "type": "heatmap"
           }
          ],
          "heatmapgl": [
           {
            "colorbar": {
             "outlinewidth": 0,
             "ticks": ""
            },
            "colorscale": [
             [
              0,
              "#0d0887"
             ],
             [
              0.1111111111111111,
              "#46039f"
             ],
             [
              0.2222222222222222,
              "#7201a8"
             ],
             [
              0.3333333333333333,
              "#9c179e"
             ],
             [
              0.4444444444444444,
              "#bd3786"
             ],
             [
              0.5555555555555556,
              "#d8576b"
             ],
             [
              0.6666666666666666,
              "#ed7953"
             ],
             [
              0.7777777777777778,
              "#fb9f3a"
             ],
             [
              0.8888888888888888,
              "#fdca26"
             ],
             [
              1,
              "#f0f921"
             ]
            ],
            "type": "heatmapgl"
           }
          ],
          "histogram": [
           {
            "marker": {
             "pattern": {
              "fillmode": "overlay",
              "size": 10,
              "solidity": 0.2
             }
            },
            "type": "histogram"
           }
          ],
          "histogram2d": [
           {
            "colorbar": {
             "outlinewidth": 0,
             "ticks": ""
            },
            "colorscale": [
             [
              0,
              "#0d0887"
             ],
             [
              0.1111111111111111,
              "#46039f"
             ],
             [
              0.2222222222222222,
              "#7201a8"
             ],
             [
              0.3333333333333333,
              "#9c179e"
             ],
             [
              0.4444444444444444,
              "#bd3786"
             ],
             [
              0.5555555555555556,
              "#d8576b"
             ],
             [
              0.6666666666666666,
              "#ed7953"
             ],
             [
              0.7777777777777778,
              "#fb9f3a"
             ],
             [
              0.8888888888888888,
              "#fdca26"
             ],
             [
              1,
              "#f0f921"
             ]
            ],
            "type": "histogram2d"
           }
          ],
          "histogram2dcontour": [
           {
            "colorbar": {
             "outlinewidth": 0,
             "ticks": ""
            },
            "colorscale": [
             [
              0,
              "#0d0887"
             ],
             [
              0.1111111111111111,
              "#46039f"
             ],
             [
              0.2222222222222222,
              "#7201a8"
             ],
             [
              0.3333333333333333,
              "#9c179e"
             ],
             [
              0.4444444444444444,
              "#bd3786"
             ],
             [
              0.5555555555555556,
              "#d8576b"
             ],
             [
              0.6666666666666666,
              "#ed7953"
             ],
             [
              0.7777777777777778,
              "#fb9f3a"
             ],
             [
              0.8888888888888888,
              "#fdca26"
             ],
             [
              1,
              "#f0f921"
             ]
            ],
            "type": "histogram2dcontour"
           }
          ],
          "mesh3d": [
           {
            "colorbar": {
             "outlinewidth": 0,
             "ticks": ""
            },
            "type": "mesh3d"
           }
          ],
          "parcoords": [
           {
            "line": {
             "colorbar": {
              "outlinewidth": 0,
              "ticks": ""
             }
            },
            "type": "parcoords"
           }
          ],
          "pie": [
           {
            "automargin": true,
            "type": "pie"
           }
          ],
          "scatter": [
           {
            "fillpattern": {
             "fillmode": "overlay",
             "size": 10,
             "solidity": 0.2
            },
            "type": "scatter"
           }
          ],
          "scatter3d": [
           {
            "line": {
             "colorbar": {
              "outlinewidth": 0,
              "ticks": ""
             }
            },
            "marker": {
             "colorbar": {
              "outlinewidth": 0,
              "ticks": ""
             }
            },
            "type": "scatter3d"
           }
          ],
          "scattercarpet": [
           {
            "marker": {
             "colorbar": {
              "outlinewidth": 0,
              "ticks": ""
             }
            },
            "type": "scattercarpet"
           }
          ],
          "scattergeo": [
           {
            "marker": {
             "colorbar": {
              "outlinewidth": 0,
              "ticks": ""
             }
            },
            "type": "scattergeo"
           }
          ],
          "scattergl": [
           {
            "marker": {
             "colorbar": {
              "outlinewidth": 0,
              "ticks": ""
             }
            },
            "type": "scattergl"
           }
          ],
          "scattermapbox": [
           {
            "marker": {
             "colorbar": {
              "outlinewidth": 0,
              "ticks": ""
             }
            },
            "type": "scattermapbox"
           }
          ],
          "scatterpolar": [
           {
            "marker": {
             "colorbar": {
              "outlinewidth": 0,
              "ticks": ""
             }
            },
            "type": "scatterpolar"
           }
          ],
          "scatterpolargl": [
           {
            "marker": {
             "colorbar": {
              "outlinewidth": 0,
              "ticks": ""
             }
            },
            "type": "scatterpolargl"
           }
          ],
          "scatterternary": [
           {
            "marker": {
             "colorbar": {
              "outlinewidth": 0,
              "ticks": ""
             }
            },
            "type": "scatterternary"
           }
          ],
          "surface": [
           {
            "colorbar": {
             "outlinewidth": 0,
             "ticks": ""
            },
            "colorscale": [
             [
              0,
              "#0d0887"
             ],
             [
              0.1111111111111111,
              "#46039f"
             ],
             [
              0.2222222222222222,
              "#7201a8"
             ],
             [
              0.3333333333333333,
              "#9c179e"
             ],
             [
              0.4444444444444444,
              "#bd3786"
             ],
             [
              0.5555555555555556,
              "#d8576b"
             ],
             [
              0.6666666666666666,
              "#ed7953"
             ],
             [
              0.7777777777777778,
              "#fb9f3a"
             ],
             [
              0.8888888888888888,
              "#fdca26"
             ],
             [
              1,
              "#f0f921"
             ]
            ],
            "type": "surface"
           }
          ],
          "table": [
           {
            "cells": {
             "fill": {
              "color": "#EBF0F8"
             },
             "line": {
              "color": "white"
             }
            },
            "header": {
             "fill": {
              "color": "#C8D4E3"
             },
             "line": {
              "color": "white"
             }
            },
            "type": "table"
           }
          ]
         },
         "layout": {
          "annotationdefaults": {
           "arrowcolor": "#2a3f5f",
           "arrowhead": 0,
           "arrowwidth": 1
          },
          "autotypenumbers": "strict",
          "coloraxis": {
           "colorbar": {
            "outlinewidth": 0,
            "ticks": ""
           }
          },
          "colorscale": {
           "diverging": [
            [
             0,
             "#8e0152"
            ],
            [
             0.1,
             "#c51b7d"
            ],
            [
             0.2,
             "#de77ae"
            ],
            [
             0.3,
             "#f1b6da"
            ],
            [
             0.4,
             "#fde0ef"
            ],
            [
             0.5,
             "#f7f7f7"
            ],
            [
             0.6,
             "#e6f5d0"
            ],
            [
             0.7,
             "#b8e186"
            ],
            [
             0.8,
             "#7fbc41"
            ],
            [
             0.9,
             "#4d9221"
            ],
            [
             1,
             "#276419"
            ]
           ],
           "sequential": [
            [
             0,
             "#0d0887"
            ],
            [
             0.1111111111111111,
             "#46039f"
            ],
            [
             0.2222222222222222,
             "#7201a8"
            ],
            [
             0.3333333333333333,
             "#9c179e"
            ],
            [
             0.4444444444444444,
             "#bd3786"
            ],
            [
             0.5555555555555556,
             "#d8576b"
            ],
            [
             0.6666666666666666,
             "#ed7953"
            ],
            [
             0.7777777777777778,
             "#fb9f3a"
            ],
            [
             0.8888888888888888,
             "#fdca26"
            ],
            [
             1,
             "#f0f921"
            ]
           ],
           "sequentialminus": [
            [
             0,
             "#0d0887"
            ],
            [
             0.1111111111111111,
             "#46039f"
            ],
            [
             0.2222222222222222,
             "#7201a8"
            ],
            [
             0.3333333333333333,
             "#9c179e"
            ],
            [
             0.4444444444444444,
             "#bd3786"
            ],
            [
             0.5555555555555556,
             "#d8576b"
            ],
            [
             0.6666666666666666,
             "#ed7953"
            ],
            [
             0.7777777777777778,
             "#fb9f3a"
            ],
            [
             0.8888888888888888,
             "#fdca26"
            ],
            [
             1,
             "#f0f921"
            ]
           ]
          },
          "colorway": [
           "#636efa",
           "#EF553B",
           "#00cc96",
           "#ab63fa",
           "#FFA15A",
           "#19d3f3",
           "#FF6692",
           "#B6E880",
           "#FF97FF",
           "#FECB52"
          ],
          "font": {
           "color": "#2a3f5f"
          },
          "geo": {
           "bgcolor": "white",
           "lakecolor": "white",
           "landcolor": "#E5ECF6",
           "showlakes": true,
           "showland": true,
           "subunitcolor": "white"
          },
          "hoverlabel": {
           "align": "left"
          },
          "hovermode": "closest",
          "mapbox": {
           "style": "light"
          },
          "paper_bgcolor": "white",
          "plot_bgcolor": "#E5ECF6",
          "polar": {
           "angularaxis": {
            "gridcolor": "white",
            "linecolor": "white",
            "ticks": ""
           },
           "bgcolor": "#E5ECF6",
           "radialaxis": {
            "gridcolor": "white",
            "linecolor": "white",
            "ticks": ""
           }
          },
          "scene": {
           "xaxis": {
            "backgroundcolor": "#E5ECF6",
            "gridcolor": "white",
            "gridwidth": 2,
            "linecolor": "white",
            "showbackground": true,
            "ticks": "",
            "zerolinecolor": "white"
           },
           "yaxis": {
            "backgroundcolor": "#E5ECF6",
            "gridcolor": "white",
            "gridwidth": 2,
            "linecolor": "white",
            "showbackground": true,
            "ticks": "",
            "zerolinecolor": "white"
           },
           "zaxis": {
            "backgroundcolor": "#E5ECF6",
            "gridcolor": "white",
            "gridwidth": 2,
            "linecolor": "white",
            "showbackground": true,
            "ticks": "",
            "zerolinecolor": "white"
           }
          },
          "shapedefaults": {
           "line": {
            "color": "#2a3f5f"
           }
          },
          "ternary": {
           "aaxis": {
            "gridcolor": "white",
            "linecolor": "white",
            "ticks": ""
           },
           "baxis": {
            "gridcolor": "white",
            "linecolor": "white",
            "ticks": ""
           },
           "bgcolor": "#E5ECF6",
           "caxis": {
            "gridcolor": "white",
            "linecolor": "white",
            "ticks": ""
           }
          },
          "title": {
           "x": 0.05
          },
          "xaxis": {
           "automargin": true,
           "gridcolor": "white",
           "linecolor": "white",
           "ticks": "",
           "title": {
            "standoff": 15
           },
           "zerolinecolor": "white",
           "zerolinewidth": 2
          },
          "yaxis": {
           "automargin": true,
           "gridcolor": "white",
           "linecolor": "white",
           "ticks": "",
           "title": {
            "standoff": 15
           },
           "zerolinecolor": "white",
           "zerolinewidth": 2
          }
         }
        },
        "title": {
         "text": "Acceptance Rate by Coupon Type"
        },
        "xaxis": {
         "anchor": "y",
         "autorange": true,
         "categoryarray": [
          "Bar",
          "Carry out & Take away",
          "Coffee House",
          "Restaurant(20-50)",
          "Restaurant(<20)"
         ],
         "categoryorder": "array",
         "domain": [
          0,
          1
         ],
         "range": [
          -0.5,
          4.5
         ],
         "title": {
          "text": "Coupon Type"
         },
         "type": "category"
        },
        "yaxis": {
         "anchor": "x",
         "autorange": true,
         "domain": [
          0,
          1
         ],
         "range": [
          0,
          77.41878725229287
         ],
         "title": {
          "text": "Acceptance Rate (%)"
         },
         "type": "linear"
        }
       }
      },
      "image/png": "[encoded data removed]",
      "text/html": [
       "<div>                            <div id=\"a1c98d7a-8962-46a5-9d90-2eb7595bd8ea\" class=\"plotly-graph-div\" style=\"height:525px; width:100%;\"></div>            <script type=\"text/javascript\">                require([\"plotly\"], function(Plotly) {                    window.PLOTLYENV=window.PLOTLYENV || {};                                    if (document.getElementById(\"a1c98d7a-8962-46a5-9d90-2eb7595bd8ea\")) {                    Plotly.newPlot(                        \"a1c98d7a-8962-46a5-9d90-2eb7595bd8ea\",                        [{\"alignmentgroup\":\"True\",\"hovertemplate\":\"Coupon Type=%{x}\\u003cbr\\u003eAcceptance Rate (%)=%{y}\\u003cextra\\u003e\\u003c\\u002fextra\\u003e\",\"legendgroup\":\"Bar\",\"marker\":{\"color\":\"#636efa\",\"pattern\":{\"shape\":\"\"}},\"name\":\"Bar\",\"offsetgroup\":\"Bar\",\"orientation\":\"v\",\"showlegend\":true,\"textposition\":\"auto\",\"x\":[\"Bar\"],\"xaxis\":\"x\",\"y\":[41.00148735746158],\"yaxis\":\"y\",\"type\":\"bar\"},{\"alignmentgroup\":\"True\",\"hovertemplate\":\"Coupon Type=%{x}\\u003cbr\\u003eAcceptance Rate (%)=%{y}\\u003cextra\\u003e\\u003c\\u002fextra\\u003e\",\"legendgroup\":\"Carry out & Take away\",\"marker\":{\"color\":\"#EF553B\",\"pattern\":{\"shape\":\"\"}},\"name\":\"Carry out & Take away\",\"offsetgroup\":\"Carry out & Take away\",\"orientation\":\"v\",\"showlegend\":true,\"textposition\":\"auto\",\"x\":[\"Carry out & Take away\"],\"xaxis\":\"x\",\"y\":[73.54784788967822],\"yaxis\":\"y\",\"type\":\"bar\"},{\"alignmentgroup\":\"True\",\"hovertemplate\":\"Coupon Type=%{x}\\u003cbr\\u003eAcceptance Rate (%)=%{y}\\u003cextra\\u003e\\u003c\\u002fextra\\u003e\",\"legendgroup\":\"Coffee House\",\"marker\":{\"color\":\"#00cc96\",\"pattern\":{\"shape\":\"\"}},\"name\":\"Coffee House\",\"offsetgroup\":\"Coffee House\",\"orientation\":\"v\",\"showlegend\":true,\"textposition\":\"auto\",\"x\":[\"Coffee House\"],\"xaxis\":\"x\",\"y\":[49.92492492492492],\"yaxis\":\"y\",\"type\":\"bar\"},{\"alignmentgroup\":\"True\",\"hovertemplate\":\"Coupon Type=%{x}\\u003cbr\\u003eAcceptance Rate (%)=%{y}\\u003cextra\\u003e\\u003c\\u002fextra\\u003e\",\"legendgroup\":\"Restaurant(20-50)\",\"marker\":{\"color\":\"#ab63fa\",\"pattern\":{\"shape\":\"\"}},\"name\":\"Restaurant(20-50)\",\"offsetgroup\":\"Restaurant(20-50)\",\"orientation\":\"v\",\"showlegend\":true,\"textposition\":\"auto\",\"x\":[\"Restaurant(20-50)\"],\"xaxis\":\"x\",\"y\":[44.10187667560322],\"yaxis\":\"y\",\"type\":\"bar\"},{\"alignmentgroup\":\"True\",\"hovertemplate\":\"Coupon Type=%{x}\\u003cbr\\u003eAcceptance Rate (%)=%{y}\\u003cextra\\u003e\\u003c\\u002fextra\\u003e\",\"legendgroup\":\"Restaurant(\\u003c20)\",\"marker\":{\"color\":\"#FFA15A\",\"pattern\":{\"shape\":\"\"}},\"name\":\"Restaurant(\\u003c20)\",\"offsetgroup\":\"Restaurant(\\u003c20)\",\"orientation\":\"v\",\"showlegend\":true,\"textposition\":\"auto\",\"x\":[\"Restaurant(\\u003c20)\"],\"xaxis\":\"x\",\"y\":[70.71069633883704],\"yaxis\":\"y\",\"type\":\"bar\"}],                        {\"template\":{\"data\":{\"histogram2dcontour\":[{\"type\":\"histogram2dcontour\",\"colorbar\":{\"outlinewidth\":0,\"ticks\":\"\"},\"colorscale\":[[0.0,\"#0d0887\"],[0.1111111111111111,\"#46039f\"],[0.2222222222222222,\"#7201a8\"],[0.3333333333333333,\"#9c179e\"],[0.4444444444444444,\"#bd3786\"],[0.5555555555555556,\"#d8576b\"],[0.6666666666666666,\"#ed7953\"],[0.7777777777777778,\"#fb9f3a\"],[0.8888888888888888,\"#fdca26\"],[1.0,\"#f0f921\"]]}],\"choropleth\":[{\"type\":\"choropleth\",\"colorbar\":{\"outlinewidth\":0,\"ticks\":\"\"}}],\"histogram2d\":[{\"type\":\"histogram2d\",\"colorbar\":{\"outlinewidth\":0,\"ticks\":\"\"},\"colorscale\":[[0.0,\"#0d0887\"],[0.1111111111111111,\"#46039f\"],[0.2222222222222222,\"#7201a8\"],[0.3333333333333333,\"#9c179e\"],[0.4444444444444444,\"#bd3786\"],[0.5555555555555556,\"#d8576b\"],[0.6666666666666666,\"#ed7953\"],[0.7777777777777778,\"#fb9f3a\"],[0.8888888888888888,\"#fdca26\"],[1.0,\"#f0f921\"]]}],\"heatmap\":[{\"type\":\"heatmap\",\"colorbar\":{\"outlinewidth\":0,\"ticks\":\"\"},\"colorscale\":[[0.0,\"#0d0887\"],[0.1111111111111111,\"#46039f\"],[0.2222222222222222,\"#7201a8\"],[0.3333333333333333,\"#9c179e\"],[0.4444444444444444,\"#bd3786\"],[0.5555555555555556,\"#d8576b\"],[0.6666666666666666,\"#ed7953\"],[0.7777777777777778,\"#fb9f3a\"],[0.8888888888888888,\"#fdca26\"],[1.0,\"#f0f921\"]]}],\"heatmapgl\":[{\"type\":\"heatmapgl\",\"colorbar\":{\"outlinewidth\":0,\"ticks\":\"\"},\"colorscale\":[[0.0,\"#0d0887\"],[0.1111111111111111,\"#46039f\"],[0.2222222222222222,\"#7201a8\"],[0.3333333333333333,\"#9c179e\"],[0.4444444444444444,\"#bd3786\"],[0.5555555555555556,\"#d8576b\"],[0.6666666666666666,\"#ed7953\"],[0.7777777777777778,\"#fb9f3a\"],[0.8888888888888888,\"#fdca26\"],[1.0,\"#f0f921\"]]}],\"contourcarpet\":[{\"type\":\"contourcarpet\",\"colorbar\":{\"outlinewidth\":0,\"ticks\":\"\"}}],\"contour\":[{\"type\":\"contour\",\"colorbar\":{\"outlinewidth\":0,\"ticks\":\"\"},\"colorscale\":[[0.0,\"#0d0887\"],[0.1111111111111111,\"#46039f\"],[0.2222222222222222,\"#7201a8\"],[0.3333333333333333,\"#9c179e\"],[0.4444444444444444,\"#bd3786\"],[0.5555555555555556,\"#d8576b\"],[0.6666666666666666,\"#ed7953\"],[0.7777777777777778,\"#fb9f3a\"],[0.8888888888888888,\"#fdca26\"],[1.0,\"#f0f921\"]]}],\"surface\":[{\"type\":\"surface\",\"colorbar\":{\"outlinewidth\":0,\"ticks\":\"\"},\"colorscale\":[[0.0,\"#0d0887\"],[0.1111111111111111,\"#46039f\"],[0.2222222222222222,\"#7201a8\"],[0.3333333333333333,\"#9c179e\"],[0.4444444444444444,\"#bd3786\"],[0.5555555555555556,\"#d8576b\"],[0.6666666666666666,\"#ed7953\"],[0.7777777777777778,\"#fb9f3a\"],[0.8888888888888888,\"#fdca26\"],[1.0,\"#f0f921\"]]}],\"mesh3d\":[{\"type\":\"mesh3d\",\"colorbar\":{\"outlinewidth\":0,\"ticks\":\"\"}}],\"scatter\":[{\"fillpattern\":{\"fillmode\":\"overlay\",\"size\":10,\"solidity\":0.2},\"type\":\"scatter\"}],\"parcoords\":[{\"type\":\"parcoords\",\"line\":{\"colorbar\":{\"outlinewidth\":0,\"ticks\":\"\"}}}],\"scatterpolargl\":[{\"type\":\"scatterpolargl\",\"marker\":{\"colorbar\":{\"outlinewidth\":0,\"ticks\":\"\"}}}],\"bar\":[{\"error_x\":{\"color\":\"#2a3f5f\"},\"error_y\":{\"color\":\"#2a3f5f\"},\"marker\":{\"line\":{\"color\":\"#E5ECF6\",\"width\":0.5},\"pattern\":{\"fillmode\":\"overlay\",\"size\":10,\"solidity\":0.2}},\"type\":\"bar\"}],\"scattergeo\":[{\"type\":\"scattergeo\",\"marker\":{\"colorbar\":{\"outlinewidth\":0,\"ticks\":\"\"}}}],\"scatterpolar\":[{\"type\":\"scatterpolar\",\"marker\":{\"colorbar\":{\"outlinewidth\":0,\"ticks\":\"\"}}}],\"histogram\":[{\"marker\":{\"pattern\":{\"fillmode\":\"overlay\",\"size\":10,\"solidity\":0.2}},\"type\":\"histogram\"}],\"scattergl\":[{\"type\":\"scattergl\",\"marker\":{\"colorbar\":{\"outlinewidth\":0,\"ticks\":\"\"}}}],\"scatter3d\":[{\"type\":\"scatter3d\",\"line\":{\"colorbar\":{\"outlinewidth\":0,\"ticks\":\"\"}},\"marker\":{\"colorbar\":{\"outlinewidth\":0,\"ticks\":\"\"}}}],\"scattermapbox\":[{\"type\":\"scattermapbox\",\"marker\":{\"colorbar\":{\"outlinewidth\":0,\"ticks\":\"\"}}}],\"scatterternary\":[{\"type\":\"scatterternary\",\"marker\":{\"colorbar\":{\"outlinewidth\":0,\"ticks\":\"\"}}}],\"scattercarpet\":[{\"type\":\"scattercarpet\",\"marker\":{\"colorbar\":{\"outlinewidth\":0,\"ticks\":\"\"}}}],\"carpet\":[{\"aaxis\":{\"endlinecolor\":\"#2a3f5f\",\"gridcolor\":\"white\",\"linecolor\":\"white\",\"minorgridcolor\":\"white\",\"startlinecolor\":\"#2a3f5f\"},\"baxis\":{\"endlinecolor\":\"#2a3f5f\",\"gridcolor\":\"white\",\"linecolor\":\"white\",\"minorgridcolor\":\"white\",\"startlinecolor\":\"#2a3f5f\"},\"type\":\"carpet\"}],\"table\":[{\"cells\":{\"fill\":{\"color\":\"#EBF0F8\"},\"line\":{\"color\":\"white\"}},\"header\":{\"fill\":{\"color\":\"#C8D4E3\"},\"line\":{\"color\":\"white\"}},\"type\":\"table\"}],\"barpolar\":[{\"marker\":{\"line\":{\"color\":\"#E5ECF6\",\"width\":0.5},\"pattern\":{\"fillmode\":\"overlay\",\"size\":10,\"solidity\":0.2}},\"type\":\"barpolar\"}],\"pie\":[{\"automargin\":true,\"type\":\"pie\"}]},\"layout\":{\"autotypenumbers\":\"strict\",\"colorway\":[\"#636efa\",\"#EF553B\",\"#00cc96\",\"#ab63fa\",\"#FFA15A\",\"#19d3f3\",\"#FF6692\",\"#B6E880\",\"#FF97FF\",\"#FECB52\"],\"font\":{\"color\":\"#2a3f5f\"},\"hovermode\":\"closest\",\"hoverlabel\":{\"align\":\"left\"},\"paper_bgcolor\":\"white\",\"plot_bgcolor\":\"#E5ECF6\",\"polar\":{\"bgcolor\":\"#E5ECF6\",\"angularaxis\":{\"gridcolor\":\"white\",\"linecolor\":\"white\",\"ticks\":\"\"},\"radialaxis\":{\"gridcolor\":\"white\",\"linecolor\":\"white\",\"ticks\":\"\"}},\"ternary\":{\"bgcolor\":\"#E5ECF6\",\"aaxis\":{\"gridcolor\":\"white\",\"linecolor\":\"white\",\"ticks\":\"\"},\"baxis\":{\"gridcolor\":\"white\",\"linecolor\":\"white\",\"ticks\":\"\"},\"caxis\":{\"gridcolor\":\"white\",\"linecolor\":\"white\",\"ticks\":\"\"}},\"coloraxis\":{\"colorbar\":{\"outlinewidth\":0,\"ticks\":\"\"}},\"colorscale\":{\"sequential\":[[0.0,\"#0d0887\"],[0.1111111111111111,\"#46039f\"],[0.2222222222222222,\"#7201a8\"],[0.3333333333333333,\"#9c179e\"],[0.4444444444444444,\"#bd3786\"],[0.5555555555555556,\"#d8576b\"],[0.6666666666666666,\"#ed7953\"],[0.7777777777777778,\"#fb9f3a\"],[0.8888888888888888,\"#fdca26\"],[1.0,\"#f0f921\"]],\"sequentialminus\":[[0.0,\"#0d0887\"],[0.1111111111111111,\"#46039f\"],[0.2222222222222222,\"#7201a8\"],[0.3333333333333333,\"#9c179e\"],[0.4444444444444444,\"#bd3786\"],[0.5555555555555556,\"#d8576b\"],[0.6666666666666666,\"#ed7953\"],[0.7777777777777778,\"#fb9f3a\"],[0.8888888888888888,\"#fdca26\"],[1.0,\"#f0f921\"]],\"diverging\":[[0,\"#8e0152\"],[0.1,\"#c51b7d\"],[0.2,\"#de77ae\"],[0.3,\"#f1b6da\"],[0.4,\"#fde0ef\"],[0.5,\"#f7f7f7\"],[0.6,\"#e6f5d0\"],[0.7,\"#b8e186\"],[0.8,\"#7fbc41\"],[0.9,\"#4d9221\"],[1,\"#276419\"]]},\"xaxis\":{\"gridcolor\":\"white\",\"linecolor\":\"white\",\"ticks\":\"\",\"title\":{\"standoff\":15},\"zerolinecolor\":\"white\",\"automargin\":true,\"zerolinewidth\":2},\"yaxis\":{\"gridcolor\":\"white\",\"linecolor\":\"white\",\"ticks\":\"\",\"title\":{\"standoff\":15},\"zerolinecolor\":\"white\",\"automargin\":true,\"zerolinewidth\":2},\"scene\":{\"xaxis\":{\"backgroundcolor\":\"#E5ECF6\",\"gridcolor\":\"white\",\"linecolor\":\"white\",\"showbackground\":true,\"ticks\":\"\",\"zerolinecolor\":\"white\",\"gridwidth\":2},\"yaxis\":{\"backgroundcolor\":\"#E5ECF6\",\"gridcolor\":\"white\",\"linecolor\":\"white\",\"showbackground\":true,\"ticks\":\"\",\"zerolinecolor\":\"white\",\"gridwidth\":2},\"zaxis\":{\"backgroundcolor\":\"#E5ECF6\",\"gridcolor\":\"white\",\"linecolor\":\"white\",\"showbackground\":true,\"ticks\":\"\",\"zerolinecolor\":\"white\",\"gridwidth\":2}},\"shapedefaults\":{\"line\":{\"color\":\"#2a3f5f\"}},\"annotationdefaults\":{\"arrowcolor\":\"#2a3f5f\",\"arrowhead\":0,\"arrowwidth\":1},\"geo\":{\"bgcolor\":\"white\",\"landcolor\":\"#E5ECF6\",\"subunitcolor\":\"white\",\"showland\":true,\"showlakes\":true,\"lakecolor\":\"white\"},\"title\":{\"x\":0.05},\"mapbox\":{\"style\":\"light\"}}},\"xaxis\":{\"anchor\":\"y\",\"domain\":[0.0,1.0],\"title\":{\"text\":\"Coupon Type\"},\"categoryorder\":\"array\",\"categoryarray\":[\"Bar\",\"Carry out & Take away\",\"Coffee House\",\"Restaurant(20-50)\",\"Restaurant(\\u003c20)\"]},\"yaxis\":{\"anchor\":\"x\",\"domain\":[0.0,1.0],\"title\":{\"text\":\"Acceptance Rate (%)\"}},\"legend\":{\"title\":{\"text\":\"Coupon Type\"},\"tracegroupgap\":0},\"title\":{\"text\":\"Acceptance Rate by Coupon Type\"},\"barmode\":\"relative\"},                        {\"responsive\": true}                    ).then(function(){\n",
       "                            \n",
       "var gd = document.getElementById('a1c98d7a-8962-46a5-9d90-2eb7595bd8ea');\n",
       "var x = new MutationObserver(function (mutations, observer) {{\n",
       "        var display = window.getComputedStyle(gd).display;\n",
       "        if (!display || display === 'none') {{\n",
       "            console.log([gd, 'removed!']);\n",
       "            Plotly.purge(gd);\n",
       "            observer.disconnect();\n",
       "        }}\n",
       "}});\n",
       "\n",
       "// Listen for the removal of the full notebook cells\n",
       "var notebookContainer = gd.closest('#notebook-container');\n",
       "if (notebookContainer) {{\n",
       "    x.observe(notebookContainer, {childList: true});\n",
       "}}\n",
       "\n",
       "// Listen for the clearing of the current output cell\n",
       "var outputEl = gd.closest('.output');\n",
       "if (outputEl) {{\n",
       "    x.observe(outputEl, {childList: true});\n",
       "}}\n",
       "\n",
       "                        })                };                });            </script>        </div>"
      ]
     },
     "metadata": {},
     "output_type": "display_data"
    },
    {
     "data": {
      "application/vnd.plotly.v1+json": {
       "config": {
        "plotlyServerURL": "https://plot.ly"
       },
       "data": [
        {
         "alignmentgroup": "True",
         "hovertemplate": "Weather=%{x}<br>Acceptance Rate (%)=%{y}<extra></extra>",
         "legendgroup": "Rainy",
         "marker": {
          "color": "#636efa",
          "pattern": {
           "shape": ""
          }
         },
         "name": "Rainy",
         "offsetgroup": "Rainy",
         "orientation": "v",
         "showlegend": true,
         "textposition": "auto",
         "type": "bar",
         "x": [
          "Rainy"
         ],
         "xaxis": "x",
         "y": [
          46.28099173553719
         ],
         "yaxis": "y"
        },
        {
         "alignmentgroup": "True",
         "hovertemplate": "Weather=%{x}<br>Acceptance Rate (%)=%{y}<extra></extra>",
         "legendgroup": "Snowy",
         "marker": {
          "color": "#EF553B",
          "pattern": {
           "shape": ""
          }
         },
         "name": "Snowy",
         "offsetgroup": "Snowy",
         "orientation": "v",
         "showlegend": true,
         "textposition": "auto",
         "type": "bar",
         "x": [
          "Snowy"
         ],
         "xaxis": "x",
         "y": [
          47.046263345195726
         ],
         "yaxis": "y"
        },
        {
         "alignmentgroup": "True",
         "hovertemplate": "Weather=%{x}<br>Acceptance Rate (%)=%{y}<extra></extra>",
         "legendgroup": "Sunny",
         "marker": {
          "color": "#00cc96",
          "pattern": {
           "shape": ""
          }
         },
         "name": "Sunny",
         "offsetgroup": "Sunny",
         "orientation": "v",
         "showlegend": true,
         "textposition": "auto",
         "type": "bar",
         "x": [
          "Sunny"
         ],
         "xaxis": "x",
         "y": [
          59.47959082331909
         ],
         "yaxis": "y"
        }
       ],
       "layout": {
        "autosize": true,
        "barmode": "relative",
        "legend": {
         "title": {
          "text": "Weather"
         },
         "tracegroupgap": 0
        },
        "template": {
         "data": {
          "bar": [
           {
            "error_x": {
             "color": "#2a3f5f"
            },
            "error_y": {
             "color": "#2a3f5f"
            },
            "marker": {
             "line": {
              "color": "#E5ECF6",
              "width": 0.5
             },
             "pattern": {
              "fillmode": "overlay",
              "size": 10,
              "solidity": 0.2
             }
            },
            "type": "bar"
           }
          ],
          "barpolar": [
           {
            "marker": {
             "line": {
              "color": "#E5ECF6",
              "width": 0.5
             },
             "pattern": {
              "fillmode": "overlay",
              "size": 10,
              "solidity": 0.2
             }
            },
            "type": "barpolar"
           }
          ],
          "carpet": [
           {
            "aaxis": {
             "endlinecolor": "#2a3f5f",
             "gridcolor": "white",
             "linecolor": "white",
             "minorgridcolor": "white",
             "startlinecolor": "#2a3f5f"
            },
            "baxis": {
             "endlinecolor": "#2a3f5f",
             "gridcolor": "white",
             "linecolor": "white",
             "minorgridcolor": "white",
             "startlinecolor": "#2a3f5f"
            },
            "type": "carpet"
           }
          ],
          "choropleth": [
           {
            "colorbar": {
             "outlinewidth": 0,
             "ticks": ""
            },
            "type": "choropleth"
           }
          ],
          "contour": [
           {
            "colorbar": {
             "outlinewidth": 0,
             "ticks": ""
            },
            "colorscale": [
             [
              0,
              "#0d0887"
             ],
             [
              0.1111111111111111,
              "#46039f"
             ],
             [
              0.2222222222222222,
              "#7201a8"
             ],
             [
              0.3333333333333333,
              "#9c179e"
             ],
             [
              0.4444444444444444,
              "#bd3786"
             ],
             [
              0.5555555555555556,
              "#d8576b"
             ],
             [
              0.6666666666666666,
              "#ed7953"
             ],
             [
              0.7777777777777778,
              "#fb9f3a"
             ],
             [
              0.8888888888888888,
              "#fdca26"
             ],
             [
              1,
              "#f0f921"
             ]
            ],
            "type": "contour"
           }
          ],
          "contourcarpet": [
           {
            "colorbar": {
             "outlinewidth": 0,
             "ticks": ""
            },
            "type": "contourcarpet"
           }
          ],
          "heatmap": [
           {
            "colorbar": {
             "outlinewidth": 0,
             "ticks": ""
            },
            "colorscale": [
             [
              0,
              "#0d0887"
             ],
             [
              0.1111111111111111,
              "#46039f"
             ],
             [
              0.2222222222222222,
              "#7201a8"
             ],
             [
              0.3333333333333333,
              "#9c179e"
             ],
             [
              0.4444444444444444,
              "#bd3786"
             ],
             [
              0.5555555555555556,
              "#d8576b"
             ],
             [
              0.6666666666666666,
              "#ed7953"
             ],
             [
              0.7777777777777778,
              "#fb9f3a"
             ],
             [
              0.8888888888888888,
              "#fdca26"
             ],
             [
              1,
              "#f0f921"
             ]
            ],
            "type": "heatmap"
           }
          ],
          "heatmapgl": [
           {
            "colorbar": {
             "outlinewidth": 0,
             "ticks": ""
            },
            "colorscale": [
             [
              0,
              "#0d0887"
             ],
             [
              0.1111111111111111,
              "#46039f"
             ],
             [
              0.2222222222222222,
              "#7201a8"
             ],
             [
              0.3333333333333333,
              "#9c179e"
             ],
             [
              0.4444444444444444,
              "#bd3786"
             ],
             [
              0.5555555555555556,
              "#d8576b"
             ],
             [
              0.6666666666666666,
              "#ed7953"
             ],
             [
              0.7777777777777778,
              "#fb9f3a"
             ],
             [
              0.8888888888888888,
              "#fdca26"
             ],
             [
              1,
              "#f0f921"
             ]
            ],
            "type": "heatmapgl"
           }
          ],
          "histogram": [
           {
            "marker": {
             "pattern": {
              "fillmode": "overlay",
              "size": 10,
              "solidity": 0.2
             }
            },
            "type": "histogram"
           }
          ],
          "histogram2d": [
           {
            "colorbar": {
             "outlinewidth": 0,
             "ticks": ""
            },
            "colorscale": [
             [
              0,
              "#0d0887"
             ],
             [
              0.1111111111111111,
              "#46039f"
             ],
             [
              0.2222222222222222,
              "#7201a8"
             ],
             [
              0.3333333333333333,
              "#9c179e"
             ],
             [
              0.4444444444444444,
              "#bd3786"
             ],
             [
              0.5555555555555556,
              "#d8576b"
             ],
             [
              0.6666666666666666,
              "#ed7953"
             ],
             [
              0.7777777777777778,
              "#fb9f3a"
             ],
             [
              0.8888888888888888,
              "#fdca26"
             ],
             [
              1,
              "#f0f921"
             ]
            ],
            "type": "histogram2d"
           }
          ],
          "histogram2dcontour": [
           {
            "colorbar": {
             "outlinewidth": 0,
             "ticks": ""
            },
            "colorscale": [
             [
              0,
              "#0d0887"
             ],
             [
              0.1111111111111111,
              "#46039f"
             ],
             [
              0.2222222222222222,
              "#7201a8"
             ],
             [
              0.3333333333333333,
              "#9c179e"
             ],
             [
              0.4444444444444444,
              "#bd3786"
             ],
             [
              0.5555555555555556,
              "#d8576b"
             ],
             [
              0.6666666666666666,
              "#ed7953"
             ],
             [
              0.7777777777777778,
              "#fb9f3a"
             ],
             [
              0.8888888888888888,
              "#fdca26"
             ],
             [
              1,
              "#f0f921"
             ]
            ],
            "type": "histogram2dcontour"
           }
          ],
          "mesh3d": [
           {
            "colorbar": {
             "outlinewidth": 0,
             "ticks": ""
            },
            "type": "mesh3d"
           }
          ],
          "parcoords": [
           {
            "line": {
             "colorbar": {
              "outlinewidth": 0,
              "ticks": ""
             }
            },
            "type": "parcoords"
           }
          ],
          "pie": [
           {
            "automargin": true,
            "type": "pie"
           }
          ],
          "scatter": [
           {
            "fillpattern": {
             "fillmode": "overlay",
             "size": 10,
             "solidity": 0.2
            },
            "type": "scatter"
           }
          ],
          "scatter3d": [
           {
            "line": {
             "colorbar": {
              "outlinewidth": 0,
              "ticks": ""
             }
            },
            "marker": {
             "colorbar": {
              "outlinewidth": 0,
              "ticks": ""
             }
            },
            "type": "scatter3d"
           }
          ],
          "scattercarpet": [
           {
            "marker": {
             "colorbar": {
              "outlinewidth": 0,
              "ticks": ""
             }
            },
            "type": "scattercarpet"
           }
          ],
          "scattergeo": [
           {
            "marker": {
             "colorbar": {
              "outlinewidth": 0,
              "ticks": ""
             }
            },
            "type": "scattergeo"
           }
          ],
          "scattergl": [
           {
            "marker": {
             "colorbar": {
              "outlinewidth": 0,
              "ticks": ""
             }
            },
            "type": "scattergl"
           }
          ],
          "scattermapbox": [
           {
            "marker": {
             "colorbar": {
              "outlinewidth": 0,
              "ticks": ""
             }
            },
            "type": "scattermapbox"
           }
          ],
          "scatterpolar": [
           {
            "marker": {
             "colorbar": {
              "outlinewidth": 0,
              "ticks": ""
             }
            },
            "type": "scatterpolar"
           }
          ],
          "scatterpolargl": [
           {
            "marker": {
             "colorbar": {
              "outlinewidth": 0,
              "ticks": ""
             }
            },
            "type": "scatterpolargl"
           }
          ],
          "scatterternary": [
           {
            "marker": {
             "colorbar": {
              "outlinewidth": 0,
              "ticks": ""
             }
            },
            "type": "scatterternary"
           }
          ],
          "surface": [
           {
            "colorbar": {
             "outlinewidth": 0,
             "ticks": ""
            },
            "colorscale": [
             [
              0,
              "#0d0887"
             ],
             [
              0.1111111111111111,
              "#46039f"
             ],
             [
              0.2222222222222222,
              "#7201a8"
             ],
             [
              0.3333333333333333,
              "#9c179e"
             ],
             [
              0.4444444444444444,
              "#bd3786"
             ],
             [
              0.5555555555555556,
              "#d8576b"
             ],
             [
              0.6666666666666666,
              "#ed7953"
             ],
             [
              0.7777777777777778,
              "#fb9f3a"
             ],
             [
              0.8888888888888888,
              "#fdca26"
             ],
             [
              1,
              "#f0f921"
             ]
            ],
            "type": "surface"
           }
          ],
          "table": [
           {
            "cells": {
             "fill": {
              "color": "#EBF0F8"
             },
             "line": {
              "color": "white"
             }
            },
            "header": {
             "fill": {
              "color": "#C8D4E3"
             },
             "line": {
              "color": "white"
             }
            },
            "type": "table"
           }
          ]
         },
         "layout": {
          "annotationdefaults": {
           "arrowcolor": "#2a3f5f",
           "arrowhead": 0,
           "arrowwidth": 1
          },
          "autotypenumbers": "strict",
          "coloraxis": {
           "colorbar": {
            "outlinewidth": 0,
            "ticks": ""
           }
          },
          "colorscale": {
           "diverging": [
            [
             0,
             "#8e0152"
            ],
            [
             0.1,
             "#c51b7d"
            ],
            [
             0.2,
             "#de77ae"
            ],
            [
             0.3,
             "#f1b6da"
            ],
            [
             0.4,
             "#fde0ef"
            ],
            [
             0.5,
             "#f7f7f7"
            ],
            [
             0.6,
             "#e6f5d0"
            ],
            [
             0.7,
             "#b8e186"
            ],
            [
             0.8,
             "#7fbc41"
            ],
            [
             0.9,
             "#4d9221"
            ],
            [
             1,
             "#276419"
            ]
           ],
           "sequential": [
            [
             0,
             "#0d0887"
            ],
            [
             0.1111111111111111,
             "#46039f"
            ],
            [
             0.2222222222222222,
             "#7201a8"
            ],
            [
             0.3333333333333333,
             "#9c179e"
            ],
            [
             0.4444444444444444,
             "#bd3786"
            ],
            [
             0.5555555555555556,
             "#d8576b"
            ],
            [
             0.6666666666666666,
             "#ed7953"
            ],
            [
             0.7777777777777778,
             "#fb9f3a"
            ],
            [
             0.8888888888888888,
             "#fdca26"
            ],
            [
             1,
             "#f0f921"
            ]
           ],
           "sequentialminus": [
            [
             0,
             "#0d0887"
            ],
            [
             0.1111111111111111,
             "#46039f"
            ],
            [
             0.2222222222222222,
             "#7201a8"
            ],
            [
             0.3333333333333333,
             "#9c179e"
            ],
            [
             0.4444444444444444,
             "#bd3786"
            ],
            [
             0.5555555555555556,
             "#d8576b"
            ],
            [
             0.6666666666666666,
             "#ed7953"
            ],
            [
             0.7777777777777778,
             "#fb9f3a"
            ],
            [
             0.8888888888888888,
             "#fdca26"
            ],
            [
             1,
             "#f0f921"
            ]
           ]
          },
          "colorway": [
           "#636efa",
           "#EF553B",
           "#00cc96",
           "#ab63fa",
           "#FFA15A",
           "#19d3f3",
           "#FF6692",
           "#B6E880",
           "#FF97FF",
           "#FECB52"
          ],
          "font": {
           "color": "#2a3f5f"
          },
          "geo": {
           "bgcolor": "white",
           "lakecolor": "white",
           "landcolor": "#E5ECF6",
           "showlakes": true,
           "showland": true,
           "subunitcolor": "white"
          },
          "hoverlabel": {
           "align": "left"
          },
          "hovermode": "closest",
          "mapbox": {
           "style": "light"
          },
          "paper_bgcolor": "white",
          "plot_bgcolor": "#E5ECF6",
          "polar": {
           "angularaxis": {
            "gridcolor": "white",
            "linecolor": "white",
            "ticks": ""
           },
           "bgcolor": "#E5ECF6",
           "radialaxis": {
            "gridcolor": "white",
            "linecolor": "white",
            "ticks": ""
           }
          },
          "scene": {
           "xaxis": {
            "backgroundcolor": "#E5ECF6",
            "gridcolor": "white",
            "gridwidth": 2,
            "linecolor": "white",
            "showbackground": true,
            "ticks": "",
            "zerolinecolor": "white"
           },
           "yaxis": {
            "backgroundcolor": "#E5ECF6",
            "gridcolor": "white",
            "gridwidth": 2,
            "linecolor": "white",
            "showbackground": true,
            "ticks": "",
            "zerolinecolor": "white"
           },
           "zaxis": {
            "backgroundcolor": "#E5ECF6",
            "gridcolor": "white",
            "gridwidth": 2,
            "linecolor": "white",
            "showbackground": true,
            "ticks": "",
            "zerolinecolor": "white"
           }
          },
          "shapedefaults": {
           "line": {
            "color": "#2a3f5f"
           }
          },
          "ternary": {
           "aaxis": {
            "gridcolor": "white",
            "linecolor": "white",
            "ticks": ""
           },
           "baxis": {
            "gridcolor": "white",
            "linecolor": "white",
            "ticks": ""
           },
           "bgcolor": "#E5ECF6",
           "caxis": {
            "gridcolor": "white",
            "linecolor": "white",
            "ticks": ""
           }
          },
          "title": {
           "x": 0.05
          },
          "xaxis": {
           "automargin": true,
           "gridcolor": "white",
           "linecolor": "white",
           "ticks": "",
           "title": {
            "standoff": 15
           },
           "zerolinecolor": "white",
           "zerolinewidth": 2
          },
          "yaxis": {
           "automargin": true,
           "gridcolor": "white",
           "linecolor": "white",
           "ticks": "",
           "title": {
            "standoff": 15
           },
           "zerolinecolor": "white",
           "zerolinewidth": 2
          }
         }
        },
        "title": {
         "text": "Acceptance Rate by Weather"
        },
        "xaxis": {
         "anchor": "y",
         "autorange": true,
         "categoryarray": [
          "Rainy",
          "Snowy",
          "Sunny"
         ],
         "categoryorder": "array",
         "domain": [
          0,
          1
         ],
         "range": [
          -0.5,
          2.5
         ],
         "title": {
          "text": "Weather"
         },
         "type": "category"
        },
        "yaxis": {
         "anchor": "x",
         "autorange": true,
         "domain": [
          0,
          1
         ],
         "range": [
          0,
          62.61009560349378
         ],
         "title": {
          "text": "Acceptance Rate (%)"
         },
         "type": "linear"
        }
       }
      },
      "image/png": "[encoded data removed]",
      "text/html": [
       "<div>                            <div id=\"6df3eebd-1b89-480c-a180-a34754b389a6\" class=\"plotly-graph-div\" style=\"height:525px; width:100%;\"></div>            <script type=\"text/javascript\">                require([\"plotly\"], function(Plotly) {                    window.PLOTLYENV=window.PLOTLYENV || {};                                    if (document.getElementById(\"6df3eebd-1b89-480c-a180-a34754b389a6\")) {                    Plotly.newPlot(                        \"6df3eebd-1b89-480c-a180-a34754b389a6\",                        [{\"alignmentgroup\":\"True\",\"hovertemplate\":\"Weather=%{x}\\u003cbr\\u003eAcceptance Rate (%)=%{y}\\u003cextra\\u003e\\u003c\\u002fextra\\u003e\",\"legendgroup\":\"Rainy\",\"marker\":{\"color\":\"#636efa\",\"pattern\":{\"shape\":\"\"}},\"name\":\"Rainy\",\"offsetgroup\":\"Rainy\",\"orientation\":\"v\",\"showlegend\":true,\"textposition\":\"auto\",\"x\":[\"Rainy\"],\"xaxis\":\"x\",\"y\":[46.28099173553719],\"yaxis\":\"y\",\"type\":\"bar\"},{\"alignmentgroup\":\"True\",\"hovertemplate\":\"Weather=%{x}\\u003cbr\\u003eAcceptance Rate (%)=%{y}\\u003cextra\\u003e\\u003c\\u002fextra\\u003e\",\"legendgroup\":\"Snowy\",\"marker\":{\"color\":\"#EF553B\",\"pattern\":{\"shape\":\"\"}},\"name\":\"Snowy\",\"offsetgroup\":\"Snowy\",\"orientation\":\"v\",\"showlegend\":true,\"textposition\":\"auto\",\"x\":[\"Snowy\"],\"xaxis\":\"x\",\"y\":[47.046263345195726],\"yaxis\":\"y\",\"type\":\"bar\"},{\"alignmentgroup\":\"True\",\"hovertemplate\":\"Weather=%{x}\\u003cbr\\u003eAcceptance Rate (%)=%{y}\\u003cextra\\u003e\\u003c\\u002fextra\\u003e\",\"legendgroup\":\"Sunny\",\"marker\":{\"color\":\"#00cc96\",\"pattern\":{\"shape\":\"\"}},\"name\":\"Sunny\",\"offsetgroup\":\"Sunny\",\"orientation\":\"v\",\"showlegend\":true,\"textposition\":\"auto\",\"x\":[\"Sunny\"],\"xaxis\":\"x\",\"y\":[59.47959082331909],\"yaxis\":\"y\",\"type\":\"bar\"}],                        {\"template\":{\"data\":{\"histogram2dcontour\":[{\"type\":\"histogram2dcontour\",\"colorbar\":{\"outlinewidth\":0,\"ticks\":\"\"},\"colorscale\":[[0.0,\"#0d0887\"],[0.1111111111111111,\"#46039f\"],[0.2222222222222222,\"#7201a8\"],[0.3333333333333333,\"#9c179e\"],[0.4444444444444444,\"#bd3786\"],[0.5555555555555556,\"#d8576b\"],[0.6666666666666666,\"#ed7953\"],[0.7777777777777778,\"#fb9f3a\"],[0.8888888888888888,\"#fdca26\"],[1.0,\"#f0f921\"]]}],\"choropleth\":[{\"type\":\"choropleth\",\"colorbar\":{\"outlinewidth\":0,\"ticks\":\"\"}}],\"histogram2d\":[{\"type\":\"histogram2d\",\"colorbar\":{\"outlinewidth\":0,\"ticks\":\"\"},\"colorscale\":[[0.0,\"#0d0887\"],[0.1111111111111111,\"#46039f\"],[0.2222222222222222,\"#7201a8\"],[0.3333333333333333,\"#9c179e\"],[0.4444444444444444,\"#bd3786\"],[0.5555555555555556,\"#d8576b\"],[0.6666666666666666,\"#ed7953\"],[0.7777777777777778,\"#fb9f3a\"],[0.8888888888888888,\"#fdca26\"],[1.0,\"#f0f921\"]]}],\"heatmap\":[{\"type\":\"heatmap\",\"colorbar\":{\"outlinewidth\":0,\"ticks\":\"\"},\"colorscale\":[[0.0,\"#0d0887\"],[0.1111111111111111,\"#46039f\"],[0.2222222222222222,\"#7201a8\"],[0.3333333333333333,\"#9c179e\"],[0.4444444444444444,\"#bd3786\"],[0.5555555555555556,\"#d8576b\"],[0.6666666666666666,\"#ed7953\"],[0.7777777777777778,\"#fb9f3a\"],[0.8888888888888888,\"#fdca26\"],[1.0,\"#f0f921\"]]}],\"heatmapgl\":[{\"type\":\"heatmapgl\",\"colorbar\":{\"outlinewidth\":0,\"ticks\":\"\"},\"colorscale\":[[0.0,\"#0d0887\"],[0.1111111111111111,\"#46039f\"],[0.2222222222222222,\"#7201a8\"],[0.3333333333333333,\"#9c179e\"],[0.4444444444444444,\"#bd3786\"],[0.5555555555555556,\"#d8576b\"],[0.6666666666666666,\"#ed7953\"],[0.7777777777777778,\"#fb9f3a\"],[0.8888888888888888,\"#fdca26\"],[1.0,\"#f0f921\"]]}],\"contourcarpet\":[{\"type\":\"contourcarpet\",\"colorbar\":{\"outlinewidth\":0,\"ticks\":\"\"}}],\"contour\":[{\"type\":\"contour\",\"colorbar\":{\"outlinewidth\":0,\"ticks\":\"\"},\"colorscale\":[[0.0,\"#0d0887\"],[0.1111111111111111,\"#46039f\"],[0.2222222222222222,\"#7201a8\"],[0.3333333333333333,\"#9c179e\"],[0.4444444444444444,\"#bd3786\"],[0.5555555555555556,\"#d8576b\"],[0.6666666666666666,\"#ed7953\"],[0.7777777777777778,\"#fb9f3a\"],[0.8888888888888888,\"#fdca26\"],[1.0,\"#f0f921\"]]}],\"surface\":[{\"type\":\"surface\",\"colorbar\":{\"outlinewidth\":0,\"ticks\":\"\"},\"colorscale\":[[0.0,\"#0d0887\"],[0.1111111111111111,\"#46039f\"],[0.2222222222222222,\"#7201a8\"],[0.3333333333333333,\"#9c179e\"],[0.4444444444444444,\"#bd3786\"],[0.5555555555555556,\"#d8576b\"],[0.6666666666666666,\"#ed7953\"],[0.7777777777777778,\"#fb9f3a\"],[0.8888888888888888,\"#fdca26\"],[1.0,\"#f0f921\"]]}],\"mesh3d\":[{\"type\":\"mesh3d\",\"colorbar\":{\"outlinewidth\":0,\"ticks\":\"\"}}],\"scatter\":[{\"fillpattern\":{\"fillmode\":\"overlay\",\"size\":10,\"solidity\":0.2},\"type\":\"scatter\"}],\"parcoords\":[{\"type\":\"parcoords\",\"line\":{\"colorbar\":{\"outlinewidth\":0,\"ticks\":\"\"}}}],\"scatterpolargl\":[{\"type\":\"scatterpolargl\",\"marker\":{\"colorbar\":{\"outlinewidth\":0,\"ticks\":\"\"}}}],\"bar\":[{\"error_x\":{\"color\":\"#2a3f5f\"},\"error_y\":{\"color\":\"#2a3f5f\"},\"marker\":{\"line\":{\"color\":\"#E5ECF6\",\"width\":0.5},\"pattern\":{\"fillmode\":\"overlay\",\"size\":10,\"solidity\":0.2}},\"type\":\"bar\"}],\"scattergeo\":[{\"type\":\"scattergeo\",\"marker\":{\"colorbar\":{\"outlinewidth\":0,\"ticks\":\"\"}}}],\"scatterpolar\":[{\"type\":\"scatterpolar\",\"marker\":{\"colorbar\":{\"outlinewidth\":0,\"ticks\":\"\"}}}],\"histogram\":[{\"marker\":{\"pattern\":{\"fillmode\":\"overlay\",\"size\":10,\"solidity\":0.2}},\"type\":\"histogram\"}],\"scattergl\":[{\"type\":\"scattergl\",\"marker\":{\"colorbar\":{\"outlinewidth\":0,\"ticks\":\"\"}}}],\"scatter3d\":[{\"type\":\"scatter3d\",\"line\":{\"colorbar\":{\"outlinewidth\":0,\"ticks\":\"\"}},\"marker\":{\"colorbar\":{\"outlinewidth\":0,\"ticks\":\"\"}}}],\"scattermapbox\":[{\"type\":\"scattermapbox\",\"marker\":{\"colorbar\":{\"outlinewidth\":0,\"ticks\":\"\"}}}],\"scatterternary\":[{\"type\":\"scatterternary\",\"marker\":{\"colorbar\":{\"outlinewidth\":0,\"ticks\":\"\"}}}],\"scattercarpet\":[{\"type\":\"scattercarpet\",\"marker\":{\"colorbar\":{\"outlinewidth\":0,\"ticks\":\"\"}}}],\"carpet\":[{\"aaxis\":{\"endlinecolor\":\"#2a3f5f\",\"gridcolor\":\"white\",\"linecolor\":\"white\",\"minorgridcolor\":\"white\",\"startlinecolor\":\"#2a3f5f\"},\"baxis\":{\"endlinecolor\":\"#2a3f5f\",\"gridcolor\":\"white\",\"linecolor\":\"white\",\"minorgridcolor\":\"white\",\"startlinecolor\":\"#2a3f5f\"},\"type\":\"carpet\"}],\"table\":[{\"cells\":{\"fill\":{\"color\":\"#EBF0F8\"},\"line\":{\"color\":\"white\"}},\"header\":{\"fill\":{\"color\":\"#C8D4E3\"},\"line\":{\"color\":\"white\"}},\"type\":\"table\"}],\"barpolar\":[{\"marker\":{\"line\":{\"color\":\"#E5ECF6\",\"width\":0.5},\"pattern\":{\"fillmode\":\"overlay\",\"size\":10,\"solidity\":0.2}},\"type\":\"barpolar\"}],\"pie\":[{\"automargin\":true,\"type\":\"pie\"}]},\"layout\":{\"autotypenumbers\":\"strict\",\"colorway\":[\"#636efa\",\"#EF553B\",\"#00cc96\",\"#ab63fa\",\"#FFA15A\",\"#19d3f3\",\"#FF6692\",\"#B6E880\",\"#FF97FF\",\"#FECB52\"],\"font\":{\"color\":\"#2a3f5f\"},\"hovermode\":\"closest\",\"hoverlabel\":{\"align\":\"left\"},\"paper_bgcolor\":\"white\",\"plot_bgcolor\":\"#E5ECF6\",\"polar\":{\"bgcolor\":\"#E5ECF6\",\"angularaxis\":{\"gridcolor\":\"white\",\"linecolor\":\"white\",\"ticks\":\"\"},\"radialaxis\":{\"gridcolor\":\"white\",\"linecolor\":\"white\",\"ticks\":\"\"}},\"ternary\":{\"bgcolor\":\"#E5ECF6\",\"aaxis\":{\"gridcolor\":\"white\",\"linecolor\":\"white\",\"ticks\":\"\"},\"baxis\":{\"gridcolor\":\"white\",\"linecolor\":\"white\",\"ticks\":\"\"},\"caxis\":{\"gridcolor\":\"white\",\"linecolor\":\"white\",\"ticks\":\"\"}},\"coloraxis\":{\"colorbar\":{\"outlinewidth\":0,\"ticks\":\"\"}},\"colorscale\":{\"sequential\":[[0.0,\"#0d0887\"],[0.1111111111111111,\"#46039f\"],[0.2222222222222222,\"#7201a8\"],[0.3333333333333333,\"#9c179e\"],[0.4444444444444444,\"#bd3786\"],[0.5555555555555556,\"#d8576b\"],[0.6666666666666666,\"#ed7953\"],[0.7777777777777778,\"#fb9f3a\"],[0.8888888888888888,\"#fdca26\"],[1.0,\"#f0f921\"]],\"sequentialminus\":[[0.0,\"#0d0887\"],[0.1111111111111111,\"#46039f\"],[0.2222222222222222,\"#7201a8\"],[0.3333333333333333,\"#9c179e\"],[0.4444444444444444,\"#bd3786\"],[0.5555555555555556,\"#d8576b\"],[0.6666666666666666,\"#ed7953\"],[0.7777777777777778,\"#fb9f3a\"],[0.8888888888888888,\"#fdca26\"],[1.0,\"#f0f921\"]],\"diverging\":[[0,\"#8e0152\"],[0.1,\"#c51b7d\"],[0.2,\"#de77ae\"],[0.3,\"#f1b6da\"],[0.4,\"#fde0ef\"],[0.5,\"#f7f7f7\"],[0.6,\"#e6f5d0\"],[0.7,\"#b8e186\"],[0.8,\"#7fbc41\"],[0.9,\"#4d9221\"],[1,\"#276419\"]]},\"xaxis\":{\"gridcolor\":\"white\",\"linecolor\":\"white\",\"ticks\":\"\",\"title\":{\"standoff\":15},\"zerolinecolor\":\"white\",\"automargin\":true,\"zerolinewidth\":2},\"yaxis\":{\"gridcolor\":\"white\",\"linecolor\":\"white\",\"ticks\":\"\",\"title\":{\"standoff\":15},\"zerolinecolor\":\"white\",\"automargin\":true,\"zerolinewidth\":2},\"scene\":{\"xaxis\":{\"backgroundcolor\":\"#E5ECF6\",\"gridcolor\":\"white\",\"linecolor\":\"white\",\"showbackground\":true,\"ticks\":\"\",\"zerolinecolor\":\"white\",\"gridwidth\":2},\"yaxis\":{\"backgroundcolor\":\"#E5ECF6\",\"gridcolor\":\"white\",\"linecolor\":\"white\",\"showbackground\":true,\"ticks\":\"\",\"zerolinecolor\":\"white\",\"gridwidth\":2},\"zaxis\":{\"backgroundcolor\":\"#E5ECF6\",\"gridcolor\":\"white\",\"linecolor\":\"white\",\"showbackground\":true,\"ticks\":\"\",\"zerolinecolor\":\"white\",\"gridwidth\":2}},\"shapedefaults\":{\"line\":{\"color\":\"#2a3f5f\"}},\"annotationdefaults\":{\"arrowcolor\":\"#2a3f5f\",\"arrowhead\":0,\"arrowwidth\":1},\"geo\":{\"bgcolor\":\"white\",\"landcolor\":\"#E5ECF6\",\"subunitcolor\":\"white\",\"showland\":true,\"showlakes\":true,\"lakecolor\":\"white\"},\"title\":{\"x\":0.05},\"mapbox\":{\"style\":\"light\"}}},\"xaxis\":{\"anchor\":\"y\",\"domain\":[0.0,1.0],\"title\":{\"text\":\"Weather\"},\"categoryorder\":\"array\",\"categoryarray\":[\"Rainy\",\"Snowy\",\"Sunny\"]},\"yaxis\":{\"anchor\":\"x\",\"domain\":[0.0,1.0],\"title\":{\"text\":\"Acceptance Rate (%)\"}},\"legend\":{\"title\":{\"text\":\"Weather\"},\"tracegroupgap\":0},\"title\":{\"text\":\"Acceptance Rate by Weather\"},\"barmode\":\"relative\"},                        {\"responsive\": true}                    ).then(function(){\n",
       "                            \n",
       "var gd = document.getElementById('6df3eebd-1b89-480c-a180-a34754b389a6');\n",
       "var x = new MutationObserver(function (mutations, observer) {{\n",
       "        var display = window.getComputedStyle(gd).display;\n",
       "        if (!display || display === 'none') {{\n",
       "            console.log([gd, 'removed!']);\n",
       "            Plotly.purge(gd);\n",
       "            observer.disconnect();\n",
       "        }}\n",
       "}});\n",
       "\n",
       "// Listen for the removal of the full notebook cells\n",
       "var notebookContainer = gd.closest('#notebook-container');\n",
       "if (notebookContainer) {{\n",
       "    x.observe(notebookContainer, {childList: true});\n",
       "}}\n",
       "\n",
       "// Listen for the clearing of the current output cell\n",
       "var outputEl = gd.closest('.output');\n",
       "if (outputEl) {{\n",
       "    x.observe(outputEl, {childList: true});\n",
       "}}\n",
       "\n",
       "                        })                };                });            </script>        </div>"
      ]
     },
     "metadata": {},
     "output_type": "display_data"
    },
    {
     "data": {
      "application/vnd.plotly.v1+json": {
       "config": {
        "plotlyServerURL": "https://plot.ly"
       },
       "data": [
        {
         "alignmentgroup": "True",
         "hovertemplate": "Passenger=%{x}<br>Acceptance Rate (%)=%{y}<extra></extra>",
         "legendgroup": "Alone",
         "marker": {
          "color": "#636efa",
          "pattern": {
           "shape": ""
          }
         },
         "name": "Alone",
         "offsetgroup": "Alone",
         "orientation": "v",
         "showlegend": true,
         "textposition": "auto",
         "type": "bar",
         "x": [
          "Alone"
         ],
         "xaxis": "x",
         "y": [
          46.28099173553719
         ],
         "yaxis": "y"
        },
        {
         "alignmentgroup": "True",
         "hovertemplate": "Passenger=%{x}<br>Acceptance Rate (%)=%{y}<extra></extra>",
         "legendgroup": "Friend(s)",
         "marker": {
          "color": "#EF553B",
          "pattern": {
           "shape": ""
          }
         },
         "name": "Friend(s)",
         "offsetgroup": "Friend(s)",
         "orientation": "v",
         "showlegend": true,
         "textposition": "auto",
         "type": "bar",
         "x": [
          "Friend(s)"
         ],
         "xaxis": "x",
         "y": [
          47.046263345195726
         ],
         "yaxis": "y"
        },
        {
         "alignmentgroup": "True",
         "hovertemplate": "Passenger=%{x}<br>Acceptance Rate (%)=%{y}<extra></extra>",
         "legendgroup": "Kid(s)",
         "marker": {
          "color": "#00cc96",
          "pattern": {
           "shape": ""
          }
         },
         "name": "Kid(s)",
         "offsetgroup": "Kid(s)",
         "orientation": "v",
         "showlegend": true,
         "textposition": "auto",
         "type": "bar",
         "x": [
          "Kid(s)"
         ],
         "xaxis": "x",
         "y": [
          59.47959082331909
         ],
         "yaxis": "y"
        },
        {
         "alignmentgroup": "True",
         "hovertemplate": "Passenger=%{x}<br>Acceptance Rate (%)=%{y}<extra></extra>",
         "legendgroup": "Partner",
         "marker": {
          "color": "#ab63fa",
          "pattern": {
           "shape": ""
          }
         },
         "name": "Partner",
         "offsetgroup": "Partner",
         "orientation": "v",
         "showlegend": true,
         "textposition": "auto",
         "type": "bar",
         "x": [
          "Partner"
         ],
         "xaxis": "x",
         "y": [
          null
         ],
         "yaxis": "y"
        }
       ],
       "layout": {
        "autosize": true,
        "barmode": "relative",
        "legend": {
         "title": {
          "text": "Passenger"
         },
         "tracegroupgap": 0
        },
        "template": {
         "data": {
          "bar": [
           {
            "error_x": {
             "color": "#2a3f5f"
            },
            "error_y": {
             "color": "#2a3f5f"
            },
            "marker": {
             "line": {
              "color": "#E5ECF6",
              "width": 0.5
             },
             "pattern": {
              "fillmode": "overlay",
              "size": 10,
              "solidity": 0.2
             }
            },
            "type": "bar"
           }
          ],
          "barpolar": [
           {
            "marker": {
             "line": {
              "color": "#E5ECF6",
              "width": 0.5
             },
             "pattern": {
              "fillmode": "overlay",
              "size": 10,
              "solidity": 0.2
             }
            },
            "type": "barpolar"
           }
          ],
          "carpet": [
           {
            "aaxis": {
             "endlinecolor": "#2a3f5f",
             "gridcolor": "white",
             "linecolor": "white",
             "minorgridcolor": "white",
             "startlinecolor": "#2a3f5f"
            },
            "baxis": {
             "endlinecolor": "#2a3f5f",
             "gridcolor": "white",
             "linecolor": "white",
             "minorgridcolor": "white",
             "startlinecolor": "#2a3f5f"
            },
            "type": "carpet"
           }
          ],
          "choropleth": [
           {
            "colorbar": {
             "outlinewidth": 0,
             "ticks": ""
            },
            "type": "choropleth"
           }
          ],
          "contour": [
           {
            "colorbar": {
             "outlinewidth": 0,
             "ticks": ""
            },
            "colorscale": [
             [
              0,
              "#0d0887"
             ],
             [
              0.1111111111111111,
              "#46039f"
             ],
             [
              0.2222222222222222,
              "#7201a8"
             ],
             [
              0.3333333333333333,
              "#9c179e"
             ],
             [
              0.4444444444444444,
              "#bd3786"
             ],
             [
              0.5555555555555556,
              "#d8576b"
             ],
             [
              0.6666666666666666,
              "#ed7953"
             ],
             [
              0.7777777777777778,
              "#fb9f3a"
             ],
             [
              0.8888888888888888,
              "#fdca26"
             ],
             [
              1,
              "#f0f921"
             ]
            ],
            "type": "contour"
           }
          ],
          "contourcarpet": [
           {
            "colorbar": {
             "outlinewidth": 0,
             "ticks": ""
            },
            "type": "contourcarpet"
           }
          ],
          "heatmap": [
           {
            "colorbar": {
             "outlinewidth": 0,
             "ticks": ""
            },
            "colorscale": [
             [
              0,
              "#0d0887"
             ],
             [
              0.1111111111111111,
              "#46039f"
             ],
             [
              0.2222222222222222,
              "#7201a8"
             ],
             [
              0.3333333333333333,
              "#9c179e"
             ],
             [
              0.4444444444444444,
              "#bd3786"
             ],
             [
              0.5555555555555556,
              "#d8576b"
             ],
             [
              0.6666666666666666,
              "#ed7953"
             ],
             [
              0.7777777777777778,
              "#fb9f3a"
             ],
             [
              0.8888888888888888,
              "#fdca26"
             ],
             [
              1,
              "#f0f921"
             ]
            ],
            "type": "heatmap"
           }
          ],
          "heatmapgl": [
           {
            "colorbar": {
             "outlinewidth": 0,
             "ticks": ""
            },
            "colorscale": [
             [
              0,
              "#0d0887"
             ],
             [
              0.1111111111111111,
              "#46039f"
             ],
             [
              0.2222222222222222,
              "#7201a8"
             ],
             [
              0.3333333333333333,
              "#9c179e"
             ],
             [
              0.4444444444444444,
              "#bd3786"
             ],
             [
              0.5555555555555556,
              "#d8576b"
             ],
             [
              0.6666666666666666,
              "#ed7953"
             ],
             [
              0.7777777777777778,
              "#fb9f3a"
             ],
             [
              0.8888888888888888,
              "#fdca26"
             ],
             [
              1,
              "#f0f921"
             ]
            ],
            "type": "heatmapgl"
           }
          ],
          "histogram": [
           {
            "marker": {
             "pattern": {
              "fillmode": "overlay",
              "size": 10,
              "solidity": 0.2
             }
            },
            "type": "histogram"
           }
          ],
          "histogram2d": [
           {
            "colorbar": {
             "outlinewidth": 0,
             "ticks": ""
            },
            "colorscale": [
             [
              0,
              "#0d0887"
             ],
             [
              0.1111111111111111,
              "#46039f"
             ],
             [
              0.2222222222222222,
              "#7201a8"
             ],
             [
              0.3333333333333333,
              "#9c179e"
             ],
             [
              0.4444444444444444,
              "#bd3786"
             ],
             [
              0.5555555555555556,
              "#d8576b"
             ],
             [
              0.6666666666666666,
              "#ed7953"
             ],
             [
              0.7777777777777778,
              "#fb9f3a"
             ],
             [
              0.8888888888888888,
              "#fdca26"
             ],
             [
              1,
              "#f0f921"
             ]
            ],
            "type": "histogram2d"
           }
          ],
          "histogram2dcontour": [
           {
            "colorbar": {
             "outlinewidth": 0,
             "ticks": ""
            },
            "colorscale": [
             [
              0,
              "#0d0887"
             ],
             [
              0.1111111111111111,
              "#46039f"
             ],
             [
              0.2222222222222222,
              "#7201a8"
             ],
             [
              0.3333333333333333,
              "#9c179e"
             ],
             [
              0.4444444444444444,
              "#bd3786"
             ],
             [
              0.5555555555555556,
              "#d8576b"
             ],
             [
              0.6666666666666666,
              "#ed7953"
             ],
             [
              0.7777777777777778,
              "#fb9f3a"
             ],
             [
              0.8888888888888888,
              "#fdca26"
             ],
             [
              1,
              "#f0f921"
             ]
            ],
            "type": "histogram2dcontour"
           }
          ],
          "mesh3d": [
           {
            "colorbar": {
             "outlinewidth": 0,
             "ticks": ""
            },
            "type": "mesh3d"
           }
          ],
          "parcoords": [
           {
            "line": {
             "colorbar": {
              "outlinewidth": 0,
              "ticks": ""
             }
            },
            "type": "parcoords"
           }
          ],
          "pie": [
           {
            "automargin": true,
            "type": "pie"
           }
          ],
          "scatter": [
           {
            "fillpattern": {
             "fillmode": "overlay",
             "size": 10,
             "solidity": 0.2
            },
            "type": "scatter"
           }
          ],
          "scatter3d": [
           {
            "line": {
             "colorbar": {
              "outlinewidth": 0,
              "ticks": ""
             }
            },
            "marker": {
             "colorbar": {
              "outlinewidth": 0,
              "ticks": ""
             }
            },
            "type": "scatter3d"
           }
          ],
          "scattercarpet": [
           {
            "marker": {
             "colorbar": {
              "outlinewidth": 0,
              "ticks": ""
             }
            },
            "type": "scattercarpet"
           }
          ],
          "scattergeo": [
           {
            "marker": {
             "colorbar": {
              "outlinewidth": 0,
              "ticks": ""
             }
            },
            "type": "scattergeo"
           }
          ],
          "scattergl": [
           {
            "marker": {
             "colorbar": {
              "outlinewidth": 0,
              "ticks": ""
             }
            },
            "type": "scattergl"
           }
          ],
          "scattermapbox": [
           {
            "marker": {
             "colorbar": {
              "outlinewidth": 0,
              "ticks": ""
             }
            },
            "type": "scattermapbox"
           }
          ],
          "scatterpolar": [
           {
            "marker": {
             "colorbar": {
              "outlinewidth": 0,
              "ticks": ""
             }
            },
            "type": "scatterpolar"
           }
          ],
          "scatterpolargl": [
           {
            "marker": {
             "colorbar": {
              "outlinewidth": 0,
              "ticks": ""
             }
            },
            "type": "scatterpolargl"
           }
          ],
          "scatterternary": [
           {
            "marker": {
             "colorbar": {
              "outlinewidth": 0,
              "ticks": ""
             }
            },
            "type": "scatterternary"
           }
          ],
          "surface": [
           {
            "colorbar": {
             "outlinewidth": 0,
             "ticks": ""
            },
            "colorscale": [
             [
              0,
              "#0d0887"
             ],
             [
              0.1111111111111111,
              "#46039f"
             ],
             [
              0.2222222222222222,
              "#7201a8"
             ],
             [
              0.3333333333333333,
              "#9c179e"
             ],
             [
              0.4444444444444444,
              "#bd3786"
             ],
             [
              0.5555555555555556,
              "#d8576b"
             ],
             [
              0.6666666666666666,
              "#ed7953"
             ],
             [
              0.7777777777777778,
              "#fb9f3a"
             ],
             [
              0.8888888888888888,
              "#fdca26"
             ],
             [
              1,
              "#f0f921"
             ]
            ],
            "type": "surface"
           }
          ],
          "table": [
           {
            "cells": {
             "fill": {
              "color": "#EBF0F8"
             },
             "line": {
              "color": "white"
             }
            },
            "header": {
             "fill": {
              "color": "#C8D4E3"
             },
             "line": {
              "color": "white"
             }
            },
            "type": "table"
           }
          ]
         },
         "layout": {
          "annotationdefaults": {
           "arrowcolor": "#2a3f5f",
           "arrowhead": 0,
           "arrowwidth": 1
          },
          "autotypenumbers": "strict",
          "coloraxis": {
           "colorbar": {
            "outlinewidth": 0,
            "ticks": ""
           }
          },
          "colorscale": {
           "diverging": [
            [
             0,
             "#8e0152"
            ],
            [
             0.1,
             "#c51b7d"
            ],
            [
             0.2,
             "#de77ae"
            ],
            [
             0.3,
             "#f1b6da"
            ],
            [
             0.4,
             "#fde0ef"
            ],
            [
             0.5,
             "#f7f7f7"
            ],
            [
             0.6,
             "#e6f5d0"
            ],
            [
             0.7,
             "#b8e186"
            ],
            [
             0.8,
             "#7fbc41"
            ],
            [
             0.9,
             "#4d9221"
            ],
            [
             1,
             "#276419"
            ]
           ],
           "sequential": [
            [
             0,
             "#0d0887"
            ],
            [
             0.1111111111111111,
             "#46039f"
            ],
            [
             0.2222222222222222,
             "#7201a8"
            ],
            [
             0.3333333333333333,
             "#9c179e"
            ],
            [
             0.4444444444444444,
             "#bd3786"
            ],
            [
             0.5555555555555556,
             "#d8576b"
            ],
            [
             0.6666666666666666,
             "#ed7953"
            ],
            [
             0.7777777777777778,
             "#fb9f3a"
            ],
            [
             0.8888888888888888,
             "#fdca26"
            ],
            [
             1,
             "#f0f921"
            ]
           ],
           "sequentialminus": [
            [
             0,
             "#0d0887"
            ],
            [
             0.1111111111111111,
             "#46039f"
            ],
            [
             0.2222222222222222,
             "#7201a8"
            ],
            [
             0.3333333333333333,
             "#9c179e"
            ],
            [
             0.4444444444444444,
             "#bd3786"
            ],
            [
             0.5555555555555556,
             "#d8576b"
            ],
            [
             0.6666666666666666,
             "#ed7953"
            ],
            [
             0.7777777777777778,
             "#fb9f3a"
            ],
            [
             0.8888888888888888,
             "#fdca26"
            ],
            [
             1,
             "#f0f921"
            ]
           ]
          },
          "colorway": [
           "#636efa",
           "#EF553B",
           "#00cc96",
           "#ab63fa",
           "#FFA15A",
           "#19d3f3",
           "#FF6692",
           "#B6E880",
           "#FF97FF",
           "#FECB52"
          ],
          "font": {
           "color": "#2a3f5f"
          },
          "geo": {
           "bgcolor": "white",
           "lakecolor": "white",
           "landcolor": "#E5ECF6",
           "showlakes": true,
           "showland": true,
           "subunitcolor": "white"
          },
          "hoverlabel": {
           "align": "left"
          },
          "hovermode": "closest",
          "mapbox": {
           "style": "light"
          },
          "paper_bgcolor": "white",
          "plot_bgcolor": "#E5ECF6",
          "polar": {
           "angularaxis": {
            "gridcolor": "white",
            "linecolor": "white",
            "ticks": ""
           },
           "bgcolor": "#E5ECF6",
           "radialaxis": {
            "gridcolor": "white",
            "linecolor": "white",
            "ticks": ""
           }
          },
          "scene": {
           "xaxis": {
            "backgroundcolor": "#E5ECF6",
            "gridcolor": "white",
            "gridwidth": 2,
            "linecolor": "white",
            "showbackground": true,
            "ticks": "",
            "zerolinecolor": "white"
           },
           "yaxis": {
            "backgroundcolor": "#E5ECF6",
            "gridcolor": "white",
            "gridwidth": 2,
            "linecolor": "white",
            "showbackground": true,
            "ticks": "",
            "zerolinecolor": "white"
           },
           "zaxis": {
            "backgroundcolor": "#E5ECF6",
            "gridcolor": "white",
            "gridwidth": 2,
            "linecolor": "white",
            "showbackground": true,
            "ticks": "",
            "zerolinecolor": "white"
           }
          },
          "shapedefaults": {
           "line": {
            "color": "#2a3f5f"
           }
          },
          "ternary": {
           "aaxis": {
            "gridcolor": "white",
            "linecolor": "white",
            "ticks": ""
           },
           "baxis": {
            "gridcolor": "white",
            "linecolor": "white",
            "ticks": ""
           },
           "bgcolor": "#E5ECF6",
           "caxis": {
            "gridcolor": "white",
            "linecolor": "white",
            "ticks": ""
           }
          },
          "title": {
           "x": 0.05
          },
          "xaxis": {
           "automargin": true,
           "gridcolor": "white",
           "linecolor": "white",
           "ticks": "",
           "title": {
            "standoff": 15
           },
           "zerolinecolor": "white",
           "zerolinewidth": 2
          },
          "yaxis": {
           "automargin": true,
           "gridcolor": "white",
           "linecolor": "white",
           "ticks": "",
           "title": {
            "standoff": 15
           },
           "zerolinecolor": "white",
           "zerolinewidth": 2
          }
         }
        },
        "title": {
         "text": "Acceptance Rate by Passenger"
        },
        "xaxis": {
         "anchor": "y",
         "autorange": true,
         "categoryarray": [
          "Alone",
          "Friend(s)",
          "Kid(s)",
          "Partner"
         ],
         "categoryorder": "array",
         "domain": [
          0,
          1
         ],
         "range": [
          -0.5,
          3.5
         ],
         "title": {
          "text": "Passenger"
         },
         "type": "category"
        },
        "yaxis": {
         "anchor": "x",
         "autorange": true,
         "domain": [
          0,
          1
         ],
         "range": [
          0,
          62.61009560349378
         ],
         "title": {
          "text": "Acceptance Rate (%)"
         },
         "type": "linear"
        }
       }
      },
      "image/png": "[encoded data removed]",
      "text/html": [
       "<div>                            <div id=\"651baf7a-fa39-4261-8c3a-40168c3b82da\" class=\"plotly-graph-div\" style=\"height:525px; width:100%;\"></div>            <script type=\"text/javascript\">                require([\"plotly\"], function(Plotly) {                    window.PLOTLYENV=window.PLOTLYENV || {};                                    if (document.getElementById(\"651baf7a-fa39-4261-8c3a-40168c3b82da\")) {                    Plotly.newPlot(                        \"651baf7a-fa39-4261-8c3a-40168c3b82da\",                        [{\"alignmentgroup\":\"True\",\"hovertemplate\":\"Passenger=%{x}\\u003cbr\\u003eAcceptance Rate (%)=%{y}\\u003cextra\\u003e\\u003c\\u002fextra\\u003e\",\"legendgroup\":\"Alone\",\"marker\":{\"color\":\"#636efa\",\"pattern\":{\"shape\":\"\"}},\"name\":\"Alone\",\"offsetgroup\":\"Alone\",\"orientation\":\"v\",\"showlegend\":true,\"textposition\":\"auto\",\"x\":[\"Alone\"],\"xaxis\":\"x\",\"y\":[46.28099173553719],\"yaxis\":\"y\",\"type\":\"bar\"},{\"alignmentgroup\":\"True\",\"hovertemplate\":\"Passenger=%{x}\\u003cbr\\u003eAcceptance Rate (%)=%{y}\\u003cextra\\u003e\\u003c\\u002fextra\\u003e\",\"legendgroup\":\"Friend(s)\",\"marker\":{\"color\":\"#EF553B\",\"pattern\":{\"shape\":\"\"}},\"name\":\"Friend(s)\",\"offsetgroup\":\"Friend(s)\",\"orientation\":\"v\",\"showlegend\":true,\"textposition\":\"auto\",\"x\":[\"Friend(s)\"],\"xaxis\":\"x\",\"y\":[47.046263345195726],\"yaxis\":\"y\",\"type\":\"bar\"},{\"alignmentgroup\":\"True\",\"hovertemplate\":\"Passenger=%{x}\\u003cbr\\u003eAcceptance Rate (%)=%{y}\\u003cextra\\u003e\\u003c\\u002fextra\\u003e\",\"legendgroup\":\"Kid(s)\",\"marker\":{\"color\":\"#00cc96\",\"pattern\":{\"shape\":\"\"}},\"name\":\"Kid(s)\",\"offsetgroup\":\"Kid(s)\",\"orientation\":\"v\",\"showlegend\":true,\"textposition\":\"auto\",\"x\":[\"Kid(s)\"],\"xaxis\":\"x\",\"y\":[59.47959082331909],\"yaxis\":\"y\",\"type\":\"bar\"},{\"alignmentgroup\":\"True\",\"hovertemplate\":\"Passenger=%{x}\\u003cbr\\u003eAcceptance Rate (%)=%{y}\\u003cextra\\u003e\\u003c\\u002fextra\\u003e\",\"legendgroup\":\"Partner\",\"marker\":{\"color\":\"#ab63fa\",\"pattern\":{\"shape\":\"\"}},\"name\":\"Partner\",\"offsetgroup\":\"Partner\",\"orientation\":\"v\",\"showlegend\":true,\"textposition\":\"auto\",\"x\":[\"Partner\"],\"xaxis\":\"x\",\"y\":[null],\"yaxis\":\"y\",\"type\":\"bar\"}],                        {\"template\":{\"data\":{\"histogram2dcontour\":[{\"type\":\"histogram2dcontour\",\"colorbar\":{\"outlinewidth\":0,\"ticks\":\"\"},\"colorscale\":[[0.0,\"#0d0887\"],[0.1111111111111111,\"#46039f\"],[0.2222222222222222,\"#7201a8\"],[0.3333333333333333,\"#9c179e\"],[0.4444444444444444,\"#bd3786\"],[0.5555555555555556,\"#d8576b\"],[0.6666666666666666,\"#ed7953\"],[0.7777777777777778,\"#fb9f3a\"],[0.8888888888888888,\"#fdca26\"],[1.0,\"#f0f921\"]]}],\"choropleth\":[{\"type\":\"choropleth\",\"colorbar\":{\"outlinewidth\":0,\"ticks\":\"\"}}],\"histogram2d\":[{\"type\":\"histogram2d\",\"colorbar\":{\"outlinewidth\":0,\"ticks\":\"\"},\"colorscale\":[[0.0,\"#0d0887\"],[0.1111111111111111,\"#46039f\"],[0.2222222222222222,\"#7201a8\"],[0.3333333333333333,\"#9c179e\"],[0.4444444444444444,\"#bd3786\"],[0.5555555555555556,\"#d8576b\"],[0.6666666666666666,\"#ed7953\"],[0.7777777777777778,\"#fb9f3a\"],[0.8888888888888888,\"#fdca26\"],[1.0,\"#f0f921\"]]}],\"heatmap\":[{\"type\":\"heatmap\",\"colorbar\":{\"outlinewidth\":0,\"ticks\":\"\"},\"colorscale\":[[0.0,\"#0d0887\"],[0.1111111111111111,\"#46039f\"],[0.2222222222222222,\"#7201a8\"],[0.3333333333333333,\"#9c179e\"],[0.4444444444444444,\"#bd3786\"],[0.5555555555555556,\"#d8576b\"],[0.6666666666666666,\"#ed7953\"],[0.7777777777777778,\"#fb9f3a\"],[0.8888888888888888,\"#fdca26\"],[1.0,\"#f0f921\"]]}],\"heatmapgl\":[{\"type\":\"heatmapgl\",\"colorbar\":{\"outlinewidth\":0,\"ticks\":\"\"},\"colorscale\":[[0.0,\"#0d0887\"],[0.1111111111111111,\"#46039f\"],[0.2222222222222222,\"#7201a8\"],[0.3333333333333333,\"#9c179e\"],[0.4444444444444444,\"#bd3786\"],[0.5555555555555556,\"#d8576b\"],[0.6666666666666666,\"#ed7953\"],[0.7777777777777778,\"#fb9f3a\"],[0.8888888888888888,\"#fdca26\"],[1.0,\"#f0f921\"]]}],\"contourcarpet\":[{\"type\":\"contourcarpet\",\"colorbar\":{\"outlinewidth\":0,\"ticks\":\"\"}}],\"contour\":[{\"type\":\"contour\",\"colorbar\":{\"outlinewidth\":0,\"ticks\":\"\"},\"colorscale\":[[0.0,\"#0d0887\"],[0.1111111111111111,\"#46039f\"],[0.2222222222222222,\"#7201a8\"],[0.3333333333333333,\"#9c179e\"],[0.4444444444444444,\"#bd3786\"],[0.5555555555555556,\"#d8576b\"],[0.6666666666666666,\"#ed7953\"],[0.7777777777777778,\"#fb9f3a\"],[0.8888888888888888,\"#fdca26\"],[1.0,\"#f0f921\"]]}],\"surface\":[{\"type\":\"surface\",\"colorbar\":{\"outlinewidth\":0,\"ticks\":\"\"},\"colorscale\":[[0.0,\"#0d0887\"],[0.1111111111111111,\"#46039f\"],[0.2222222222222222,\"#7201a8\"],[0.3333333333333333,\"#9c179e\"],[0.4444444444444444,\"#bd3786\"],[0.5555555555555556,\"#d8576b\"],[0.6666666666666666,\"#ed7953\"],[0.7777777777777778,\"#fb9f3a\"],[0.8888888888888888,\"#fdca26\"],[1.0,\"#f0f921\"]]}],\"mesh3d\":[{\"type\":\"mesh3d\",\"colorbar\":{\"outlinewidth\":0,\"ticks\":\"\"}}],\"scatter\":[{\"fillpattern\":{\"fillmode\":\"overlay\",\"size\":10,\"solidity\":0.2},\"type\":\"scatter\"}],\"parcoords\":[{\"type\":\"parcoords\",\"line\":{\"colorbar\":{\"outlinewidth\":0,\"ticks\":\"\"}}}],\"scatterpolargl\":[{\"type\":\"scatterpolargl\",\"marker\":{\"colorbar\":{\"outlinewidth\":0,\"ticks\":\"\"}}}],\"bar\":[{\"error_x\":{\"color\":\"#2a3f5f\"},\"error_y\":{\"color\":\"#2a3f5f\"},\"marker\":{\"line\":{\"color\":\"#E5ECF6\",\"width\":0.5},\"pattern\":{\"fillmode\":\"overlay\",\"size\":10,\"solidity\":0.2}},\"type\":\"bar\"}],\"scattergeo\":[{\"type\":\"scattergeo\",\"marker\":{\"colorbar\":{\"outlinewidth\":0,\"ticks\":\"\"}}}],\"scatterpolar\":[{\"type\":\"scatterpolar\",\"marker\":{\"colorbar\":{\"outlinewidth\":0,\"ticks\":\"\"}}}],\"histogram\":[{\"marker\":{\"pattern\":{\"fillmode\":\"overlay\",\"size\":10,\"solidity\":0.2}},\"type\":\"histogram\"}],\"scattergl\":[{\"type\":\"scattergl\",\"marker\":{\"colorbar\":{\"outlinewidth\":0,\"ticks\":\"\"}}}],\"scatter3d\":[{\"type\":\"scatter3d\",\"line\":{\"colorbar\":{\"outlinewidth\":0,\"ticks\":\"\"}},\"marker\":{\"colorbar\":{\"outlinewidth\":0,\"ticks\":\"\"}}}],\"scattermapbox\":[{\"type\":\"scattermapbox\",\"marker\":{\"colorbar\":{\"outlinewidth\":0,\"ticks\":\"\"}}}],\"scatterternary\":[{\"type\":\"scatterternary\",\"marker\":{\"colorbar\":{\"outlinewidth\":0,\"ticks\":\"\"}}}],\"scattercarpet\":[{\"type\":\"scattercarpet\",\"marker\":{\"colorbar\":{\"outlinewidth\":0,\"ticks\":\"\"}}}],\"carpet\":[{\"aaxis\":{\"endlinecolor\":\"#2a3f5f\",\"gridcolor\":\"white\",\"linecolor\":\"white\",\"minorgridcolor\":\"white\",\"startlinecolor\":\"#2a3f5f\"},\"baxis\":{\"endlinecolor\":\"#2a3f5f\",\"gridcolor\":\"white\",\"linecolor\":\"white\",\"minorgridcolor\":\"white\",\"startlinecolor\":\"#2a3f5f\"},\"type\":\"carpet\"}],\"table\":[{\"cells\":{\"fill\":{\"color\":\"#EBF0F8\"},\"line\":{\"color\":\"white\"}},\"header\":{\"fill\":{\"color\":\"#C8D4E3\"},\"line\":{\"color\":\"white\"}},\"type\":\"table\"}],\"barpolar\":[{\"marker\":{\"line\":{\"color\":\"#E5ECF6\",\"width\":0.5},\"pattern\":{\"fillmode\":\"overlay\",\"size\":10,\"solidity\":0.2}},\"type\":\"barpolar\"}],\"pie\":[{\"automargin\":true,\"type\":\"pie\"}]},\"layout\":{\"autotypenumbers\":\"strict\",\"colorway\":[\"#636efa\",\"#EF553B\",\"#00cc96\",\"#ab63fa\",\"#FFA15A\",\"#19d3f3\",\"#FF6692\",\"#B6E880\",\"#FF97FF\",\"#FECB52\"],\"font\":{\"color\":\"#2a3f5f\"},\"hovermode\":\"closest\",\"hoverlabel\":{\"align\":\"left\"},\"paper_bgcolor\":\"white\",\"plot_bgcolor\":\"#E5ECF6\",\"polar\":{\"bgcolor\":\"#E5ECF6\",\"angularaxis\":{\"gridcolor\":\"white\",\"linecolor\":\"white\",\"ticks\":\"\"},\"radialaxis\":{\"gridcolor\":\"white\",\"linecolor\":\"white\",\"ticks\":\"\"}},\"ternary\":{\"bgcolor\":\"#E5ECF6\",\"aaxis\":{\"gridcolor\":\"white\",\"linecolor\":\"white\",\"ticks\":\"\"},\"baxis\":{\"gridcolor\":\"white\",\"linecolor\":\"white\",\"ticks\":\"\"},\"caxis\":{\"gridcolor\":\"white\",\"linecolor\":\"white\",\"ticks\":\"\"}},\"coloraxis\":{\"colorbar\":{\"outlinewidth\":0,\"ticks\":\"\"}},\"colorscale\":{\"sequential\":[[0.0,\"#0d0887\"],[0.1111111111111111,\"#46039f\"],[0.2222222222222222,\"#7201a8\"],[0.3333333333333333,\"#9c179e\"],[0.4444444444444444,\"#bd3786\"],[0.5555555555555556,\"#d8576b\"],[0.6666666666666666,\"#ed7953\"],[0.7777777777777778,\"#fb9f3a\"],[0.8888888888888888,\"#fdca26\"],[1.0,\"#f0f921\"]],\"sequentialminus\":[[0.0,\"#0d0887\"],[0.1111111111111111,\"#46039f\"],[0.2222222222222222,\"#7201a8\"],[0.3333333333333333,\"#9c179e\"],[0.4444444444444444,\"#bd3786\"],[0.5555555555555556,\"#d8576b\"],[0.6666666666666666,\"#ed7953\"],[0.7777777777777778,\"#fb9f3a\"],[0.8888888888888888,\"#fdca26\"],[1.0,\"#f0f921\"]],\"diverging\":[[0,\"#8e0152\"],[0.1,\"#c51b7d\"],[0.2,\"#de77ae\"],[0.3,\"#f1b6da\"],[0.4,\"#fde0ef\"],[0.5,\"#f7f7f7\"],[0.6,\"#e6f5d0\"],[0.7,\"#b8e186\"],[0.8,\"#7fbc41\"],[0.9,\"#4d9221\"],[1,\"#276419\"]]},\"xaxis\":{\"gridcolor\":\"white\",\"linecolor\":\"white\",\"ticks\":\"\",\"title\":{\"standoff\":15},\"zerolinecolor\":\"white\",\"automargin\":true,\"zerolinewidth\":2},\"yaxis\":{\"gridcolor\":\"white\",\"linecolor\":\"white\",\"ticks\":\"\",\"title\":{\"standoff\":15},\"zerolinecolor\":\"white\",\"automargin\":true,\"zerolinewidth\":2},\"scene\":{\"xaxis\":{\"backgroundcolor\":\"#E5ECF6\",\"gridcolor\":\"white\",\"linecolor\":\"white\",\"showbackground\":true,\"ticks\":\"\",\"zerolinecolor\":\"white\",\"gridwidth\":2},\"yaxis\":{\"backgroundcolor\":\"#E5ECF6\",\"gridcolor\":\"white\",\"linecolor\":\"white\",\"showbackground\":true,\"ticks\":\"\",\"zerolinecolor\":\"white\",\"gridwidth\":2},\"zaxis\":{\"backgroundcolor\":\"#E5ECF6\",\"gridcolor\":\"white\",\"linecolor\":\"white\",\"showbackground\":true,\"ticks\":\"\",\"zerolinecolor\":\"white\",\"gridwidth\":2}},\"shapedefaults\":{\"line\":{\"color\":\"#2a3f5f\"}},\"annotationdefaults\":{\"arrowcolor\":\"#2a3f5f\",\"arrowhead\":0,\"arrowwidth\":1},\"geo\":{\"bgcolor\":\"white\",\"landcolor\":\"#E5ECF6\",\"subunitcolor\":\"white\",\"showland\":true,\"showlakes\":true,\"lakecolor\":\"white\"},\"title\":{\"x\":0.05},\"mapbox\":{\"style\":\"light\"}}},\"xaxis\":{\"anchor\":\"y\",\"domain\":[0.0,1.0],\"title\":{\"text\":\"Passenger\"},\"categoryorder\":\"array\",\"categoryarray\":[\"Alone\",\"Friend(s)\",\"Kid(s)\",\"Partner\"]},\"yaxis\":{\"anchor\":\"x\",\"domain\":[0.0,1.0],\"title\":{\"text\":\"Acceptance Rate (%)\"}},\"legend\":{\"title\":{\"text\":\"Passenger\"},\"tracegroupgap\":0},\"title\":{\"text\":\"Acceptance Rate by Passenger\"},\"barmode\":\"relative\"},                        {\"responsive\": true}                    ).then(function(){\n",
       "                            \n",
       "var gd = document.getElementById('651baf7a-fa39-4261-8c3a-40168c3b82da');\n",
       "var x = new MutationObserver(function (mutations, observer) {{\n",
       "        var display = window.getComputedStyle(gd).display;\n",
       "        if (!display || display === 'none') {{\n",
       "            console.log([gd, 'removed!']);\n",
       "            Plotly.purge(gd);\n",
       "            observer.disconnect();\n",
       "        }}\n",
       "}});\n",
       "\n",
       "// Listen for the removal of the full notebook cells\n",
       "var notebookContainer = gd.closest('#notebook-container');\n",
       "if (notebookContainer) {{\n",
       "    x.observe(notebookContainer, {childList: true});\n",
       "}}\n",
       "\n",
       "// Listen for the clearing of the current output cell\n",
       "var outputEl = gd.closest('.output');\n",
       "if (outputEl) {{\n",
       "    x.observe(outputEl, {childList: true});\n",
       "}}\n",
       "\n",
       "                        })                };                });            </script>        </div>"
      ]
     },
     "metadata": {},
     "output_type": "display_data"
    },
    {
     "data": {
      "application/vnd.plotly.v1+json": {
       "config": {
        "plotlyServerURL": "https://plot.ly"
       },
       "data": [
        {
         "alignmentgroup": "True",
         "hovertemplate": "Destination=%{x}<br>Acceptance Rate (%)=%{y}<extra></extra>",
         "legendgroup": "Home",
         "marker": {
          "color": "#636efa",
          "pattern": {
           "shape": ""
          }
         },
         "name": "Home",
         "offsetgroup": "Home",
         "orientation": "v",
         "showlegend": true,
         "textposition": "auto",
         "type": "bar",
         "x": [
          "Home"
         ],
         "xaxis": "x",
         "y": [
          46.28099173553719
         ],
         "yaxis": "y"
        },
        {
         "alignmentgroup": "True",
         "hovertemplate": "Destination=%{x}<br>Acceptance Rate (%)=%{y}<extra></extra>",
         "legendgroup": "No Urgent Place",
         "marker": {
          "color": "#EF553B",
          "pattern": {
           "shape": ""
          }
         },
         "name": "No Urgent Place",
         "offsetgroup": "No Urgent Place",
         "orientation": "v",
         "showlegend": true,
         "textposition": "auto",
         "type": "bar",
         "x": [
          "No Urgent Place"
         ],
         "xaxis": "x",
         "y": [
          47.046263345195726
         ],
         "yaxis": "y"
        },
        {
         "alignmentgroup": "True",
         "hovertemplate": "Destination=%{x}<br>Acceptance Rate (%)=%{y}<extra></extra>",
         "legendgroup": "Work",
         "marker": {
          "color": "#00cc96",
          "pattern": {
           "shape": ""
          }
         },
         "name": "Work",
         "offsetgroup": "Work",
         "orientation": "v",
         "showlegend": true,
         "textposition": "auto",
         "type": "bar",
         "x": [
          "Work"
         ],
         "xaxis": "x",
         "y": [
          59.47959082331909
         ],
         "yaxis": "y"
        }
       ],
       "layout": {
        "autosize": true,
        "barmode": "relative",
        "legend": {
         "title": {
          "text": "Destination"
         },
         "tracegroupgap": 0
        },
        "template": {
         "data": {
          "bar": [
           {
            "error_x": {
             "color": "#2a3f5f"
            },
            "error_y": {
             "color": "#2a3f5f"
            },
            "marker": {
             "line": {
              "color": "#E5ECF6",
              "width": 0.5
             },
             "pattern": {
              "fillmode": "overlay",
              "size": 10,
              "solidity": 0.2
             }
            },
            "type": "bar"
           }
          ],
          "barpolar": [
           {
            "marker": {
             "line": {
              "color": "#E5ECF6",
              "width": 0.5
             },
             "pattern": {
              "fillmode": "overlay",
              "size": 10,
              "solidity": 0.2
             }
            },
            "type": "barpolar"
           }
          ],
          "carpet": [
           {
            "aaxis": {
             "endlinecolor": "#2a3f5f",
             "gridcolor": "white",
             "linecolor": "white",
             "minorgridcolor": "white",
             "startlinecolor": "#2a3f5f"
            },
            "baxis": {
             "endlinecolor": "#2a3f5f",
             "gridcolor": "white",
             "linecolor": "white",
             "minorgridcolor": "white",
             "startlinecolor": "#2a3f5f"
            },
            "type": "carpet"
           }
          ],
          "choropleth": [
           {
            "colorbar": {
             "outlinewidth": 0,
             "ticks": ""
            },
            "type": "choropleth"
           }
          ],
          "contour": [
           {
            "colorbar": {
             "outlinewidth": 0,
             "ticks": ""
            },
            "colorscale": [
             [
              0,
              "#0d0887"
             ],
             [
              0.1111111111111111,
              "#46039f"
             ],
             [
              0.2222222222222222,
              "#7201a8"
             ],
             [
              0.3333333333333333,
              "#9c179e"
             ],
             [
              0.4444444444444444,
              "#bd3786"
             ],
             [
              0.5555555555555556,
              "#d8576b"
             ],
             [
              0.6666666666666666,
              "#ed7953"
             ],
             [
              0.7777777777777778,
              "#fb9f3a"
             ],
             [
              0.8888888888888888,
              "#fdca26"
             ],
             [
              1,
              "#f0f921"
             ]
            ],
            "type": "contour"
           }
          ],
          "contourcarpet": [
           {
            "colorbar": {
             "outlinewidth": 0,
             "ticks": ""
            },
            "type": "contourcarpet"
           }
          ],
          "heatmap": [
           {
            "colorbar": {
             "outlinewidth": 0,
             "ticks": ""
            },
            "colorscale": [
             [
              0,
              "#0d0887"
             ],
             [
              0.1111111111111111,
              "#46039f"
             ],
             [
              0.2222222222222222,
              "#7201a8"
             ],
             [
              0.3333333333333333,
              "#9c179e"
             ],
             [
              0.4444444444444444,
              "#bd3786"
             ],
             [
              0.5555555555555556,
              "#d8576b"
             ],
             [
              0.6666666666666666,
              "#ed7953"
             ],
             [
              0.7777777777777778,
              "#fb9f3a"
             ],
             [
              0.8888888888888888,
              "#fdca26"
             ],
             [
              1,
              "#f0f921"
             ]
            ],
            "type": "heatmap"
           }
          ],
          "heatmapgl": [
           {
            "colorbar": {
             "outlinewidth": 0,
             "ticks": ""
            },
            "colorscale": [
             [
              0,
              "#0d0887"
             ],
             [
              0.1111111111111111,
              "#46039f"
             ],
             [
              0.2222222222222222,
              "#7201a8"
             ],
             [
              0.3333333333333333,
              "#9c179e"
             ],
             [
              0.4444444444444444,
              "#bd3786"
             ],
             [
              0.5555555555555556,
              "#d8576b"
             ],
             [
              0.6666666666666666,
              "#ed7953"
             ],
             [
              0.7777777777777778,
              "#fb9f3a"
             ],
             [
              0.8888888888888888,
              "#fdca26"
             ],
             [
              1,
              "#f0f921"
             ]
            ],
            "type": "heatmapgl"
           }
          ],
          "histogram": [
           {
            "marker": {
             "pattern": {
              "fillmode": "overlay",
              "size": 10,
              "solidity": 0.2
             }
            },
            "type": "histogram"
           }
          ],
          "histogram2d": [
           {
            "colorbar": {
             "outlinewidth": 0,
             "ticks": ""
            },
            "colorscale": [
             [
              0,
              "#0d0887"
             ],
             [
              0.1111111111111111,
              "#46039f"
             ],
             [
              0.2222222222222222,
              "#7201a8"
             ],
             [
              0.3333333333333333,
              "#9c179e"
             ],
             [
              0.4444444444444444,
              "#bd3786"
             ],
             [
              0.5555555555555556,
              "#d8576b"
             ],
             [
              0.6666666666666666,
              "#ed7953"
             ],
             [
              0.7777777777777778,
              "#fb9f3a"
             ],
             [
              0.8888888888888888,
              "#fdca26"
             ],
             [
              1,
              "#f0f921"
             ]
            ],
            "type": "histogram2d"
           }
          ],
          "histogram2dcontour": [
           {
            "colorbar": {
             "outlinewidth": 0,
             "ticks": ""
            },
            "colorscale": [
             [
              0,
              "#0d0887"
             ],
             [
              0.1111111111111111,
              "#46039f"
             ],
             [
              0.2222222222222222,
              "#7201a8"
             ],
             [
              0.3333333333333333,
              "#9c179e"
             ],
             [
              0.4444444444444444,
              "#bd3786"
             ],
             [
              0.5555555555555556,
              "#d8576b"
             ],
             [
              0.6666666666666666,
              "#ed7953"
             ],
             [
              0.7777777777777778,
              "#fb9f3a"
             ],
             [
              0.8888888888888888,
              "#fdca26"
             ],
             [
              1,
              "#f0f921"
             ]
            ],
            "type": "histogram2dcontour"
           }
          ],
          "mesh3d": [
           {
            "colorbar": {
             "outlinewidth": 0,
             "ticks": ""
            },
            "type": "mesh3d"
           }
          ],
          "parcoords": [
           {
            "line": {
             "colorbar": {
              "outlinewidth": 0,
              "ticks": ""
             }
            },
            "type": "parcoords"
           }
          ],
          "pie": [
           {
            "automargin": true,
            "type": "pie"
           }
          ],
          "scatter": [
           {
            "fillpattern": {
             "fillmode": "overlay",
             "size": 10,
             "solidity": 0.2
            },
            "type": "scatter"
           }
          ],
          "scatter3d": [
           {
            "line": {
             "colorbar": {
              "outlinewidth": 0,
              "ticks": ""
             }
            },
            "marker": {
             "colorbar": {
              "outlinewidth": 0,
              "ticks": ""
             }
            },
            "type": "scatter3d"
           }
          ],
          "scattercarpet": [
           {
            "marker": {
             "colorbar": {
              "outlinewidth": 0,
              "ticks": ""
             }
            },
            "type": "scattercarpet"
           }
          ],
          "scattergeo": [
           {
            "marker": {
             "colorbar": {
              "outlinewidth": 0,
              "ticks": ""
             }
            },
            "type": "scattergeo"
           }
          ],
          "scattergl": [
           {
            "marker": {
             "colorbar": {
              "outlinewidth": 0,
              "ticks": ""
             }
            },
            "type": "scattergl"
           }
          ],
          "scattermapbox": [
           {
            "marker": {
             "colorbar": {
              "outlinewidth": 0,
              "ticks": ""
             }
            },
            "type": "scattermapbox"
           }
          ],
          "scatterpolar": [
           {
            "marker": {
             "colorbar": {
              "outlinewidth": 0,
              "ticks": ""
             }
            },
            "type": "scatterpolar"
           }
          ],
          "scatterpolargl": [
           {
            "marker": {
             "colorbar": {
              "outlinewidth": 0,
              "ticks": ""
             }
            },
            "type": "scatterpolargl"
           }
          ],
          "scatterternary": [
           {
            "marker": {
             "colorbar": {
              "outlinewidth": 0,
              "ticks": ""
             }
            },
            "type": "scatterternary"
           }
          ],
          "surface": [
           {
            "colorbar": {
             "outlinewidth": 0,
             "ticks": ""
            },
            "colorscale": [
             [
              0,
              "#0d0887"
             ],
             [
              0.1111111111111111,
              "#46039f"
             ],
             [
              0.2222222222222222,
              "#7201a8"
             ],
             [
              0.3333333333333333,
              "#9c179e"
             ],
             [
              0.4444444444444444,
              "#bd3786"
             ],
             [
              0.5555555555555556,
              "#d8576b"
             ],
             [
              0.6666666666666666,
              "#ed7953"
             ],
             [
              0.7777777777777778,
              "#fb9f3a"
             ],
             [
              0.8888888888888888,
              "#fdca26"
             ],
             [
              1,
              "#f0f921"
             ]
            ],
            "type": "surface"
           }
          ],
          "table": [
           {
            "cells": {
             "fill": {
              "color": "#EBF0F8"
             },
             "line": {
              "color": "white"
             }
            },
            "header": {
             "fill": {
              "color": "#C8D4E3"
             },
             "line": {
              "color": "white"
             }
            },
            "type": "table"
           }
          ]
         },
         "layout": {
          "annotationdefaults": {
           "arrowcolor": "#2a3f5f",
           "arrowhead": 0,
           "arrowwidth": 1
          },
          "autotypenumbers": "strict",
          "coloraxis": {
           "colorbar": {
            "outlinewidth": 0,
            "ticks": ""
           }
          },
          "colorscale": {
           "diverging": [
            [
             0,
             "#8e0152"
            ],
            [
             0.1,
             "#c51b7d"
            ],
            [
             0.2,
             "#de77ae"
            ],
            [
             0.3,
             "#f1b6da"
            ],
            [
             0.4,
             "#fde0ef"
            ],
            [
             0.5,
             "#f7f7f7"
            ],
            [
             0.6,
             "#e6f5d0"
            ],
            [
             0.7,
             "#b8e186"
            ],
            [
             0.8,
             "#7fbc41"
            ],
            [
             0.9,
             "#4d9221"
            ],
            [
             1,
             "#276419"
            ]
           ],
           "sequential": [
            [
             0,
             "#0d0887"
            ],
            [
             0.1111111111111111,
             "#46039f"
            ],
            [
             0.2222222222222222,
             "#7201a8"
            ],
            [
             0.3333333333333333,
             "#9c179e"
            ],
            [
             0.4444444444444444,
             "#bd3786"
            ],
            [
             0.5555555555555556,
             "#d8576b"
            ],
            [
             0.6666666666666666,
             "#ed7953"
            ],
            [
             0.7777777777777778,
             "#fb9f3a"
            ],
            [
             0.8888888888888888,
             "#fdca26"
            ],
            [
             1,
             "#f0f921"
            ]
           ],
           "sequentialminus": [
            [
             0,
             "#0d0887"
            ],
            [
             0.1111111111111111,
             "#46039f"
            ],
            [
             0.2222222222222222,
             "#7201a8"
            ],
            [
             0.3333333333333333,
             "#9c179e"
            ],
            [
             0.4444444444444444,
             "#bd3786"
            ],
            [
             0.5555555555555556,
             "#d8576b"
            ],
            [
             0.6666666666666666,
             "#ed7953"
            ],
            [
             0.7777777777777778,
             "#fb9f3a"
            ],
            [
             0.8888888888888888,
             "#fdca26"
            ],
            [
             1,
             "#f0f921"
            ]
           ]
          },
          "colorway": [
           "#636efa",
           "#EF553B",
           "#00cc96",
           "#ab63fa",
           "#FFA15A",
           "#19d3f3",
           "#FF6692",
           "#B6E880",
           "#FF97FF",
           "#FECB52"
          ],
          "font": {
           "color": "#2a3f5f"
          },
          "geo": {
           "bgcolor": "white",
           "lakecolor": "white",
           "landcolor": "#E5ECF6",
           "showlakes": true,
           "showland": true,
           "subunitcolor": "white"
          },
          "hoverlabel": {
           "align": "left"
          },
          "hovermode": "closest",
          "mapbox": {
           "style": "light"
          },
          "paper_bgcolor": "white",
          "plot_bgcolor": "#E5ECF6",
          "polar": {
           "angularaxis": {
            "gridcolor": "white",
            "linecolor": "white",
            "ticks": ""
           },
           "bgcolor": "#E5ECF6",
           "radialaxis": {
            "gridcolor": "white",
            "linecolor": "white",
            "ticks": ""
           }
          },
          "scene": {
           "xaxis": {
            "backgroundcolor": "#E5ECF6",
            "gridcolor": "white",
            "gridwidth": 2,
            "linecolor": "white",
            "showbackground": true,
            "ticks": "",
            "zerolinecolor": "white"
           },
           "yaxis": {
            "backgroundcolor": "#E5ECF6",
            "gridcolor": "white",
            "gridwidth": 2,
            "linecolor": "white",
            "showbackground": true,
            "ticks": "",
            "zerolinecolor": "white"
           },
           "zaxis": {
            "backgroundcolor": "#E5ECF6",
            "gridcolor": "white",
            "gridwidth": 2,
            "linecolor": "white",
            "showbackground": true,
            "ticks": "",
            "zerolinecolor": "white"
           }
          },
          "shapedefaults": {
           "line": {
            "color": "#2a3f5f"
           }
          },
          "ternary": {
           "aaxis": {
            "gridcolor": "white",
            "linecolor": "white",
            "ticks": ""
           },
           "baxis": {
            "gridcolor": "white",
            "linecolor": "white",
            "ticks": ""
           },
           "bgcolor": "#E5ECF6",
           "caxis": {
            "gridcolor": "white",
            "linecolor": "white",
            "ticks": ""
           }
          },
          "title": {
           "x": 0.05
          },
          "xaxis": {
           "automargin": true,
           "gridcolor": "white",
           "linecolor": "white",
           "ticks": "",
           "title": {
            "standoff": 15
           },
           "zerolinecolor": "white",
           "zerolinewidth": 2
          },
          "yaxis": {
           "automargin": true,
           "gridcolor": "white",
           "linecolor": "white",
           "ticks": "",
           "title": {
            "standoff": 15
           },
           "zerolinecolor": "white",
           "zerolinewidth": 2
          }
         }
        },
        "title": {
         "text": "Acceptance Rate by Destination"
        },
        "xaxis": {
         "anchor": "y",
         "autorange": true,
         "categoryarray": [
          "Home",
          "No Urgent Place",
          "Work"
         ],
         "categoryorder": "array",
         "domain": [
          0,
          1
         ],
         "range": [
          -0.5,
          2.5
         ],
         "title": {
          "text": "Destination"
         },
         "type": "category"
        },
        "yaxis": {
         "anchor": "x",
         "autorange": true,
         "domain": [
          0,
          1
         ],
         "range": [
          0,
          62.61009560349378
         ],
         "title": {
          "text": "Acceptance Rate (%)"
         },
         "type": "linear"
        }
       }
      },
      "image/png": "[encoded data removed]",
      "text/html": [
       "<div>                            <div id=\"fe292727-3982-4297-af18-e8abd6d459e9\" class=\"plotly-graph-div\" style=\"height:525px; width:100%;\"></div>            <script type=\"text/javascript\">                require([\"plotly\"], function(Plotly) {                    window.PLOTLYENV=window.PLOTLYENV || {};                                    if (document.getElementById(\"fe292727-3982-4297-af18-e8abd6d459e9\")) {                    Plotly.newPlot(                        \"fe292727-3982-4297-af18-e8abd6d459e9\",                        [{\"alignmentgroup\":\"True\",\"hovertemplate\":\"Destination=%{x}\\u003cbr\\u003eAcceptance Rate (%)=%{y}\\u003cextra\\u003e\\u003c\\u002fextra\\u003e\",\"legendgroup\":\"Home\",\"marker\":{\"color\":\"#636efa\",\"pattern\":{\"shape\":\"\"}},\"name\":\"Home\",\"offsetgroup\":\"Home\",\"orientation\":\"v\",\"showlegend\":true,\"textposition\":\"auto\",\"x\":[\"Home\"],\"xaxis\":\"x\",\"y\":[46.28099173553719],\"yaxis\":\"y\",\"type\":\"bar\"},{\"alignmentgroup\":\"True\",\"hovertemplate\":\"Destination=%{x}\\u003cbr\\u003eAcceptance Rate (%)=%{y}\\u003cextra\\u003e\\u003c\\u002fextra\\u003e\",\"legendgroup\":\"No Urgent Place\",\"marker\":{\"color\":\"#EF553B\",\"pattern\":{\"shape\":\"\"}},\"name\":\"No Urgent Place\",\"offsetgroup\":\"No Urgent Place\",\"orientation\":\"v\",\"showlegend\":true,\"textposition\":\"auto\",\"x\":[\"No Urgent Place\"],\"xaxis\":\"x\",\"y\":[47.046263345195726],\"yaxis\":\"y\",\"type\":\"bar\"},{\"alignmentgroup\":\"True\",\"hovertemplate\":\"Destination=%{x}\\u003cbr\\u003eAcceptance Rate (%)=%{y}\\u003cextra\\u003e\\u003c\\u002fextra\\u003e\",\"legendgroup\":\"Work\",\"marker\":{\"color\":\"#00cc96\",\"pattern\":{\"shape\":\"\"}},\"name\":\"Work\",\"offsetgroup\":\"Work\",\"orientation\":\"v\",\"showlegend\":true,\"textposition\":\"auto\",\"x\":[\"Work\"],\"xaxis\":\"x\",\"y\":[59.47959082331909],\"yaxis\":\"y\",\"type\":\"bar\"}],                        {\"template\":{\"data\":{\"histogram2dcontour\":[{\"type\":\"histogram2dcontour\",\"colorbar\":{\"outlinewidth\":0,\"ticks\":\"\"},\"colorscale\":[[0.0,\"#0d0887\"],[0.1111111111111111,\"#46039f\"],[0.2222222222222222,\"#7201a8\"],[0.3333333333333333,\"#9c179e\"],[0.4444444444444444,\"#bd3786\"],[0.5555555555555556,\"#d8576b\"],[0.6666666666666666,\"#ed7953\"],[0.7777777777777778,\"#fb9f3a\"],[0.8888888888888888,\"#fdca26\"],[1.0,\"#f0f921\"]]}],\"choropleth\":[{\"type\":\"choropleth\",\"colorbar\":{\"outlinewidth\":0,\"ticks\":\"\"}}],\"histogram2d\":[{\"type\":\"histogram2d\",\"colorbar\":{\"outlinewidth\":0,\"ticks\":\"\"},\"colorscale\":[[0.0,\"#0d0887\"],[0.1111111111111111,\"#46039f\"],[0.2222222222222222,\"#7201a8\"],[0.3333333333333333,\"#9c179e\"],[0.4444444444444444,\"#bd3786\"],[0.5555555555555556,\"#d8576b\"],[0.6666666666666666,\"#ed7953\"],[0.7777777777777778,\"#fb9f3a\"],[0.8888888888888888,\"#fdca26\"],[1.0,\"#f0f921\"]]}],\"heatmap\":[{\"type\":\"heatmap\",\"colorbar\":{\"outlinewidth\":0,\"ticks\":\"\"},\"colorscale\":[[0.0,\"#0d0887\"],[0.1111111111111111,\"#46039f\"],[0.2222222222222222,\"#7201a8\"],[0.3333333333333333,\"#9c179e\"],[0.4444444444444444,\"#bd3786\"],[0.5555555555555556,\"#d8576b\"],[0.6666666666666666,\"#ed7953\"],[0.7777777777777778,\"#fb9f3a\"],[0.8888888888888888,\"#fdca26\"],[1.0,\"#f0f921\"]]}],\"heatmapgl\":[{\"type\":\"heatmapgl\",\"colorbar\":{\"outlinewidth\":0,\"ticks\":\"\"},\"colorscale\":[[0.0,\"#0d0887\"],[0.1111111111111111,\"#46039f\"],[0.2222222222222222,\"#7201a8\"],[0.3333333333333333,\"#9c179e\"],[0.4444444444444444,\"#bd3786\"],[0.5555555555555556,\"#d8576b\"],[0.6666666666666666,\"#ed7953\"],[0.7777777777777778,\"#fb9f3a\"],[0.8888888888888888,\"#fdca26\"],[1.0,\"#f0f921\"]]}],\"contourcarpet\":[{\"type\":\"contourcarpet\",\"colorbar\":{\"outlinewidth\":0,\"ticks\":\"\"}}],\"contour\":[{\"type\":\"contour\",\"colorbar\":{\"outlinewidth\":0,\"ticks\":\"\"},\"colorscale\":[[0.0,\"#0d0887\"],[0.1111111111111111,\"#46039f\"],[0.2222222222222222,\"#7201a8\"],[0.3333333333333333,\"#9c179e\"],[0.4444444444444444,\"#bd3786\"],[0.5555555555555556,\"#d8576b\"],[0.6666666666666666,\"#ed7953\"],[0.7777777777777778,\"#fb9f3a\"],[0.8888888888888888,\"#fdca26\"],[1.0,\"#f0f921\"]]}],\"surface\":[{\"type\":\"surface\",\"colorbar\":{\"outlinewidth\":0,\"ticks\":\"\"},\"colorscale\":[[0.0,\"#0d0887\"],[0.1111111111111111,\"#46039f\"],[0.2222222222222222,\"#7201a8\"],[0.3333333333333333,\"#9c179e\"],[0.4444444444444444,\"#bd3786\"],[0.5555555555555556,\"#d8576b\"],[0.6666666666666666,\"#ed7953\"],[0.7777777777777778,\"#fb9f3a\"],[0.8888888888888888,\"#fdca26\"],[1.0,\"#f0f921\"]]}],\"mesh3d\":[{\"type\":\"mesh3d\",\"colorbar\":{\"outlinewidth\":0,\"ticks\":\"\"}}],\"scatter\":[{\"fillpattern\":{\"fillmode\":\"overlay\",\"size\":10,\"solidity\":0.2},\"type\":\"scatter\"}],\"parcoords\":[{\"type\":\"parcoords\",\"line\":{\"colorbar\":{\"outlinewidth\":0,\"ticks\":\"\"}}}],\"scatterpolargl\":[{\"type\":\"scatterpolargl\",\"marker\":{\"colorbar\":{\"outlinewidth\":0,\"ticks\":\"\"}}}],\"bar\":[{\"error_x\":{\"color\":\"#2a3f5f\"},\"error_y\":{\"color\":\"#2a3f5f\"},\"marker\":{\"line\":{\"color\":\"#E5ECF6\",\"width\":0.5},\"pattern\":{\"fillmode\":\"overlay\",\"size\":10,\"solidity\":0.2}},\"type\":\"bar\"}],\"scattergeo\":[{\"type\":\"scattergeo\",\"marker\":{\"colorbar\":{\"outlinewidth\":0,\"ticks\":\"\"}}}],\"scatterpolar\":[{\"type\":\"scatterpolar\",\"marker\":{\"colorbar\":{\"outlinewidth\":0,\"ticks\":\"\"}}}],\"histogram\":[{\"marker\":{\"pattern\":{\"fillmode\":\"overlay\",\"size\":10,\"solidity\":0.2}},\"type\":\"histogram\"}],\"scattergl\":[{\"type\":\"scattergl\",\"marker\":{\"colorbar\":{\"outlinewidth\":0,\"ticks\":\"\"}}}],\"scatter3d\":[{\"type\":\"scatter3d\",\"line\":{\"colorbar\":{\"outlinewidth\":0,\"ticks\":\"\"}},\"marker\":{\"colorbar\":{\"outlinewidth\":0,\"ticks\":\"\"}}}],\"scattermapbox\":[{\"type\":\"scattermapbox\",\"marker\":{\"colorbar\":{\"outlinewidth\":0,\"ticks\":\"\"}}}],\"scatterternary\":[{\"type\":\"scatterternary\",\"marker\":{\"colorbar\":{\"outlinewidth\":0,\"ticks\":\"\"}}}],\"scattercarpet\":[{\"type\":\"scattercarpet\",\"marker\":{\"colorbar\":{\"outlinewidth\":0,\"ticks\":\"\"}}}],\"carpet\":[{\"aaxis\":{\"endlinecolor\":\"#2a3f5f\",\"gridcolor\":\"white\",\"linecolor\":\"white\",\"minorgridcolor\":\"white\",\"startlinecolor\":\"#2a3f5f\"},\"baxis\":{\"endlinecolor\":\"#2a3f5f\",\"gridcolor\":\"white\",\"linecolor\":\"white\",\"minorgridcolor\":\"white\",\"startlinecolor\":\"#2a3f5f\"},\"type\":\"carpet\"}],\"table\":[{\"cells\":{\"fill\":{\"color\":\"#EBF0F8\"},\"line\":{\"color\":\"white\"}},\"header\":{\"fill\":{\"color\":\"#C8D4E3\"},\"line\":{\"color\":\"white\"}},\"type\":\"table\"}],\"barpolar\":[{\"marker\":{\"line\":{\"color\":\"#E5ECF6\",\"width\":0.5},\"pattern\":{\"fillmode\":\"overlay\",\"size\":10,\"solidity\":0.2}},\"type\":\"barpolar\"}],\"pie\":[{\"automargin\":true,\"type\":\"pie\"}]},\"layout\":{\"autotypenumbers\":\"strict\",\"colorway\":[\"#636efa\",\"#EF553B\",\"#00cc96\",\"#ab63fa\",\"#FFA15A\",\"#19d3f3\",\"#FF6692\",\"#B6E880\",\"#FF97FF\",\"#FECB52\"],\"font\":{\"color\":\"#2a3f5f\"},\"hovermode\":\"closest\",\"hoverlabel\":{\"align\":\"left\"},\"paper_bgcolor\":\"white\",\"plot_bgcolor\":\"#E5ECF6\",\"polar\":{\"bgcolor\":\"#E5ECF6\",\"angularaxis\":{\"gridcolor\":\"white\",\"linecolor\":\"white\",\"ticks\":\"\"},\"radialaxis\":{\"gridcolor\":\"white\",\"linecolor\":\"white\",\"ticks\":\"\"}},\"ternary\":{\"bgcolor\":\"#E5ECF6\",\"aaxis\":{\"gridcolor\":\"white\",\"linecolor\":\"white\",\"ticks\":\"\"},\"baxis\":{\"gridcolor\":\"white\",\"linecolor\":\"white\",\"ticks\":\"\"},\"caxis\":{\"gridcolor\":\"white\",\"linecolor\":\"white\",\"ticks\":\"\"}},\"coloraxis\":{\"colorbar\":{\"outlinewidth\":0,\"ticks\":\"\"}},\"colorscale\":{\"sequential\":[[0.0,\"#0d0887\"],[0.1111111111111111,\"#46039f\"],[0.2222222222222222,\"#7201a8\"],[0.3333333333333333,\"#9c179e\"],[0.4444444444444444,\"#bd3786\"],[0.5555555555555556,\"#d8576b\"],[0.6666666666666666,\"#ed7953\"],[0.7777777777777778,\"#fb9f3a\"],[0.8888888888888888,\"#fdca26\"],[1.0,\"#f0f921\"]],\"sequentialminus\":[[0.0,\"#0d0887\"],[0.1111111111111111,\"#46039f\"],[0.2222222222222222,\"#7201a8\"],[0.3333333333333333,\"#9c179e\"],[0.4444444444444444,\"#bd3786\"],[0.5555555555555556,\"#d8576b\"],[0.6666666666666666,\"#ed7953\"],[0.7777777777777778,\"#fb9f3a\"],[0.8888888888888888,\"#fdca26\"],[1.0,\"#f0f921\"]],\"diverging\":[[0,\"#8e0152\"],[0.1,\"#c51b7d\"],[0.2,\"#de77ae\"],[0.3,\"#f1b6da\"],[0.4,\"#fde0ef\"],[0.5,\"#f7f7f7\"],[0.6,\"#e6f5d0\"],[0.7,\"#b8e186\"],[0.8,\"#7fbc41\"],[0.9,\"#4d9221\"],[1,\"#276419\"]]},\"xaxis\":{\"gridcolor\":\"white\",\"linecolor\":\"white\",\"ticks\":\"\",\"title\":{\"standoff\":15},\"zerolinecolor\":\"white\",\"automargin\":true,\"zerolinewidth\":2},\"yaxis\":{\"gridcolor\":\"white\",\"linecolor\":\"white\",\"ticks\":\"\",\"title\":{\"standoff\":15},\"zerolinecolor\":\"white\",\"automargin\":true,\"zerolinewidth\":2},\"scene\":{\"xaxis\":{\"backgroundcolor\":\"#E5ECF6\",\"gridcolor\":\"white\",\"linecolor\":\"white\",\"showbackground\":true,\"ticks\":\"\",\"zerolinecolor\":\"white\",\"gridwidth\":2},\"yaxis\":{\"backgroundcolor\":\"#E5ECF6\",\"gridcolor\":\"white\",\"linecolor\":\"white\",\"showbackground\":true,\"ticks\":\"\",\"zerolinecolor\":\"white\",\"gridwidth\":2},\"zaxis\":{\"backgroundcolor\":\"#E5ECF6\",\"gridcolor\":\"white\",\"linecolor\":\"white\",\"showbackground\":true,\"ticks\":\"\",\"zerolinecolor\":\"white\",\"gridwidth\":2}},\"shapedefaults\":{\"line\":{\"color\":\"#2a3f5f\"}},\"annotationdefaults\":{\"arrowcolor\":\"#2a3f5f\",\"arrowhead\":0,\"arrowwidth\":1},\"geo\":{\"bgcolor\":\"white\",\"landcolor\":\"#E5ECF6\",\"subunitcolor\":\"white\",\"showland\":true,\"showlakes\":true,\"lakecolor\":\"white\"},\"title\":{\"x\":0.05},\"mapbox\":{\"style\":\"light\"}}},\"xaxis\":{\"anchor\":\"y\",\"domain\":[0.0,1.0],\"title\":{\"text\":\"Destination\"},\"categoryorder\":\"array\",\"categoryarray\":[\"Home\",\"No Urgent Place\",\"Work\"]},\"yaxis\":{\"anchor\":\"x\",\"domain\":[0.0,1.0],\"title\":{\"text\":\"Acceptance Rate (%)\"}},\"legend\":{\"title\":{\"text\":\"Destination\"},\"tracegroupgap\":0},\"title\":{\"text\":\"Acceptance Rate by Destination\"},\"barmode\":\"relative\"},                        {\"responsive\": true}                    ).then(function(){\n",
       "                            \n",
       "var gd = document.getElementById('fe292727-3982-4297-af18-e8abd6d459e9');\n",
       "var x = new MutationObserver(function (mutations, observer) {{\n",
       "        var display = window.getComputedStyle(gd).display;\n",
       "        if (!display || display === 'none') {{\n",
       "            console.log([gd, 'removed!']);\n",
       "            Plotly.purge(gd);\n",
       "            observer.disconnect();\n",
       "        }}\n",
       "}});\n",
       "\n",
       "// Listen for the removal of the full notebook cells\n",
       "var notebookContainer = gd.closest('#notebook-container');\n",
       "if (notebookContainer) {{\n",
       "    x.observe(notebookContainer, {childList: true});\n",
       "}}\n",
       "\n",
       "// Listen for the clearing of the current output cell\n",
       "var outputEl = gd.closest('.output');\n",
       "if (outputEl) {{\n",
       "    x.observe(outputEl, {childList: true});\n",
       "}}\n",
       "\n",
       "                        })                };                });            </script>        </div>"
      ]
     },
     "metadata": {},
     "output_type": "display_data"
    }
   ],
   "source": [
    "time_acceptance = data2.groupby('time')['Y'].mean().reset_index()\n",
    "time_acceptance['acceptance_rate'] = time_acceptance['Y'] * 100\n",
    "\n",
    "fig = px.bar(time_acceptance,\n",
    "             x='time',\n",
    "             y='acceptance_rate',\n",
    "             title='Acceptance Rate by Time of Day',\n",
    "             labels={'time': 'Time of Day', 'acceptance_rate': 'Acceptance Rate (%)'},\n",
    "             color='time')\n",
    "fig.show()\n",
    "\n",
    "coupon_acceptance = data.groupby('coupon')['Y'].mean().reset_index()\n",
    "coupon_acceptance['acceptance_rate'] = coupon_acceptance['Y'] * 100\n",
    "\n",
    "fig2 = px.bar(coupon_acceptance,\n",
    "             x='coupon',\n",
    "             y='acceptance_rate',\n",
    "             title='Acceptance Rate by Coupon Type',\n",
    "             labels={'coupon': 'Coupon Type', 'acceptance_rate': 'Acceptance Rate (%)'},\n",
    "             color='coupon')\n",
    "fig2.show()\n",
    "\n",
    "weather_acceptance = data.groupby('weather')['Y'].mean().reset_index()\n",
    "weather_acceptance['acceptance_rate'] = weather_acceptance['Y'] * 100\n",
    "\n",
    "fig3 = px.bar(weather_acceptance,\n",
    "             x='weather',\n",
    "             y='acceptance_rate',\n",
    "             title='Acceptance Rate by Weather',\n",
    "             labels={'weather': 'Weather', 'acceptance_rate': 'Acceptance Rate (%)'},\n",
    "             color='weather')\n",
    "fig3.show()\n",
    "\n",
    "\n",
    "\n",
    "pass_acceptance = data.groupby('passanger')['Y'].mean().reset_index()\n",
    "pass_acceptance['acceptance_rate'] = weather_acceptance['Y'] * 100\n",
    "\n",
    "fig4 = px.bar(pass_acceptance,\n",
    "             x='passanger',\n",
    "             y='acceptance_rate',\n",
    "             title='Acceptance Rate by Passenger',\n",
    "             labels={'passanger': 'Passenger', 'acceptance_rate': 'Acceptance Rate (%)'},\n",
    "             color='passanger')\n",
    "fig4.show()\n",
    "\n",
    "\n",
    "\n",
    "\n",
    "dest_acceptance = data.groupby('destination')['Y'].mean().reset_index()\n",
    "dest_acceptance['acceptance_rate'] = weather_acceptance['Y'] * 100\n",
    "\n",
    "fig5 = px.bar(dest_acceptance,\n",
    "             x='destination',\n",
    "             y='acceptance_rate',\n",
    "             title='Acceptance Rate by Destination',\n",
    "             labels={'destination': 'Destination', 'acceptance_rate': 'Acceptance Rate (%)'},\n",
    "             color='destination')\n",
    "fig5.show()\n",
    "\n",
    "\n"
   ]
  },
  {
   "cell_type": "code",
   "execution_count": 337,
   "metadata": {},
   "outputs": [
    {
     "data": {
      "application/vnd.plotly.v1+json": {
       "config": {
        "plotlyServerURL": "https://plot.ly"
       },
       "data": [
        {
         "alignmentgroup": "True",
         "hovertemplate": "Age=%{x}<br>Acceptance Rate (%)=%{y}<extra></extra>",
         "legendgroup": "21",
         "marker": {
          "color": "#636efa",
          "pattern": {
           "shape": ""
          }
         },
         "name": "21",
         "offsetgroup": "21",
         "orientation": "v",
         "showlegend": true,
         "textposition": "auto",
         "type": "bar",
         "x": [
          "21"
         ],
         "xaxis": "x",
         "y": [
          46.28099173553719
         ],
         "yaxis": "y"
        },
        {
         "alignmentgroup": "True",
         "hovertemplate": "Age=%{x}<br>Acceptance Rate (%)=%{y}<extra></extra>",
         "legendgroup": "26",
         "marker": {
          "color": "#EF553B",
          "pattern": {
           "shape": ""
          }
         },
         "name": "26",
         "offsetgroup": "26",
         "orientation": "v",
         "showlegend": true,
         "textposition": "auto",
         "type": "bar",
         "x": [
          "26"
         ],
         "xaxis": "x",
         "y": [
          47.046263345195726
         ],
         "yaxis": "y"
        },
        {
         "alignmentgroup": "True",
         "hovertemplate": "Age=%{x}<br>Acceptance Rate (%)=%{y}<extra></extra>",
         "legendgroup": "31",
         "marker": {
          "color": "#00cc96",
          "pattern": {
           "shape": ""
          }
         },
         "name": "31",
         "offsetgroup": "31",
         "orientation": "v",
         "showlegend": true,
         "textposition": "auto",
         "type": "bar",
         "x": [
          "31"
         ],
         "xaxis": "x",
         "y": [
          59.47959082331909
         ],
         "yaxis": "y"
        },
        {
         "alignmentgroup": "True",
         "hovertemplate": "Age=%{x}<br>Acceptance Rate (%)=%{y}<extra></extra>",
         "legendgroup": "36",
         "marker": {
          "color": "#ab63fa",
          "pattern": {
           "shape": ""
          }
         },
         "name": "36",
         "offsetgroup": "36",
         "orientation": "v",
         "showlegend": true,
         "textposition": "auto",
         "type": "bar",
         "x": [
          "36"
         ],
         "xaxis": "x",
         "y": [
          null
         ],
         "yaxis": "y"
        },
        {
         "alignmentgroup": "True",
         "hovertemplate": "Age=%{x}<br>Acceptance Rate (%)=%{y}<extra></extra>",
         "legendgroup": "41",
         "marker": {
          "color": "#FFA15A",
          "pattern": {
           "shape": ""
          }
         },
         "name": "41",
         "offsetgroup": "41",
         "orientation": "v",
         "showlegend": true,
         "textposition": "auto",
         "type": "bar",
         "x": [
          "41"
         ],
         "xaxis": "x",
         "y": [
          null
         ],
         "yaxis": "y"
        },
        {
         "alignmentgroup": "True",
         "hovertemplate": "Age=%{x}<br>Acceptance Rate (%)=%{y}<extra></extra>",
         "legendgroup": "46",
         "marker": {
          "color": "#19d3f3",
          "pattern": {
           "shape": ""
          }
         },
         "name": "46",
         "offsetgroup": "46",
         "orientation": "v",
         "showlegend": true,
         "textposition": "auto",
         "type": "bar",
         "x": [
          "46"
         ],
         "xaxis": "x",
         "y": [
          null
         ],
         "yaxis": "y"
        },
        {
         "alignmentgroup": "True",
         "hovertemplate": "Age=%{x}<br>Acceptance Rate (%)=%{y}<extra></extra>",
         "legendgroup": "50plus",
         "marker": {
          "color": "#FF6692",
          "pattern": {
           "shape": ""
          }
         },
         "name": "50plus",
         "offsetgroup": "50plus",
         "orientation": "v",
         "showlegend": true,
         "textposition": "auto",
         "type": "bar",
         "x": [
          "50plus"
         ],
         "xaxis": "x",
         "y": [
          null
         ],
         "yaxis": "y"
        },
        {
         "alignmentgroup": "True",
         "hovertemplate": "Age=%{x}<br>Acceptance Rate (%)=%{y}<extra></extra>",
         "legendgroup": "below21",
         "marker": {
          "color": "#B6E880",
          "pattern": {
           "shape": ""
          }
         },
         "name": "below21",
         "offsetgroup": "below21",
         "orientation": "v",
         "showlegend": true,
         "textposition": "auto",
         "type": "bar",
         "x": [
          "below21"
         ],
         "xaxis": "x",
         "y": [
          null
         ],
         "yaxis": "y"
        }
       ],
       "layout": {
        "autosize": true,
        "barmode": "relative",
        "legend": {
         "title": {
          "text": "Age"
         },
         "tracegroupgap": 0
        },
        "template": {
         "data": {
          "bar": [
           {
            "error_x": {
             "color": "#2a3f5f"
            },
            "error_y": {
             "color": "#2a3f5f"
            },
            "marker": {
             "line": {
              "color": "#E5ECF6",
              "width": 0.5
             },
             "pattern": {
              "fillmode": "overlay",
              "size": 10,
              "solidity": 0.2
             }
            },
            "type": "bar"
           }
          ],
          "barpolar": [
           {
            "marker": {
             "line": {
              "color": "#E5ECF6",
              "width": 0.5
             },
             "pattern": {
              "fillmode": "overlay",
              "size": 10,
              "solidity": 0.2
             }
            },
            "type": "barpolar"
           }
          ],
          "carpet": [
           {
            "aaxis": {
             "endlinecolor": "#2a3f5f",
             "gridcolor": "white",
             "linecolor": "white",
             "minorgridcolor": "white",
             "startlinecolor": "#2a3f5f"
            },
            "baxis": {
             "endlinecolor": "#2a3f5f",
             "gridcolor": "white",
             "linecolor": "white",
             "minorgridcolor": "white",
             "startlinecolor": "#2a3f5f"
            },
            "type": "carpet"
           }
          ],
          "choropleth": [
           {
            "colorbar": {
             "outlinewidth": 0,
             "ticks": ""
            },
            "type": "choropleth"
           }
          ],
          "contour": [
           {
            "colorbar": {
             "outlinewidth": 0,
             "ticks": ""
            },
            "colorscale": [
             [
              0,
              "#0d0887"
             ],
             [
              0.1111111111111111,
              "#46039f"
             ],
             [
              0.2222222222222222,
              "#7201a8"
             ],
             [
              0.3333333333333333,
              "#9c179e"
             ],
             [
              0.4444444444444444,
              "#bd3786"
             ],
             [
              0.5555555555555556,
              "#d8576b"
             ],
             [
              0.6666666666666666,
              "#ed7953"
             ],
             [
              0.7777777777777778,
              "#fb9f3a"
             ],
             [
              0.8888888888888888,
              "#fdca26"
             ],
             [
              1,
              "#f0f921"
             ]
            ],
            "type": "contour"
           }
          ],
          "contourcarpet": [
           {
            "colorbar": {
             "outlinewidth": 0,
             "ticks": ""
            },
            "type": "contourcarpet"
           }
          ],
          "heatmap": [
           {
            "colorbar": {
             "outlinewidth": 0,
             "ticks": ""
            },
            "colorscale": [
             [
              0,
              "#0d0887"
             ],
             [
              0.1111111111111111,
              "#46039f"
             ],
             [
              0.2222222222222222,
              "#7201a8"
             ],
             [
              0.3333333333333333,
              "#9c179e"
             ],
             [
              0.4444444444444444,
              "#bd3786"
             ],
             [
              0.5555555555555556,
              "#d8576b"
             ],
             [
              0.6666666666666666,
              "#ed7953"
             ],
             [
              0.7777777777777778,
              "#fb9f3a"
             ],
             [
              0.8888888888888888,
              "#fdca26"
             ],
             [
              1,
              "#f0f921"
             ]
            ],
            "type": "heatmap"
           }
          ],
          "heatmapgl": [
           {
            "colorbar": {
             "outlinewidth": 0,
             "ticks": ""
            },
            "colorscale": [
             [
              0,
              "#0d0887"
             ],
             [
              0.1111111111111111,
              "#46039f"
             ],
             [
              0.2222222222222222,
              "#7201a8"
             ],
             [
              0.3333333333333333,
              "#9c179e"
             ],
             [
              0.4444444444444444,
              "#bd3786"
             ],
             [
              0.5555555555555556,
              "#d8576b"
             ],
             [
              0.6666666666666666,
              "#ed7953"
             ],
             [
              0.7777777777777778,
              "#fb9f3a"
             ],
             [
              0.8888888888888888,
              "#fdca26"
             ],
             [
              1,
              "#f0f921"
             ]
            ],
            "type": "heatmapgl"
           }
          ],
          "histogram": [
           {
            "marker": {
             "pattern": {
              "fillmode": "overlay",
              "size": 10,
              "solidity": 0.2
             }
            },
            "type": "histogram"
           }
          ],
          "histogram2d": [
           {
            "colorbar": {
             "outlinewidth": 0,
             "ticks": ""
            },
            "colorscale": [
             [
              0,
              "#0d0887"
             ],
             [
              0.1111111111111111,
              "#46039f"
             ],
             [
              0.2222222222222222,
              "#7201a8"
             ],
             [
              0.3333333333333333,
              "#9c179e"
             ],
             [
              0.4444444444444444,
              "#bd3786"
             ],
             [
              0.5555555555555556,
              "#d8576b"
             ],
             [
              0.6666666666666666,
              "#ed7953"
             ],
             [
              0.7777777777777778,
              "#fb9f3a"
             ],
             [
              0.8888888888888888,
              "#fdca26"
             ],
             [
              1,
              "#f0f921"
             ]
            ],
            "type": "histogram2d"
           }
          ],
          "histogram2dcontour": [
           {
            "colorbar": {
             "outlinewidth": 0,
             "ticks": ""
            },
            "colorscale": [
             [
              0,
              "#0d0887"
             ],
             [
              0.1111111111111111,
              "#46039f"
             ],
             [
              0.2222222222222222,
              "#7201a8"
             ],
             [
              0.3333333333333333,
              "#9c179e"
             ],
             [
              0.4444444444444444,
              "#bd3786"
             ],
             [
              0.5555555555555556,
              "#d8576b"
             ],
             [
              0.6666666666666666,
              "#ed7953"
             ],
             [
              0.7777777777777778,
              "#fb9f3a"
             ],
             [
              0.8888888888888888,
              "#fdca26"
             ],
             [
              1,
              "#f0f921"
             ]
            ],
            "type": "histogram2dcontour"
           }
          ],
          "mesh3d": [
           {
            "colorbar": {
             "outlinewidth": 0,
             "ticks": ""
            },
            "type": "mesh3d"
           }
          ],
          "parcoords": [
           {
            "line": {
             "colorbar": {
              "outlinewidth": 0,
              "ticks": ""
             }
            },
            "type": "parcoords"
           }
          ],
          "pie": [
           {
            "automargin": true,
            "type": "pie"
           }
          ],
          "scatter": [
           {
            "fillpattern": {
             "fillmode": "overlay",
             "size": 10,
             "solidity": 0.2
            },
            "type": "scatter"
           }
          ],
          "scatter3d": [
           {
            "line": {
             "colorbar": {
              "outlinewidth": 0,
              "ticks": ""
             }
            },
            "marker": {
             "colorbar": {
              "outlinewidth": 0,
              "ticks": ""
             }
            },
            "type": "scatter3d"
           }
          ],
          "scattercarpet": [
           {
            "marker": {
             "colorbar": {
              "outlinewidth": 0,
              "ticks": ""
             }
            },
            "type": "scattercarpet"
           }
          ],
          "scattergeo": [
           {
            "marker": {
             "colorbar": {
              "outlinewidth": 0,
              "ticks": ""
             }
            },
            "type": "scattergeo"
           }
          ],
          "scattergl": [
           {
            "marker": {
             "colorbar": {
              "outlinewidth": 0,
              "ticks": ""
             }
            },
            "type": "scattergl"
           }
          ],
          "scattermapbox": [
           {
            "marker": {
             "colorbar": {
              "outlinewidth": 0,
              "ticks": ""
             }
            },
            "type": "scattermapbox"
           }
          ],
          "scatterpolar": [
           {
            "marker": {
             "colorbar": {
              "outlinewidth": 0,
              "ticks": ""
             }
            },
            "type": "scatterpolar"
           }
          ],
          "scatterpolargl": [
           {
            "marker": {
             "colorbar": {
              "outlinewidth": 0,
              "ticks": ""
             }
            },
            "type": "scatterpolargl"
           }
          ],
          "scatterternary": [
           {
            "marker": {
             "colorbar": {
              "outlinewidth": 0,
              "ticks": ""
             }
            },
            "type": "scatterternary"
           }
          ],
          "surface": [
           {
            "colorbar": {
             "outlinewidth": 0,
             "ticks": ""
            },
            "colorscale": [
             [
              0,
              "#0d0887"
             ],
             [
              0.1111111111111111,
              "#46039f"
             ],
             [
              0.2222222222222222,
              "#7201a8"
             ],
             [
              0.3333333333333333,
              "#9c179e"
             ],
             [
              0.4444444444444444,
              "#bd3786"
             ],
             [
              0.5555555555555556,
              "#d8576b"
             ],
             [
              0.6666666666666666,
              "#ed7953"
             ],
             [
              0.7777777777777778,
              "#fb9f3a"
             ],
             [
              0.8888888888888888,
              "#fdca26"
             ],
             [
              1,
              "#f0f921"
             ]
            ],
            "type": "surface"
           }
          ],
          "table": [
           {
            "cells": {
             "fill": {
              "color": "#EBF0F8"
             },
             "line": {
              "color": "white"
             }
            },
            "header": {
             "fill": {
              "color": "#C8D4E3"
             },
             "line": {
              "color": "white"
             }
            },
            "type": "table"
           }
          ]
         },
         "layout": {
          "annotationdefaults": {
           "arrowcolor": "#2a3f5f",
           "arrowhead": 0,
           "arrowwidth": 1
          },
          "autotypenumbers": "strict",
          "coloraxis": {
           "colorbar": {
            "outlinewidth": 0,
            "ticks": ""
           }
          },
          "colorscale": {
           "diverging": [
            [
             0,
             "#8e0152"
            ],
            [
             0.1,
             "#c51b7d"
            ],
            [
             0.2,
             "#de77ae"
            ],
            [
             0.3,
             "#f1b6da"
            ],
            [
             0.4,
             "#fde0ef"
            ],
            [
             0.5,
             "#f7f7f7"
            ],
            [
             0.6,
             "#e6f5d0"
            ],
            [
             0.7,
             "#b8e186"
            ],
            [
             0.8,
             "#7fbc41"
            ],
            [
             0.9,
             "#4d9221"
            ],
            [
             1,
             "#276419"
            ]
           ],
           "sequential": [
            [
             0,
             "#0d0887"
            ],
            [
             0.1111111111111111,
             "#46039f"
            ],
            [
             0.2222222222222222,
             "#7201a8"
            ],
            [
             0.3333333333333333,
             "#9c179e"
            ],
            [
             0.4444444444444444,
             "#bd3786"
            ],
            [
             0.5555555555555556,
             "#d8576b"
            ],
            [
             0.6666666666666666,
             "#ed7953"
            ],
            [
             0.7777777777777778,
             "#fb9f3a"
            ],
            [
             0.8888888888888888,
             "#fdca26"
            ],
            [
             1,
             "#f0f921"
            ]
           ],
           "sequentialminus": [
            [
             0,
             "#0d0887"
            ],
            [
             0.1111111111111111,
             "#46039f"
            ],
            [
             0.2222222222222222,
             "#7201a8"
            ],
            [
             0.3333333333333333,
             "#9c179e"
            ],
            [
             0.4444444444444444,
             "#bd3786"
            ],
            [
             0.5555555555555556,
             "#d8576b"
            ],
            [
             0.6666666666666666,
             "#ed7953"
            ],
            [
             0.7777777777777778,
             "#fb9f3a"
            ],
            [
             0.8888888888888888,
             "#fdca26"
            ],
            [
             1,
             "#f0f921"
            ]
           ]
          },
          "colorway": [
           "#636efa",
           "#EF553B",
           "#00cc96",
           "#ab63fa",
           "#FFA15A",
           "#19d3f3",
           "#FF6692",
           "#B6E880",
           "#FF97FF",
           "#FECB52"
          ],
          "font": {
           "color": "#2a3f5f"
          },
          "geo": {
           "bgcolor": "white",
           "lakecolor": "white",
           "landcolor": "#E5ECF6",
           "showlakes": true,
           "showland": true,
           "subunitcolor": "white"
          },
          "hoverlabel": {
           "align": "left"
          },
          "hovermode": "closest",
          "mapbox": {
           "style": "light"
          },
          "paper_bgcolor": "white",
          "plot_bgcolor": "#E5ECF6",
          "polar": {
           "angularaxis": {
            "gridcolor": "white",
            "linecolor": "white",
            "ticks": ""
           },
           "bgcolor": "#E5ECF6",
           "radialaxis": {
            "gridcolor": "white",
            "linecolor": "white",
            "ticks": ""
           }
          },
          "scene": {
           "xaxis": {
            "backgroundcolor": "#E5ECF6",
            "gridcolor": "white",
            "gridwidth": 2,
            "linecolor": "white",
            "showbackground": true,
            "ticks": "",
            "zerolinecolor": "white"
           },
           "yaxis": {
            "backgroundcolor": "#E5ECF6",
            "gridcolor": "white",
            "gridwidth": 2,
            "linecolor": "white",
            "showbackground": true,
            "ticks": "",
            "zerolinecolor": "white"
           },
           "zaxis": {
            "backgroundcolor": "#E5ECF6",
            "gridcolor": "white",
            "gridwidth": 2,
            "linecolor": "white",
            "showbackground": true,
            "ticks": "",
            "zerolinecolor": "white"
           }
          },
          "shapedefaults": {
           "line": {
            "color": "#2a3f5f"
           }
          },
          "ternary": {
           "aaxis": {
            "gridcolor": "white",
            "linecolor": "white",
            "ticks": ""
           },
           "baxis": {
            "gridcolor": "white",
            "linecolor": "white",
            "ticks": ""
           },
           "bgcolor": "#E5ECF6",
           "caxis": {
            "gridcolor": "white",
            "linecolor": "white",
            "ticks": ""
           }
          },
          "title": {
           "x": 0.05
          },
          "xaxis": {
           "automargin": true,
           "gridcolor": "white",
           "linecolor": "white",
           "ticks": "",
           "title": {
            "standoff": 15
           },
           "zerolinecolor": "white",
           "zerolinewidth": 2
          },
          "yaxis": {
           "automargin": true,
           "gridcolor": "white",
           "linecolor": "white",
           "ticks": "",
           "title": {
            "standoff": 15
           },
           "zerolinecolor": "white",
           "zerolinewidth": 2
          }
         }
        },
        "title": {
         "text": "Acceptance Rate by Age"
        },
        "xaxis": {
         "anchor": "y",
         "autorange": true,
         "categoryarray": [
          "21",
          "26",
          "31",
          "36",
          "41",
          "46",
          "50plus",
          "below21"
         ],
         "categoryorder": "array",
         "domain": [
          0,
          1
         ],
         "range": [
          -0.5,
          7.5
         ],
         "title": {
          "text": "Age"
         },
         "type": "category"
        },
        "yaxis": {
         "anchor": "x",
         "autorange": true,
         "domain": [
          0,
          1
         ],
         "range": [
          0,
          62.61009560349378
         ],
         "title": {
          "text": "Acceptance Rate (%)"
         },
         "type": "linear"
        }
       }
      },
      "image/png": "[encoded data removed]",
      "text/html": [
       "<div>                            <div id=\"c4e7368f-b4a4-4e38-a96e-6d11e70f66bf\" class=\"plotly-graph-div\" style=\"height:525px; width:100%;\"></div>            <script type=\"text/javascript\">                require([\"plotly\"], function(Plotly) {                    window.PLOTLYENV=window.PLOTLYENV || {};                                    if (document.getElementById(\"c4e7368f-b4a4-4e38-a96e-6d11e70f66bf\")) {                    Plotly.newPlot(                        \"c4e7368f-b4a4-4e38-a96e-6d11e70f66bf\",                        [{\"alignmentgroup\":\"True\",\"hovertemplate\":\"Age=%{x}\\u003cbr\\u003eAcceptance Rate (%)=%{y}\\u003cextra\\u003e\\u003c\\u002fextra\\u003e\",\"legendgroup\":\"21\",\"marker\":{\"color\":\"#636efa\",\"pattern\":{\"shape\":\"\"}},\"name\":\"21\",\"offsetgroup\":\"21\",\"orientation\":\"v\",\"showlegend\":true,\"textposition\":\"auto\",\"x\":[\"21\"],\"xaxis\":\"x\",\"y\":[46.28099173553719],\"yaxis\":\"y\",\"type\":\"bar\"},{\"alignmentgroup\":\"True\",\"hovertemplate\":\"Age=%{x}\\u003cbr\\u003eAcceptance Rate (%)=%{y}\\u003cextra\\u003e\\u003c\\u002fextra\\u003e\",\"legendgroup\":\"26\",\"marker\":{\"color\":\"#EF553B\",\"pattern\":{\"shape\":\"\"}},\"name\":\"26\",\"offsetgroup\":\"26\",\"orientation\":\"v\",\"showlegend\":true,\"textposition\":\"auto\",\"x\":[\"26\"],\"xaxis\":\"x\",\"y\":[47.046263345195726],\"yaxis\":\"y\",\"type\":\"bar\"},{\"alignmentgroup\":\"True\",\"hovertemplate\":\"Age=%{x}\\u003cbr\\u003eAcceptance Rate (%)=%{y}\\u003cextra\\u003e\\u003c\\u002fextra\\u003e\",\"legendgroup\":\"31\",\"marker\":{\"color\":\"#00cc96\",\"pattern\":{\"shape\":\"\"}},\"name\":\"31\",\"offsetgroup\":\"31\",\"orientation\":\"v\",\"showlegend\":true,\"textposition\":\"auto\",\"x\":[\"31\"],\"xaxis\":\"x\",\"y\":[59.47959082331909],\"yaxis\":\"y\",\"type\":\"bar\"},{\"alignmentgroup\":\"True\",\"hovertemplate\":\"Age=%{x}\\u003cbr\\u003eAcceptance Rate (%)=%{y}\\u003cextra\\u003e\\u003c\\u002fextra\\u003e\",\"legendgroup\":\"36\",\"marker\":{\"color\":\"#ab63fa\",\"pattern\":{\"shape\":\"\"}},\"name\":\"36\",\"offsetgroup\":\"36\",\"orientation\":\"v\",\"showlegend\":true,\"textposition\":\"auto\",\"x\":[\"36\"],\"xaxis\":\"x\",\"y\":[null],\"yaxis\":\"y\",\"type\":\"bar\"},{\"alignmentgroup\":\"True\",\"hovertemplate\":\"Age=%{x}\\u003cbr\\u003eAcceptance Rate (%)=%{y}\\u003cextra\\u003e\\u003c\\u002fextra\\u003e\",\"legendgroup\":\"41\",\"marker\":{\"color\":\"#FFA15A\",\"pattern\":{\"shape\":\"\"}},\"name\":\"41\",\"offsetgroup\":\"41\",\"orientation\":\"v\",\"showlegend\":true,\"textposition\":\"auto\",\"x\":[\"41\"],\"xaxis\":\"x\",\"y\":[null],\"yaxis\":\"y\",\"type\":\"bar\"},{\"alignmentgroup\":\"True\",\"hovertemplate\":\"Age=%{x}\\u003cbr\\u003eAcceptance Rate (%)=%{y}\\u003cextra\\u003e\\u003c\\u002fextra\\u003e\",\"legendgroup\":\"46\",\"marker\":{\"color\":\"#19d3f3\",\"pattern\":{\"shape\":\"\"}},\"name\":\"46\",\"offsetgroup\":\"46\",\"orientation\":\"v\",\"showlegend\":true,\"textposition\":\"auto\",\"x\":[\"46\"],\"xaxis\":\"x\",\"y\":[null],\"yaxis\":\"y\",\"type\":\"bar\"},{\"alignmentgroup\":\"True\",\"hovertemplate\":\"Age=%{x}\\u003cbr\\u003eAcceptance Rate (%)=%{y}\\u003cextra\\u003e\\u003c\\u002fextra\\u003e\",\"legendgroup\":\"50plus\",\"marker\":{\"color\":\"#FF6692\",\"pattern\":{\"shape\":\"\"}},\"name\":\"50plus\",\"offsetgroup\":\"50plus\",\"orientation\":\"v\",\"showlegend\":true,\"textposition\":\"auto\",\"x\":[\"50plus\"],\"xaxis\":\"x\",\"y\":[null],\"yaxis\":\"y\",\"type\":\"bar\"},{\"alignmentgroup\":\"True\",\"hovertemplate\":\"Age=%{x}\\u003cbr\\u003eAcceptance Rate (%)=%{y}\\u003cextra\\u003e\\u003c\\u002fextra\\u003e\",\"legendgroup\":\"below21\",\"marker\":{\"color\":\"#B6E880\",\"pattern\":{\"shape\":\"\"}},\"name\":\"below21\",\"offsetgroup\":\"below21\",\"orientation\":\"v\",\"showlegend\":true,\"textposition\":\"auto\",\"x\":[\"below21\"],\"xaxis\":\"x\",\"y\":[null],\"yaxis\":\"y\",\"type\":\"bar\"}],                        {\"template\":{\"data\":{\"histogram2dcontour\":[{\"type\":\"histogram2dcontour\",\"colorbar\":{\"outlinewidth\":0,\"ticks\":\"\"},\"colorscale\":[[0.0,\"#0d0887\"],[0.1111111111111111,\"#46039f\"],[0.2222222222222222,\"#7201a8\"],[0.3333333333333333,\"#9c179e\"],[0.4444444444444444,\"#bd3786\"],[0.5555555555555556,\"#d8576b\"],[0.6666666666666666,\"#ed7953\"],[0.7777777777777778,\"#fb9f3a\"],[0.8888888888888888,\"#fdca26\"],[1.0,\"#f0f921\"]]}],\"choropleth\":[{\"type\":\"choropleth\",\"colorbar\":{\"outlinewidth\":0,\"ticks\":\"\"}}],\"histogram2d\":[{\"type\":\"histogram2d\",\"colorbar\":{\"outlinewidth\":0,\"ticks\":\"\"},\"colorscale\":[[0.0,\"#0d0887\"],[0.1111111111111111,\"#46039f\"],[0.2222222222222222,\"#7201a8\"],[0.3333333333333333,\"#9c179e\"],[0.4444444444444444,\"#bd3786\"],[0.5555555555555556,\"#d8576b\"],[0.6666666666666666,\"#ed7953\"],[0.7777777777777778,\"#fb9f3a\"],[0.8888888888888888,\"#fdca26\"],[1.0,\"#f0f921\"]]}],\"heatmap\":[{\"type\":\"heatmap\",\"colorbar\":{\"outlinewidth\":0,\"ticks\":\"\"},\"colorscale\":[[0.0,\"#0d0887\"],[0.1111111111111111,\"#46039f\"],[0.2222222222222222,\"#7201a8\"],[0.3333333333333333,\"#9c179e\"],[0.4444444444444444,\"#bd3786\"],[0.5555555555555556,\"#d8576b\"],[0.6666666666666666,\"#ed7953\"],[0.7777777777777778,\"#fb9f3a\"],[0.8888888888888888,\"#fdca26\"],[1.0,\"#f0f921\"]]}],\"heatmapgl\":[{\"type\":\"heatmapgl\",\"colorbar\":{\"outlinewidth\":0,\"ticks\":\"\"},\"colorscale\":[[0.0,\"#0d0887\"],[0.1111111111111111,\"#46039f\"],[0.2222222222222222,\"#7201a8\"],[0.3333333333333333,\"#9c179e\"],[0.4444444444444444,\"#bd3786\"],[0.5555555555555556,\"#d8576b\"],[0.6666666666666666,\"#ed7953\"],[0.7777777777777778,\"#fb9f3a\"],[0.8888888888888888,\"#fdca26\"],[1.0,\"#f0f921\"]]}],\"contourcarpet\":[{\"type\":\"contourcarpet\",\"colorbar\":{\"outlinewidth\":0,\"ticks\":\"\"}}],\"contour\":[{\"type\":\"contour\",\"colorbar\":{\"outlinewidth\":0,\"ticks\":\"\"},\"colorscale\":[[0.0,\"#0d0887\"],[0.1111111111111111,\"#46039f\"],[0.2222222222222222,\"#7201a8\"],[0.3333333333333333,\"#9c179e\"],[0.4444444444444444,\"#bd3786\"],[0.5555555555555556,\"#d8576b\"],[0.6666666666666666,\"#ed7953\"],[0.7777777777777778,\"#fb9f3a\"],[0.8888888888888888,\"#fdca26\"],[1.0,\"#f0f921\"]]}],\"surface\":[{\"type\":\"surface\",\"colorbar\":{\"outlinewidth\":0,\"ticks\":\"\"},\"colorscale\":[[0.0,\"#0d0887\"],[0.1111111111111111,\"#46039f\"],[0.2222222222222222,\"#7201a8\"],[0.3333333333333333,\"#9c179e\"],[0.4444444444444444,\"#bd3786\"],[0.5555555555555556,\"#d8576b\"],[0.6666666666666666,\"#ed7953\"],[0.7777777777777778,\"#fb9f3a\"],[0.8888888888888888,\"#fdca26\"],[1.0,\"#f0f921\"]]}],\"mesh3d\":[{\"type\":\"mesh3d\",\"colorbar\":{\"outlinewidth\":0,\"ticks\":\"\"}}],\"scatter\":[{\"fillpattern\":{\"fillmode\":\"overlay\",\"size\":10,\"solidity\":0.2},\"type\":\"scatter\"}],\"parcoords\":[{\"type\":\"parcoords\",\"line\":{\"colorbar\":{\"outlinewidth\":0,\"ticks\":\"\"}}}],\"scatterpolargl\":[{\"type\":\"scatterpolargl\",\"marker\":{\"colorbar\":{\"outlinewidth\":0,\"ticks\":\"\"}}}],\"bar\":[{\"error_x\":{\"color\":\"#2a3f5f\"},\"error_y\":{\"color\":\"#2a3f5f\"},\"marker\":{\"line\":{\"color\":\"#E5ECF6\",\"width\":0.5},\"pattern\":{\"fillmode\":\"overlay\",\"size\":10,\"solidity\":0.2}},\"type\":\"bar\"}],\"scattergeo\":[{\"type\":\"scattergeo\",\"marker\":{\"colorbar\":{\"outlinewidth\":0,\"ticks\":\"\"}}}],\"scatterpolar\":[{\"type\":\"scatterpolar\",\"marker\":{\"colorbar\":{\"outlinewidth\":0,\"ticks\":\"\"}}}],\"histogram\":[{\"marker\":{\"pattern\":{\"fillmode\":\"overlay\",\"size\":10,\"solidity\":0.2}},\"type\":\"histogram\"}],\"scattergl\":[{\"type\":\"scattergl\",\"marker\":{\"colorbar\":{\"outlinewidth\":0,\"ticks\":\"\"}}}],\"scatter3d\":[{\"type\":\"scatter3d\",\"line\":{\"colorbar\":{\"outlinewidth\":0,\"ticks\":\"\"}},\"marker\":{\"colorbar\":{\"outlinewidth\":0,\"ticks\":\"\"}}}],\"scattermapbox\":[{\"type\":\"scattermapbox\",\"marker\":{\"colorbar\":{\"outlinewidth\":0,\"ticks\":\"\"}}}],\"scatterternary\":[{\"type\":\"scatterternary\",\"marker\":{\"colorbar\":{\"outlinewidth\":0,\"ticks\":\"\"}}}],\"scattercarpet\":[{\"type\":\"scattercarpet\",\"marker\":{\"colorbar\":{\"outlinewidth\":0,\"ticks\":\"\"}}}],\"carpet\":[{\"aaxis\":{\"endlinecolor\":\"#2a3f5f\",\"gridcolor\":\"white\",\"linecolor\":\"white\",\"minorgridcolor\":\"white\",\"startlinecolor\":\"#2a3f5f\"},\"baxis\":{\"endlinecolor\":\"#2a3f5f\",\"gridcolor\":\"white\",\"linecolor\":\"white\",\"minorgridcolor\":\"white\",\"startlinecolor\":\"#2a3f5f\"},\"type\":\"carpet\"}],\"table\":[{\"cells\":{\"fill\":{\"color\":\"#EBF0F8\"},\"line\":{\"color\":\"white\"}},\"header\":{\"fill\":{\"color\":\"#C8D4E3\"},\"line\":{\"color\":\"white\"}},\"type\":\"table\"}],\"barpolar\":[{\"marker\":{\"line\":{\"color\":\"#E5ECF6\",\"width\":0.5},\"pattern\":{\"fillmode\":\"overlay\",\"size\":10,\"solidity\":0.2}},\"type\":\"barpolar\"}],\"pie\":[{\"automargin\":true,\"type\":\"pie\"}]},\"layout\":{\"autotypenumbers\":\"strict\",\"colorway\":[\"#636efa\",\"#EF553B\",\"#00cc96\",\"#ab63fa\",\"#FFA15A\",\"#19d3f3\",\"#FF6692\",\"#B6E880\",\"#FF97FF\",\"#FECB52\"],\"font\":{\"color\":\"#2a3f5f\"},\"hovermode\":\"closest\",\"hoverlabel\":{\"align\":\"left\"},\"paper_bgcolor\":\"white\",\"plot_bgcolor\":\"#E5ECF6\",\"polar\":{\"bgcolor\":\"#E5ECF6\",\"angularaxis\":{\"gridcolor\":\"white\",\"linecolor\":\"white\",\"ticks\":\"\"},\"radialaxis\":{\"gridcolor\":\"white\",\"linecolor\":\"white\",\"ticks\":\"\"}},\"ternary\":{\"bgcolor\":\"#E5ECF6\",\"aaxis\":{\"gridcolor\":\"white\",\"linecolor\":\"white\",\"ticks\":\"\"},\"baxis\":{\"gridcolor\":\"white\",\"linecolor\":\"white\",\"ticks\":\"\"},\"caxis\":{\"gridcolor\":\"white\",\"linecolor\":\"white\",\"ticks\":\"\"}},\"coloraxis\":{\"colorbar\":{\"outlinewidth\":0,\"ticks\":\"\"}},\"colorscale\":{\"sequential\":[[0.0,\"#0d0887\"],[0.1111111111111111,\"#46039f\"],[0.2222222222222222,\"#7201a8\"],[0.3333333333333333,\"#9c179e\"],[0.4444444444444444,\"#bd3786\"],[0.5555555555555556,\"#d8576b\"],[0.6666666666666666,\"#ed7953\"],[0.7777777777777778,\"#fb9f3a\"],[0.8888888888888888,\"#fdca26\"],[1.0,\"#f0f921\"]],\"sequentialminus\":[[0.0,\"#0d0887\"],[0.1111111111111111,\"#46039f\"],[0.2222222222222222,\"#7201a8\"],[0.3333333333333333,\"#9c179e\"],[0.4444444444444444,\"#bd3786\"],[0.5555555555555556,\"#d8576b\"],[0.6666666666666666,\"#ed7953\"],[0.7777777777777778,\"#fb9f3a\"],[0.8888888888888888,\"#fdca26\"],[1.0,\"#f0f921\"]],\"diverging\":[[0,\"#8e0152\"],[0.1,\"#c51b7d\"],[0.2,\"#de77ae\"],[0.3,\"#f1b6da\"],[0.4,\"#fde0ef\"],[0.5,\"#f7f7f7\"],[0.6,\"#e6f5d0\"],[0.7,\"#b8e186\"],[0.8,\"#7fbc41\"],[0.9,\"#4d9221\"],[1,\"#276419\"]]},\"xaxis\":{\"gridcolor\":\"white\",\"linecolor\":\"white\",\"ticks\":\"\",\"title\":{\"standoff\":15},\"zerolinecolor\":\"white\",\"automargin\":true,\"zerolinewidth\":2},\"yaxis\":{\"gridcolor\":\"white\",\"linecolor\":\"white\",\"ticks\":\"\",\"title\":{\"standoff\":15},\"zerolinecolor\":\"white\",\"automargin\":true,\"zerolinewidth\":2},\"scene\":{\"xaxis\":{\"backgroundcolor\":\"#E5ECF6\",\"gridcolor\":\"white\",\"linecolor\":\"white\",\"showbackground\":true,\"ticks\":\"\",\"zerolinecolor\":\"white\",\"gridwidth\":2},\"yaxis\":{\"backgroundcolor\":\"#E5ECF6\",\"gridcolor\":\"white\",\"linecolor\":\"white\",\"showbackground\":true,\"ticks\":\"\",\"zerolinecolor\":\"white\",\"gridwidth\":2},\"zaxis\":{\"backgroundcolor\":\"#E5ECF6\",\"gridcolor\":\"white\",\"linecolor\":\"white\",\"showbackground\":true,\"ticks\":\"\",\"zerolinecolor\":\"white\",\"gridwidth\":2}},\"shapedefaults\":{\"line\":{\"color\":\"#2a3f5f\"}},\"annotationdefaults\":{\"arrowcolor\":\"#2a3f5f\",\"arrowhead\":0,\"arrowwidth\":1},\"geo\":{\"bgcolor\":\"white\",\"landcolor\":\"#E5ECF6\",\"subunitcolor\":\"white\",\"showland\":true,\"showlakes\":true,\"lakecolor\":\"white\"},\"title\":{\"x\":0.05},\"mapbox\":{\"style\":\"light\"}}},\"xaxis\":{\"anchor\":\"y\",\"domain\":[0.0,1.0],\"title\":{\"text\":\"Age\"},\"categoryorder\":\"array\",\"categoryarray\":[\"21\",\"26\",\"31\",\"36\",\"41\",\"46\",\"50plus\",\"below21\"]},\"yaxis\":{\"anchor\":\"x\",\"domain\":[0.0,1.0],\"title\":{\"text\":\"Acceptance Rate (%)\"}},\"legend\":{\"title\":{\"text\":\"Age\"},\"tracegroupgap\":0},\"title\":{\"text\":\"Acceptance Rate by Age\"},\"barmode\":\"relative\"},                        {\"responsive\": true}                    ).then(function(){\n",
       "                            \n",
       "var gd = document.getElementById('c4e7368f-b4a4-4e38-a96e-6d11e70f66bf');\n",
       "var x = new MutationObserver(function (mutations, observer) {{\n",
       "        var display = window.getComputedStyle(gd).display;\n",
       "        if (!display || display === 'none') {{\n",
       "            console.log([gd, 'removed!']);\n",
       "            Plotly.purge(gd);\n",
       "            observer.disconnect();\n",
       "        }}\n",
       "}});\n",
       "\n",
       "// Listen for the removal of the full notebook cells\n",
       "var notebookContainer = gd.closest('#notebook-container');\n",
       "if (notebookContainer) {{\n",
       "    x.observe(notebookContainer, {childList: true});\n",
       "}}\n",
       "\n",
       "// Listen for the clearing of the current output cell\n",
       "var outputEl = gd.closest('.output');\n",
       "if (outputEl) {{\n",
       "    x.observe(outputEl, {childList: true});\n",
       "}}\n",
       "\n",
       "                        })                };                });            </script>        </div>"
      ]
     },
     "metadata": {},
     "output_type": "display_data"
    },
    {
     "data": {
      "application/vnd.plotly.v1+json": {
       "config": {
        "plotlyServerURL": "https://plot.ly"
       },
       "data": [
        {
         "alignmentgroup": "True",
         "hovertemplate": "Expiration=%{x}<br>Acceptance Rate (%)=%{y}<extra></extra>",
         "legendgroup": "1d",
         "marker": {
          "color": "#636efa",
          "pattern": {
           "shape": ""
          }
         },
         "name": "1d",
         "offsetgroup": "1d",
         "orientation": "v",
         "showlegend": true,
         "textposition": "auto",
         "type": "bar",
         "x": [
          "1d"
         ],
         "xaxis": "x",
         "y": [
          46.28099173553719
         ],
         "yaxis": "y"
        },
        {
         "alignmentgroup": "True",
         "hovertemplate": "Expiration=%{x}<br>Acceptance Rate (%)=%{y}<extra></extra>",
         "legendgroup": "2h",
         "marker": {
          "color": "#EF553B",
          "pattern": {
           "shape": ""
          }
         },
         "name": "2h",
         "offsetgroup": "2h",
         "orientation": "v",
         "showlegend": true,
         "textposition": "auto",
         "type": "bar",
         "x": [
          "2h"
         ],
         "xaxis": "x",
         "y": [
          47.046263345195726
         ],
         "yaxis": "y"
        }
       ],
       "layout": {
        "autosize": true,
        "barmode": "relative",
        "legend": {
         "title": {
          "text": "Expiration"
         },
         "tracegroupgap": 0
        },
        "template": {
         "data": {
          "bar": [
           {
            "error_x": {
             "color": "#2a3f5f"
            },
            "error_y": {
             "color": "#2a3f5f"
            },
            "marker": {
             "line": {
              "color": "#E5ECF6",
              "width": 0.5
             },
             "pattern": {
              "fillmode": "overlay",
              "size": 10,
              "solidity": 0.2
             }
            },
            "type": "bar"
           }
          ],
          "barpolar": [
           {
            "marker": {
             "line": {
              "color": "#E5ECF6",
              "width": 0.5
             },
             "pattern": {
              "fillmode": "overlay",
              "size": 10,
              "solidity": 0.2
             }
            },
            "type": "barpolar"
           }
          ],
          "carpet": [
           {
            "aaxis": {
             "endlinecolor": "#2a3f5f",
             "gridcolor": "white",
             "linecolor": "white",
             "minorgridcolor": "white",
             "startlinecolor": "#2a3f5f"
            },
            "baxis": {
             "endlinecolor": "#2a3f5f",
             "gridcolor": "white",
             "linecolor": "white",
             "minorgridcolor": "white",
             "startlinecolor": "#2a3f5f"
            },
            "type": "carpet"
           }
          ],
          "choropleth": [
           {
            "colorbar": {
             "outlinewidth": 0,
             "ticks": ""
            },
            "type": "choropleth"
           }
          ],
          "contour": [
           {
            "colorbar": {
             "outlinewidth": 0,
             "ticks": ""
            },
            "colorscale": [
             [
              0,
              "#0d0887"
             ],
             [
              0.1111111111111111,
              "#46039f"
             ],
             [
              0.2222222222222222,
              "#7201a8"
             ],
             [
              0.3333333333333333,
              "#9c179e"
             ],
             [
              0.4444444444444444,
              "#bd3786"
             ],
             [
              0.5555555555555556,
              "#d8576b"
             ],
             [
              0.6666666666666666,
              "#ed7953"
             ],
             [
              0.7777777777777778,
              "#fb9f3a"
             ],
             [
              0.8888888888888888,
              "#fdca26"
             ],
             [
              1,
              "#f0f921"
             ]
            ],
            "type": "contour"
           }
          ],
          "contourcarpet": [
           {
            "colorbar": {
             "outlinewidth": 0,
             "ticks": ""
            },
            "type": "contourcarpet"
           }
          ],
          "heatmap": [
           {
            "colorbar": {
             "outlinewidth": 0,
             "ticks": ""
            },
            "colorscale": [
             [
              0,
              "#0d0887"
             ],
             [
              0.1111111111111111,
              "#46039f"
             ],
             [
              0.2222222222222222,
              "#7201a8"
             ],
             [
              0.3333333333333333,
              "#9c179e"
             ],
             [
              0.4444444444444444,
              "#bd3786"
             ],
             [
              0.5555555555555556,
              "#d8576b"
             ],
             [
              0.6666666666666666,
              "#ed7953"
             ],
             [
              0.7777777777777778,
              "#fb9f3a"
             ],
             [
              0.8888888888888888,
              "#fdca26"
             ],
             [
              1,
              "#f0f921"
             ]
            ],
            "type": "heatmap"
           }
          ],
          "heatmapgl": [
           {
            "colorbar": {
             "outlinewidth": 0,
             "ticks": ""
            },
            "colorscale": [
             [
              0,
              "#0d0887"
             ],
             [
              0.1111111111111111,
              "#46039f"
             ],
             [
              0.2222222222222222,
              "#7201a8"
             ],
             [
              0.3333333333333333,
              "#9c179e"
             ],
             [
              0.4444444444444444,
              "#bd3786"
             ],
             [
              0.5555555555555556,
              "#d8576b"
             ],
             [
              0.6666666666666666,
              "#ed7953"
             ],
             [
              0.7777777777777778,
              "#fb9f3a"
             ],
             [
              0.8888888888888888,
              "#fdca26"
             ],
             [
              1,
              "#f0f921"
             ]
            ],
            "type": "heatmapgl"
           }
          ],
          "histogram": [
           {
            "marker": {
             "pattern": {
              "fillmode": "overlay",
              "size": 10,
              "solidity": 0.2
             }
            },
            "type": "histogram"
           }
          ],
          "histogram2d": [
           {
            "colorbar": {
             "outlinewidth": 0,
             "ticks": ""
            },
            "colorscale": [
             [
              0,
              "#0d0887"
             ],
             [
              0.1111111111111111,
              "#46039f"
             ],
             [
              0.2222222222222222,
              "#7201a8"
             ],
             [
              0.3333333333333333,
              "#9c179e"
             ],
             [
              0.4444444444444444,
              "#bd3786"
             ],
             [
              0.5555555555555556,
              "#d8576b"
             ],
             [
              0.6666666666666666,
              "#ed7953"
             ],
             [
              0.7777777777777778,
              "#fb9f3a"
             ],
             [
              0.8888888888888888,
              "#fdca26"
             ],
             [
              1,
              "#f0f921"
             ]
            ],
            "type": "histogram2d"
           }
          ],
          "histogram2dcontour": [
           {
            "colorbar": {
             "outlinewidth": 0,
             "ticks": ""
            },
            "colorscale": [
             [
              0,
              "#0d0887"
             ],
             [
              0.1111111111111111,
              "#46039f"
             ],
             [
              0.2222222222222222,
              "#7201a8"
             ],
             [
              0.3333333333333333,
              "#9c179e"
             ],
             [
              0.4444444444444444,
              "#bd3786"
             ],
             [
              0.5555555555555556,
              "#d8576b"
             ],
             [
              0.6666666666666666,
              "#ed7953"
             ],
             [
              0.7777777777777778,
              "#fb9f3a"
             ],
             [
              0.8888888888888888,
              "#fdca26"
             ],
             [
              1,
              "#f0f921"
             ]
            ],
            "type": "histogram2dcontour"
           }
          ],
          "mesh3d": [
           {
            "colorbar": {
             "outlinewidth": 0,
             "ticks": ""
            },
            "type": "mesh3d"
           }
          ],
          "parcoords": [
           {
            "line": {
             "colorbar": {
              "outlinewidth": 0,
              "ticks": ""
             }
            },
            "type": "parcoords"
           }
          ],
          "pie": [
           {
            "automargin": true,
            "type": "pie"
           }
          ],
          "scatter": [
           {
            "fillpattern": {
             "fillmode": "overlay",
             "size": 10,
             "solidity": 0.2
            },
            "type": "scatter"
           }
          ],
          "scatter3d": [
           {
            "line": {
             "colorbar": {
              "outlinewidth": 0,
              "ticks": ""
             }
            },
            "marker": {
             "colorbar": {
              "outlinewidth": 0,
              "ticks": ""
             }
            },
            "type": "scatter3d"
           }
          ],
          "scattercarpet": [
           {
            "marker": {
             "colorbar": {
              "outlinewidth": 0,
              "ticks": ""
             }
            },
            "type": "scattercarpet"
           }
          ],
          "scattergeo": [
           {
            "marker": {
             "colorbar": {
              "outlinewidth": 0,
              "ticks": ""
             }
            },
            "type": "scattergeo"
           }
          ],
          "scattergl": [
           {
            "marker": {
             "colorbar": {
              "outlinewidth": 0,
              "ticks": ""
             }
            },
            "type": "scattergl"
           }
          ],
          "scattermapbox": [
           {
            "marker": {
             "colorbar": {
              "outlinewidth": 0,
              "ticks": ""
             }
            },
            "type": "scattermapbox"
           }
          ],
          "scatterpolar": [
           {
            "marker": {
             "colorbar": {
              "outlinewidth": 0,
              "ticks": ""
             }
            },
            "type": "scatterpolar"
           }
          ],
          "scatterpolargl": [
           {
            "marker": {
             "colorbar": {
              "outlinewidth": 0,
              "ticks": ""
             }
            },
            "type": "scatterpolargl"
           }
          ],
          "scatterternary": [
           {
            "marker": {
             "colorbar": {
              "outlinewidth": 0,
              "ticks": ""
             }
            },
            "type": "scatterternary"
           }
          ],
          "surface": [
           {
            "colorbar": {
             "outlinewidth": 0,
             "ticks": ""
            },
            "colorscale": [
             [
              0,
              "#0d0887"
             ],
             [
              0.1111111111111111,
              "#46039f"
             ],
             [
              0.2222222222222222,
              "#7201a8"
             ],
             [
              0.3333333333333333,
              "#9c179e"
             ],
             [
              0.4444444444444444,
              "#bd3786"
             ],
             [
              0.5555555555555556,
              "#d8576b"
             ],
             [
              0.6666666666666666,
              "#ed7953"
             ],
             [
              0.7777777777777778,
              "#fb9f3a"
             ],
             [
              0.8888888888888888,
              "#fdca26"
             ],
             [
              1,
              "#f0f921"
             ]
            ],
            "type": "surface"
           }
          ],
          "table": [
           {
            "cells": {
             "fill": {
              "color": "#EBF0F8"
             },
             "line": {
              "color": "white"
             }
            },
            "header": {
             "fill": {
              "color": "#C8D4E3"
             },
             "line": {
              "color": "white"
             }
            },
            "type": "table"
           }
          ]
         },
         "layout": {
          "annotationdefaults": {
           "arrowcolor": "#2a3f5f",
           "arrowhead": 0,
           "arrowwidth": 1
          },
          "autotypenumbers": "strict",
          "coloraxis": {
           "colorbar": {
            "outlinewidth": 0,
            "ticks": ""
           }
          },
          "colorscale": {
           "diverging": [
            [
             0,
             "#8e0152"
            ],
            [
             0.1,
             "#c51b7d"
            ],
            [
             0.2,
             "#de77ae"
            ],
            [
             0.3,
             "#f1b6da"
            ],
            [
             0.4,
             "#fde0ef"
            ],
            [
             0.5,
             "#f7f7f7"
            ],
            [
             0.6,
             "#e6f5d0"
            ],
            [
             0.7,
             "#b8e186"
            ],
            [
             0.8,
             "#7fbc41"
            ],
            [
             0.9,
             "#4d9221"
            ],
            [
             1,
             "#276419"
            ]
           ],
           "sequential": [
            [
             0,
             "#0d0887"
            ],
            [
             0.1111111111111111,
             "#46039f"
            ],
            [
             0.2222222222222222,
             "#7201a8"
            ],
            [
             0.3333333333333333,
             "#9c179e"
            ],
            [
             0.4444444444444444,
             "#bd3786"
            ],
            [
             0.5555555555555556,
             "#d8576b"
            ],
            [
             0.6666666666666666,
             "#ed7953"
            ],
            [
             0.7777777777777778,
             "#fb9f3a"
            ],
            [
             0.8888888888888888,
             "#fdca26"
            ],
            [
             1,
             "#f0f921"
            ]
           ],
           "sequentialminus": [
            [
             0,
             "#0d0887"
            ],
            [
             0.1111111111111111,
             "#46039f"
            ],
            [
             0.2222222222222222,
             "#7201a8"
            ],
            [
             0.3333333333333333,
             "#9c179e"
            ],
            [
             0.4444444444444444,
             "#bd3786"
            ],
            [
             0.5555555555555556,
             "#d8576b"
            ],
            [
             0.6666666666666666,
             "#ed7953"
            ],
            [
             0.7777777777777778,
             "#fb9f3a"
            ],
            [
             0.8888888888888888,
             "#fdca26"
            ],
            [
             1,
             "#f0f921"
            ]
           ]
          },
          "colorway": [
           "#636efa",
           "#EF553B",
           "#00cc96",
           "#ab63fa",
           "#FFA15A",
           "#19d3f3",
           "#FF6692",
           "#B6E880",
           "#FF97FF",
           "#FECB52"
          ],
          "font": {
           "color": "#2a3f5f"
          },
          "geo": {
           "bgcolor": "white",
           "lakecolor": "white",
           "landcolor": "#E5ECF6",
           "showlakes": true,
           "showland": true,
           "subunitcolor": "white"
          },
          "hoverlabel": {
           "align": "left"
          },
          "hovermode": "closest",
          "mapbox": {
           "style": "light"
          },
          "paper_bgcolor": "white",
          "plot_bgcolor": "#E5ECF6",
          "polar": {
           "angularaxis": {
            "gridcolor": "white",
            "linecolor": "white",
            "ticks": ""
           },
           "bgcolor": "#E5ECF6",
           "radialaxis": {
            "gridcolor": "white",
            "linecolor": "white",
            "ticks": ""
           }
          },
          "scene": {
           "xaxis": {
            "backgroundcolor": "#E5ECF6",
            "gridcolor": "white",
            "gridwidth": 2,
            "linecolor": "white",
            "showbackground": true,
            "ticks": "",
            "zerolinecolor": "white"
           },
           "yaxis": {
            "backgroundcolor": "#E5ECF6",
            "gridcolor": "white",
            "gridwidth": 2,
            "linecolor": "white",
            "showbackground": true,
            "ticks": "",
            "zerolinecolor": "white"
           },
           "zaxis": {
            "backgroundcolor": "#E5ECF6",
            "gridcolor": "white",
            "gridwidth": 2,
            "linecolor": "white",
            "showbackground": true,
            "ticks": "",
            "zerolinecolor": "white"
           }
          },
          "shapedefaults": {
           "line": {
            "color": "#2a3f5f"
           }
          },
          "ternary": {
           "aaxis": {
            "gridcolor": "white",
            "linecolor": "white",
            "ticks": ""
           },
           "baxis": {
            "gridcolor": "white",
            "linecolor": "white",
            "ticks": ""
           },
           "bgcolor": "#E5ECF6",
           "caxis": {
            "gridcolor": "white",
            "linecolor": "white",
            "ticks": ""
           }
          },
          "title": {
           "x": 0.05
          },
          "xaxis": {
           "automargin": true,
           "gridcolor": "white",
           "linecolor": "white",
           "ticks": "",
           "title": {
            "standoff": 15
           },
           "zerolinecolor": "white",
           "zerolinewidth": 2
          },
          "yaxis": {
           "automargin": true,
           "gridcolor": "white",
           "linecolor": "white",
           "ticks": "",
           "title": {
            "standoff": 15
           },
           "zerolinecolor": "white",
           "zerolinewidth": 2
          }
         }
        },
        "title": {
         "text": "Acceptance Rate by Expiration"
        },
        "xaxis": {
         "anchor": "y",
         "autorange": true,
         "categoryarray": [
          "1d",
          "2h"
         ],
         "categoryorder": "array",
         "domain": [
          0,
          1
         ],
         "range": [
          -0.5,
          1.5
         ],
         "title": {
          "text": "Expiration"
         },
         "type": "category"
        },
        "yaxis": {
         "anchor": "x",
         "autorange": true,
         "domain": [
          0,
          1
         ],
         "range": [
          0,
          49.52238246862708
         ],
         "title": {
          "text": "Acceptance Rate (%)"
         },
         "type": "linear"
        }
       }
      },
      "image/png": "[encoded data removed]",
      "text/html": [
       "<div>                            <div id=\"d1506447-9f9e-4481-a372-24339e72f356\" class=\"plotly-graph-div\" style=\"height:525px; width:100%;\"></div>            <script type=\"text/javascript\">                require([\"plotly\"], function(Plotly) {                    window.PLOTLYENV=window.PLOTLYENV || {};                                    if (document.getElementById(\"d1506447-9f9e-4481-a372-24339e72f356\")) {                    Plotly.newPlot(                        \"d1506447-9f9e-4481-a372-24339e72f356\",                        [{\"alignmentgroup\":\"True\",\"hovertemplate\":\"Expiration=%{x}\\u003cbr\\u003eAcceptance Rate (%)=%{y}\\u003cextra\\u003e\\u003c\\u002fextra\\u003e\",\"legendgroup\":\"1d\",\"marker\":{\"color\":\"#636efa\",\"pattern\":{\"shape\":\"\"}},\"name\":\"1d\",\"offsetgroup\":\"1d\",\"orientation\":\"v\",\"showlegend\":true,\"textposition\":\"auto\",\"x\":[\"1d\"],\"xaxis\":\"x\",\"y\":[46.28099173553719],\"yaxis\":\"y\",\"type\":\"bar\"},{\"alignmentgroup\":\"True\",\"hovertemplate\":\"Expiration=%{x}\\u003cbr\\u003eAcceptance Rate (%)=%{y}\\u003cextra\\u003e\\u003c\\u002fextra\\u003e\",\"legendgroup\":\"2h\",\"marker\":{\"color\":\"#EF553B\",\"pattern\":{\"shape\":\"\"}},\"name\":\"2h\",\"offsetgroup\":\"2h\",\"orientation\":\"v\",\"showlegend\":true,\"textposition\":\"auto\",\"x\":[\"2h\"],\"xaxis\":\"x\",\"y\":[47.046263345195726],\"yaxis\":\"y\",\"type\":\"bar\"}],                        {\"template\":{\"data\":{\"histogram2dcontour\":[{\"type\":\"histogram2dcontour\",\"colorbar\":{\"outlinewidth\":0,\"ticks\":\"\"},\"colorscale\":[[0.0,\"#0d0887\"],[0.1111111111111111,\"#46039f\"],[0.2222222222222222,\"#7201a8\"],[0.3333333333333333,\"#9c179e\"],[0.4444444444444444,\"#bd3786\"],[0.5555555555555556,\"#d8576b\"],[0.6666666666666666,\"#ed7953\"],[0.7777777777777778,\"#fb9f3a\"],[0.8888888888888888,\"#fdca26\"],[1.0,\"#f0f921\"]]}],\"choropleth\":[{\"type\":\"choropleth\",\"colorbar\":{\"outlinewidth\":0,\"ticks\":\"\"}}],\"histogram2d\":[{\"type\":\"histogram2d\",\"colorbar\":{\"outlinewidth\":0,\"ticks\":\"\"},\"colorscale\":[[0.0,\"#0d0887\"],[0.1111111111111111,\"#46039f\"],[0.2222222222222222,\"#7201a8\"],[0.3333333333333333,\"#9c179e\"],[0.4444444444444444,\"#bd3786\"],[0.5555555555555556,\"#d8576b\"],[0.6666666666666666,\"#ed7953\"],[0.7777777777777778,\"#fb9f3a\"],[0.8888888888888888,\"#fdca26\"],[1.0,\"#f0f921\"]]}],\"heatmap\":[{\"type\":\"heatmap\",\"colorbar\":{\"outlinewidth\":0,\"ticks\":\"\"},\"colorscale\":[[0.0,\"#0d0887\"],[0.1111111111111111,\"#46039f\"],[0.2222222222222222,\"#7201a8\"],[0.3333333333333333,\"#9c179e\"],[0.4444444444444444,\"#bd3786\"],[0.5555555555555556,\"#d8576b\"],[0.6666666666666666,\"#ed7953\"],[0.7777777777777778,\"#fb9f3a\"],[0.8888888888888888,\"#fdca26\"],[1.0,\"#f0f921\"]]}],\"heatmapgl\":[{\"type\":\"heatmapgl\",\"colorbar\":{\"outlinewidth\":0,\"ticks\":\"\"},\"colorscale\":[[0.0,\"#0d0887\"],[0.1111111111111111,\"#46039f\"],[0.2222222222222222,\"#7201a8\"],[0.3333333333333333,\"#9c179e\"],[0.4444444444444444,\"#bd3786\"],[0.5555555555555556,\"#d8576b\"],[0.6666666666666666,\"#ed7953\"],[0.7777777777777778,\"#fb9f3a\"],[0.8888888888888888,\"#fdca26\"],[1.0,\"#f0f921\"]]}],\"contourcarpet\":[{\"type\":\"contourcarpet\",\"colorbar\":{\"outlinewidth\":0,\"ticks\":\"\"}}],\"contour\":[{\"type\":\"contour\",\"colorbar\":{\"outlinewidth\":0,\"ticks\":\"\"},\"colorscale\":[[0.0,\"#0d0887\"],[0.1111111111111111,\"#46039f\"],[0.2222222222222222,\"#7201a8\"],[0.3333333333333333,\"#9c179e\"],[0.4444444444444444,\"#bd3786\"],[0.5555555555555556,\"#d8576b\"],[0.6666666666666666,\"#ed7953\"],[0.7777777777777778,\"#fb9f3a\"],[0.8888888888888888,\"#fdca26\"],[1.0,\"#f0f921\"]]}],\"surface\":[{\"type\":\"surface\",\"colorbar\":{\"outlinewidth\":0,\"ticks\":\"\"},\"colorscale\":[[0.0,\"#0d0887\"],[0.1111111111111111,\"#46039f\"],[0.2222222222222222,\"#7201a8\"],[0.3333333333333333,\"#9c179e\"],[0.4444444444444444,\"#bd3786\"],[0.5555555555555556,\"#d8576b\"],[0.6666666666666666,\"#ed7953\"],[0.7777777777777778,\"#fb9f3a\"],[0.8888888888888888,\"#fdca26\"],[1.0,\"#f0f921\"]]}],\"mesh3d\":[{\"type\":\"mesh3d\",\"colorbar\":{\"outlinewidth\":0,\"ticks\":\"\"}}],\"scatter\":[{\"fillpattern\":{\"fillmode\":\"overlay\",\"size\":10,\"solidity\":0.2},\"type\":\"scatter\"}],\"parcoords\":[{\"type\":\"parcoords\",\"line\":{\"colorbar\":{\"outlinewidth\":0,\"ticks\":\"\"}}}],\"scatterpolargl\":[{\"type\":\"scatterpolargl\",\"marker\":{\"colorbar\":{\"outlinewidth\":0,\"ticks\":\"\"}}}],\"bar\":[{\"error_x\":{\"color\":\"#2a3f5f\"},\"error_y\":{\"color\":\"#2a3f5f\"},\"marker\":{\"line\":{\"color\":\"#E5ECF6\",\"width\":0.5},\"pattern\":{\"fillmode\":\"overlay\",\"size\":10,\"solidity\":0.2}},\"type\":\"bar\"}],\"scattergeo\":[{\"type\":\"scattergeo\",\"marker\":{\"colorbar\":{\"outlinewidth\":0,\"ticks\":\"\"}}}],\"scatterpolar\":[{\"type\":\"scatterpolar\",\"marker\":{\"colorbar\":{\"outlinewidth\":0,\"ticks\":\"\"}}}],\"histogram\":[{\"marker\":{\"pattern\":{\"fillmode\":\"overlay\",\"size\":10,\"solidity\":0.2}},\"type\":\"histogram\"}],\"scattergl\":[{\"type\":\"scattergl\",\"marker\":{\"colorbar\":{\"outlinewidth\":0,\"ticks\":\"\"}}}],\"scatter3d\":[{\"type\":\"scatter3d\",\"line\":{\"colorbar\":{\"outlinewidth\":0,\"ticks\":\"\"}},\"marker\":{\"colorbar\":{\"outlinewidth\":0,\"ticks\":\"\"}}}],\"scattermapbox\":[{\"type\":\"scattermapbox\",\"marker\":{\"colorbar\":{\"outlinewidth\":0,\"ticks\":\"\"}}}],\"scatterternary\":[{\"type\":\"scatterternary\",\"marker\":{\"colorbar\":{\"outlinewidth\":0,\"ticks\":\"\"}}}],\"scattercarpet\":[{\"type\":\"scattercarpet\",\"marker\":{\"colorbar\":{\"outlinewidth\":0,\"ticks\":\"\"}}}],\"carpet\":[{\"aaxis\":{\"endlinecolor\":\"#2a3f5f\",\"gridcolor\":\"white\",\"linecolor\":\"white\",\"minorgridcolor\":\"white\",\"startlinecolor\":\"#2a3f5f\"},\"baxis\":{\"endlinecolor\":\"#2a3f5f\",\"gridcolor\":\"white\",\"linecolor\":\"white\",\"minorgridcolor\":\"white\",\"startlinecolor\":\"#2a3f5f\"},\"type\":\"carpet\"}],\"table\":[{\"cells\":{\"fill\":{\"color\":\"#EBF0F8\"},\"line\":{\"color\":\"white\"}},\"header\":{\"fill\":{\"color\":\"#C8D4E3\"},\"line\":{\"color\":\"white\"}},\"type\":\"table\"}],\"barpolar\":[{\"marker\":{\"line\":{\"color\":\"#E5ECF6\",\"width\":0.5},\"pattern\":{\"fillmode\":\"overlay\",\"size\":10,\"solidity\":0.2}},\"type\":\"barpolar\"}],\"pie\":[{\"automargin\":true,\"type\":\"pie\"}]},\"layout\":{\"autotypenumbers\":\"strict\",\"colorway\":[\"#636efa\",\"#EF553B\",\"#00cc96\",\"#ab63fa\",\"#FFA15A\",\"#19d3f3\",\"#FF6692\",\"#B6E880\",\"#FF97FF\",\"#FECB52\"],\"font\":{\"color\":\"#2a3f5f\"},\"hovermode\":\"closest\",\"hoverlabel\":{\"align\":\"left\"},\"paper_bgcolor\":\"white\",\"plot_bgcolor\":\"#E5ECF6\",\"polar\":{\"bgcolor\":\"#E5ECF6\",\"angularaxis\":{\"gridcolor\":\"white\",\"linecolor\":\"white\",\"ticks\":\"\"},\"radialaxis\":{\"gridcolor\":\"white\",\"linecolor\":\"white\",\"ticks\":\"\"}},\"ternary\":{\"bgcolor\":\"#E5ECF6\",\"aaxis\":{\"gridcolor\":\"white\",\"linecolor\":\"white\",\"ticks\":\"\"},\"baxis\":{\"gridcolor\":\"white\",\"linecolor\":\"white\",\"ticks\":\"\"},\"caxis\":{\"gridcolor\":\"white\",\"linecolor\":\"white\",\"ticks\":\"\"}},\"coloraxis\":{\"colorbar\":{\"outlinewidth\":0,\"ticks\":\"\"}},\"colorscale\":{\"sequential\":[[0.0,\"#0d0887\"],[0.1111111111111111,\"#46039f\"],[0.2222222222222222,\"#7201a8\"],[0.3333333333333333,\"#9c179e\"],[0.4444444444444444,\"#bd3786\"],[0.5555555555555556,\"#d8576b\"],[0.6666666666666666,\"#ed7953\"],[0.7777777777777778,\"#fb9f3a\"],[0.8888888888888888,\"#fdca26\"],[1.0,\"#f0f921\"]],\"sequentialminus\":[[0.0,\"#0d0887\"],[0.1111111111111111,\"#46039f\"],[0.2222222222222222,\"#7201a8\"],[0.3333333333333333,\"#9c179e\"],[0.4444444444444444,\"#bd3786\"],[0.5555555555555556,\"#d8576b\"],[0.6666666666666666,\"#ed7953\"],[0.7777777777777778,\"#fb9f3a\"],[0.8888888888888888,\"#fdca26\"],[1.0,\"#f0f921\"]],\"diverging\":[[0,\"#8e0152\"],[0.1,\"#c51b7d\"],[0.2,\"#de77ae\"],[0.3,\"#f1b6da\"],[0.4,\"#fde0ef\"],[0.5,\"#f7f7f7\"],[0.6,\"#e6f5d0\"],[0.7,\"#b8e186\"],[0.8,\"#7fbc41\"],[0.9,\"#4d9221\"],[1,\"#276419\"]]},\"xaxis\":{\"gridcolor\":\"white\",\"linecolor\":\"white\",\"ticks\":\"\",\"title\":{\"standoff\":15},\"zerolinecolor\":\"white\",\"automargin\":true,\"zerolinewidth\":2},\"yaxis\":{\"gridcolor\":\"white\",\"linecolor\":\"white\",\"ticks\":\"\",\"title\":{\"standoff\":15},\"zerolinecolor\":\"white\",\"automargin\":true,\"zerolinewidth\":2},\"scene\":{\"xaxis\":{\"backgroundcolor\":\"#E5ECF6\",\"gridcolor\":\"white\",\"linecolor\":\"white\",\"showbackground\":true,\"ticks\":\"\",\"zerolinecolor\":\"white\",\"gridwidth\":2},\"yaxis\":{\"backgroundcolor\":\"#E5ECF6\",\"gridcolor\":\"white\",\"linecolor\":\"white\",\"showbackground\":true,\"ticks\":\"\",\"zerolinecolor\":\"white\",\"gridwidth\":2},\"zaxis\":{\"backgroundcolor\":\"#E5ECF6\",\"gridcolor\":\"white\",\"linecolor\":\"white\",\"showbackground\":true,\"ticks\":\"\",\"zerolinecolor\":\"white\",\"gridwidth\":2}},\"shapedefaults\":{\"line\":{\"color\":\"#2a3f5f\"}},\"annotationdefaults\":{\"arrowcolor\":\"#2a3f5f\",\"arrowhead\":0,\"arrowwidth\":1},\"geo\":{\"bgcolor\":\"white\",\"landcolor\":\"#E5ECF6\",\"subunitcolor\":\"white\",\"showland\":true,\"showlakes\":true,\"lakecolor\":\"white\"},\"title\":{\"x\":0.05},\"mapbox\":{\"style\":\"light\"}}},\"xaxis\":{\"anchor\":\"y\",\"domain\":[0.0,1.0],\"title\":{\"text\":\"Expiration\"},\"categoryorder\":\"array\",\"categoryarray\":[\"1d\",\"2h\"]},\"yaxis\":{\"anchor\":\"x\",\"domain\":[0.0,1.0],\"title\":{\"text\":\"Acceptance Rate (%)\"}},\"legend\":{\"title\":{\"text\":\"Expiration\"},\"tracegroupgap\":0},\"title\":{\"text\":\"Acceptance Rate by Expiration\"},\"barmode\":\"relative\"},                        {\"responsive\": true}                    ).then(function(){\n",
       "                            \n",
       "var gd = document.getElementById('d1506447-9f9e-4481-a372-24339e72f356');\n",
       "var x = new MutationObserver(function (mutations, observer) {{\n",
       "        var display = window.getComputedStyle(gd).display;\n",
       "        if (!display || display === 'none') {{\n",
       "            console.log([gd, 'removed!']);\n",
       "            Plotly.purge(gd);\n",
       "            observer.disconnect();\n",
       "        }}\n",
       "}});\n",
       "\n",
       "// Listen for the removal of the full notebook cells\n",
       "var notebookContainer = gd.closest('#notebook-container');\n",
       "if (notebookContainer) {{\n",
       "    x.observe(notebookContainer, {childList: true});\n",
       "}}\n",
       "\n",
       "// Listen for the clearing of the current output cell\n",
       "var outputEl = gd.closest('.output');\n",
       "if (outputEl) {{\n",
       "    x.observe(outputEl, {childList: true});\n",
       "}}\n",
       "\n",
       "                        })                };                });            </script>        </div>"
      ]
     },
     "metadata": {},
     "output_type": "display_data"
    }
   ],
   "source": [
    "age_acceptance = data.groupby('age')['Y'].mean().reset_index()\n",
    "age_acceptance['acceptance_rate'] = weather_acceptance['Y'] * 100\n",
    "\n",
    "fig6 = px.bar(age_acceptance,\n",
    "             x='age',\n",
    "             y='acceptance_rate',\n",
    "             title='Acceptance Rate by Age',\n",
    "             labels={'age': 'Age', 'acceptance_rate': 'Acceptance Rate (%)'},\n",
    "             color='age')\n",
    "fig6.show()\n",
    "\n",
    "\n",
    "exp_acceptance = data.groupby('expiration')['Y'].mean().reset_index()\n",
    "exp_acceptance['acceptance_rate'] = weather_acceptance['Y'] * 100\n",
    "\n",
    "fig7 = px.bar(exp_acceptance,\n",
    "             x='expiration',\n",
    "             y='acceptance_rate',\n",
    "             title='Acceptance Rate by Expiration',\n",
    "             labels={'expiration': 'Expiration', 'acceptance_rate': 'Acceptance Rate (%)'},\n",
    "             color='expiration')\n",
    "fig7.show()"
   ]
  },
  {
   "cell_type": "code",
   "execution_count": 339,
   "metadata": {
    "id": "fTC2WGE3_qRL"
   },
   "outputs": [
    {
     "data": {
      "application/vnd.plotly.v1+json": {
       "config": {
        "plotlyServerURL": "https://plot.ly"
       },
       "data": [
        {
         "alignmentgroup": "True",
         "hovertemplate": "Time of Day=7AM<br>Coupon Type=%{x}<br>Acceptance Rate (%)=%{y}<extra></extra>",
         "legendgroup": "7AM",
         "marker": {
          "color": "#636efa",
          "pattern": {
           "shape": ""
          }
         },
         "name": "7AM",
         "offsetgroup": "7AM",
         "orientation": "v",
         "showlegend": true,
         "textposition": "auto",
         "type": "bar",
         "x": [
          "Bar",
          "Carry out & Take away",
          "Coffee House",
          "Restaurant(20-50)",
          "Restaurant(<20)"
         ],
         "xaxis": "x",
         "y": [
          36.55030800821355,
          65.48556430446195,
          44.57831325301205,
          39.86013986013986,
          58.289703315881326
         ],
         "yaxis": "y"
        },
        {
         "alignmentgroup": "True",
         "hovertemplate": "Time of Day=10AM<br>Coupon Type=%{x}<br>Acceptance Rate (%)=%{y}<extra></extra>",
         "legendgroup": "10AM",
         "marker": {
          "color": "#EF553B",
          "pattern": {
           "shape": ""
          }
         },
         "name": "10AM",
         "offsetgroup": "10AM",
         "orientation": "v",
         "showlegend": true,
         "textposition": "auto",
         "type": "bar",
         "x": [
          "Bar",
          "Carry out & Take away",
          "Coffee House",
          "Restaurant(20-50)",
          "Restaurant(<20)"
         ],
         "xaxis": "x",
         "y": [
          36.26126126126126,
          70.2127659574468,
          64.07119021134594,
          61.60714285714286,
          70.95709570957096
         ],
         "yaxis": "y"
        },
        {
         "alignmentgroup": "True",
         "hovertemplate": "Time of Day=2PM<br>Coupon Type=%{x}<br>Acceptance Rate (%)=%{y}<extra></extra>",
         "legendgroup": "2PM",
         "marker": {
          "color": "#00cc96",
          "pattern": {
           "shape": ""
          }
         },
         "name": "2PM",
         "offsetgroup": "2PM",
         "orientation": "v",
         "showlegend": true,
         "textposition": "auto",
         "type": "bar",
         "x": [
          "Bar",
          "Carry out & Take away",
          "Coffee House",
          "Restaurant(20-50)",
          "Restaurant(<20)"
         ],
         "xaxis": "x",
         "y": [
          33.89830508474576,
          86.69724770642202,
          54.78589420654912,
          53.84615384615385,
          81.34863701578192
         ],
         "yaxis": "y"
        },
        {
         "alignmentgroup": "True",
         "hovertemplate": "Time of Day=6PM<br>Coupon Type=%{x}<br>Acceptance Rate (%)=%{y}<extra></extra>",
         "legendgroup": "6PM",
         "marker": {
          "color": "#ab63fa",
          "pattern": {
           "shape": ""
          }
         },
         "name": "6PM",
         "offsetgroup": "6PM",
         "orientation": "v",
         "showlegend": true,
         "textposition": "auto",
         "type": "bar",
         "x": [
          "Bar",
          "Carry out & Take away",
          "Coffee House",
          "Restaurant(20-50)",
          "Restaurant(<20)"
         ],
         "xaxis": "x",
         "y": [
          46.64310954063604,
          82.5287356321839,
          41.26258005489479,
          50.25773195876289,
          82.75401069518716
         ],
         "yaxis": "y"
        },
        {
         "alignmentgroup": "True",
         "hovertemplate": "Time of Day=10PM<br>Coupon Type=%{x}<br>Acceptance Rate (%)=%{y}<extra></extra>",
         "legendgroup": "10PM",
         "marker": {
          "color": "#FFA15A",
          "pattern": {
           "shape": ""
          }
         },
         "name": "10PM",
         "offsetgroup": "10PM",
         "orientation": "v",
         "showlegend": true,
         "textposition": "auto",
         "type": "bar",
         "x": [
          "Bar",
          "Carry out & Take away",
          "Coffee House",
          "Restaurant(20-50)",
          "Restaurant(<20)"
         ],
         "xaxis": "x",
         "y": [
          45.77114427860697,
          75.92190889370933,
          42.42424242424242,
          32.808398950131235,
          50.53763440860215
         ],
         "yaxis": "y"
        }
       ],
       "layout": {
        "autosize": true,
        "barmode": "group",
        "legend": {
         "title": {
          "text": "Time of Day"
         },
         "tracegroupgap": 0
        },
        "template": {
         "data": {
          "bar": [
           {
            "error_x": {
             "color": "#2a3f5f"
            },
            "error_y": {
             "color": "#2a3f5f"
            },
            "marker": {
             "line": {
              "color": "#E5ECF6",
              "width": 0.5
             },
             "pattern": {
              "fillmode": "overlay",
              "size": 10,
              "solidity": 0.2
             }
            },
            "type": "bar"
           }
          ],
          "barpolar": [
           {
            "marker": {
             "line": {
              "color": "#E5ECF6",
              "width": 0.5
             },
             "pattern": {
              "fillmode": "overlay",
              "size": 10,
              "solidity": 0.2
             }
            },
            "type": "barpolar"
           }
          ],
          "carpet": [
           {
            "aaxis": {
             "endlinecolor": "#2a3f5f",
             "gridcolor": "white",
             "linecolor": "white",
             "minorgridcolor": "white",
             "startlinecolor": "#2a3f5f"
            },
            "baxis": {
             "endlinecolor": "#2a3f5f",
             "gridcolor": "white",
             "linecolor": "white",
             "minorgridcolor": "white",
             "startlinecolor": "#2a3f5f"
            },
            "type": "carpet"
           }
          ],
          "choropleth": [
           {
            "colorbar": {
             "outlinewidth": 0,
             "ticks": ""
            },
            "type": "choropleth"
           }
          ],
          "contour": [
           {
            "colorbar": {
             "outlinewidth": 0,
             "ticks": ""
            },
            "colorscale": [
             [
              0,
              "#0d0887"
             ],
             [
              0.1111111111111111,
              "#46039f"
             ],
             [
              0.2222222222222222,
              "#7201a8"
             ],
             [
              0.3333333333333333,
              "#9c179e"
             ],
             [
              0.4444444444444444,
              "#bd3786"
             ],
             [
              0.5555555555555556,
              "#d8576b"
             ],
             [
              0.6666666666666666,
              "#ed7953"
             ],
             [
              0.7777777777777778,
              "#fb9f3a"
             ],
             [
              0.8888888888888888,
              "#fdca26"
             ],
             [
              1,
              "#f0f921"
             ]
            ],
            "type": "contour"
           }
          ],
          "contourcarpet": [
           {
            "colorbar": {
             "outlinewidth": 0,
             "ticks": ""
            },
            "type": "contourcarpet"
           }
          ],
          "heatmap": [
           {
            "colorbar": {
             "outlinewidth": 0,
             "ticks": ""
            },
            "colorscale": [
             [
              0,
              "#0d0887"
             ],
             [
              0.1111111111111111,
              "#46039f"
             ],
             [
              0.2222222222222222,
              "#7201a8"
             ],
             [
              0.3333333333333333,
              "#9c179e"
             ],
             [
              0.4444444444444444,
              "#bd3786"
             ],
             [
              0.5555555555555556,
              "#d8576b"
             ],
             [
              0.6666666666666666,
              "#ed7953"
             ],
             [
              0.7777777777777778,
              "#fb9f3a"
             ],
             [
              0.8888888888888888,
              "#fdca26"
             ],
             [
              1,
              "#f0f921"
             ]
            ],
            "type": "heatmap"
           }
          ],
          "heatmapgl": [
           {
            "colorbar": {
             "outlinewidth": 0,
             "ticks": ""
            },
            "colorscale": [
             [
              0,
              "#0d0887"
             ],
             [
              0.1111111111111111,
              "#46039f"
             ],
             [
              0.2222222222222222,
              "#7201a8"
             ],
             [
              0.3333333333333333,
              "#9c179e"
             ],
             [
              0.4444444444444444,
              "#bd3786"
             ],
             [
              0.5555555555555556,
              "#d8576b"
             ],
             [
              0.6666666666666666,
              "#ed7953"
             ],
             [
              0.7777777777777778,
              "#fb9f3a"
             ],
             [
              0.8888888888888888,
              "#fdca26"
             ],
             [
              1,
              "#f0f921"
             ]
            ],
            "type": "heatmapgl"
           }
          ],
          "histogram": [
           {
            "marker": {
             "pattern": {
              "fillmode": "overlay",
              "size": 10,
              "solidity": 0.2
             }
            },
            "type": "histogram"
           }
          ],
          "histogram2d": [
           {
            "colorbar": {
             "outlinewidth": 0,
             "ticks": ""
            },
            "colorscale": [
             [
              0,
              "#0d0887"
             ],
             [
              0.1111111111111111,
              "#46039f"
             ],
             [
              0.2222222222222222,
              "#7201a8"
             ],
             [
              0.3333333333333333,
              "#9c179e"
             ],
             [
              0.4444444444444444,
              "#bd3786"
             ],
             [
              0.5555555555555556,
              "#d8576b"
             ],
             [
              0.6666666666666666,
              "#ed7953"
             ],
             [
              0.7777777777777778,
              "#fb9f3a"
             ],
             [
              0.8888888888888888,
              "#fdca26"
             ],
             [
              1,
              "#f0f921"
             ]
            ],
            "type": "histogram2d"
           }
          ],
          "histogram2dcontour": [
           {
            "colorbar": {
             "outlinewidth": 0,
             "ticks": ""
            },
            "colorscale": [
             [
              0,
              "#0d0887"
             ],
             [
              0.1111111111111111,
              "#46039f"
             ],
             [
              0.2222222222222222,
              "#7201a8"
             ],
             [
              0.3333333333333333,
              "#9c179e"
             ],
             [
              0.4444444444444444,
              "#bd3786"
             ],
             [
              0.5555555555555556,
              "#d8576b"
             ],
             [
              0.6666666666666666,
              "#ed7953"
             ],
             [
              0.7777777777777778,
              "#fb9f3a"
             ],
             [
              0.8888888888888888,
              "#fdca26"
             ],
             [
              1,
              "#f0f921"
             ]
            ],
            "type": "histogram2dcontour"
           }
          ],
          "mesh3d": [
           {
            "colorbar": {
             "outlinewidth": 0,
             "ticks": ""
            },
            "type": "mesh3d"
           }
          ],
          "parcoords": [
           {
            "line": {
             "colorbar": {
              "outlinewidth": 0,
              "ticks": ""
             }
            },
            "type": "parcoords"
           }
          ],
          "pie": [
           {
            "automargin": true,
            "type": "pie"
           }
          ],
          "scatter": [
           {
            "fillpattern": {
             "fillmode": "overlay",
             "size": 10,
             "solidity": 0.2
            },
            "type": "scatter"
           }
          ],
          "scatter3d": [
           {
            "line": {
             "colorbar": {
              "outlinewidth": 0,
              "ticks": ""
             }
            },
            "marker": {
             "colorbar": {
              "outlinewidth": 0,
              "ticks": ""
             }
            },
            "type": "scatter3d"
           }
          ],
          "scattercarpet": [
           {
            "marker": {
             "colorbar": {
              "outlinewidth": 0,
              "ticks": ""
             }
            },
            "type": "scattercarpet"
           }
          ],
          "scattergeo": [
           {
            "marker": {
             "colorbar": {
              "outlinewidth": 0,
              "ticks": ""
             }
            },
            "type": "scattergeo"
           }
          ],
          "scattergl": [
           {
            "marker": {
             "colorbar": {
              "outlinewidth": 0,
              "ticks": ""
             }
            },
            "type": "scattergl"
           }
          ],
          "scattermapbox": [
           {
            "marker": {
             "colorbar": {
              "outlinewidth": 0,
              "ticks": ""
             }
            },
            "type": "scattermapbox"
           }
          ],
          "scatterpolar": [
           {
            "marker": {
             "colorbar": {
              "outlinewidth": 0,
              "ticks": ""
             }
            },
            "type": "scatterpolar"
           }
          ],
          "scatterpolargl": [
           {
            "marker": {
             "colorbar": {
              "outlinewidth": 0,
              "ticks": ""
             }
            },
            "type": "scatterpolargl"
           }
          ],
          "scatterternary": [
           {
            "marker": {
             "colorbar": {
              "outlinewidth": 0,
              "ticks": ""
             }
            },
            "type": "scatterternary"
           }
          ],
          "surface": [
           {
            "colorbar": {
             "outlinewidth": 0,
             "ticks": ""
            },
            "colorscale": [
             [
              0,
              "#0d0887"
             ],
             [
              0.1111111111111111,
              "#46039f"
             ],
             [
              0.2222222222222222,
              "#7201a8"
             ],
             [
              0.3333333333333333,
              "#9c179e"
             ],
             [
              0.4444444444444444,
              "#bd3786"
             ],
             [
              0.5555555555555556,
              "#d8576b"
             ],
             [
              0.6666666666666666,
              "#ed7953"
             ],
             [
              0.7777777777777778,
              "#fb9f3a"
             ],
             [
              0.8888888888888888,
              "#fdca26"
             ],
             [
              1,
              "#f0f921"
             ]
            ],
            "type": "surface"
           }
          ],
          "table": [
           {
            "cells": {
             "fill": {
              "color": "#EBF0F8"
             },
             "line": {
              "color": "white"
             }
            },
            "header": {
             "fill": {
              "color": "#C8D4E3"
             },
             "line": {
              "color": "white"
             }
            },
            "type": "table"
           }
          ]
         },
         "layout": {
          "annotationdefaults": {
           "arrowcolor": "#2a3f5f",
           "arrowhead": 0,
           "arrowwidth": 1
          },
          "autotypenumbers": "strict",
          "coloraxis": {
           "colorbar": {
            "outlinewidth": 0,
            "ticks": ""
           }
          },
          "colorscale": {
           "diverging": [
            [
             0,
             "#8e0152"
            ],
            [
             0.1,
             "#c51b7d"
            ],
            [
             0.2,
             "#de77ae"
            ],
            [
             0.3,
             "#f1b6da"
            ],
            [
             0.4,
             "#fde0ef"
            ],
            [
             0.5,
             "#f7f7f7"
            ],
            [
             0.6,
             "#e6f5d0"
            ],
            [
             0.7,
             "#b8e186"
            ],
            [
             0.8,
             "#7fbc41"
            ],
            [
             0.9,
             "#4d9221"
            ],
            [
             1,
             "#276419"
            ]
           ],
           "sequential": [
            [
             0,
             "#0d0887"
            ],
            [
             0.1111111111111111,
             "#46039f"
            ],
            [
             0.2222222222222222,
             "#7201a8"
            ],
            [
             0.3333333333333333,
             "#9c179e"
            ],
            [
             0.4444444444444444,
             "#bd3786"
            ],
            [
             0.5555555555555556,
             "#d8576b"
            ],
            [
             0.6666666666666666,
             "#ed7953"
            ],
            [
             0.7777777777777778,
             "#fb9f3a"
            ],
            [
             0.8888888888888888,
             "#fdca26"
            ],
            [
             1,
             "#f0f921"
            ]
           ],
           "sequentialminus": [
            [
             0,
             "#0d0887"
            ],
            [
             0.1111111111111111,
             "#46039f"
            ],
            [
             0.2222222222222222,
             "#7201a8"
            ],
            [
             0.3333333333333333,
             "#9c179e"
            ],
            [
             0.4444444444444444,
             "#bd3786"
            ],
            [
             0.5555555555555556,
             "#d8576b"
            ],
            [
             0.6666666666666666,
             "#ed7953"
            ],
            [
             0.7777777777777778,
             "#fb9f3a"
            ],
            [
             0.8888888888888888,
             "#fdca26"
            ],
            [
             1,
             "#f0f921"
            ]
           ]
          },
          "colorway": [
           "#636efa",
           "#EF553B",
           "#00cc96",
           "#ab63fa",
           "#FFA15A",
           "#19d3f3",
           "#FF6692",
           "#B6E880",
           "#FF97FF",
           "#FECB52"
          ],
          "font": {
           "color": "#2a3f5f"
          },
          "geo": {
           "bgcolor": "white",
           "lakecolor": "white",
           "landcolor": "#E5ECF6",
           "showlakes": true,
           "showland": true,
           "subunitcolor": "white"
          },
          "hoverlabel": {
           "align": "left"
          },
          "hovermode": "closest",
          "mapbox": {
           "style": "light"
          },
          "paper_bgcolor": "white",
          "plot_bgcolor": "#E5ECF6",
          "polar": {
           "angularaxis": {
            "gridcolor": "white",
            "linecolor": "white",
            "ticks": ""
           },
           "bgcolor": "#E5ECF6",
           "radialaxis": {
            "gridcolor": "white",
            "linecolor": "white",
            "ticks": ""
           }
          },
          "scene": {
           "xaxis": {
            "backgroundcolor": "#E5ECF6",
            "gridcolor": "white",
            "gridwidth": 2,
            "linecolor": "white",
            "showbackground": true,
            "ticks": "",
            "zerolinecolor": "white"
           },
           "yaxis": {
            "backgroundcolor": "#E5ECF6",
            "gridcolor": "white",
            "gridwidth": 2,
            "linecolor": "white",
            "showbackground": true,
            "ticks": "",
            "zerolinecolor": "white"
           },
           "zaxis": {
            "backgroundcolor": "#E5ECF6",
            "gridcolor": "white",
            "gridwidth": 2,
            "linecolor": "white",
            "showbackground": true,
            "ticks": "",
            "zerolinecolor": "white"
           }
          },
          "shapedefaults": {
           "line": {
            "color": "#2a3f5f"
           }
          },
          "ternary": {
           "aaxis": {
            "gridcolor": "white",
            "linecolor": "white",
            "ticks": ""
           },
           "baxis": {
            "gridcolor": "white",
            "linecolor": "white",
            "ticks": ""
           },
           "bgcolor": "#E5ECF6",
           "caxis": {
            "gridcolor": "white",
            "linecolor": "white",
            "ticks": ""
           }
          },
          "title": {
           "x": 0.05
          },
          "xaxis": {
           "automargin": true,
           "gridcolor": "white",
           "linecolor": "white",
           "ticks": "",
           "title": {
            "standoff": 15
           },
           "zerolinecolor": "white",
           "zerolinewidth": 2
          },
          "yaxis": {
           "automargin": true,
           "gridcolor": "white",
           "linecolor": "white",
           "ticks": "",
           "title": {
            "standoff": 15
           },
           "zerolinecolor": "white",
           "zerolinewidth": 2
          }
         }
        },
        "title": {
         "text": "Acceptance Rate by Coupon Type and Time of Day"
        },
        "xaxis": {
         "anchor": "y",
         "autorange": true,
         "domain": [
          0,
          1
         ],
         "range": [
          -0.5,
          4.5
         ],
         "title": {
          "text": "Coupon Type"
         },
         "type": "category"
        },
        "yaxis": {
         "anchor": "x",
         "autorange": true,
         "domain": [
          0,
          1
         ],
         "range": [
          0,
          91.26026074360213
         ],
         "title": {
          "text": "Acceptance Rate (%)"
         },
         "type": "linear"
        }
       }
      },
      "image/png": "[encoded data removed]",
      "text/html": [
       "<div>                            <div id=\"5e568d30-389b-433e-8f0b-f8401a31c57c\" class=\"plotly-graph-div\" style=\"height:525px; width:100%;\"></div>            <script type=\"text/javascript\">                require([\"plotly\"], function(Plotly) {                    window.PLOTLYENV=window.PLOTLYENV || {};                                    if (document.getElementById(\"5e568d30-389b-433e-8f0b-f8401a31c57c\")) {                    Plotly.newPlot(                        \"5e568d30-389b-433e-8f0b-f8401a31c57c\",                        [{\"alignmentgroup\":\"True\",\"hovertemplate\":\"Time of Day=7AM\\u003cbr\\u003eCoupon Type=%{x}\\u003cbr\\u003eAcceptance Rate (%)=%{y}\\u003cextra\\u003e\\u003c\\u002fextra\\u003e\",\"legendgroup\":\"7AM\",\"marker\":{\"color\":\"#636efa\",\"pattern\":{\"shape\":\"\"}},\"name\":\"7AM\",\"offsetgroup\":\"7AM\",\"orientation\":\"v\",\"showlegend\":true,\"textposition\":\"auto\",\"x\":[\"Bar\",\"Carry out & Take away\",\"Coffee House\",\"Restaurant(20-50)\",\"Restaurant(\\u003c20)\"],\"xaxis\":\"x\",\"y\":[36.55030800821355,65.48556430446195,44.57831325301205,39.86013986013986,58.289703315881326],\"yaxis\":\"y\",\"type\":\"bar\"},{\"alignmentgroup\":\"True\",\"hovertemplate\":\"Time of Day=10AM\\u003cbr\\u003eCoupon Type=%{x}\\u003cbr\\u003eAcceptance Rate (%)=%{y}\\u003cextra\\u003e\\u003c\\u002fextra\\u003e\",\"legendgroup\":\"10AM\",\"marker\":{\"color\":\"#EF553B\",\"pattern\":{\"shape\":\"\"}},\"name\":\"10AM\",\"offsetgroup\":\"10AM\",\"orientation\":\"v\",\"showlegend\":true,\"textposition\":\"auto\",\"x\":[\"Bar\",\"Carry out & Take away\",\"Coffee House\",\"Restaurant(20-50)\",\"Restaurant(\\u003c20)\"],\"xaxis\":\"x\",\"y\":[36.26126126126126,70.2127659574468,64.07119021134594,61.60714285714286,70.95709570957096],\"yaxis\":\"y\",\"type\":\"bar\"},{\"alignmentgroup\":\"True\",\"hovertemplate\":\"Time of Day=2PM\\u003cbr\\u003eCoupon Type=%{x}\\u003cbr\\u003eAcceptance Rate (%)=%{y}\\u003cextra\\u003e\\u003c\\u002fextra\\u003e\",\"legendgroup\":\"2PM\",\"marker\":{\"color\":\"#00cc96\",\"pattern\":{\"shape\":\"\"}},\"name\":\"2PM\",\"offsetgroup\":\"2PM\",\"orientation\":\"v\",\"showlegend\":true,\"textposition\":\"auto\",\"x\":[\"Bar\",\"Carry out & Take away\",\"Coffee House\",\"Restaurant(20-50)\",\"Restaurant(\\u003c20)\"],\"xaxis\":\"x\",\"y\":[33.89830508474576,86.69724770642202,54.78589420654912,53.84615384615385,81.34863701578192],\"yaxis\":\"y\",\"type\":\"bar\"},{\"alignmentgroup\":\"True\",\"hovertemplate\":\"Time of Day=6PM\\u003cbr\\u003eCoupon Type=%{x}\\u003cbr\\u003eAcceptance Rate (%)=%{y}\\u003cextra\\u003e\\u003c\\u002fextra\\u003e\",\"legendgroup\":\"6PM\",\"marker\":{\"color\":\"#ab63fa\",\"pattern\":{\"shape\":\"\"}},\"name\":\"6PM\",\"offsetgroup\":\"6PM\",\"orientation\":\"v\",\"showlegend\":true,\"textposition\":\"auto\",\"x\":[\"Bar\",\"Carry out & Take away\",\"Coffee House\",\"Restaurant(20-50)\",\"Restaurant(\\u003c20)\"],\"xaxis\":\"x\",\"y\":[46.64310954063604,82.5287356321839,41.26258005489479,50.25773195876289,82.75401069518716],\"yaxis\":\"y\",\"type\":\"bar\"},{\"alignmentgroup\":\"True\",\"hovertemplate\":\"Time of Day=10PM\\u003cbr\\u003eCoupon Type=%{x}\\u003cbr\\u003eAcceptance Rate (%)=%{y}\\u003cextra\\u003e\\u003c\\u002fextra\\u003e\",\"legendgroup\":\"10PM\",\"marker\":{\"color\":\"#FFA15A\",\"pattern\":{\"shape\":\"\"}},\"name\":\"10PM\",\"offsetgroup\":\"10PM\",\"orientation\":\"v\",\"showlegend\":true,\"textposition\":\"auto\",\"x\":[\"Bar\",\"Carry out & Take away\",\"Coffee House\",\"Restaurant(20-50)\",\"Restaurant(\\u003c20)\"],\"xaxis\":\"x\",\"y\":[45.77114427860697,75.92190889370933,42.42424242424242,32.808398950131235,50.53763440860215],\"yaxis\":\"y\",\"type\":\"bar\"}],                        {\"template\":{\"data\":{\"histogram2dcontour\":[{\"type\":\"histogram2dcontour\",\"colorbar\":{\"outlinewidth\":0,\"ticks\":\"\"},\"colorscale\":[[0.0,\"#0d0887\"],[0.1111111111111111,\"#46039f\"],[0.2222222222222222,\"#7201a8\"],[0.3333333333333333,\"#9c179e\"],[0.4444444444444444,\"#bd3786\"],[0.5555555555555556,\"#d8576b\"],[0.6666666666666666,\"#ed7953\"],[0.7777777777777778,\"#fb9f3a\"],[0.8888888888888888,\"#fdca26\"],[1.0,\"#f0f921\"]]}],\"choropleth\":[{\"type\":\"choropleth\",\"colorbar\":{\"outlinewidth\":0,\"ticks\":\"\"}}],\"histogram2d\":[{\"type\":\"histogram2d\",\"colorbar\":{\"outlinewidth\":0,\"ticks\":\"\"},\"colorscale\":[[0.0,\"#0d0887\"],[0.1111111111111111,\"#46039f\"],[0.2222222222222222,\"#7201a8\"],[0.3333333333333333,\"#9c179e\"],[0.4444444444444444,\"#bd3786\"],[0.5555555555555556,\"#d8576b\"],[0.6666666666666666,\"#ed7953\"],[0.7777777777777778,\"#fb9f3a\"],[0.8888888888888888,\"#fdca26\"],[1.0,\"#f0f921\"]]}],\"heatmap\":[{\"type\":\"heatmap\",\"colorbar\":{\"outlinewidth\":0,\"ticks\":\"\"},\"colorscale\":[[0.0,\"#0d0887\"],[0.1111111111111111,\"#46039f\"],[0.2222222222222222,\"#7201a8\"],[0.3333333333333333,\"#9c179e\"],[0.4444444444444444,\"#bd3786\"],[0.5555555555555556,\"#d8576b\"],[0.6666666666666666,\"#ed7953\"],[0.7777777777777778,\"#fb9f3a\"],[0.8888888888888888,\"#fdca26\"],[1.0,\"#f0f921\"]]}],\"heatmapgl\":[{\"type\":\"heatmapgl\",\"colorbar\":{\"outlinewidth\":0,\"ticks\":\"\"},\"colorscale\":[[0.0,\"#0d0887\"],[0.1111111111111111,\"#46039f\"],[0.2222222222222222,\"#7201a8\"],[0.3333333333333333,\"#9c179e\"],[0.4444444444444444,\"#bd3786\"],[0.5555555555555556,\"#d8576b\"],[0.6666666666666666,\"#ed7953\"],[0.7777777777777778,\"#fb9f3a\"],[0.8888888888888888,\"#fdca26\"],[1.0,\"#f0f921\"]]}],\"contourcarpet\":[{\"type\":\"contourcarpet\",\"colorbar\":{\"outlinewidth\":0,\"ticks\":\"\"}}],\"contour\":[{\"type\":\"contour\",\"colorbar\":{\"outlinewidth\":0,\"ticks\":\"\"},\"colorscale\":[[0.0,\"#0d0887\"],[0.1111111111111111,\"#46039f\"],[0.2222222222222222,\"#7201a8\"],[0.3333333333333333,\"#9c179e\"],[0.4444444444444444,\"#bd3786\"],[0.5555555555555556,\"#d8576b\"],[0.6666666666666666,\"#ed7953\"],[0.7777777777777778,\"#fb9f3a\"],[0.8888888888888888,\"#fdca26\"],[1.0,\"#f0f921\"]]}],\"surface\":[{\"type\":\"surface\",\"colorbar\":{\"outlinewidth\":0,\"ticks\":\"\"},\"colorscale\":[[0.0,\"#0d0887\"],[0.1111111111111111,\"#46039f\"],[0.2222222222222222,\"#7201a8\"],[0.3333333333333333,\"#9c179e\"],[0.4444444444444444,\"#bd3786\"],[0.5555555555555556,\"#d8576b\"],[0.6666666666666666,\"#ed7953\"],[0.7777777777777778,\"#fb9f3a\"],[0.8888888888888888,\"#fdca26\"],[1.0,\"#f0f921\"]]}],\"mesh3d\":[{\"type\":\"mesh3d\",\"colorbar\":{\"outlinewidth\":0,\"ticks\":\"\"}}],\"scatter\":[{\"fillpattern\":{\"fillmode\":\"overlay\",\"size\":10,\"solidity\":0.2},\"type\":\"scatter\"}],\"parcoords\":[{\"type\":\"parcoords\",\"line\":{\"colorbar\":{\"outlinewidth\":0,\"ticks\":\"\"}}}],\"scatterpolargl\":[{\"type\":\"scatterpolargl\",\"marker\":{\"colorbar\":{\"outlinewidth\":0,\"ticks\":\"\"}}}],\"bar\":[{\"error_x\":{\"color\":\"#2a3f5f\"},\"error_y\":{\"color\":\"#2a3f5f\"},\"marker\":{\"line\":{\"color\":\"#E5ECF6\",\"width\":0.5},\"pattern\":{\"fillmode\":\"overlay\",\"size\":10,\"solidity\":0.2}},\"type\":\"bar\"}],\"scattergeo\":[{\"type\":\"scattergeo\",\"marker\":{\"colorbar\":{\"outlinewidth\":0,\"ticks\":\"\"}}}],\"scatterpolar\":[{\"type\":\"scatterpolar\",\"marker\":{\"colorbar\":{\"outlinewidth\":0,\"ticks\":\"\"}}}],\"histogram\":[{\"marker\":{\"pattern\":{\"fillmode\":\"overlay\",\"size\":10,\"solidity\":0.2}},\"type\":\"histogram\"}],\"scattergl\":[{\"type\":\"scattergl\",\"marker\":{\"colorbar\":{\"outlinewidth\":0,\"ticks\":\"\"}}}],\"scatter3d\":[{\"type\":\"scatter3d\",\"line\":{\"colorbar\":{\"outlinewidth\":0,\"ticks\":\"\"}},\"marker\":{\"colorbar\":{\"outlinewidth\":0,\"ticks\":\"\"}}}],\"scattermapbox\":[{\"type\":\"scattermapbox\",\"marker\":{\"colorbar\":{\"outlinewidth\":0,\"ticks\":\"\"}}}],\"scatterternary\":[{\"type\":\"scatterternary\",\"marker\":{\"colorbar\":{\"outlinewidth\":0,\"ticks\":\"\"}}}],\"scattercarpet\":[{\"type\":\"scattercarpet\",\"marker\":{\"colorbar\":{\"outlinewidth\":0,\"ticks\":\"\"}}}],\"carpet\":[{\"aaxis\":{\"endlinecolor\":\"#2a3f5f\",\"gridcolor\":\"white\",\"linecolor\":\"white\",\"minorgridcolor\":\"white\",\"startlinecolor\":\"#2a3f5f\"},\"baxis\":{\"endlinecolor\":\"#2a3f5f\",\"gridcolor\":\"white\",\"linecolor\":\"white\",\"minorgridcolor\":\"white\",\"startlinecolor\":\"#2a3f5f\"},\"type\":\"carpet\"}],\"table\":[{\"cells\":{\"fill\":{\"color\":\"#EBF0F8\"},\"line\":{\"color\":\"white\"}},\"header\":{\"fill\":{\"color\":\"#C8D4E3\"},\"line\":{\"color\":\"white\"}},\"type\":\"table\"}],\"barpolar\":[{\"marker\":{\"line\":{\"color\":\"#E5ECF6\",\"width\":0.5},\"pattern\":{\"fillmode\":\"overlay\",\"size\":10,\"solidity\":0.2}},\"type\":\"barpolar\"}],\"pie\":[{\"automargin\":true,\"type\":\"pie\"}]},\"layout\":{\"autotypenumbers\":\"strict\",\"colorway\":[\"#636efa\",\"#EF553B\",\"#00cc96\",\"#ab63fa\",\"#FFA15A\",\"#19d3f3\",\"#FF6692\",\"#B6E880\",\"#FF97FF\",\"#FECB52\"],\"font\":{\"color\":\"#2a3f5f\"},\"hovermode\":\"closest\",\"hoverlabel\":{\"align\":\"left\"},\"paper_bgcolor\":\"white\",\"plot_bgcolor\":\"#E5ECF6\",\"polar\":{\"bgcolor\":\"#E5ECF6\",\"angularaxis\":{\"gridcolor\":\"white\",\"linecolor\":\"white\",\"ticks\":\"\"},\"radialaxis\":{\"gridcolor\":\"white\",\"linecolor\":\"white\",\"ticks\":\"\"}},\"ternary\":{\"bgcolor\":\"#E5ECF6\",\"aaxis\":{\"gridcolor\":\"white\",\"linecolor\":\"white\",\"ticks\":\"\"},\"baxis\":{\"gridcolor\":\"white\",\"linecolor\":\"white\",\"ticks\":\"\"},\"caxis\":{\"gridcolor\":\"white\",\"linecolor\":\"white\",\"ticks\":\"\"}},\"coloraxis\":{\"colorbar\":{\"outlinewidth\":0,\"ticks\":\"\"}},\"colorscale\":{\"sequential\":[[0.0,\"#0d0887\"],[0.1111111111111111,\"#46039f\"],[0.2222222222222222,\"#7201a8\"],[0.3333333333333333,\"#9c179e\"],[0.4444444444444444,\"#bd3786\"],[0.5555555555555556,\"#d8576b\"],[0.6666666666666666,\"#ed7953\"],[0.7777777777777778,\"#fb9f3a\"],[0.8888888888888888,\"#fdca26\"],[1.0,\"#f0f921\"]],\"sequentialminus\":[[0.0,\"#0d0887\"],[0.1111111111111111,\"#46039f\"],[0.2222222222222222,\"#7201a8\"],[0.3333333333333333,\"#9c179e\"],[0.4444444444444444,\"#bd3786\"],[0.5555555555555556,\"#d8576b\"],[0.6666666666666666,\"#ed7953\"],[0.7777777777777778,\"#fb9f3a\"],[0.8888888888888888,\"#fdca26\"],[1.0,\"#f0f921\"]],\"diverging\":[[0,\"#8e0152\"],[0.1,\"#c51b7d\"],[0.2,\"#de77ae\"],[0.3,\"#f1b6da\"],[0.4,\"#fde0ef\"],[0.5,\"#f7f7f7\"],[0.6,\"#e6f5d0\"],[0.7,\"#b8e186\"],[0.8,\"#7fbc41\"],[0.9,\"#4d9221\"],[1,\"#276419\"]]},\"xaxis\":{\"gridcolor\":\"white\",\"linecolor\":\"white\",\"ticks\":\"\",\"title\":{\"standoff\":15},\"zerolinecolor\":\"white\",\"automargin\":true,\"zerolinewidth\":2},\"yaxis\":{\"gridcolor\":\"white\",\"linecolor\":\"white\",\"ticks\":\"\",\"title\":{\"standoff\":15},\"zerolinecolor\":\"white\",\"automargin\":true,\"zerolinewidth\":2},\"scene\":{\"xaxis\":{\"backgroundcolor\":\"#E5ECF6\",\"gridcolor\":\"white\",\"linecolor\":\"white\",\"showbackground\":true,\"ticks\":\"\",\"zerolinecolor\":\"white\",\"gridwidth\":2},\"yaxis\":{\"backgroundcolor\":\"#E5ECF6\",\"gridcolor\":\"white\",\"linecolor\":\"white\",\"showbackground\":true,\"ticks\":\"\",\"zerolinecolor\":\"white\",\"gridwidth\":2},\"zaxis\":{\"backgroundcolor\":\"#E5ECF6\",\"gridcolor\":\"white\",\"linecolor\":\"white\",\"showbackground\":true,\"ticks\":\"\",\"zerolinecolor\":\"white\",\"gridwidth\":2}},\"shapedefaults\":{\"line\":{\"color\":\"#2a3f5f\"}},\"annotationdefaults\":{\"arrowcolor\":\"#2a3f5f\",\"arrowhead\":0,\"arrowwidth\":1},\"geo\":{\"bgcolor\":\"white\",\"landcolor\":\"#E5ECF6\",\"subunitcolor\":\"white\",\"showland\":true,\"showlakes\":true,\"lakecolor\":\"white\"},\"title\":{\"x\":0.05},\"mapbox\":{\"style\":\"light\"}}},\"xaxis\":{\"anchor\":\"y\",\"domain\":[0.0,1.0],\"title\":{\"text\":\"Coupon Type\"}},\"yaxis\":{\"anchor\":\"x\",\"domain\":[0.0,1.0],\"title\":{\"text\":\"Acceptance Rate (%)\"}},\"legend\":{\"title\":{\"text\":\"Time of Day\"},\"tracegroupgap\":0},\"title\":{\"text\":\"Acceptance Rate by Coupon Type and Time of Day\"},\"barmode\":\"group\"},                        {\"responsive\": true}                    ).then(function(){\n",
       "                            \n",
       "var gd = document.getElementById('5e568d30-389b-433e-8f0b-f8401a31c57c');\n",
       "var x = new MutationObserver(function (mutations, observer) {{\n",
       "        var display = window.getComputedStyle(gd).display;\n",
       "        if (!display || display === 'none') {{\n",
       "            console.log([gd, 'removed!']);\n",
       "            Plotly.purge(gd);\n",
       "            observer.disconnect();\n",
       "        }}\n",
       "}});\n",
       "\n",
       "// Listen for the removal of the full notebook cells\n",
       "var notebookContainer = gd.closest('#notebook-container');\n",
       "if (notebookContainer) {{\n",
       "    x.observe(notebookContainer, {childList: true});\n",
       "}}\n",
       "\n",
       "// Listen for the clearing of the current output cell\n",
       "var outputEl = gd.closest('.output');\n",
       "if (outputEl) {{\n",
       "    x.observe(outputEl, {childList: true});\n",
       "}}\n",
       "\n",
       "                        })                };                });            </script>        </div>"
      ]
     },
     "metadata": {},
     "output_type": "display_data"
    }
   ],
   "source": [
    "\n",
    "grouped_acceptance = data.groupby(['coupon', 'time'])['Y'].agg(['mean', 'sum']).reset_index()\n",
    "grouped_acceptance['acceptance_rate'] = grouped_acceptance['mean'] * 100\n",
    "\n",
    "order_of_time = ['7AM', '10AM', '2PM', '6PM', '10PM']\n",
    "\n",
    "fig = px.bar(grouped_acceptance,\n",
    "             x='coupon',\n",
    "             y='acceptance_rate',\n",
    "             color='time',\n",
    "             barmode='group',\n",
    "             title='Acceptance Rate by Coupon Type and Time of Day',\n",
    "             labels={'coupon': 'Coupon Type', 'acceptance_rate': 'Acceptance Rate (%)', 'time': 'Time of Day'},\n",
    "             category_orders={'time': order_of_time},\n",
    "             #text = 'mean'\n",
    ")\n",
    "fig.show()"
   ]
  },
  {
   "cell_type": "code",
   "execution_count": 391,
   "metadata": {},
   "outputs": [
    {
     "data": {
      "text/html": [
       "<div>\n",
       "<style scoped>\n",
       "    .dataframe tbody tr th:only-of-type {\n",
       "        vertical-align: middle;\n",
       "    }\n",
       "\n",
       "    .dataframe tbody tr th {\n",
       "        vertical-align: top;\n",
       "    }\n",
       "\n",
       "    .dataframe thead th {\n",
       "        text-align: right;\n",
       "    }\n",
       "</style>\n",
       "<table border=\"1\" class=\"dataframe\">\n",
       "  <thead>\n",
       "    <tr style=\"text-align: right;\">\n",
       "      <th></th>\n",
       "      <th>coupon</th>\n",
       "      <th>time</th>\n",
       "      <th>weather</th>\n",
       "      <th>destination</th>\n",
       "      <th>temperature</th>\n",
       "      <th>passanger</th>\n",
       "      <th>gender</th>\n",
       "      <th>age</th>\n",
       "      <th>mean</th>\n",
       "      <th>sum</th>\n",
       "      <th>acceptance_rate</th>\n",
       "    </tr>\n",
       "  </thead>\n",
       "  <tbody>\n",
       "    <tr>\n",
       "      <th>511</th>\n",
       "      <td>Carry out &amp; Take away</td>\n",
       "      <td>10PM</td>\n",
       "      <td>Sunny</td>\n",
       "      <td>Home</td>\n",
       "      <td>30</td>\n",
       "      <td>Partner</td>\n",
       "      <td>Male</td>\n",
       "      <td>41</td>\n",
       "      <td>1.0</td>\n",
       "      <td>1</td>\n",
       "      <td>100.0</td>\n",
       "    </tr>\n",
       "    <tr>\n",
       "      <th>382</th>\n",
       "      <td>Carry out &amp; Take away</td>\n",
       "      <td>10AM</td>\n",
       "      <td>Rainy</td>\n",
       "      <td>No Urgent Place</td>\n",
       "      <td>55</td>\n",
       "      <td>Friend(s)</td>\n",
       "      <td>Male</td>\n",
       "      <td>26</td>\n",
       "      <td>1.0</td>\n",
       "      <td>1</td>\n",
       "      <td>100.0</td>\n",
       "    </tr>\n",
       "    <tr>\n",
       "      <th>1092</th>\n",
       "      <td>Coffee House</td>\n",
       "      <td>7AM</td>\n",
       "      <td>Snowy</td>\n",
       "      <td>Work</td>\n",
       "      <td>30</td>\n",
       "      <td>Alone</td>\n",
       "      <td>Female</td>\n",
       "      <td>below21</td>\n",
       "      <td>1.0</td>\n",
       "      <td>4</td>\n",
       "      <td>100.0</td>\n",
       "    </tr>\n",
       "    <tr>\n",
       "      <th>1585</th>\n",
       "      <td>Restaurant(&lt;20)</td>\n",
       "      <td>2PM</td>\n",
       "      <td>Rainy</td>\n",
       "      <td>No Urgent Place</td>\n",
       "      <td>55</td>\n",
       "      <td>Partner</td>\n",
       "      <td>Male</td>\n",
       "      <td>36</td>\n",
       "      <td>1.0</td>\n",
       "      <td>1</td>\n",
       "      <td>100.0</td>\n",
       "    </tr>\n",
       "    <tr>\n",
       "      <th>1091</th>\n",
       "      <td>Coffee House</td>\n",
       "      <td>7AM</td>\n",
       "      <td>Snowy</td>\n",
       "      <td>Work</td>\n",
       "      <td>30</td>\n",
       "      <td>Alone</td>\n",
       "      <td>Female</td>\n",
       "      <td>50plus</td>\n",
       "      <td>1.0</td>\n",
       "      <td>6</td>\n",
       "      <td>100.0</td>\n",
       "    </tr>\n",
       "    <tr>\n",
       "      <th>1090</th>\n",
       "      <td>Coffee House</td>\n",
       "      <td>7AM</td>\n",
       "      <td>Snowy</td>\n",
       "      <td>Work</td>\n",
       "      <td>30</td>\n",
       "      <td>Alone</td>\n",
       "      <td>Female</td>\n",
       "      <td>46</td>\n",
       "      <td>1.0</td>\n",
       "      <td>1</td>\n",
       "      <td>100.0</td>\n",
       "    </tr>\n",
       "    <tr>\n",
       "      <th>1589</th>\n",
       "      <td>Restaurant(&lt;20)</td>\n",
       "      <td>2PM</td>\n",
       "      <td>Snowy</td>\n",
       "      <td>No Urgent Place</td>\n",
       "      <td>30</td>\n",
       "      <td>Friend(s)</td>\n",
       "      <td>Female</td>\n",
       "      <td>26</td>\n",
       "      <td>1.0</td>\n",
       "      <td>5</td>\n",
       "      <td>100.0</td>\n",
       "    </tr>\n",
       "    <tr>\n",
       "      <th>762</th>\n",
       "      <td>Coffee House</td>\n",
       "      <td>10AM</td>\n",
       "      <td>Sunny</td>\n",
       "      <td>No Urgent Place</td>\n",
       "      <td>55</td>\n",
       "      <td>Alone</td>\n",
       "      <td>Male</td>\n",
       "      <td>41</td>\n",
       "      <td>1.0</td>\n",
       "      <td>2</td>\n",
       "      <td>100.0</td>\n",
       "    </tr>\n",
       "    <tr>\n",
       "      <th>763</th>\n",
       "      <td>Coffee House</td>\n",
       "      <td>10AM</td>\n",
       "      <td>Sunny</td>\n",
       "      <td>No Urgent Place</td>\n",
       "      <td>55</td>\n",
       "      <td>Alone</td>\n",
       "      <td>Male</td>\n",
       "      <td>46</td>\n",
       "      <td>1.0</td>\n",
       "      <td>2</td>\n",
       "      <td>100.0</td>\n",
       "    </tr>\n",
       "    <tr>\n",
       "      <th>765</th>\n",
       "      <td>Coffee House</td>\n",
       "      <td>10AM</td>\n",
       "      <td>Sunny</td>\n",
       "      <td>No Urgent Place</td>\n",
       "      <td>55</td>\n",
       "      <td>Alone</td>\n",
       "      <td>Male</td>\n",
       "      <td>below21</td>\n",
       "      <td>1.0</td>\n",
       "      <td>2</td>\n",
       "      <td>100.0</td>\n",
       "    </tr>\n",
       "  </tbody>\n",
       "</table>\n",
       "</div>"
      ],
      "text/plain": [
       "                     coupon  time weather      destination  temperature  \\\n",
       "511   Carry out & Take away  10PM   Sunny             Home           30   \n",
       "382   Carry out & Take away  10AM   Rainy  No Urgent Place           55   \n",
       "1092           Coffee House   7AM   Snowy             Work           30   \n",
       "1585        Restaurant(<20)   2PM   Rainy  No Urgent Place           55   \n",
       "1091           Coffee House   7AM   Snowy             Work           30   \n",
       "1090           Coffee House   7AM   Snowy             Work           30   \n",
       "1589        Restaurant(<20)   2PM   Snowy  No Urgent Place           30   \n",
       "762            Coffee House  10AM   Sunny  No Urgent Place           55   \n",
       "763            Coffee House  10AM   Sunny  No Urgent Place           55   \n",
       "765            Coffee House  10AM   Sunny  No Urgent Place           55   \n",
       "\n",
       "      passanger  gender      age  mean  sum  acceptance_rate  \n",
       "511     Partner    Male       41   1.0    1            100.0  \n",
       "382   Friend(s)    Male       26   1.0    1            100.0  \n",
       "1092      Alone  Female  below21   1.0    4            100.0  \n",
       "1585    Partner    Male       36   1.0    1            100.0  \n",
       "1091      Alone  Female   50plus   1.0    6            100.0  \n",
       "1090      Alone  Female       46   1.0    1            100.0  \n",
       "1589  Friend(s)  Female       26   1.0    5            100.0  \n",
       "762       Alone    Male       41   1.0    2            100.0  \n",
       "763       Alone    Male       46   1.0    2            100.0  \n",
       "765       Alone    Male  below21   1.0    2            100.0  "
      ]
     },
     "execution_count": 391,
     "metadata": {},
     "output_type": "execute_result"
    }
   ],
   "source": [
    "new_set2 = data.groupby(['coupon', 'time','weather', 'destination','temperature','passanger','gender','age'])['Y'].agg(['mean', 'sum']).reset_index()\n",
    "new_set2['acceptance_rate'] = new_set2['mean'] * 100\n",
    "new_set3 = new_set2.sort_values(by='acceptance_rate', ascending=False)\n",
    "new_set3.head(10)"
   ]
  },
  {
   "cell_type": "code",
   "execution_count": 389,
   "metadata": {
    "id": "RrqUWn7d_qRL"
   },
   "outputs": [
    {
     "data": {
      "application/vnd.plotly.v1+json": {
       "config": {
        "plotlyServerURL": "https://plot.ly"
       },
       "data": [
        {
         "alignmentgroup": "True",
         "hovertemplate": "time=%{x}<br>acceptance_rate=%{y}<extra></extra>",
         "legendgroup": "",
         "marker": {
          "color": "#636efa"
         },
         "name": "",
         "notched": false,
         "offsetgroup": "",
         "orientation": "v",
         "showlegend": false,
         "type": "box",
         "x": [
          "10AM",
          "10AM",
          "10AM",
          "10AM",
          "10AM",
          "10AM",
          "10AM",
          "10AM",
          "10AM",
          "10AM",
          "10AM",
          "10AM",
          "10AM",
          "10AM",
          "10AM",
          "10AM",
          "10AM",
          "10AM",
          "10AM",
          "10AM",
          "10AM",
          "10AM",
          "10AM",
          "10AM",
          "10AM",
          "10AM",
          "10AM",
          "10AM",
          "10AM",
          "10AM",
          "10AM",
          "10AM",
          "10AM",
          "10AM",
          "10AM",
          "10AM",
          "10AM",
          "10AM",
          "10AM",
          "10AM",
          "10AM",
          "10AM",
          "10AM",
          "10AM",
          "10AM",
          "10AM",
          "10AM",
          "10AM",
          "10AM",
          "10AM",
          "10AM",
          "10AM",
          "10AM",
          "10AM",
          "10AM",
          "10AM",
          "10AM",
          "10AM",
          "10AM",
          "10AM",
          "10AM",
          "10AM",
          "10AM",
          "10AM",
          "10AM",
          "10AM",
          "10AM",
          "10AM",
          "10AM",
          "10AM",
          "10AM",
          "10AM",
          "10AM",
          "10AM",
          "10AM",
          "10AM",
          "10AM",
          "10AM",
          "10AM",
          "10AM",
          "10AM",
          "10AM",
          "10AM",
          "10AM",
          "10AM",
          "10PM",
          "10PM",
          "10PM",
          "10PM",
          "10PM",
          "10PM",
          "10PM",
          "10PM",
          "10PM",
          "10PM",
          "10PM",
          "10PM",
          "10PM",
          "10PM",
          "10PM",
          "10PM",
          "10PM",
          "10PM",
          "10PM",
          "10PM",
          "10PM",
          "10PM",
          "10PM",
          "10PM",
          "10PM",
          "10PM",
          "10PM",
          "10PM",
          "10PM",
          "10PM",
          "10PM",
          "10PM",
          "10PM",
          "10PM",
          "10PM",
          "10PM",
          "10PM",
          "10PM",
          "10PM",
          "10PM",
          "10PM",
          "10PM",
          "10PM",
          "10PM",
          "10PM",
          "10PM",
          "10PM",
          "10PM",
          "10PM",
          "10PM",
          "10PM",
          "10PM",
          "10PM",
          "10PM",
          "10PM",
          "10PM",
          "10PM",
          "10PM",
          "10PM",
          "10PM",
          "10PM",
          "10PM",
          "10PM",
          "10PM",
          "10PM",
          "10PM",
          "10PM",
          "10PM",
          "10PM",
          "10PM",
          "10PM",
          "10PM",
          "10PM",
          "10PM",
          "10PM",
          "10PM",
          "10PM",
          "10PM",
          "10PM",
          "10PM",
          "10PM",
          "10PM",
          "10PM",
          "10PM",
          "10PM",
          "10PM",
          "10PM",
          "10PM",
          "10PM",
          "10PM",
          "10PM",
          "10PM",
          "10PM",
          "10PM",
          "10PM",
          "10PM",
          "10PM",
          "10PM",
          "10PM",
          "2PM",
          "2PM",
          "2PM",
          "2PM",
          "2PM",
          "2PM",
          "2PM",
          "2PM",
          "2PM",
          "2PM",
          "2PM",
          "2PM",
          "2PM",
          "2PM",
          "2PM",
          "2PM",
          "2PM",
          "2PM",
          "2PM",
          "2PM",
          "2PM",
          "2PM",
          "2PM",
          "2PM",
          "2PM",
          "2PM",
          "2PM",
          "2PM",
          "2PM",
          "2PM",
          "6PM",
          "6PM",
          "6PM",
          "6PM",
          "6PM",
          "6PM",
          "6PM",
          "6PM",
          "6PM",
          "6PM",
          "6PM",
          "6PM",
          "6PM",
          "6PM",
          "6PM",
          "6PM",
          "6PM",
          "6PM",
          "6PM",
          "6PM",
          "6PM",
          "6PM",
          "6PM",
          "6PM",
          "6PM",
          "6PM",
          "6PM",
          "6PM",
          "6PM",
          "6PM",
          "6PM",
          "6PM",
          "6PM",
          "6PM",
          "6PM",
          "6PM",
          "6PM",
          "6PM",
          "6PM",
          "6PM",
          "6PM",
          "6PM",
          "6PM",
          "6PM",
          "6PM",
          "6PM",
          "6PM",
          "6PM",
          "6PM",
          "6PM",
          "6PM",
          "6PM",
          "6PM",
          "6PM",
          "6PM",
          "6PM",
          "6PM",
          "6PM",
          "6PM",
          "6PM",
          "6PM",
          "6PM",
          "6PM",
          "6PM",
          "6PM",
          "6PM",
          "6PM",
          "6PM",
          "6PM",
          "6PM",
          "6PM",
          "6PM",
          "6PM",
          "6PM",
          "6PM",
          "6PM",
          "6PM",
          "6PM",
          "6PM",
          "6PM",
          "6PM",
          "6PM",
          "6PM",
          "6PM",
          "6PM",
          "6PM",
          "6PM",
          "6PM",
          "6PM",
          "6PM",
          "6PM",
          "6PM",
          "6PM",
          "6PM",
          "6PM",
          "6PM",
          "6PM",
          "6PM",
          "6PM",
          "6PM",
          "6PM",
          "6PM",
          "7AM",
          "7AM",
          "7AM",
          "7AM",
          "7AM",
          "7AM",
          "7AM",
          "7AM",
          "7AM",
          "7AM",
          "7AM",
          "7AM",
          "7AM",
          "7AM",
          "7AM",
          "7AM",
          "7AM",
          "7AM",
          "7AM",
          "7AM",
          "7AM",
          "7AM",
          "7AM",
          "7AM",
          "7AM",
          "7AM",
          "7AM",
          "7AM",
          "7AM",
          "7AM",
          "7AM",
          "7AM",
          "7AM",
          "7AM",
          "7AM",
          "7AM",
          "7AM",
          "7AM",
          "7AM",
          "7AM",
          "7AM",
          "7AM",
          "7AM",
          "7AM",
          "7AM",
          "7AM",
          "7AM",
          "7AM",
          "7AM",
          "7AM",
          "7AM",
          "7AM",
          "7AM",
          "7AM",
          "7AM",
          "7AM",
          "7AM",
          "7AM",
          "7AM",
          "7AM",
          "7AM",
          "7AM",
          "7AM",
          "7AM",
          "10AM",
          "10AM",
          "10AM",
          "10AM",
          "10AM",
          "10AM",
          "10AM",
          "10AM",
          "10AM",
          "10AM",
          "10AM",
          "10AM",
          "10AM",
          "10AM",
          "10AM",
          "10AM",
          "10AM",
          "10AM",
          "10AM",
          "10AM",
          "10AM",
          "10AM",
          "10AM",
          "10AM",
          "10AM",
          "10AM",
          "10AM",
          "10AM",
          "10AM",
          "10AM",
          "10AM",
          "10AM",
          "10AM",
          "10AM",
          "10AM",
          "10AM",
          "10AM",
          "10AM",
          "10AM",
          "10AM",
          "10AM",
          "10AM",
          "10AM",
          "10AM",
          "10AM",
          "10AM",
          "10AM",
          "10AM",
          "10AM",
          "10AM",
          "10AM",
          "10AM",
          "10AM",
          "10AM",
          "10AM",
          "10AM",
          "10AM",
          "10AM",
          "10AM",
          "10AM",
          "10AM",
          "10AM",
          "10AM",
          "10AM",
          "10AM",
          "10AM",
          "10AM",
          "10AM",
          "10AM",
          "10AM",
          "10AM",
          "10AM",
          "10AM",
          "10AM",
          "10AM",
          "10AM",
          "10AM",
          "10AM",
          "10AM",
          "10AM",
          "10AM",
          "10AM",
          "10AM",
          "10AM",
          "10AM",
          "10AM",
          "10AM",
          "10AM",
          "10AM",
          "10PM",
          "10PM",
          "10PM",
          "10PM",
          "10PM",
          "10PM",
          "10PM",
          "10PM",
          "10PM",
          "10PM",
          "10PM",
          "10PM",
          "10PM",
          "10PM",
          "10PM",
          "10PM",
          "10PM",
          "10PM",
          "10PM",
          "10PM",
          "10PM",
          "10PM",
          "10PM",
          "10PM",
          "10PM",
          "10PM",
          "10PM",
          "10PM",
          "10PM",
          "10PM",
          "10PM",
          "10PM",
          "10PM",
          "10PM",
          "10PM",
          "10PM",
          "10PM",
          "10PM",
          "10PM",
          "10PM",
          "10PM",
          "10PM",
          "10PM",
          "10PM",
          "10PM",
          "10PM",
          "10PM",
          "10PM",
          "10PM",
          "10PM",
          "10PM",
          "10PM",
          "10PM",
          "10PM",
          "10PM",
          "10PM",
          "10PM",
          "10PM",
          "10PM",
          "10PM",
          "10PM",
          "10PM",
          "10PM",
          "10PM",
          "10PM",
          "10PM",
          "10PM",
          "10PM",
          "10PM",
          "10PM",
          "10PM",
          "10PM",
          "10PM",
          "10PM",
          "10PM",
          "10PM",
          "10PM",
          "10PM",
          "10PM",
          "10PM",
          "10PM",
          "10PM",
          "10PM",
          "10PM",
          "10PM",
          "10PM",
          "10PM",
          "10PM",
          "10PM",
          "10PM",
          "10PM",
          "10PM",
          "10PM",
          "10PM",
          "10PM",
          "10PM",
          "10PM",
          "10PM",
          "10PM",
          "10PM",
          "10PM",
          "2PM",
          "2PM",
          "2PM",
          "2PM",
          "2PM",
          "2PM",
          "2PM",
          "2PM",
          "2PM",
          "2PM",
          "2PM",
          "2PM",
          "2PM",
          "2PM",
          "2PM",
          "2PM",
          "2PM",
          "2PM",
          "2PM",
          "2PM",
          "2PM",
          "2PM",
          "2PM",
          "2PM",
          "2PM",
          "2PM",
          "2PM",
          "2PM",
          "2PM",
          "2PM",
          "6PM",
          "6PM",
          "6PM",
          "6PM",
          "6PM",
          "6PM",
          "6PM",
          "6PM",
          "6PM",
          "6PM",
          "6PM",
          "6PM",
          "6PM",
          "6PM",
          "6PM",
          "6PM",
          "6PM",
          "6PM",
          "6PM",
          "6PM",
          "6PM",
          "6PM",
          "6PM",
          "6PM",
          "6PM",
          "6PM",
          "6PM",
          "6PM",
          "6PM",
          "6PM",
          "6PM",
          "6PM",
          "6PM",
          "6PM",
          "6PM",
          "6PM",
          "6PM",
          "6PM",
          "6PM",
          "6PM",
          "6PM",
          "6PM",
          "6PM",
          "6PM",
          "6PM",
          "6PM",
          "6PM",
          "6PM",
          "6PM",
          "6PM",
          "6PM",
          "6PM",
          "6PM",
          "6PM",
          "6PM",
          "6PM",
          "6PM",
          "6PM",
          "6PM",
          "6PM",
          "6PM",
          "6PM",
          "6PM",
          "6PM",
          "6PM",
          "6PM",
          "6PM",
          "6PM",
          "6PM",
          "6PM",
          "7AM",
          "7AM",
          "7AM",
          "7AM",
          "7AM",
          "7AM",
          "7AM",
          "7AM",
          "7AM",
          "7AM",
          "7AM",
          "7AM",
          "7AM",
          "7AM",
          "7AM",
          "7AM",
          "7AM",
          "7AM",
          "7AM",
          "7AM",
          "7AM",
          "7AM",
          "7AM",
          "7AM",
          "7AM",
          "7AM",
          "7AM",
          "7AM",
          "7AM",
          "7AM",
          "7AM",
          "7AM",
          "7AM",
          "7AM",
          "7AM",
          "7AM",
          "7AM",
          "7AM",
          "7AM",
          "7AM",
          "7AM",
          "7AM",
          "7AM",
          "7AM",
          "7AM",
          "7AM",
          "7AM",
          "7AM",
          "7AM",
          "7AM",
          "7AM",
          "7AM",
          "7AM",
          "7AM",
          "7AM",
          "7AM",
          "7AM",
          "7AM",
          "7AM",
          "7AM",
          "10AM",
          "10AM",
          "10AM",
          "10AM",
          "10AM",
          "10AM",
          "10AM",
          "10AM",
          "10AM",
          "10AM",
          "10AM",
          "10AM",
          "10AM",
          "10AM",
          "10AM",
          "10AM",
          "10AM",
          "10AM",
          "10AM",
          "10AM",
          "10AM",
          "10AM",
          "10AM",
          "10AM",
          "10AM",
          "10AM",
          "10AM",
          "10AM",
          "10AM",
          "10AM",
          "10AM",
          "10AM",
          "10AM",
          "10AM",
          "10AM",
          "10AM",
          "10AM",
          "10AM",
          "10AM",
          "10AM",
          "10AM",
          "10AM",
          "10AM",
          "10AM",
          "10AM",
          "10AM",
          "10AM",
          "10AM",
          "10AM",
          "10AM",
          "10AM",
          "10AM",
          "10AM",
          "10AM",
          "10AM",
          "10AM",
          "10AM",
          "10AM",
          "10AM",
          "10AM",
          "10AM",
          "10AM",
          "10AM",
          "10AM",
          "10AM",
          "10AM",
          "10AM",
          "10AM",
          "10AM",
          "10AM",
          "10AM",
          "10AM",
          "10AM",
          "10AM",
          "10AM",
          "10AM",
          "10AM",
          "10AM",
          "10AM",
          "10AM",
          "10AM",
          "10AM",
          "10AM",
          "10AM",
          "10AM",
          "10AM",
          "10AM",
          "10AM",
          "10AM",
          "10AM",
          "10AM",
          "10AM",
          "10AM",
          "10AM",
          "10AM",
          "10AM",
          "10AM",
          "10AM",
          "10AM",
          "10AM",
          "10AM",
          "10AM",
          "10AM",
          "10AM",
          "10AM",
          "10AM",
          "10PM",
          "10PM",
          "10PM",
          "10PM",
          "10PM",
          "10PM",
          "10PM",
          "10PM",
          "10PM",
          "10PM",
          "10PM",
          "10PM",
          "10PM",
          "10PM",
          "10PM",
          "10PM",
          "10PM",
          "10PM",
          "10PM",
          "10PM",
          "10PM",
          "10PM",
          "10PM",
          "10PM",
          "10PM",
          "10PM",
          "10PM",
          "10PM",
          "10PM",
          "10PM",
          "10PM",
          "10PM",
          "10PM",
          "10PM",
          "10PM",
          "10PM",
          "10PM",
          "10PM",
          "10PM",
          "10PM",
          "10PM",
          "10PM",
          "10PM",
          "10PM",
          "10PM",
          "10PM",
          "10PM",
          "10PM",
          "10PM",
          "10PM",
          "10PM",
          "10PM",
          "10PM",
          "10PM",
          "10PM",
          "2PM",
          "2PM",
          "2PM",
          "2PM",
          "2PM",
          "2PM",
          "2PM",
          "2PM",
          "2PM",
          "2PM",
          "2PM",
          "2PM",
          "2PM",
          "2PM",
          "2PM",
          "2PM",
          "2PM",
          "2PM",
          "2PM",
          "2PM",
          "2PM",
          "2PM",
          "2PM",
          "2PM",
          "2PM",
          "2PM",
          "2PM",
          "2PM",
          "2PM",
          "2PM",
          "2PM",
          "2PM",
          "2PM",
          "2PM",
          "2PM",
          "2PM",
          "2PM",
          "2PM",
          "2PM",
          "2PM",
          "2PM",
          "2PM",
          "2PM",
          "2PM",
          "2PM",
          "2PM",
          "2PM",
          "2PM",
          "2PM",
          "2PM",
          "2PM",
          "2PM",
          "2PM",
          "2PM",
          "2PM",
          "2PM",
          "2PM",
          "2PM",
          "2PM",
          "2PM",
          "2PM",
          "2PM",
          "2PM",
          "2PM",
          "2PM",
          "2PM",
          "2PM",
          "2PM",
          "2PM",
          "2PM",
          "2PM",
          "2PM",
          "2PM",
          "2PM",
          "2PM",
          "2PM",
          "2PM",
          "2PM",
          "2PM",
          "2PM",
          "2PM",
          "2PM",
          "2PM",
          "2PM",
          "2PM",
          "6PM",
          "6PM",
          "6PM",
          "6PM",
          "6PM",
          "6PM",
          "6PM",
          "6PM",
          "6PM",
          "6PM",
          "6PM",
          "6PM",
          "6PM",
          "6PM",
          "6PM",
          "6PM",
          "6PM",
          "6PM",
          "6PM",
          "6PM",
          "6PM",
          "6PM",
          "6PM",
          "6PM",
          "6PM",
          "6PM",
          "6PM",
          "6PM",
          "6PM",
          "6PM",
          "6PM",
          "6PM",
          "6PM",
          "6PM",
          "6PM",
          "6PM",
          "6PM",
          "6PM",
          "6PM",
          "6PM",
          "6PM",
          "6PM",
          "6PM",
          "6PM",
          "6PM",
          "6PM",
          "6PM",
          "6PM",
          "6PM",
          "6PM",
          "6PM",
          "6PM",
          "6PM",
          "6PM",
          "6PM",
          "6PM",
          "6PM",
          "6PM",
          "6PM",
          "6PM",
          "6PM",
          "6PM",
          "6PM",
          "6PM",
          "6PM",
          "6PM",
          "6PM",
          "6PM",
          "6PM",
          "6PM",
          "6PM",
          "6PM",
          "6PM",
          "6PM",
          "6PM",
          "6PM",
          "6PM",
          "6PM",
          "6PM",
          "6PM",
          "6PM",
          "6PM",
          "6PM",
          "6PM",
          "6PM",
          "6PM",
          "6PM",
          "6PM",
          "6PM",
          "6PM",
          "6PM",
          "6PM",
          "6PM",
          "6PM",
          "6PM",
          "6PM",
          "6PM",
          "6PM",
          "6PM",
          "6PM",
          "6PM",
          "6PM",
          "6PM",
          "6PM",
          "6PM",
          "6PM",
          "6PM",
          "6PM",
          "6PM",
          "7AM",
          "7AM",
          "7AM",
          "7AM",
          "7AM",
          "7AM",
          "7AM",
          "7AM",
          "7AM",
          "7AM",
          "7AM",
          "7AM",
          "7AM",
          "7AM",
          "7AM",
          "7AM",
          "7AM",
          "7AM",
          "7AM",
          "7AM",
          "7AM",
          "7AM",
          "7AM",
          "7AM",
          "7AM",
          "7AM",
          "7AM",
          "7AM",
          "7AM",
          "7AM",
          "7AM",
          "7AM",
          "7AM",
          "7AM",
          "7AM",
          "7AM",
          "7AM",
          "7AM",
          "7AM",
          "7AM",
          "7AM",
          "7AM",
          "7AM",
          "7AM",
          "7AM",
          "7AM",
          "7AM",
          "7AM",
          "10AM",
          "10AM",
          "10AM",
          "10AM",
          "10AM",
          "10AM",
          "10AM",
          "10AM",
          "10AM",
          "10AM",
          "10AM",
          "10AM",
          "10AM",
          "10AM",
          "10AM",
          "10AM",
          "10AM",
          "10AM",
          "10AM",
          "10AM",
          "10AM",
          "10AM",
          "10AM",
          "10AM",
          "10AM",
          "10AM",
          "10AM",
          "10AM",
          "10AM",
          "10AM",
          "10PM",
          "10PM",
          "10PM",
          "10PM",
          "10PM",
          "10PM",
          "10PM",
          "10PM",
          "10PM",
          "10PM",
          "10PM",
          "10PM",
          "10PM",
          "10PM",
          "10PM",
          "10PM",
          "10PM",
          "10PM",
          "10PM",
          "10PM",
          "10PM",
          "10PM",
          "10PM",
          "10PM",
          "10PM",
          "10PM",
          "10PM",
          "10PM",
          "10PM",
          "10PM",
          "10PM",
          "10PM",
          "10PM",
          "10PM",
          "10PM",
          "10PM",
          "10PM",
          "10PM",
          "10PM",
          "10PM",
          "10PM",
          "10PM",
          "10PM",
          "10PM",
          "10PM",
          "10PM",
          "10PM",
          "10PM",
          "10PM",
          "10PM",
          "10PM",
          "10PM",
          "10PM",
          "10PM",
          "10PM",
          "10PM",
          "10PM",
          "10PM",
          "10PM",
          "10PM",
          "10PM",
          "10PM",
          "10PM",
          "10PM",
          "10PM",
          "10PM",
          "10PM",
          "10PM",
          "10PM",
          "10PM",
          "10PM",
          "10PM",
          "10PM",
          "10PM",
          "10PM",
          "10PM",
          "10PM",
          "10PM",
          "10PM",
          "10PM",
          "10PM",
          "10PM",
          "10PM",
          "10PM",
          "10PM",
          "10PM",
          "10PM",
          "10PM",
          "10PM",
          "10PM",
          "10PM",
          "10PM",
          "10PM",
          "2PM",
          "2PM",
          "2PM",
          "2PM",
          "2PM",
          "2PM",
          "2PM",
          "2PM",
          "2PM",
          "2PM",
          "2PM",
          "2PM",
          "2PM",
          "2PM",
          "2PM",
          "2PM",
          "2PM",
          "2PM",
          "2PM",
          "2PM",
          "2PM",
          "2PM",
          "2PM",
          "2PM",
          "2PM",
          "2PM",
          "2PM",
          "2PM",
          "2PM",
          "2PM",
          "2PM",
          "2PM",
          "2PM",
          "2PM",
          "2PM",
          "2PM",
          "2PM",
          "2PM",
          "6PM",
          "6PM",
          "6PM",
          "6PM",
          "6PM",
          "6PM",
          "6PM",
          "6PM",
          "6PM",
          "6PM",
          "6PM",
          "6PM",
          "6PM",
          "6PM",
          "6PM",
          "6PM",
          "6PM",
          "6PM",
          "6PM",
          "6PM",
          "6PM",
          "6PM",
          "6PM",
          "6PM",
          "6PM",
          "6PM",
          "6PM",
          "6PM",
          "6PM",
          "6PM",
          "6PM",
          "6PM",
          "6PM",
          "6PM",
          "6PM",
          "6PM",
          "6PM",
          "6PM",
          "6PM",
          "6PM",
          "6PM",
          "6PM",
          "6PM",
          "6PM",
          "6PM",
          "6PM",
          "6PM",
          "6PM",
          "6PM",
          "6PM",
          "6PM",
          "6PM",
          "6PM",
          "6PM",
          "6PM",
          "6PM",
          "6PM",
          "6PM",
          "6PM",
          "6PM",
          "6PM",
          "6PM",
          "6PM",
          "6PM",
          "7AM",
          "7AM",
          "7AM",
          "7AM",
          "7AM",
          "7AM",
          "7AM",
          "7AM",
          "7AM",
          "7AM",
          "7AM",
          "7AM",
          "7AM",
          "7AM",
          "7AM",
          "7AM",
          "7AM",
          "7AM",
          "7AM",
          "7AM",
          "7AM",
          "7AM",
          "7AM",
          "7AM",
          "7AM",
          "7AM",
          "7AM",
          "7AM",
          "7AM",
          "7AM",
          "7AM",
          "7AM",
          "7AM",
          "7AM",
          "7AM",
          "7AM",
          "7AM",
          "7AM",
          "7AM",
          "7AM",
          "7AM",
          "7AM",
          "7AM",
          "10AM",
          "10AM",
          "10AM",
          "10AM",
          "10AM",
          "10AM",
          "10AM",
          "10AM",
          "10AM",
          "10AM",
          "10AM",
          "10AM",
          "10AM",
          "10AM",
          "10AM",
          "10AM",
          "10AM",
          "10AM",
          "10AM",
          "10AM",
          "10AM",
          "10AM",
          "10AM",
          "10AM",
          "10AM",
          "10AM",
          "10AM",
          "10AM",
          "10AM",
          "10AM",
          "10AM",
          "10AM",
          "10AM",
          "10AM",
          "10AM",
          "10AM",
          "10AM",
          "10AM",
          "10AM",
          "10AM",
          "10AM",
          "10AM",
          "10AM",
          "10AM",
          "10AM",
          "10AM",
          "10AM",
          "10AM",
          "10AM",
          "10AM",
          "10AM",
          "10AM",
          "10AM",
          "10AM",
          "10AM",
          "10AM",
          "10AM",
          "10AM",
          "10AM",
          "10AM",
          "10AM",
          "10AM",
          "10AM",
          "10AM",
          "10AM",
          "10AM",
          "10AM",
          "10AM",
          "10AM",
          "10AM",
          "10AM",
          "10AM",
          "10AM",
          "10AM",
          "10AM",
          "10AM",
          "10AM",
          "10AM",
          "10AM",
          "10AM",
          "10AM",
          "10AM",
          "10AM",
          "10PM",
          "10PM",
          "10PM",
          "10PM",
          "10PM",
          "10PM",
          "10PM",
          "10PM",
          "10PM",
          "10PM",
          "10PM",
          "10PM",
          "10PM",
          "10PM",
          "10PM",
          "10PM",
          "10PM",
          "10PM",
          "10PM",
          "10PM",
          "10PM",
          "10PM",
          "10PM",
          "10PM",
          "10PM",
          "10PM",
          "10PM",
          "10PM",
          "10PM",
          "10PM",
          "10PM",
          "10PM",
          "10PM",
          "10PM",
          "10PM",
          "10PM",
          "10PM",
          "10PM",
          "10PM",
          "10PM",
          "10PM",
          "10PM",
          "10PM",
          "10PM",
          "10PM",
          "10PM",
          "10PM",
          "10PM",
          "10PM",
          "10PM",
          "10PM",
          "10PM",
          "10PM",
          "10PM",
          "10PM",
          "10PM",
          "10PM",
          "10PM",
          "10PM",
          "10PM",
          "10PM",
          "10PM",
          "10PM",
          "10PM",
          "10PM",
          "10PM",
          "10PM",
          "10PM",
          "10PM",
          "10PM",
          "10PM",
          "10PM",
          "10PM",
          "10PM",
          "10PM",
          "10PM",
          "10PM",
          "10PM",
          "10PM",
          "10PM",
          "10PM",
          "10PM",
          "10PM",
          "10PM",
          "10PM",
          "10PM",
          "10PM",
          "10PM",
          "10PM",
          "10PM",
          "10PM",
          "2PM",
          "2PM",
          "2PM",
          "2PM",
          "2PM",
          "2PM",
          "2PM",
          "2PM",
          "2PM",
          "2PM",
          "2PM",
          "2PM",
          "2PM",
          "2PM",
          "2PM",
          "2PM",
          "2PM",
          "2PM",
          "2PM",
          "2PM",
          "2PM",
          "2PM",
          "2PM",
          "2PM",
          "2PM",
          "2PM",
          "2PM",
          "2PM",
          "2PM",
          "2PM",
          "2PM",
          "2PM",
          "2PM",
          "2PM",
          "2PM",
          "2PM",
          "2PM",
          "2PM",
          "2PM",
          "2PM",
          "2PM",
          "2PM",
          "2PM",
          "2PM",
          "2PM",
          "2PM",
          "2PM",
          "2PM",
          "2PM",
          "2PM",
          "2PM",
          "2PM",
          "2PM",
          "2PM",
          "2PM",
          "2PM",
          "2PM",
          "2PM",
          "2PM",
          "2PM",
          "2PM",
          "2PM",
          "2PM",
          "2PM",
          "2PM",
          "2PM",
          "2PM",
          "2PM",
          "2PM",
          "2PM",
          "2PM",
          "2PM",
          "2PM",
          "2PM",
          "2PM",
          "2PM",
          "2PM",
          "2PM",
          "2PM",
          "2PM",
          "2PM",
          "2PM",
          "2PM",
          "2PM",
          "2PM",
          "2PM",
          "2PM",
          "2PM",
          "2PM",
          "2PM",
          "2PM",
          "2PM",
          "2PM",
          "2PM",
          "2PM",
          "2PM",
          "2PM",
          "2PM",
          "2PM",
          "2PM",
          "2PM",
          "6PM",
          "6PM",
          "6PM",
          "6PM",
          "6PM",
          "6PM",
          "6PM",
          "6PM",
          "6PM",
          "6PM",
          "6PM",
          "6PM",
          "6PM",
          "6PM",
          "6PM",
          "6PM",
          "6PM",
          "6PM",
          "6PM",
          "6PM",
          "6PM",
          "6PM",
          "6PM",
          "6PM",
          "6PM",
          "6PM",
          "6PM",
          "6PM",
          "6PM",
          "6PM",
          "6PM",
          "6PM",
          "6PM",
          "6PM",
          "6PM",
          "6PM",
          "6PM",
          "6PM",
          "6PM",
          "6PM",
          "6PM",
          "6PM",
          "6PM",
          "6PM",
          "6PM",
          "6PM",
          "6PM",
          "6PM",
          "6PM",
          "6PM",
          "6PM",
          "6PM",
          "6PM",
          "6PM",
          "6PM",
          "6PM",
          "6PM",
          "6PM",
          "6PM",
          "6PM",
          "6PM",
          "6PM",
          "6PM",
          "6PM",
          "6PM",
          "6PM",
          "6PM",
          "6PM",
          "6PM",
          "6PM",
          "6PM",
          "6PM",
          "6PM",
          "6PM",
          "6PM",
          "6PM",
          "6PM",
          "6PM",
          "6PM",
          "6PM",
          "6PM",
          "6PM",
          "6PM",
          "6PM",
          "7AM",
          "7AM",
          "7AM",
          "7AM",
          "7AM",
          "7AM",
          "7AM",
          "7AM",
          "7AM",
          "7AM",
          "7AM",
          "7AM",
          "7AM",
          "7AM",
          "7AM",
          "7AM",
          "7AM",
          "7AM",
          "7AM",
          "7AM",
          "7AM",
          "7AM",
          "7AM",
          "7AM",
          "7AM",
          "7AM",
          "7AM",
          "7AM",
          "7AM",
          "7AM",
          "7AM",
          "7AM",
          "7AM",
          "7AM",
          "7AM",
          "7AM",
          "7AM",
          "7AM",
          "7AM",
          "7AM",
          "7AM",
          "7AM",
          "7AM",
          "7AM",
          "7AM",
          "7AM",
          "7AM",
          "7AM",
          "7AM",
          "7AM",
          "7AM",
          "7AM",
          "7AM",
          "7AM",
          "7AM",
          "7AM",
          "7AM",
          "7AM",
          "7AM",
          "7AM",
          "7AM",
          "7AM",
          "7AM",
          "7AM",
          "7AM",
          "7AM",
          "7AM"
         ],
         "x0": " ",
         "xaxis": "x",
         "y": [
          27.27272727272727,
          60,
          16.666666666666664,
          0,
          40,
          0,
          0,
          25,
          66.66666666666666,
          62.5,
          44.44444444444444,
          33.33333333333333,
          66.66666666666666,
          50,
          80,
          0,
          100,
          0,
          100,
          0,
          50,
          0,
          0,
          66.66666666666666,
          55.55555555555556,
          0,
          100,
          33.33333333333333,
          0,
          25,
          40,
          60,
          16.666666666666664,
          20,
          50,
          8.333333333333332,
          50,
          66.66666666666666,
          77.77777777777779,
          11.11111111111111,
          14.285714285714285,
          66.66666666666666,
          50,
          50,
          80,
          54.54545454545454,
          70,
          50,
          100,
          0,
          33.33333333333333,
          100,
          58.82352941176471,
          90,
          25,
          50,
          100,
          50,
          50,
          50,
          0,
          16.666666666666664,
          8.333333333333332,
          11.11111111111111,
          0,
          0,
          12.5,
          100,
          60,
          0,
          0,
          0,
          16.666666666666664,
          50,
          16.666666666666664,
          33.33333333333333,
          0,
          0,
          0,
          25,
          40,
          100,
          0,
          25,
          0,
          0,
          0,
          0,
          33.33333333333333,
          100,
          28.57142857142857,
          50,
          66.66666666666666,
          50,
          18.181818181818183,
          100,
          71.42857142857143,
          46.666666666666664,
          85.71428571428571,
          28.57142857142857,
          50,
          66.66666666666666,
          16.666666666666664,
          0,
          50,
          0,
          33.33333333333333,
          50,
          0,
          0,
          100,
          0,
          0,
          0,
          0,
          0,
          0,
          50,
          0,
          0,
          25,
          0,
          0,
          60,
          0,
          100,
          0,
          50,
          40,
          25,
          50,
          0,
          50,
          0,
          40,
          50,
          0,
          0,
          0,
          40,
          33.33333333333333,
          66.66666666666666,
          33.33333333333333,
          0,
          100,
          11.11111111111111,
          44.44444444444444,
          80,
          0,
          50,
          0,
          100,
          54.54545454545454,
          80,
          16.666666666666664,
          33.33333333333333,
          60,
          0,
          0,
          50,
          88.88888888888889,
          62.5,
          88.88888888888889,
          33.33333333333333,
          100,
          50,
          100,
          50,
          54.54545454545454,
          80,
          16.666666666666664,
          33.33333333333333,
          60,
          0,
          16.666666666666664,
          50,
          88.88888888888889,
          75,
          66.66666666666666,
          33.33333333333333,
          66.66666666666666,
          50,
          100,
          50,
          44.44444444444444,
          16.666666666666664,
          0,
          50,
          0,
          33.33333333333333,
          22.22222222222222,
          50,
          22.22222222222222,
          45.45454545454545,
          75,
          40,
          50,
          50,
          0,
          40,
          0,
          0,
          0,
          75,
          25,
          33.33333333333333,
          100,
          50,
          50,
          0,
          50,
          0,
          0,
          100,
          22.22222222222222,
          33.33333333333333,
          18.181818181818183,
          25,
          100,
          0,
          22.22222222222222,
          50,
          44.44444444444444,
          54.54545454545454,
          62.5,
          40,
          50,
          50,
          100,
          40,
          66.66666666666666,
          33.33333333333333,
          0,
          0,
          100,
          0,
          0,
          100,
          0,
          0,
          50,
          100,
          50,
          0,
          40,
          33.33333333333333,
          0,
          20,
          30,
          0,
          25,
          100,
          0,
          16.666666666666664,
          66.66666666666666,
          0,
          25,
          33.33333333333333,
          0,
          40,
          50,
          100,
          100,
          50,
          100,
          66.66666666666666,
          100,
          100,
          63.63636363636363,
          65,
          57.89473684210527,
          37.5,
          63.63636363636363,
          28.57142857142857,
          46.15384615384615,
          100,
          73.91304347826086,
          47.368421052631575,
          85.71428571428571,
          70,
          60,
          57.14285714285714,
          60,
          50,
          0,
          80,
          14.285714285714285,
          25,
          33.33333333333333,
          50,
          18.181818181818183,
          0,
          71.42857142857143,
          40,
          57.14285714285714,
          0,
          0,
          66.66666666666666,
          16.666666666666664,
          0,
          80,
          57.14285714285714,
          66.66666666666666,
          50,
          100,
          100,
          50,
          0,
          45.45454545454545,
          50,
          50,
          71.42857142857143,
          80,
          100,
          0,
          0,
          36.36363636363637,
          16.666666666666664,
          7.6923076923076925,
          50,
          50,
          0,
          22.22222222222222,
          50,
          50,
          26.666666666666668,
          50,
          42.857142857142854,
          0,
          50,
          50,
          20,
          27.27272727272727,
          40,
          0,
          0,
          20,
          0,
          0,
          50,
          55.55555555555556,
          50,
          66.66666666666666,
          33.33333333333333,
          33.33333333333333,
          100,
          80,
          50,
          18.181818181818183,
          16.666666666666664,
          15.384615384615385,
          25,
          0,
          25,
          20,
          50,
          33.33333333333333,
          33.33333333333333,
          37.5,
          28.57142857142857,
          50,
          50,
          50,
          20,
          54.54545454545454,
          57.14285714285714,
          31.57894736842105,
          25,
          36.36363636363637,
          28.57142857142857,
          38.46153846153847,
          0,
          65.21739130434783,
          45,
          33.33333333333333,
          50,
          44.44444444444444,
          42.857142857142854,
          33.33333333333333,
          0,
          0,
          66.66666666666666,
          100,
          100,
          100,
          100,
          50,
          100,
          0,
          100,
          66.66666666666666,
          66.66666666666666,
          66.66666666666666,
          0,
          66.66666666666666,
          0,
          100,
          60,
          42.857142857142854,
          100,
          16.666666666666664,
          100,
          72.72727272727273,
          100,
          71.42857142857143,
          80,
          71.42857142857143,
          100,
          50,
          66.66666666666666,
          100,
          100,
          100,
          100,
          100,
          50,
          100,
          100,
          100,
          100,
          50,
          100,
          100,
          72.72727272727273,
          80,
          50,
          50,
          60,
          100,
          83.33333333333334,
          50,
          66.66666666666666,
          50,
          88.88888888888889,
          100,
          100,
          50,
          80,
          50,
          60,
          66.66666666666666,
          70.58823529411765,
          50,
          45.45454545454545,
          66.66666666666666,
          58.333333333333336,
          100,
          60,
          37.5,
          57.14285714285714,
          87.5,
          70,
          71.42857142857143,
          73.33333333333333,
          100,
          100,
          83.33333333333334,
          91.66666666666666,
          55.55555555555556,
          54.54545454545454,
          100,
          87.5,
          100,
          60,
          75,
          80,
          60,
          83.33333333333334,
          66.66666666666666,
          0,
          100,
          50,
          50,
          100,
          25,
          100,
          100,
          75,
          66.66666666666666,
          75,
          80,
          100,
          100,
          100,
          100,
          100,
          66.66666666666666,
          80,
          57.14285714285714,
          100,
          50,
          100,
          63.63636363636363,
          100,
          71.42857142857143,
          86.66666666666667,
          71.42857142857143,
          100,
          100,
          33.33333333333333,
          66.66666666666666,
          0,
          50,
          0,
          0,
          100,
          83.33333333333334,
          83.33333333333334,
          100,
          50,
          100,
          100,
          100,
          100,
          60,
          50,
          66.66666666666666,
          33.33333333333333,
          0,
          100,
          66.66666666666666,
          100,
          66.66666666666666,
          100,
          100,
          0,
          100,
          85.71428571428571,
          75,
          91.66666666666666,
          83.33333333333334,
          100,
          100,
          69.23076923076923,
          100,
          83.33333333333334,
          69.23076923076923,
          88.88888888888889,
          88.88888888888889,
          100,
          50,
          100,
          100,
          0,
          66.66666666666666,
          20,
          100,
          0,
          100,
          0,
          50,
          33.33333333333333,
          0,
          0,
          88.88888888888889,
          83.33333333333334,
          63.63636363636363,
          75,
          100,
          100,
          88.88888888888889,
          50,
          88.88888888888889,
          90.9090909090909,
          87.5,
          80,
          50,
          100,
          100,
          80,
          50,
          100,
          50,
          100,
          100,
          100,
          66.66666666666666,
          62.5,
          80,
          100,
          100,
          0,
          100,
          100,
          100,
          100,
          94.11764705882352,
          75,
          90.9090909090909,
          66.66666666666666,
          91.66666666666666,
          100,
          85,
          87.5,
          85.71428571428571,
          87.5,
          90,
          57.14285714285714,
          86.66666666666667,
          100,
          100,
          66.66666666666666,
          0,
          50,
          100,
          100,
          0,
          0,
          100,
          100,
          100,
          100,
          100,
          0,
          66.66666666666666,
          0,
          50,
          100,
          83.33333333333334,
          100,
          83.33333333333334,
          100,
          50,
          100,
          100,
          100,
          100,
          92.85714285714286,
          80,
          61.53846153846154,
          60,
          72.72727272727273,
          100,
          88.23529411764706,
          100,
          93.33333333333333,
          82.6086956521739,
          75,
          90,
          100,
          80,
          100,
          66.66666666666666,
          80,
          81.81818181818183,
          64.70588235294117,
          80,
          85.71428571428571,
          100,
          80,
          100,
          77.77777777777779,
          84.21052631578947,
          82.35294117647058,
          75,
          100,
          100,
          100,
          71.42857142857143,
          100,
          100,
          100,
          75,
          100,
          100,
          100,
          100,
          0,
          100,
          100,
          65,
          36.36363636363637,
          23.52941176470588,
          50,
          71.42857142857143,
          75,
          53.333333333333336,
          33.33333333333333,
          55.55555555555556,
          52.63157894736842,
          64.70588235294117,
          37.5,
          60,
          0,
          57.14285714285714,
          14.285714285714285,
          66.66666666666666,
          50,
          63.63636363636363,
          75,
          100,
          33.33333333333333,
          70,
          50,
          66.66666666666666,
          75,
          75,
          80,
          50,
          0,
          0,
          40,
          50,
          50,
          75,
          100,
          0,
          50,
          100,
          33.33333333333333,
          100,
          0,
          0,
          50,
          61.224489795918366,
          68.33333333333333,
          80,
          60.86956521739131,
          59.09090909090909,
          81.81818181818183,
          82.22222222222221,
          80,
          69.49152542372882,
          77.5,
          70.37037037037037,
          76.19047619047619,
          83.33333333333334,
          66.66666666666666,
          73.68421052631578,
          93.33333333333333,
          88.88888888888889,
          20,
          81.81818181818183,
          100,
          50,
          66.66666666666666,
          11.11111111111111,
          100,
          66.66666666666666,
          60,
          87.5,
          60,
          50,
          0,
          50,
          100,
          100,
          100,
          100,
          100,
          100,
          63.63636363636363,
          77.77777777777779,
          75,
          50,
          50,
          100,
          0,
          64.70588235294117,
          50,
          50,
          0,
          100,
          100,
          50,
          100,
          66.66666666666666,
          100,
          100,
          100,
          100,
          75,
          50,
          100,
          100,
          100,
          100,
          50,
          42.857142857142854,
          47.368421052631575,
          55.55555555555556,
          87.5,
          80,
          60,
          66.66666666666666,
          65.21739130434783,
          54.83870967741935,
          70.58823529411765,
          53.84615384615385,
          20,
          83.33333333333334,
          66.66666666666666,
          66.66666666666666,
          65.625,
          72.22222222222221,
          66.66666666666666,
          78.57142857142857,
          75,
          62.5,
          54.166666666666664,
          33.33333333333333,
          65.71428571428571,
          64,
          56.25,
          60,
          69.23076923076923,
          88.88888888888889,
          58.82352941176471,
          85.71428571428571,
          100,
          33.33333333333333,
          66.66666666666666,
          100,
          0,
          50,
          66.66666666666666,
          66.66666666666666,
          100,
          33.33333333333333,
          100,
          77.27272727272727,
          66.66666666666666,
          70.58823529411765,
          50,
          0,
          100,
          50,
          50,
          40.909090909090914,
          41.66666666666667,
          50,
          71.42857142857143,
          90,
          100,
          33.33333333333333,
          100,
          27.27272727272727,
          25,
          28.57142857142857,
          0,
          20,
          100,
          50,
          50,
          61.53846153846154,
          8.333333333333332,
          36.36363636363637,
          75,
          75,
          66.66666666666666,
          50,
          0,
          0,
          0,
          33.33333333333333,
          0,
          20,
          100,
          33.33333333333333,
          0,
          22.22222222222222,
          0,
          22.22222222222222,
          66.66666666666666,
          0,
          0,
          40,
          50,
          100,
          50,
          0,
          100,
          66.66666666666666,
          100,
          0,
          88.88888888888889,
          50,
          63.63636363636363,
          100,
          50,
          100,
          33.33333333333333,
          100,
          77.77777777777779,
          40,
          75,
          80,
          100,
          100,
          0,
          100,
          100,
          100,
          33.33333333333333,
          50,
          50,
          0,
          0,
          33.33333333333333,
          33.33333333333333,
          66.66666666666666,
          0,
          66.66666666666666,
          100,
          56.52173913043478,
          69.23076923076923,
          71.42857142857143,
          33.33333333333333,
          85.71428571428571,
          66.66666666666666,
          40,
          33.33333333333333,
          56.25,
          42.10526315789473,
          53.84615384615385,
          55.55555555555556,
          60,
          50,
          62.5,
          100,
          75,
          50,
          20,
          33.33333333333333,
          62.5,
          100,
          62.5,
          100,
          100,
          12.5,
          42.857142857142854,
          0,
          100,
          100,
          62.745098039215684,
          75,
          48.64864864864865,
          75,
          50,
          25,
          33.33333333333333,
          100,
          54.385964912280706,
          52.38095238095239,
          61.111111111111114,
          11.11111111111111,
          50,
          68.75,
          41.66666666666667,
          100,
          100,
          33.33333333333333,
          40,
          100,
          0,
          100,
          50,
          50,
          66.66666666666666,
          0,
          100,
          60,
          50,
          40,
          50,
          0,
          0,
          0,
          42.857142857142854,
          0,
          100,
          80,
          0,
          100,
          100,
          100,
          75,
          25,
          66.66666666666666,
          100,
          100,
          0,
          66.66666666666666,
          100,
          100,
          100,
          0,
          60,
          60,
          11.11111111111111,
          50,
          33.33333333333333,
          33.33333333333333,
          50,
          0,
          50,
          33.33333333333333,
          42.857142857142854,
          33.33333333333333,
          50,
          33.33333333333333,
          33.33333333333333,
          100,
          100,
          50,
          0,
          100,
          100,
          50,
          0,
          33.33333333333333,
          37.68115942028986,
          35.294117647058826,
          30.76923076923077,
          34.61538461538461,
          21.428571428571427,
          30,
          28.57142857142857,
          33.80281690140845,
          54.90196078431373,
          17.647058823529413,
          30.303030303030305,
          47.368421052631575,
          25,
          28.57142857142857,
          76.47058823529412,
          0,
          100,
          66.66666666666666,
          0,
          50,
          0,
          0,
          33.33333333333333,
          60,
          66.66666666666666,
          0,
          66.66666666666666,
          100,
          60,
          60,
          44.44444444444444,
          25,
          50,
          66.66666666666666,
          33.33333333333333,
          0,
          60,
          57.89473684210527,
          42.857142857142854,
          33.33333333333333,
          0,
          100,
          33.33333333333333,
          100,
          60,
          33.33333333333333,
          33.33333333333333,
          33.33333333333333,
          27.27272727272727,
          50,
          12.5,
          100,
          60,
          12.5,
          20,
          20,
          33.33333333333333,
          33.33333333333333,
          50,
          73.33333333333333,
          63.63636363636363,
          75,
          62.5,
          16.666666666666664,
          57.14285714285714,
          100,
          50,
          60,
          36.36363636363637,
          66.66666666666666,
          50,
          60,
          41.66666666666667,
          66.66666666666666,
          81.81818181818183,
          40,
          83.33333333333334,
          66.66666666666666,
          60,
          100,
          100,
          100,
          66.66666666666666,
          62.5,
          44.44444444444444,
          100,
          66.66666666666666,
          50,
          100,
          50,
          37.03703703703704,
          34.54545454545455,
          32.608695652173914,
          22.727272727272727,
          37.03703703703704,
          14.285714285714285,
          21.62162162162162,
          0,
          41.37931034482759,
          37.77777777777778,
          39.130434782608695,
          32,
          47.82608695652174,
          18.75,
          18.75,
          66.66666666666666,
          62.857142857142854,
          47.368421052631575,
          53.125,
          50,
          58.333333333333336,
          37.5,
          44.11764705882353,
          66.66666666666666,
          40.476190476190474,
          54.54545454545454,
          46.15384615384615,
          76.19047619047619,
          37.5,
          100,
          50,
          93.33333333333333,
          50,
          33.33333333333333,
          100,
          50,
          100,
          0,
          100,
          100,
          33.33333333333333,
          50,
          50,
          100,
          50,
          0,
          72.72727272727273,
          50,
          87.5,
          50,
          100,
          100,
          50,
          100,
          27.27272727272727,
          83.33333333333334,
          50,
          85.71428571428571,
          100,
          50,
          57.14285714285714,
          0,
          50,
          0,
          0,
          100,
          20,
          42.857142857142854,
          60,
          66.66666666666666,
          25,
          100,
          20,
          0,
          0,
          0,
          0,
          20,
          28.57142857142857,
          50,
          16.666666666666664,
          0,
          18.181818181818183,
          0,
          28.57142857142857,
          26.666666666666668,
          0,
          28.57142857142857,
          0,
          33.33333333333333,
          0,
          100,
          0,
          0,
          0,
          0,
          50,
          50,
          25,
          50,
          0,
          28.57142857142857,
          0,
          25,
          33.33333333333333,
          50,
          25,
          50,
          50,
          18.181818181818183,
          50,
          53.333333333333336,
          40,
          66.66666666666666,
          66.66666666666666,
          33.33333333333333,
          40,
          23.52941176470588,
          56.25,
          30,
          40,
          75,
          50,
          50,
          50,
          0,
          0,
          0,
          0,
          25,
          0,
          0,
          0,
          0,
          50,
          0,
          50,
          100,
          50,
          100,
          0,
          33.33333333333333,
          50,
          50,
          50,
          33.33333333333333,
          20,
          50,
          100,
          0,
          0,
          66.66666666666666,
          33.33333333333333,
          100,
          100,
          60,
          100,
          44.44444444444444,
          83.33333333333334,
          66.66666666666666,
          75,
          33.33333333333333,
          0,
          50,
          50,
          50,
          54.54545454545454,
          0,
          25,
          33.33333333333333,
          16.666666666666664,
          100,
          0,
          33.33333333333333,
          66.66666666666666,
          33.33333333333333,
          66.66666666666666,
          100,
          50,
          20,
          100,
          50,
          50,
          75,
          100,
          0,
          100,
          100,
          100,
          100,
          100,
          100,
          50,
          100,
          0,
          50,
          100,
          60,
          42.857142857142854,
          80,
          33.33333333333333,
          25,
          100,
          40,
          44,
          42.30769230769231,
          55.00000000000001,
          27.27272727272727,
          41.66666666666667,
          71.42857142857143,
          33.33333333333333,
          100,
          46.42857142857143,
          50,
          88.88888888888889,
          62.5,
          33.33333333333333,
          37.5,
          26.666666666666668,
          20,
          100,
          0,
          100,
          100,
          50,
          63.63636363636363,
          60,
          50,
          50,
          80,
          100,
          33.33333333333333,
          100,
          66.66666666666666,
          75,
          55.55555555555556,
          66.66666666666666,
          66.66666666666666,
          50,
          80,
          50,
          66.66666666666666,
          66.66666666666666,
          40,
          100,
          0,
          0,
          0,
          50,
          66.66666666666666,
          100,
          100,
          0,
          0,
          100,
          0,
          50,
          100,
          0,
          100,
          50,
          50,
          25,
          0,
          100,
          0,
          0,
          0,
          33.33333333333333,
          40,
          14.285714285714285,
          100,
          33.33333333333333,
          50,
          36.36363636363637,
          0,
          28.57142857142857,
          46.666666666666664,
          14.285714285714285,
          71.42857142857143,
          100,
          0,
          33.33333333333333,
          100,
          22.22222222222222,
          43.75,
          42.30769230769231,
          23.52941176470588,
          38.88888888888889,
          50,
          25.925925925925924,
          40,
          57.89473684210527,
          50,
          27.77777777777778,
          54.54545454545454,
          33.33333333333333,
          30,
          55.00000000000001,
          25,
          100,
          50,
          50,
          100,
          100,
          66.66666666666666,
          66.66666666666666,
          75,
          80,
          100,
          100,
          100,
          100,
          100,
          66.66666666666666,
          100,
          100,
          50,
          50,
          0,
          100,
          100,
          66.66666666666666,
          100,
          100,
          100,
          50,
          100,
          100,
          0,
          50,
          100,
          50,
          85.71428571428571,
          80,
          66.66666666666666,
          25,
          100,
          60,
          81.81818181818183,
          80,
          66.66666666666666,
          50,
          60,
          100,
          50,
          75,
          66.66666666666666,
          50,
          66.66666666666666,
          66.66666666666666,
          100,
          50,
          100,
          100,
          100,
          100,
          100,
          100,
          100,
          100,
          100,
          100,
          100,
          100,
          100,
          100,
          83.33333333333334,
          83.33333333333334,
          55.55555555555556,
          45.45454545454545,
          50,
          50,
          100,
          60,
          37.5,
          40,
          80,
          50,
          66.66666666666666,
          100,
          100,
          100,
          22.22222222222222,
          16.666666666666664,
          9.090909090909092,
          25,
          0,
          0,
          0,
          50,
          50,
          27.27272727272727,
          37.5,
          20,
          0,
          0,
          0,
          20,
          50,
          14.285714285714285,
          75,
          0,
          50,
          50,
          100,
          66.66666666666666,
          50,
          100,
          100,
          100,
          0,
          33.33333333333333,
          100,
          41.66666666666667,
          43.75,
          70,
          33.33333333333333,
          20,
          50,
          33.33333333333333,
          50,
          40,
          44.44444444444444,
          33.33333333333333,
          42.857142857142854,
          33.33333333333333,
          50,
          0,
          20,
          66.66666666666666,
          80,
          57.14285714285714,
          25,
          50,
          100,
          45.45454545454545,
          100,
          71.42857142857143,
          80,
          57.14285714285714,
          57.14285714285714,
          50,
          66.66666666666666,
          16.666666666666664,
          100,
          44.44444444444444,
          50,
          72.72727272727273,
          75,
          100,
          66.66666666666666,
          77.77777777777779,
          100,
          77.77777777777779,
          81.81818181818183,
          75,
          80,
          50,
          100,
          50,
          80,
          100,
          0,
          100,
          100,
          100,
          0,
          100,
          100,
          88.88888888888889,
          66.66666666666666,
          66.66666666666666,
          100,
          100,
          0,
          33.33333333333333,
          0,
          100,
          0,
          100,
          100,
          55.55555555555556,
          33.33333333333333,
          100,
          0,
          0,
          90.9090909090909,
          100,
          66.66666666666666,
          50,
          60,
          100,
          100,
          75,
          66.66666666666666,
          75,
          77.77777777777779,
          100,
          100,
          100,
          100,
          50,
          95,
          95.23809523809523,
          100,
          75,
          90.9090909090909,
          100,
          100,
          100,
          90,
          100,
          100,
          100,
          100,
          100,
          93.33333333333333,
          100,
          100,
          100,
          88.88888888888889,
          62.5,
          66.66666666666666,
          100,
          33.33333333333333,
          100,
          0,
          100,
          100,
          100,
          60,
          40,
          83.33333333333334,
          100,
          33.33333333333333,
          50,
          100,
          22.22222222222222,
          88.88888888888889,
          50,
          100,
          100,
          0,
          100,
          73.91304347826086,
          88.46153846153845,
          92.85714285714286,
          66.66666666666666,
          71.42857142857143,
          100,
          60,
          100,
          87.5,
          89.47368421052632,
          69.23076923076923,
          77.77777777777779,
          100,
          75,
          100,
          71.42857142857143,
          100,
          100,
          100,
          77.77777777777779,
          80,
          50,
          62.5,
          100,
          100,
          12.5,
          80,
          100,
          83.33333333333334,
          50,
          100,
          100,
          0,
          0,
          100,
          50,
          100,
          100,
          100,
          100,
          0,
          100,
          100,
          100,
          100,
          66.66666666666666,
          100,
          100,
          100,
          50,
          100,
          100,
          33.33333333333333,
          0,
          76.19047619047619,
          71.42857142857143,
          76.19047619047619,
          70,
          71.42857142857143,
          80,
          61.904761904761905,
          75,
          83.33333333333334,
          80,
          76.47058823529412,
          75,
          80,
          75,
          75,
          90,
          66.66666666666666,
          50,
          100,
          66.66666666666666,
          75,
          100,
          100,
          80,
          100,
          100,
          100,
          100,
          86.04651162790698,
          92.85714285714286,
          90.9090909090909,
          70,
          71.42857142857143,
          88.88888888888889,
          80,
          85.71428571428571,
          81.81818181818183,
          72.72727272727273,
          92,
          83.33333333333334,
          100,
          81.81818181818183,
          86.36363636363636,
          88.88888888888889,
          100,
          100,
          100,
          100,
          100,
          100,
          100,
          100,
          81.81818181818183,
          100,
          100,
          85.71428571428571,
          100,
          100,
          100,
          100,
          40,
          28.57142857142857,
          27.27272727272727,
          40,
          14.285714285714285,
          0,
          35.714285714285715,
          25,
          26.666666666666668,
          35,
          33.33333333333333,
          42.857142857142854,
          25,
          25,
          50,
          50,
          57.14285714285714,
          14.285714285714285,
          33.33333333333333,
          20,
          14.285714285714285,
          33.33333333333333,
          28.57142857142857,
          75,
          33.33333333333333,
          41.66666666666667,
          33.33333333333333,
          33.33333333333333,
          0,
          50,
          50,
          0,
          0,
          33.33333333333333,
          100,
          60,
          85.71428571428571,
          82.35294117647058,
          62.5,
          80,
          100,
          91.66666666666666,
          100,
          90,
          93.75,
          71.42857142857143,
          100,
          80,
          71.42857142857143,
          71.42857142857143,
          100,
          100,
          60,
          88.88888888888889,
          100,
          66.66666666666666,
          100,
          70.58823529411765,
          0,
          76.47058823529412,
          90.47619047619048,
          40,
          72.72727272727273,
          100,
          100,
          80,
          66.66666666666666
         ],
         "y0": " ",
         "yaxis": "y"
        }
       ],
       "layout": {
        "autosize": true,
        "boxmode": "group",
        "legend": {
         "tracegroupgap": 0
        },
        "margin": {
         "t": 60
        },
        "template": {
         "data": {
          "bar": [
           {
            "error_x": {
             "color": "#2a3f5f"
            },
            "error_y": {
             "color": "#2a3f5f"
            },
            "marker": {
             "line": {
              "color": "#E5ECF6",
              "width": 0.5
             },
             "pattern": {
              "fillmode": "overlay",
              "size": 10,
              "solidity": 0.2
             }
            },
            "type": "bar"
           }
          ],
          "barpolar": [
           {
            "marker": {
             "line": {
              "color": "#E5ECF6",
              "width": 0.5
             },
             "pattern": {
              "fillmode": "overlay",
              "size": 10,
              "solidity": 0.2
             }
            },
            "type": "barpolar"
           }
          ],
          "carpet": [
           {
            "aaxis": {
             "endlinecolor": "#2a3f5f",
             "gridcolor": "white",
             "linecolor": "white",
             "minorgridcolor": "white",
             "startlinecolor": "#2a3f5f"
            },
            "baxis": {
             "endlinecolor": "#2a3f5f",
             "gridcolor": "white",
             "linecolor": "white",
             "minorgridcolor": "white",
             "startlinecolor": "#2a3f5f"
            },
            "type": "carpet"
           }
          ],
          "choropleth": [
           {
            "colorbar": {
             "outlinewidth": 0,
             "ticks": ""
            },
            "type": "choropleth"
           }
          ],
          "contour": [
           {
            "colorbar": {
             "outlinewidth": 0,
             "ticks": ""
            },
            "colorscale": [
             [
              0,
              "#0d0887"
             ],
             [
              0.1111111111111111,
              "#46039f"
             ],
             [
              0.2222222222222222,
              "#7201a8"
             ],
             [
              0.3333333333333333,
              "#9c179e"
             ],
             [
              0.4444444444444444,
              "#bd3786"
             ],
             [
              0.5555555555555556,
              "#d8576b"
             ],
             [
              0.6666666666666666,
              "#ed7953"
             ],
             [
              0.7777777777777778,
              "#fb9f3a"
             ],
             [
              0.8888888888888888,
              "#fdca26"
             ],
             [
              1,
              "#f0f921"
             ]
            ],
            "type": "contour"
           }
          ],
          "contourcarpet": [
           {
            "colorbar": {
             "outlinewidth": 0,
             "ticks": ""
            },
            "type": "contourcarpet"
           }
          ],
          "heatmap": [
           {
            "colorbar": {
             "outlinewidth": 0,
             "ticks": ""
            },
            "colorscale": [
             [
              0,
              "#0d0887"
             ],
             [
              0.1111111111111111,
              "#46039f"
             ],
             [
              0.2222222222222222,
              "#7201a8"
             ],
             [
              0.3333333333333333,
              "#9c179e"
             ],
             [
              0.4444444444444444,
              "#bd3786"
             ],
             [
              0.5555555555555556,
              "#d8576b"
             ],
             [
              0.6666666666666666,
              "#ed7953"
             ],
             [
              0.7777777777777778,
              "#fb9f3a"
             ],
             [
              0.8888888888888888,
              "#fdca26"
             ],
             [
              1,
              "#f0f921"
             ]
            ],
            "type": "heatmap"
           }
          ],
          "heatmapgl": [
           {
            "colorbar": {
             "outlinewidth": 0,
             "ticks": ""
            },
            "colorscale": [
             [
              0,
              "#0d0887"
             ],
             [
              0.1111111111111111,
              "#46039f"
             ],
             [
              0.2222222222222222,
              "#7201a8"
             ],
             [
              0.3333333333333333,
              "#9c179e"
             ],
             [
              0.4444444444444444,
              "#bd3786"
             ],
             [
              0.5555555555555556,
              "#d8576b"
             ],
             [
              0.6666666666666666,
              "#ed7953"
             ],
             [
              0.7777777777777778,
              "#fb9f3a"
             ],
             [
              0.8888888888888888,
              "#fdca26"
             ],
             [
              1,
              "#f0f921"
             ]
            ],
            "type": "heatmapgl"
           }
          ],
          "histogram": [
           {
            "marker": {
             "pattern": {
              "fillmode": "overlay",
              "size": 10,
              "solidity": 0.2
             }
            },
            "type": "histogram"
           }
          ],
          "histogram2d": [
           {
            "colorbar": {
             "outlinewidth": 0,
             "ticks": ""
            },
            "colorscale": [
             [
              0,
              "#0d0887"
             ],
             [
              0.1111111111111111,
              "#46039f"
             ],
             [
              0.2222222222222222,
              "#7201a8"
             ],
             [
              0.3333333333333333,
              "#9c179e"
             ],
             [
              0.4444444444444444,
              "#bd3786"
             ],
             [
              0.5555555555555556,
              "#d8576b"
             ],
             [
              0.6666666666666666,
              "#ed7953"
             ],
             [
              0.7777777777777778,
              "#fb9f3a"
             ],
             [
              0.8888888888888888,
              "#fdca26"
             ],
             [
              1,
              "#f0f921"
             ]
            ],
            "type": "histogram2d"
           }
          ],
          "histogram2dcontour": [
           {
            "colorbar": {
             "outlinewidth": 0,
             "ticks": ""
            },
            "colorscale": [
             [
              0,
              "#0d0887"
             ],
             [
              0.1111111111111111,
              "#46039f"
             ],
             [
              0.2222222222222222,
              "#7201a8"
             ],
             [
              0.3333333333333333,
              "#9c179e"
             ],
             [
              0.4444444444444444,
              "#bd3786"
             ],
             [
              0.5555555555555556,
              "#d8576b"
             ],
             [
              0.6666666666666666,
              "#ed7953"
             ],
             [
              0.7777777777777778,
              "#fb9f3a"
             ],
             [
              0.8888888888888888,
              "#fdca26"
             ],
             [
              1,
              "#f0f921"
             ]
            ],
            "type": "histogram2dcontour"
           }
          ],
          "mesh3d": [
           {
            "colorbar": {
             "outlinewidth": 0,
             "ticks": ""
            },
            "type": "mesh3d"
           }
          ],
          "parcoords": [
           {
            "line": {
             "colorbar": {
              "outlinewidth": 0,
              "ticks": ""
             }
            },
            "type": "parcoords"
           }
          ],
          "pie": [
           {
            "automargin": true,
            "type": "pie"
           }
          ],
          "scatter": [
           {
            "fillpattern": {
             "fillmode": "overlay",
             "size": 10,
             "solidity": 0.2
            },
            "type": "scatter"
           }
          ],
          "scatter3d": [
           {
            "line": {
             "colorbar": {
              "outlinewidth": 0,
              "ticks": ""
             }
            },
            "marker": {
             "colorbar": {
              "outlinewidth": 0,
              "ticks": ""
             }
            },
            "type": "scatter3d"
           }
          ],
          "scattercarpet": [
           {
            "marker": {
             "colorbar": {
              "outlinewidth": 0,
              "ticks": ""
             }
            },
            "type": "scattercarpet"
           }
          ],
          "scattergeo": [
           {
            "marker": {
             "colorbar": {
              "outlinewidth": 0,
              "ticks": ""
             }
            },
            "type": "scattergeo"
           }
          ],
          "scattergl": [
           {
            "marker": {
             "colorbar": {
              "outlinewidth": 0,
              "ticks": ""
             }
            },
            "type": "scattergl"
           }
          ],
          "scattermapbox": [
           {
            "marker": {
             "colorbar": {
              "outlinewidth": 0,
              "ticks": ""
             }
            },
            "type": "scattermapbox"
           }
          ],
          "scatterpolar": [
           {
            "marker": {
             "colorbar": {
              "outlinewidth": 0,
              "ticks": ""
             }
            },
            "type": "scatterpolar"
           }
          ],
          "scatterpolargl": [
           {
            "marker": {
             "colorbar": {
              "outlinewidth": 0,
              "ticks": ""
             }
            },
            "type": "scatterpolargl"
           }
          ],
          "scatterternary": [
           {
            "marker": {
             "colorbar": {
              "outlinewidth": 0,
              "ticks": ""
             }
            },
            "type": "scatterternary"
           }
          ],
          "surface": [
           {
            "colorbar": {
             "outlinewidth": 0,
             "ticks": ""
            },
            "colorscale": [
             [
              0,
              "#0d0887"
             ],
             [
              0.1111111111111111,
              "#46039f"
             ],
             [
              0.2222222222222222,
              "#7201a8"
             ],
             [
              0.3333333333333333,
              "#9c179e"
             ],
             [
              0.4444444444444444,
              "#bd3786"
             ],
             [
              0.5555555555555556,
              "#d8576b"
             ],
             [
              0.6666666666666666,
              "#ed7953"
             ],
             [
              0.7777777777777778,
              "#fb9f3a"
             ],
             [
              0.8888888888888888,
              "#fdca26"
             ],
             [
              1,
              "#f0f921"
             ]
            ],
            "type": "surface"
           }
          ],
          "table": [
           {
            "cells": {
             "fill": {
              "color": "#EBF0F8"
             },
             "line": {
              "color": "white"
             }
            },
            "header": {
             "fill": {
              "color": "#C8D4E3"
             },
             "line": {
              "color": "white"
             }
            },
            "type": "table"
           }
          ]
         },
         "layout": {
          "annotationdefaults": {
           "arrowcolor": "#2a3f5f",
           "arrowhead": 0,
           "arrowwidth": 1
          },
          "autotypenumbers": "strict",
          "coloraxis": {
           "colorbar": {
            "outlinewidth": 0,
            "ticks": ""
           }
          },
          "colorscale": {
           "diverging": [
            [
             0,
             "#8e0152"
            ],
            [
             0.1,
             "#c51b7d"
            ],
            [
             0.2,
             "#de77ae"
            ],
            [
             0.3,
             "#f1b6da"
            ],
            [
             0.4,
             "#fde0ef"
            ],
            [
             0.5,
             "#f7f7f7"
            ],
            [
             0.6,
             "#e6f5d0"
            ],
            [
             0.7,
             "#b8e186"
            ],
            [
             0.8,
             "#7fbc41"
            ],
            [
             0.9,
             "#4d9221"
            ],
            [
             1,
             "#276419"
            ]
           ],
           "sequential": [
            [
             0,
             "#0d0887"
            ],
            [
             0.1111111111111111,
             "#46039f"
            ],
            [
             0.2222222222222222,
             "#7201a8"
            ],
            [
             0.3333333333333333,
             "#9c179e"
            ],
            [
             0.4444444444444444,
             "#bd3786"
            ],
            [
             0.5555555555555556,
             "#d8576b"
            ],
            [
             0.6666666666666666,
             "#ed7953"
            ],
            [
             0.7777777777777778,
             "#fb9f3a"
            ],
            [
             0.8888888888888888,
             "#fdca26"
            ],
            [
             1,
             "#f0f921"
            ]
           ],
           "sequentialminus": [
            [
             0,
             "#0d0887"
            ],
            [
             0.1111111111111111,
             "#46039f"
            ],
            [
             0.2222222222222222,
             "#7201a8"
            ],
            [
             0.3333333333333333,
             "#9c179e"
            ],
            [
             0.4444444444444444,
             "#bd3786"
            ],
            [
             0.5555555555555556,
             "#d8576b"
            ],
            [
             0.6666666666666666,
             "#ed7953"
            ],
            [
             0.7777777777777778,
             "#fb9f3a"
            ],
            [
             0.8888888888888888,
             "#fdca26"
            ],
            [
             1,
             "#f0f921"
            ]
           ]
          },
          "colorway": [
           "#636efa",
           "#EF553B",
           "#00cc96",
           "#ab63fa",
           "#FFA15A",
           "#19d3f3",
           "#FF6692",
           "#B6E880",
           "#FF97FF",
           "#FECB52"
          ],
          "font": {
           "color": "#2a3f5f"
          },
          "geo": {
           "bgcolor": "white",
           "lakecolor": "white",
           "landcolor": "#E5ECF6",
           "showlakes": true,
           "showland": true,
           "subunitcolor": "white"
          },
          "hoverlabel": {
           "align": "left"
          },
          "hovermode": "closest",
          "mapbox": {
           "style": "light"
          },
          "paper_bgcolor": "white",
          "plot_bgcolor": "#E5ECF6",
          "polar": {
           "angularaxis": {
            "gridcolor": "white",
            "linecolor": "white",
            "ticks": ""
           },
           "bgcolor": "#E5ECF6",
           "radialaxis": {
            "gridcolor": "white",
            "linecolor": "white",
            "ticks": ""
           }
          },
          "scene": {
           "xaxis": {
            "backgroundcolor": "#E5ECF6",
            "gridcolor": "white",
            "gridwidth": 2,
            "linecolor": "white",
            "showbackground": true,
            "ticks": "",
            "zerolinecolor": "white"
           },
           "yaxis": {
            "backgroundcolor": "#E5ECF6",
            "gridcolor": "white",
            "gridwidth": 2,
            "linecolor": "white",
            "showbackground": true,
            "ticks": "",
            "zerolinecolor": "white"
           },
           "zaxis": {
            "backgroundcolor": "#E5ECF6",
            "gridcolor": "white",
            "gridwidth": 2,
            "linecolor": "white",
            "showbackground": true,
            "ticks": "",
            "zerolinecolor": "white"
           }
          },
          "shapedefaults": {
           "line": {
            "color": "#2a3f5f"
           }
          },
          "ternary": {
           "aaxis": {
            "gridcolor": "white",
            "linecolor": "white",
            "ticks": ""
           },
           "baxis": {
            "gridcolor": "white",
            "linecolor": "white",
            "ticks": ""
           },
           "bgcolor": "#E5ECF6",
           "caxis": {
            "gridcolor": "white",
            "linecolor": "white",
            "ticks": ""
           }
          },
          "title": {
           "x": 0.05
          },
          "xaxis": {
           "automargin": true,
           "gridcolor": "white",
           "linecolor": "white",
           "ticks": "",
           "title": {
            "standoff": 15
           },
           "zerolinecolor": "white",
           "zerolinewidth": 2
          },
          "yaxis": {
           "automargin": true,
           "gridcolor": "white",
           "linecolor": "white",
           "ticks": "",
           "title": {
            "standoff": 15
           },
           "zerolinecolor": "white",
           "zerolinewidth": 2
          }
         }
        },
        "xaxis": {
         "anchor": "y",
         "autorange": true,
         "domain": [
          0,
          1
         ],
         "range": [
          -0.5,
          4.5
         ],
         "title": {
          "text": "time"
         },
         "type": "category"
        },
        "yaxis": {
         "anchor": "x",
         "autorange": true,
         "domain": [
          0,
          1
         ],
         "range": [
          -5.555555555555556,
          105.55555555555556
         ],
         "title": {
          "text": "acceptance_rate"
         },
         "type": "linear"
        }
       }
      },
      "image/png": "[encoded data removed]",
      "text/html": [
       "<div>                            <div id=\"d50766bd-e553-4639-89a7-8949afd66103\" class=\"plotly-graph-div\" style=\"height:525px; width:100%;\"></div>            <script type=\"text/javascript\">                require([\"plotly\"], function(Plotly) {                    window.PLOTLYENV=window.PLOTLYENV || {};                                    if (document.getElementById(\"d50766bd-e553-4639-89a7-8949afd66103\")) {                    Plotly.newPlot(                        \"d50766bd-e553-4639-89a7-8949afd66103\",                        [{\"alignmentgroup\":\"True\",\"hovertemplate\":\"time=%{x}\\u003cbr\\u003eacceptance_rate=%{y}\\u003cextra\\u003e\\u003c\\u002fextra\\u003e\",\"legendgroup\":\"\",\"marker\":{\"color\":\"#636efa\"},\"name\":\"\",\"notched\":false,\"offsetgroup\":\"\",\"orientation\":\"v\",\"showlegend\":false,\"x\":[\"10AM\",\"10AM\",\"10AM\",\"10AM\",\"10AM\",\"10AM\",\"10AM\",\"10AM\",\"10AM\",\"10AM\",\"10AM\",\"10AM\",\"10AM\",\"10AM\",\"10AM\",\"10AM\",\"10AM\",\"10AM\",\"10AM\",\"10AM\",\"10AM\",\"10AM\",\"10AM\",\"10AM\",\"10AM\",\"10AM\",\"10AM\",\"10AM\",\"10AM\",\"10AM\",\"10AM\",\"10AM\",\"10AM\",\"10AM\",\"10AM\",\"10AM\",\"10AM\",\"10AM\",\"10AM\",\"10AM\",\"10AM\",\"10AM\",\"10AM\",\"10AM\",\"10AM\",\"10AM\",\"10AM\",\"10AM\",\"10AM\",\"10AM\",\"10AM\",\"10AM\",\"10AM\",\"10AM\",\"10AM\",\"10AM\",\"10AM\",\"10AM\",\"10AM\",\"10AM\",\"10AM\",\"10AM\",\"10AM\",\"10AM\",\"10AM\",\"10AM\",\"10AM\",\"10AM\",\"10AM\",\"10AM\",\"10AM\",\"10AM\",\"10AM\",\"10AM\",\"10AM\",\"10AM\",\"10AM\",\"10AM\",\"10AM\",\"10AM\",\"10AM\",\"10AM\",\"10AM\",\"10AM\",\"10AM\",\"10PM\",\"10PM\",\"10PM\",\"10PM\",\"10PM\",\"10PM\",\"10PM\",\"10PM\",\"10PM\",\"10PM\",\"10PM\",\"10PM\",\"10PM\",\"10PM\",\"10PM\",\"10PM\",\"10PM\",\"10PM\",\"10PM\",\"10PM\",\"10PM\",\"10PM\",\"10PM\",\"10PM\",\"10PM\",\"10PM\",\"10PM\",\"10PM\",\"10PM\",\"10PM\",\"10PM\",\"10PM\",\"10PM\",\"10PM\",\"10PM\",\"10PM\",\"10PM\",\"10PM\",\"10PM\",\"10PM\",\"10PM\",\"10PM\",\"10PM\",\"10PM\",\"10PM\",\"10PM\",\"10PM\",\"10PM\",\"10PM\",\"10PM\",\"10PM\",\"10PM\",\"10PM\",\"10PM\",\"10PM\",\"10PM\",\"10PM\",\"10PM\",\"10PM\",\"10PM\",\"10PM\",\"10PM\",\"10PM\",\"10PM\",\"10PM\",\"10PM\",\"10PM\",\"10PM\",\"10PM\",\"10PM\",\"10PM\",\"10PM\",\"10PM\",\"10PM\",\"10PM\",\"10PM\",\"10PM\",\"10PM\",\"10PM\",\"10PM\",\"10PM\",\"10PM\",\"10PM\",\"10PM\",\"10PM\",\"10PM\",\"10PM\",\"10PM\",\"10PM\",\"10PM\",\"10PM\",\"10PM\",\"10PM\",\"10PM\",\"10PM\",\"10PM\",\"10PM\",\"10PM\",\"10PM\",\"2PM\",\"2PM\",\"2PM\",\"2PM\",\"2PM\",\"2PM\",\"2PM\",\"2PM\",\"2PM\",\"2PM\",\"2PM\",\"2PM\",\"2PM\",\"2PM\",\"2PM\",\"2PM\",\"2PM\",\"2PM\",\"2PM\",\"2PM\",\"2PM\",\"2PM\",\"2PM\",\"2PM\",\"2PM\",\"2PM\",\"2PM\",\"2PM\",\"2PM\",\"2PM\",\"6PM\",\"6PM\",\"6PM\",\"6PM\",\"6PM\",\"6PM\",\"6PM\",\"6PM\",\"6PM\",\"6PM\",\"6PM\",\"6PM\",\"6PM\",\"6PM\",\"6PM\",\"6PM\",\"6PM\",\"6PM\",\"6PM\",\"6PM\",\"6PM\",\"6PM\",\"6PM\",\"6PM\",\"6PM\",\"6PM\",\"6PM\",\"6PM\",\"6PM\",\"6PM\",\"6PM\",\"6PM\",\"6PM\",\"6PM\",\"6PM\",\"6PM\",\"6PM\",\"6PM\",\"6PM\",\"6PM\",\"6PM\",\"6PM\",\"6PM\",\"6PM\",\"6PM\",\"6PM\",\"6PM\",\"6PM\",\"6PM\",\"6PM\",\"6PM\",\"6PM\",\"6PM\",\"6PM\",\"6PM\",\"6PM\",\"6PM\",\"6PM\",\"6PM\",\"6PM\",\"6PM\",\"6PM\",\"6PM\",\"6PM\",\"6PM\",\"6PM\",\"6PM\",\"6PM\",\"6PM\",\"6PM\",\"6PM\",\"6PM\",\"6PM\",\"6PM\",\"6PM\",\"6PM\",\"6PM\",\"6PM\",\"6PM\",\"6PM\",\"6PM\",\"6PM\",\"6PM\",\"6PM\",\"6PM\",\"6PM\",\"6PM\",\"6PM\",\"6PM\",\"6PM\",\"6PM\",\"6PM\",\"6PM\",\"6PM\",\"6PM\",\"6PM\",\"6PM\",\"6PM\",\"6PM\",\"6PM\",\"6PM\",\"6PM\",\"7AM\",\"7AM\",\"7AM\",\"7AM\",\"7AM\",\"7AM\",\"7AM\",\"7AM\",\"7AM\",\"7AM\",\"7AM\",\"7AM\",\"7AM\",\"7AM\",\"7AM\",\"7AM\",\"7AM\",\"7AM\",\"7AM\",\"7AM\",\"7AM\",\"7AM\",\"7AM\",\"7AM\",\"7AM\",\"7AM\",\"7AM\",\"7AM\",\"7AM\",\"7AM\",\"7AM\",\"7AM\",\"7AM\",\"7AM\",\"7AM\",\"7AM\",\"7AM\",\"7AM\",\"7AM\",\"7AM\",\"7AM\",\"7AM\",\"7AM\",\"7AM\",\"7AM\",\"7AM\",\"7AM\",\"7AM\",\"7AM\",\"7AM\",\"7AM\",\"7AM\",\"7AM\",\"7AM\",\"7AM\",\"7AM\",\"7AM\",\"7AM\",\"7AM\",\"7AM\",\"7AM\",\"7AM\",\"7AM\",\"7AM\",\"10AM\",\"10AM\",\"10AM\",\"10AM\",\"10AM\",\"10AM\",\"10AM\",\"10AM\",\"10AM\",\"10AM\",\"10AM\",\"10AM\",\"10AM\",\"10AM\",\"10AM\",\"10AM\",\"10AM\",\"10AM\",\"10AM\",\"10AM\",\"10AM\",\"10AM\",\"10AM\",\"10AM\",\"10AM\",\"10AM\",\"10AM\",\"10AM\",\"10AM\",\"10AM\",\"10AM\",\"10AM\",\"10AM\",\"10AM\",\"10AM\",\"10AM\",\"10AM\",\"10AM\",\"10AM\",\"10AM\",\"10AM\",\"10AM\",\"10AM\",\"10AM\",\"10AM\",\"10AM\",\"10AM\",\"10AM\",\"10AM\",\"10AM\",\"10AM\",\"10AM\",\"10AM\",\"10AM\",\"10AM\",\"10AM\",\"10AM\",\"10AM\",\"10AM\",\"10AM\",\"10AM\",\"10AM\",\"10AM\",\"10AM\",\"10AM\",\"10AM\",\"10AM\",\"10AM\",\"10AM\",\"10AM\",\"10AM\",\"10AM\",\"10AM\",\"10AM\",\"10AM\",\"10AM\",\"10AM\",\"10AM\",\"10AM\",\"10AM\",\"10AM\",\"10AM\",\"10AM\",\"10AM\",\"10AM\",\"10AM\",\"10AM\",\"10AM\",\"10AM\",\"10PM\",\"10PM\",\"10PM\",\"10PM\",\"10PM\",\"10PM\",\"10PM\",\"10PM\",\"10PM\",\"10PM\",\"10PM\",\"10PM\",\"10PM\",\"10PM\",\"10PM\",\"10PM\",\"10PM\",\"10PM\",\"10PM\",\"10PM\",\"10PM\",\"10PM\",\"10PM\",\"10PM\",\"10PM\",\"10PM\",\"10PM\",\"10PM\",\"10PM\",\"10PM\",\"10PM\",\"10PM\",\"10PM\",\"10PM\",\"10PM\",\"10PM\",\"10PM\",\"10PM\",\"10PM\",\"10PM\",\"10PM\",\"10PM\",\"10PM\",\"10PM\",\"10PM\",\"10PM\",\"10PM\",\"10PM\",\"10PM\",\"10PM\",\"10PM\",\"10PM\",\"10PM\",\"10PM\",\"10PM\",\"10PM\",\"10PM\",\"10PM\",\"10PM\",\"10PM\",\"10PM\",\"10PM\",\"10PM\",\"10PM\",\"10PM\",\"10PM\",\"10PM\",\"10PM\",\"10PM\",\"10PM\",\"10PM\",\"10PM\",\"10PM\",\"10PM\",\"10PM\",\"10PM\",\"10PM\",\"10PM\",\"10PM\",\"10PM\",\"10PM\",\"10PM\",\"10PM\",\"10PM\",\"10PM\",\"10PM\",\"10PM\",\"10PM\",\"10PM\",\"10PM\",\"10PM\",\"10PM\",\"10PM\",\"10PM\",\"10PM\",\"10PM\",\"10PM\",\"10PM\",\"10PM\",\"10PM\",\"10PM\",\"2PM\",\"2PM\",\"2PM\",\"2PM\",\"2PM\",\"2PM\",\"2PM\",\"2PM\",\"2PM\",\"2PM\",\"2PM\",\"2PM\",\"2PM\",\"2PM\",\"2PM\",\"2PM\",\"2PM\",\"2PM\",\"2PM\",\"2PM\",\"2PM\",\"2PM\",\"2PM\",\"2PM\",\"2PM\",\"2PM\",\"2PM\",\"2PM\",\"2PM\",\"2PM\",\"6PM\",\"6PM\",\"6PM\",\"6PM\",\"6PM\",\"6PM\",\"6PM\",\"6PM\",\"6PM\",\"6PM\",\"6PM\",\"6PM\",\"6PM\",\"6PM\",\"6PM\",\"6PM\",\"6PM\",\"6PM\",\"6PM\",\"6PM\",\"6PM\",\"6PM\",\"6PM\",\"6PM\",\"6PM\",\"6PM\",\"6PM\",\"6PM\",\"6PM\",\"6PM\",\"6PM\",\"6PM\",\"6PM\",\"6PM\",\"6PM\",\"6PM\",\"6PM\",\"6PM\",\"6PM\",\"6PM\",\"6PM\",\"6PM\",\"6PM\",\"6PM\",\"6PM\",\"6PM\",\"6PM\",\"6PM\",\"6PM\",\"6PM\",\"6PM\",\"6PM\",\"6PM\",\"6PM\",\"6PM\",\"6PM\",\"6PM\",\"6PM\",\"6PM\",\"6PM\",\"6PM\",\"6PM\",\"6PM\",\"6PM\",\"6PM\",\"6PM\",\"6PM\",\"6PM\",\"6PM\",\"6PM\",\"7AM\",\"7AM\",\"7AM\",\"7AM\",\"7AM\",\"7AM\",\"7AM\",\"7AM\",\"7AM\",\"7AM\",\"7AM\",\"7AM\",\"7AM\",\"7AM\",\"7AM\",\"7AM\",\"7AM\",\"7AM\",\"7AM\",\"7AM\",\"7AM\",\"7AM\",\"7AM\",\"7AM\",\"7AM\",\"7AM\",\"7AM\",\"7AM\",\"7AM\",\"7AM\",\"7AM\",\"7AM\",\"7AM\",\"7AM\",\"7AM\",\"7AM\",\"7AM\",\"7AM\",\"7AM\",\"7AM\",\"7AM\",\"7AM\",\"7AM\",\"7AM\",\"7AM\",\"7AM\",\"7AM\",\"7AM\",\"7AM\",\"7AM\",\"7AM\",\"7AM\",\"7AM\",\"7AM\",\"7AM\",\"7AM\",\"7AM\",\"7AM\",\"7AM\",\"7AM\",\"10AM\",\"10AM\",\"10AM\",\"10AM\",\"10AM\",\"10AM\",\"10AM\",\"10AM\",\"10AM\",\"10AM\",\"10AM\",\"10AM\",\"10AM\",\"10AM\",\"10AM\",\"10AM\",\"10AM\",\"10AM\",\"10AM\",\"10AM\",\"10AM\",\"10AM\",\"10AM\",\"10AM\",\"10AM\",\"10AM\",\"10AM\",\"10AM\",\"10AM\",\"10AM\",\"10AM\",\"10AM\",\"10AM\",\"10AM\",\"10AM\",\"10AM\",\"10AM\",\"10AM\",\"10AM\",\"10AM\",\"10AM\",\"10AM\",\"10AM\",\"10AM\",\"10AM\",\"10AM\",\"10AM\",\"10AM\",\"10AM\",\"10AM\",\"10AM\",\"10AM\",\"10AM\",\"10AM\",\"10AM\",\"10AM\",\"10AM\",\"10AM\",\"10AM\",\"10AM\",\"10AM\",\"10AM\",\"10AM\",\"10AM\",\"10AM\",\"10AM\",\"10AM\",\"10AM\",\"10AM\",\"10AM\",\"10AM\",\"10AM\",\"10AM\",\"10AM\",\"10AM\",\"10AM\",\"10AM\",\"10AM\",\"10AM\",\"10AM\",\"10AM\",\"10AM\",\"10AM\",\"10AM\",\"10AM\",\"10AM\",\"10AM\",\"10AM\",\"10AM\",\"10AM\",\"10AM\",\"10AM\",\"10AM\",\"10AM\",\"10AM\",\"10AM\",\"10AM\",\"10AM\",\"10AM\",\"10AM\",\"10AM\",\"10AM\",\"10AM\",\"10AM\",\"10AM\",\"10AM\",\"10PM\",\"10PM\",\"10PM\",\"10PM\",\"10PM\",\"10PM\",\"10PM\",\"10PM\",\"10PM\",\"10PM\",\"10PM\",\"10PM\",\"10PM\",\"10PM\",\"10PM\",\"10PM\",\"10PM\",\"10PM\",\"10PM\",\"10PM\",\"10PM\",\"10PM\",\"10PM\",\"10PM\",\"10PM\",\"10PM\",\"10PM\",\"10PM\",\"10PM\",\"10PM\",\"10PM\",\"10PM\",\"10PM\",\"10PM\",\"10PM\",\"10PM\",\"10PM\",\"10PM\",\"10PM\",\"10PM\",\"10PM\",\"10PM\",\"10PM\",\"10PM\",\"10PM\",\"10PM\",\"10PM\",\"10PM\",\"10PM\",\"10PM\",\"10PM\",\"10PM\",\"10PM\",\"10PM\",\"10PM\",\"2PM\",\"2PM\",\"2PM\",\"2PM\",\"2PM\",\"2PM\",\"2PM\",\"2PM\",\"2PM\",\"2PM\",\"2PM\",\"2PM\",\"2PM\",\"2PM\",\"2PM\",\"2PM\",\"2PM\",\"2PM\",\"2PM\",\"2PM\",\"2PM\",\"2PM\",\"2PM\",\"2PM\",\"2PM\",\"2PM\",\"2PM\",\"2PM\",\"2PM\",\"2PM\",\"2PM\",\"2PM\",\"2PM\",\"2PM\",\"2PM\",\"2PM\",\"2PM\",\"2PM\",\"2PM\",\"2PM\",\"2PM\",\"2PM\",\"2PM\",\"2PM\",\"2PM\",\"2PM\",\"2PM\",\"2PM\",\"2PM\",\"2PM\",\"2PM\",\"2PM\",\"2PM\",\"2PM\",\"2PM\",\"2PM\",\"2PM\",\"2PM\",\"2PM\",\"2PM\",\"2PM\",\"2PM\",\"2PM\",\"2PM\",\"2PM\",\"2PM\",\"2PM\",\"2PM\",\"2PM\",\"2PM\",\"2PM\",\"2PM\",\"2PM\",\"2PM\",\"2PM\",\"2PM\",\"2PM\",\"2PM\",\"2PM\",\"2PM\",\"2PM\",\"2PM\",\"2PM\",\"2PM\",\"2PM\",\"6PM\",\"6PM\",\"6PM\",\"6PM\",\"6PM\",\"6PM\",\"6PM\",\"6PM\",\"6PM\",\"6PM\",\"6PM\",\"6PM\",\"6PM\",\"6PM\",\"6PM\",\"6PM\",\"6PM\",\"6PM\",\"6PM\",\"6PM\",\"6PM\",\"6PM\",\"6PM\",\"6PM\",\"6PM\",\"6PM\",\"6PM\",\"6PM\",\"6PM\",\"6PM\",\"6PM\",\"6PM\",\"6PM\",\"6PM\",\"6PM\",\"6PM\",\"6PM\",\"6PM\",\"6PM\",\"6PM\",\"6PM\",\"6PM\",\"6PM\",\"6PM\",\"6PM\",\"6PM\",\"6PM\",\"6PM\",\"6PM\",\"6PM\",\"6PM\",\"6PM\",\"6PM\",\"6PM\",\"6PM\",\"6PM\",\"6PM\",\"6PM\",\"6PM\",\"6PM\",\"6PM\",\"6PM\",\"6PM\",\"6PM\",\"6PM\",\"6PM\",\"6PM\",\"6PM\",\"6PM\",\"6PM\",\"6PM\",\"6PM\",\"6PM\",\"6PM\",\"6PM\",\"6PM\",\"6PM\",\"6PM\",\"6PM\",\"6PM\",\"6PM\",\"6PM\",\"6PM\",\"6PM\",\"6PM\",\"6PM\",\"6PM\",\"6PM\",\"6PM\",\"6PM\",\"6PM\",\"6PM\",\"6PM\",\"6PM\",\"6PM\",\"6PM\",\"6PM\",\"6PM\",\"6PM\",\"6PM\",\"6PM\",\"6PM\",\"6PM\",\"6PM\",\"6PM\",\"6PM\",\"6PM\",\"6PM\",\"6PM\",\"7AM\",\"7AM\",\"7AM\",\"7AM\",\"7AM\",\"7AM\",\"7AM\",\"7AM\",\"7AM\",\"7AM\",\"7AM\",\"7AM\",\"7AM\",\"7AM\",\"7AM\",\"7AM\",\"7AM\",\"7AM\",\"7AM\",\"7AM\",\"7AM\",\"7AM\",\"7AM\",\"7AM\",\"7AM\",\"7AM\",\"7AM\",\"7AM\",\"7AM\",\"7AM\",\"7AM\",\"7AM\",\"7AM\",\"7AM\",\"7AM\",\"7AM\",\"7AM\",\"7AM\",\"7AM\",\"7AM\",\"7AM\",\"7AM\",\"7AM\",\"7AM\",\"7AM\",\"7AM\",\"7AM\",\"7AM\",\"10AM\",\"10AM\",\"10AM\",\"10AM\",\"10AM\",\"10AM\",\"10AM\",\"10AM\",\"10AM\",\"10AM\",\"10AM\",\"10AM\",\"10AM\",\"10AM\",\"10AM\",\"10AM\",\"10AM\",\"10AM\",\"10AM\",\"10AM\",\"10AM\",\"10AM\",\"10AM\",\"10AM\",\"10AM\",\"10AM\",\"10AM\",\"10AM\",\"10AM\",\"10AM\",\"10PM\",\"10PM\",\"10PM\",\"10PM\",\"10PM\",\"10PM\",\"10PM\",\"10PM\",\"10PM\",\"10PM\",\"10PM\",\"10PM\",\"10PM\",\"10PM\",\"10PM\",\"10PM\",\"10PM\",\"10PM\",\"10PM\",\"10PM\",\"10PM\",\"10PM\",\"10PM\",\"10PM\",\"10PM\",\"10PM\",\"10PM\",\"10PM\",\"10PM\",\"10PM\",\"10PM\",\"10PM\",\"10PM\",\"10PM\",\"10PM\",\"10PM\",\"10PM\",\"10PM\",\"10PM\",\"10PM\",\"10PM\",\"10PM\",\"10PM\",\"10PM\",\"10PM\",\"10PM\",\"10PM\",\"10PM\",\"10PM\",\"10PM\",\"10PM\",\"10PM\",\"10PM\",\"10PM\",\"10PM\",\"10PM\",\"10PM\",\"10PM\",\"10PM\",\"10PM\",\"10PM\",\"10PM\",\"10PM\",\"10PM\",\"10PM\",\"10PM\",\"10PM\",\"10PM\",\"10PM\",\"10PM\",\"10PM\",\"10PM\",\"10PM\",\"10PM\",\"10PM\",\"10PM\",\"10PM\",\"10PM\",\"10PM\",\"10PM\",\"10PM\",\"10PM\",\"10PM\",\"10PM\",\"10PM\",\"10PM\",\"10PM\",\"10PM\",\"10PM\",\"10PM\",\"10PM\",\"10PM\",\"10PM\",\"2PM\",\"2PM\",\"2PM\",\"2PM\",\"2PM\",\"2PM\",\"2PM\",\"2PM\",\"2PM\",\"2PM\",\"2PM\",\"2PM\",\"2PM\",\"2PM\",\"2PM\",\"2PM\",\"2PM\",\"2PM\",\"2PM\",\"2PM\",\"2PM\",\"2PM\",\"2PM\",\"2PM\",\"2PM\",\"2PM\",\"2PM\",\"2PM\",\"2PM\",\"2PM\",\"2PM\",\"2PM\",\"2PM\",\"2PM\",\"2PM\",\"2PM\",\"2PM\",\"2PM\",\"6PM\",\"6PM\",\"6PM\",\"6PM\",\"6PM\",\"6PM\",\"6PM\",\"6PM\",\"6PM\",\"6PM\",\"6PM\",\"6PM\",\"6PM\",\"6PM\",\"6PM\",\"6PM\",\"6PM\",\"6PM\",\"6PM\",\"6PM\",\"6PM\",\"6PM\",\"6PM\",\"6PM\",\"6PM\",\"6PM\",\"6PM\",\"6PM\",\"6PM\",\"6PM\",\"6PM\",\"6PM\",\"6PM\",\"6PM\",\"6PM\",\"6PM\",\"6PM\",\"6PM\",\"6PM\",\"6PM\",\"6PM\",\"6PM\",\"6PM\",\"6PM\",\"6PM\",\"6PM\",\"6PM\",\"6PM\",\"6PM\",\"6PM\",\"6PM\",\"6PM\",\"6PM\",\"6PM\",\"6PM\",\"6PM\",\"6PM\",\"6PM\",\"6PM\",\"6PM\",\"6PM\",\"6PM\",\"6PM\",\"6PM\",\"7AM\",\"7AM\",\"7AM\",\"7AM\",\"7AM\",\"7AM\",\"7AM\",\"7AM\",\"7AM\",\"7AM\",\"7AM\",\"7AM\",\"7AM\",\"7AM\",\"7AM\",\"7AM\",\"7AM\",\"7AM\",\"7AM\",\"7AM\",\"7AM\",\"7AM\",\"7AM\",\"7AM\",\"7AM\",\"7AM\",\"7AM\",\"7AM\",\"7AM\",\"7AM\",\"7AM\",\"7AM\",\"7AM\",\"7AM\",\"7AM\",\"7AM\",\"7AM\",\"7AM\",\"7AM\",\"7AM\",\"7AM\",\"7AM\",\"7AM\",\"10AM\",\"10AM\",\"10AM\",\"10AM\",\"10AM\",\"10AM\",\"10AM\",\"10AM\",\"10AM\",\"10AM\",\"10AM\",\"10AM\",\"10AM\",\"10AM\",\"10AM\",\"10AM\",\"10AM\",\"10AM\",\"10AM\",\"10AM\",\"10AM\",\"10AM\",\"10AM\",\"10AM\",\"10AM\",\"10AM\",\"10AM\",\"10AM\",\"10AM\",\"10AM\",\"10AM\",\"10AM\",\"10AM\",\"10AM\",\"10AM\",\"10AM\",\"10AM\",\"10AM\",\"10AM\",\"10AM\",\"10AM\",\"10AM\",\"10AM\",\"10AM\",\"10AM\",\"10AM\",\"10AM\",\"10AM\",\"10AM\",\"10AM\",\"10AM\",\"10AM\",\"10AM\",\"10AM\",\"10AM\",\"10AM\",\"10AM\",\"10AM\",\"10AM\",\"10AM\",\"10AM\",\"10AM\",\"10AM\",\"10AM\",\"10AM\",\"10AM\",\"10AM\",\"10AM\",\"10AM\",\"10AM\",\"10AM\",\"10AM\",\"10AM\",\"10AM\",\"10AM\",\"10AM\",\"10AM\",\"10AM\",\"10AM\",\"10AM\",\"10AM\",\"10AM\",\"10AM\",\"10PM\",\"10PM\",\"10PM\",\"10PM\",\"10PM\",\"10PM\",\"10PM\",\"10PM\",\"10PM\",\"10PM\",\"10PM\",\"10PM\",\"10PM\",\"10PM\",\"10PM\",\"10PM\",\"10PM\",\"10PM\",\"10PM\",\"10PM\",\"10PM\",\"10PM\",\"10PM\",\"10PM\",\"10PM\",\"10PM\",\"10PM\",\"10PM\",\"10PM\",\"10PM\",\"10PM\",\"10PM\",\"10PM\",\"10PM\",\"10PM\",\"10PM\",\"10PM\",\"10PM\",\"10PM\",\"10PM\",\"10PM\",\"10PM\",\"10PM\",\"10PM\",\"10PM\",\"10PM\",\"10PM\",\"10PM\",\"10PM\",\"10PM\",\"10PM\",\"10PM\",\"10PM\",\"10PM\",\"10PM\",\"10PM\",\"10PM\",\"10PM\",\"10PM\",\"10PM\",\"10PM\",\"10PM\",\"10PM\",\"10PM\",\"10PM\",\"10PM\",\"10PM\",\"10PM\",\"10PM\",\"10PM\",\"10PM\",\"10PM\",\"10PM\",\"10PM\",\"10PM\",\"10PM\",\"10PM\",\"10PM\",\"10PM\",\"10PM\",\"10PM\",\"10PM\",\"10PM\",\"10PM\",\"10PM\",\"10PM\",\"10PM\",\"10PM\",\"10PM\",\"10PM\",\"10PM\",\"2PM\",\"2PM\",\"2PM\",\"2PM\",\"2PM\",\"2PM\",\"2PM\",\"2PM\",\"2PM\",\"2PM\",\"2PM\",\"2PM\",\"2PM\",\"2PM\",\"2PM\",\"2PM\",\"2PM\",\"2PM\",\"2PM\",\"2PM\",\"2PM\",\"2PM\",\"2PM\",\"2PM\",\"2PM\",\"2PM\",\"2PM\",\"2PM\",\"2PM\",\"2PM\",\"2PM\",\"2PM\",\"2PM\",\"2PM\",\"2PM\",\"2PM\",\"2PM\",\"2PM\",\"2PM\",\"2PM\",\"2PM\",\"2PM\",\"2PM\",\"2PM\",\"2PM\",\"2PM\",\"2PM\",\"2PM\",\"2PM\",\"2PM\",\"2PM\",\"2PM\",\"2PM\",\"2PM\",\"2PM\",\"2PM\",\"2PM\",\"2PM\",\"2PM\",\"2PM\",\"2PM\",\"2PM\",\"2PM\",\"2PM\",\"2PM\",\"2PM\",\"2PM\",\"2PM\",\"2PM\",\"2PM\",\"2PM\",\"2PM\",\"2PM\",\"2PM\",\"2PM\",\"2PM\",\"2PM\",\"2PM\",\"2PM\",\"2PM\",\"2PM\",\"2PM\",\"2PM\",\"2PM\",\"2PM\",\"2PM\",\"2PM\",\"2PM\",\"2PM\",\"2PM\",\"2PM\",\"2PM\",\"2PM\",\"2PM\",\"2PM\",\"2PM\",\"2PM\",\"2PM\",\"2PM\",\"2PM\",\"2PM\",\"6PM\",\"6PM\",\"6PM\",\"6PM\",\"6PM\",\"6PM\",\"6PM\",\"6PM\",\"6PM\",\"6PM\",\"6PM\",\"6PM\",\"6PM\",\"6PM\",\"6PM\",\"6PM\",\"6PM\",\"6PM\",\"6PM\",\"6PM\",\"6PM\",\"6PM\",\"6PM\",\"6PM\",\"6PM\",\"6PM\",\"6PM\",\"6PM\",\"6PM\",\"6PM\",\"6PM\",\"6PM\",\"6PM\",\"6PM\",\"6PM\",\"6PM\",\"6PM\",\"6PM\",\"6PM\",\"6PM\",\"6PM\",\"6PM\",\"6PM\",\"6PM\",\"6PM\",\"6PM\",\"6PM\",\"6PM\",\"6PM\",\"6PM\",\"6PM\",\"6PM\",\"6PM\",\"6PM\",\"6PM\",\"6PM\",\"6PM\",\"6PM\",\"6PM\",\"6PM\",\"6PM\",\"6PM\",\"6PM\",\"6PM\",\"6PM\",\"6PM\",\"6PM\",\"6PM\",\"6PM\",\"6PM\",\"6PM\",\"6PM\",\"6PM\",\"6PM\",\"6PM\",\"6PM\",\"6PM\",\"6PM\",\"6PM\",\"6PM\",\"6PM\",\"6PM\",\"6PM\",\"6PM\",\"7AM\",\"7AM\",\"7AM\",\"7AM\",\"7AM\",\"7AM\",\"7AM\",\"7AM\",\"7AM\",\"7AM\",\"7AM\",\"7AM\",\"7AM\",\"7AM\",\"7AM\",\"7AM\",\"7AM\",\"7AM\",\"7AM\",\"7AM\",\"7AM\",\"7AM\",\"7AM\",\"7AM\",\"7AM\",\"7AM\",\"7AM\",\"7AM\",\"7AM\",\"7AM\",\"7AM\",\"7AM\",\"7AM\",\"7AM\",\"7AM\",\"7AM\",\"7AM\",\"7AM\",\"7AM\",\"7AM\",\"7AM\",\"7AM\",\"7AM\",\"7AM\",\"7AM\",\"7AM\",\"7AM\",\"7AM\",\"7AM\",\"7AM\",\"7AM\",\"7AM\",\"7AM\",\"7AM\",\"7AM\",\"7AM\",\"7AM\",\"7AM\",\"7AM\",\"7AM\",\"7AM\",\"7AM\",\"7AM\",\"7AM\",\"7AM\",\"7AM\",\"7AM\"],\"x0\":\" \",\"xaxis\":\"x\",\"y\":[27.27272727272727,60.0,16.666666666666664,0.0,40.0,0.0,0.0,25.0,66.66666666666666,62.5,44.44444444444444,33.33333333333333,66.66666666666666,50.0,80.0,0.0,100.0,0.0,100.0,0.0,50.0,0.0,0.0,66.66666666666666,55.55555555555556,0.0,100.0,33.33333333333333,0.0,25.0,40.0,60.0,16.666666666666664,20.0,50.0,8.333333333333332,50.0,66.66666666666666,77.77777777777779,11.11111111111111,14.285714285714285,66.66666666666666,50.0,50.0,80.0,54.54545454545454,70.0,50.0,100.0,0.0,33.33333333333333,100.0,58.82352941176471,90.0,25.0,50.0,100.0,50.0,50.0,50.0,0.0,16.666666666666664,8.333333333333332,11.11111111111111,0.0,0.0,12.5,100.0,60.0,0.0,0.0,0.0,16.666666666666664,50.0,16.666666666666664,33.33333333333333,0.0,0.0,0.0,25.0,40.0,100.0,0.0,25.0,0.0,0.0,0.0,0.0,33.33333333333333,100.0,28.57142857142857,50.0,66.66666666666666,50.0,18.181818181818183,100.0,71.42857142857143,46.666666666666664,85.71428571428571,28.57142857142857,50.0,66.66666666666666,16.666666666666664,0.0,50.0,0.0,33.33333333333333,50.0,0.0,0.0,100.0,0.0,0.0,0.0,0.0,0.0,0.0,50.0,0.0,0.0,25.0,0.0,0.0,60.0,0.0,100.0,0.0,50.0,40.0,25.0,50.0,0.0,50.0,0.0,40.0,50.0,0.0,0.0,0.0,40.0,33.33333333333333,66.66666666666666,33.33333333333333,0.0,100.0,11.11111111111111,44.44444444444444,80.0,0.0,50.0,0.0,100.0,54.54545454545454,80.0,16.666666666666664,33.33333333333333,60.0,0.0,0.0,50.0,88.88888888888889,62.5,88.88888888888889,33.33333333333333,100.0,50.0,100.0,50.0,54.54545454545454,80.0,16.666666666666664,33.33333333333333,60.0,0.0,16.666666666666664,50.0,88.88888888888889,75.0,66.66666666666666,33.33333333333333,66.66666666666666,50.0,100.0,50.0,44.44444444444444,16.666666666666664,0.0,50.0,0.0,33.33333333333333,22.22222222222222,50.0,22.22222222222222,45.45454545454545,75.0,40.0,50.0,50.0,0.0,40.0,0.0,0.0,0.0,75.0,25.0,33.33333333333333,100.0,50.0,50.0,0.0,50.0,0.0,0.0,100.0,22.22222222222222,33.33333333333333,18.181818181818183,25.0,100.0,0.0,22.22222222222222,50.0,44.44444444444444,54.54545454545454,62.5,40.0,50.0,50.0,100.0,40.0,66.66666666666666,33.33333333333333,0.0,0.0,100.0,0.0,0.0,100.0,0.0,0.0,50.0,100.0,50.0,0.0,40.0,33.33333333333333,0.0,20.0,30.0,0.0,25.0,100.0,0.0,16.666666666666664,66.66666666666666,0.0,25.0,33.33333333333333,0.0,40.0,50.0,100.0,100.0,50.0,100.0,66.66666666666666,100.0,100.0,63.63636363636363,65.0,57.89473684210527,37.5,63.63636363636363,28.57142857142857,46.15384615384615,100.0,73.91304347826086,47.368421052631575,85.71428571428571,70.0,60.0,57.14285714285714,60.0,50.0,0.0,80.0,14.285714285714285,25.0,33.33333333333333,50.0,18.181818181818183,0.0,71.42857142857143,40.0,57.14285714285714,0.0,0.0,66.66666666666666,16.666666666666664,0.0,80.0,57.14285714285714,66.66666666666666,50.0,100.0,100.0,50.0,0.0,45.45454545454545,50.0,50.0,71.42857142857143,80.0,100.0,0.0,0.0,36.36363636363637,16.666666666666664,7.6923076923076925,50.0,50.0,0.0,22.22222222222222,50.0,50.0,26.666666666666668,50.0,42.857142857142854,0.0,50.0,50.0,20.0,27.27272727272727,40.0,0.0,0.0,20.0,0.0,0.0,50.0,55.55555555555556,50.0,66.66666666666666,33.33333333333333,33.33333333333333,100.0,80.0,50.0,18.181818181818183,16.666666666666664,15.384615384615385,25.0,0.0,25.0,20.0,50.0,33.33333333333333,33.33333333333333,37.5,28.57142857142857,50.0,50.0,50.0,20.0,54.54545454545454,57.14285714285714,31.57894736842105,25.0,36.36363636363637,28.57142857142857,38.46153846153847,0.0,65.21739130434783,45.0,33.33333333333333,50.0,44.44444444444444,42.857142857142854,33.33333333333333,0.0,0.0,66.66666666666666,100.0,100.0,100.0,100.0,50.0,100.0,0.0,100.0,66.66666666666666,66.66666666666666,66.66666666666666,0.0,66.66666666666666,0.0,100.0,60.0,42.857142857142854,100.0,16.666666666666664,100.0,72.72727272727273,100.0,71.42857142857143,80.0,71.42857142857143,100.0,50.0,66.66666666666666,100.0,100.0,100.0,100.0,100.0,50.0,100.0,100.0,100.0,100.0,50.0,100.0,100.0,72.72727272727273,80.0,50.0,50.0,60.0,100.0,83.33333333333334,50.0,66.66666666666666,50.0,88.88888888888889,100.0,100.0,50.0,80.0,50.0,60.0,66.66666666666666,70.58823529411765,50.0,45.45454545454545,66.66666666666666,58.333333333333336,100.0,60.0,37.5,57.14285714285714,87.5,70.0,71.42857142857143,73.33333333333333,100.0,100.0,83.33333333333334,91.66666666666666,55.55555555555556,54.54545454545454,100.0,87.5,100.0,60.0,75.0,80.0,60.0,83.33333333333334,66.66666666666666,0.0,100.0,50.0,50.0,100.0,25.0,100.0,100.0,75.0,66.66666666666666,75.0,80.0,100.0,100.0,100.0,100.0,100.0,66.66666666666666,80.0,57.14285714285714,100.0,50.0,100.0,63.63636363636363,100.0,71.42857142857143,86.66666666666667,71.42857142857143,100.0,100.0,33.33333333333333,66.66666666666666,0.0,50.0,0.0,0.0,100.0,83.33333333333334,83.33333333333334,100.0,50.0,100.0,100.0,100.0,100.0,60.0,50.0,66.66666666666666,33.33333333333333,0.0,100.0,66.66666666666666,100.0,66.66666666666666,100.0,100.0,0.0,100.0,85.71428571428571,75.0,91.66666666666666,83.33333333333334,100.0,100.0,69.23076923076923,100.0,83.33333333333334,69.23076923076923,88.88888888888889,88.88888888888889,100.0,50.0,100.0,100.0,0.0,66.66666666666666,20.0,100.0,0.0,100.0,0.0,50.0,33.33333333333333,0.0,0.0,88.88888888888889,83.33333333333334,63.63636363636363,75.0,100.0,100.0,88.88888888888889,50.0,88.88888888888889,90.9090909090909,87.5,80.0,50.0,100.0,100.0,80.0,50.0,100.0,50.0,100.0,100.0,100.0,66.66666666666666,62.5,80.0,100.0,100.0,0.0,100.0,100.0,100.0,100.0,94.11764705882352,75.0,90.9090909090909,66.66666666666666,91.66666666666666,100.0,85.0,87.5,85.71428571428571,87.5,90.0,57.14285714285714,86.66666666666667,100.0,100.0,66.66666666666666,0.0,50.0,100.0,100.0,0.0,0.0,100.0,100.0,100.0,100.0,100.0,0.0,66.66666666666666,0.0,50.0,100.0,83.33333333333334,100.0,83.33333333333334,100.0,50.0,100.0,100.0,100.0,100.0,92.85714285714286,80.0,61.53846153846154,60.0,72.72727272727273,100.0,88.23529411764706,100.0,93.33333333333333,82.6086956521739,75.0,90.0,100.0,80.0,100.0,66.66666666666666,80.0,81.81818181818183,64.70588235294117,80.0,85.71428571428571,100.0,80.0,100.0,77.77777777777779,84.21052631578947,82.35294117647058,75.0,100.0,100.0,100.0,71.42857142857143,100.0,100.0,100.0,75.0,100.0,100.0,100.0,100.0,0.0,100.0,100.0,65.0,36.36363636363637,23.52941176470588,50.0,71.42857142857143,75.0,53.333333333333336,33.33333333333333,55.55555555555556,52.63157894736842,64.70588235294117,37.5,60.0,0.0,57.14285714285714,14.285714285714285,66.66666666666666,50.0,63.63636363636363,75.0,100.0,33.33333333333333,70.0,50.0,66.66666666666666,75.0,75.0,80.0,50.0,0.0,0.0,40.0,50.0,50.0,75.0,100.0,0.0,50.0,100.0,33.33333333333333,100.0,0.0,0.0,50.0,61.224489795918366,68.33333333333333,80.0,60.86956521739131,59.09090909090909,81.81818181818183,82.22222222222221,80.0,69.49152542372882,77.5,70.37037037037037,76.19047619047619,83.33333333333334,66.66666666666666,73.68421052631578,93.33333333333333,88.88888888888889,20.0,81.81818181818183,100.0,50.0,66.66666666666666,11.11111111111111,100.0,66.66666666666666,60.0,87.5,60.0,50.0,0.0,50.0,100.0,100.0,100.0,100.0,100.0,100.0,63.63636363636363,77.77777777777779,75.0,50.0,50.0,100.0,0.0,64.70588235294117,50.0,50.0,0.0,100.0,100.0,50.0,100.0,66.66666666666666,100.0,100.0,100.0,100.0,75.0,50.0,100.0,100.0,100.0,100.0,50.0,42.857142857142854,47.368421052631575,55.55555555555556,87.5,80.0,60.0,66.66666666666666,65.21739130434783,54.83870967741935,70.58823529411765,53.84615384615385,20.0,83.33333333333334,66.66666666666666,66.66666666666666,65.625,72.22222222222221,66.66666666666666,78.57142857142857,75.0,62.5,54.166666666666664,33.33333333333333,65.71428571428571,64.0,56.25,60.0,69.23076923076923,88.88888888888889,58.82352941176471,85.71428571428571,100.0,33.33333333333333,66.66666666666666,100.0,0.0,50.0,66.66666666666666,66.66666666666666,100.0,33.33333333333333,100.0,77.27272727272727,66.66666666666666,70.58823529411765,50.0,0.0,100.0,50.0,50.0,40.909090909090914,41.66666666666667,50.0,71.42857142857143,90.0,100.0,33.33333333333333,100.0,27.27272727272727,25.0,28.57142857142857,0.0,20.0,100.0,50.0,50.0,61.53846153846154,8.333333333333332,36.36363636363637,75.0,75.0,66.66666666666666,50.0,0.0,0.0,0.0,33.33333333333333,0.0,20.0,100.0,33.33333333333333,0.0,22.22222222222222,0.0,22.22222222222222,66.66666666666666,0.0,0.0,40.0,50.0,100.0,50.0,0.0,100.0,66.66666666666666,100.0,0.0,88.88888888888889,50.0,63.63636363636363,100.0,50.0,100.0,33.33333333333333,100.0,77.77777777777779,40.0,75.0,80.0,100.0,100.0,0.0,100.0,100.0,100.0,33.33333333333333,50.0,50.0,0.0,0.0,33.33333333333333,33.33333333333333,66.66666666666666,0.0,66.66666666666666,100.0,56.52173913043478,69.23076923076923,71.42857142857143,33.33333333333333,85.71428571428571,66.66666666666666,40.0,33.33333333333333,56.25,42.10526315789473,53.84615384615385,55.55555555555556,60.0,50.0,62.5,100.0,75.0,50.0,20.0,33.33333333333333,62.5,100.0,62.5,100.0,100.0,12.5,42.857142857142854,0.0,100.0,100.0,62.745098039215684,75.0,48.64864864864865,75.0,50.0,25.0,33.33333333333333,100.0,54.385964912280706,52.38095238095239,61.111111111111114,11.11111111111111,50.0,68.75,41.66666666666667,100.0,100.0,33.33333333333333,40.0,100.0,0.0,100.0,50.0,50.0,66.66666666666666,0.0,100.0,60.0,50.0,40.0,50.0,0.0,0.0,0.0,42.857142857142854,0.0,100.0,80.0,0.0,100.0,100.0,100.0,75.0,25.0,66.66666666666666,100.0,100.0,0.0,66.66666666666666,100.0,100.0,100.0,0.0,60.0,60.0,11.11111111111111,50.0,33.33333333333333,33.33333333333333,50.0,0.0,50.0,33.33333333333333,42.857142857142854,33.33333333333333,50.0,33.33333333333333,33.33333333333333,100.0,100.0,50.0,0.0,100.0,100.0,50.0,0.0,33.33333333333333,37.68115942028986,35.294117647058826,30.76923076923077,34.61538461538461,21.428571428571427,30.0,28.57142857142857,33.80281690140845,54.90196078431373,17.647058823529413,30.303030303030305,47.368421052631575,25.0,28.57142857142857,76.47058823529412,0.0,100.0,66.66666666666666,0.0,50.0,0.0,0.0,33.33333333333333,60.0,66.66666666666666,0.0,66.66666666666666,100.0,60.0,60.0,44.44444444444444,25.0,50.0,66.66666666666666,33.33333333333333,0.0,60.0,57.89473684210527,42.857142857142854,33.33333333333333,0.0,100.0,33.33333333333333,100.0,60.0,33.33333333333333,33.33333333333333,33.33333333333333,27.27272727272727,50.0,12.5,100.0,60.0,12.5,20.0,20.0,33.33333333333333,33.33333333333333,50.0,73.33333333333333,63.63636363636363,75.0,62.5,16.666666666666664,57.14285714285714,100.0,50.0,60.0,36.36363636363637,66.66666666666666,50.0,60.0,41.66666666666667,66.66666666666666,81.81818181818183,40.0,83.33333333333334,66.66666666666666,60.0,100.0,100.0,100.0,66.66666666666666,62.5,44.44444444444444,100.0,66.66666666666666,50.0,100.0,50.0,37.03703703703704,34.54545454545455,32.608695652173914,22.727272727272727,37.03703703703704,14.285714285714285,21.62162162162162,0.0,41.37931034482759,37.77777777777778,39.130434782608695,32.0,47.82608695652174,18.75,18.75,66.66666666666666,62.857142857142854,47.368421052631575,53.125,50.0,58.333333333333336,37.5,44.11764705882353,66.66666666666666,40.476190476190474,54.54545454545454,46.15384615384615,76.19047619047619,37.5,100.0,50.0,93.33333333333333,50.0,33.33333333333333,100.0,50.0,100.0,0.0,100.0,100.0,33.33333333333333,50.0,50.0,100.0,50.0,0.0,72.72727272727273,50.0,87.5,50.0,100.0,100.0,50.0,100.0,27.27272727272727,83.33333333333334,50.0,85.71428571428571,100.0,50.0,57.14285714285714,0.0,50.0,0.0,0.0,100.0,20.0,42.857142857142854,60.0,66.66666666666666,25.0,100.0,20.0,0.0,0.0,0.0,0.0,20.0,28.57142857142857,50.0,16.666666666666664,0.0,18.181818181818183,0.0,28.57142857142857,26.666666666666668,0.0,28.57142857142857,0.0,33.33333333333333,0.0,100.0,0.0,0.0,0.0,0.0,50.0,50.0,25.0,50.0,0.0,28.57142857142857,0.0,25.0,33.33333333333333,50.0,25.0,50.0,50.0,18.181818181818183,50.0,53.333333333333336,40.0,66.66666666666666,66.66666666666666,33.33333333333333,40.0,23.52941176470588,56.25,30.0,40.0,75.0,50.0,50.0,50.0,0.0,0.0,0.0,0.0,25.0,0.0,0.0,0.0,0.0,50.0,0.0,50.0,100.0,50.0,100.0,0.0,33.33333333333333,50.0,50.0,50.0,33.33333333333333,20.0,50.0,100.0,0.0,0.0,66.66666666666666,33.33333333333333,100.0,100.0,60.0,100.0,44.44444444444444,83.33333333333334,66.66666666666666,75.0,33.33333333333333,0.0,50.0,50.0,50.0,54.54545454545454,0.0,25.0,33.33333333333333,16.666666666666664,100.0,0.0,33.33333333333333,66.66666666666666,33.33333333333333,66.66666666666666,100.0,50.0,20.0,100.0,50.0,50.0,75.0,100.0,0.0,100.0,100.0,100.0,100.0,100.0,100.0,50.0,100.0,0.0,50.0,100.0,60.0,42.857142857142854,80.0,33.33333333333333,25.0,100.0,40.0,44.0,42.30769230769231,55.00000000000001,27.27272727272727,41.66666666666667,71.42857142857143,33.33333333333333,100.0,46.42857142857143,50.0,88.88888888888889,62.5,33.33333333333333,37.5,26.666666666666668,20.0,100.0,0.0,100.0,100.0,50.0,63.63636363636363,60.0,50.0,50.0,80.0,100.0,33.33333333333333,100.0,66.66666666666666,75.0,55.55555555555556,66.66666666666666,66.66666666666666,50.0,80.0,50.0,66.66666666666666,66.66666666666666,40.0,100.0,0.0,0.0,0.0,50.0,66.66666666666666,100.0,100.0,0.0,0.0,100.0,0.0,50.0,100.0,0.0,100.0,50.0,50.0,25.0,0.0,100.0,0.0,0.0,0.0,33.33333333333333,40.0,14.285714285714285,100.0,33.33333333333333,50.0,36.36363636363637,0.0,28.57142857142857,46.666666666666664,14.285714285714285,71.42857142857143,100.0,0.0,33.33333333333333,100.0,22.22222222222222,43.75,42.30769230769231,23.52941176470588,38.88888888888889,50.0,25.925925925925924,40.0,57.89473684210527,50.0,27.77777777777778,54.54545454545454,33.33333333333333,30.0,55.00000000000001,25.0,100.0,50.0,50.0,100.0,100.0,66.66666666666666,66.66666666666666,75.0,80.0,100.0,100.0,100.0,100.0,100.0,66.66666666666666,100.0,100.0,50.0,50.0,0.0,100.0,100.0,66.66666666666666,100.0,100.0,100.0,50.0,100.0,100.0,0.0,50.0,100.0,50.0,85.71428571428571,80.0,66.66666666666666,25.0,100.0,60.0,81.81818181818183,80.0,66.66666666666666,50.0,60.0,100.0,50.0,75.0,66.66666666666666,50.0,66.66666666666666,66.66666666666666,100.0,50.0,100.0,100.0,100.0,100.0,100.0,100.0,100.0,100.0,100.0,100.0,100.0,100.0,100.0,100.0,83.33333333333334,83.33333333333334,55.55555555555556,45.45454545454545,50.0,50.0,100.0,60.0,37.5,40.0,80.0,50.0,66.66666666666666,100.0,100.0,100.0,22.22222222222222,16.666666666666664,9.090909090909092,25.0,0.0,0.0,0.0,50.0,50.0,27.27272727272727,37.5,20.0,0.0,0.0,0.0,20.0,50.0,14.285714285714285,75.0,0.0,50.0,50.0,100.0,66.66666666666666,50.0,100.0,100.0,100.0,0.0,33.33333333333333,100.0,41.66666666666667,43.75,70.0,33.33333333333333,20.0,50.0,33.33333333333333,50.0,40.0,44.44444444444444,33.33333333333333,42.857142857142854,33.33333333333333,50.0,0.0,20.0,66.66666666666666,80.0,57.14285714285714,25.0,50.0,100.0,45.45454545454545,100.0,71.42857142857143,80.0,57.14285714285714,57.14285714285714,50.0,66.66666666666666,16.666666666666664,100.0,44.44444444444444,50.0,72.72727272727273,75.0,100.0,66.66666666666666,77.77777777777779,100.0,77.77777777777779,81.81818181818183,75.0,80.0,50.0,100.0,50.0,80.0,100.0,0.0,100.0,100.0,100.0,0.0,100.0,100.0,88.88888888888889,66.66666666666666,66.66666666666666,100.0,100.0,0.0,33.33333333333333,0.0,100.0,0.0,100.0,100.0,55.55555555555556,33.33333333333333,100.0,0.0,0.0,90.9090909090909,100.0,66.66666666666666,50.0,60.0,100.0,100.0,75.0,66.66666666666666,75.0,77.77777777777779,100.0,100.0,100.0,100.0,50.0,95.0,95.23809523809523,100.0,75.0,90.9090909090909,100.0,100.0,100.0,90.0,100.0,100.0,100.0,100.0,100.0,93.33333333333333,100.0,100.0,100.0,88.88888888888889,62.5,66.66666666666666,100.0,33.33333333333333,100.0,0.0,100.0,100.0,100.0,60.0,40.0,83.33333333333334,100.0,33.33333333333333,50.0,100.0,22.22222222222222,88.88888888888889,50.0,100.0,100.0,0.0,100.0,73.91304347826086,88.46153846153845,92.85714285714286,66.66666666666666,71.42857142857143,100.0,60.0,100.0,87.5,89.47368421052632,69.23076923076923,77.77777777777779,100.0,75.0,100.0,71.42857142857143,100.0,100.0,100.0,77.77777777777779,80.0,50.0,62.5,100.0,100.0,12.5,80.0,100.0,83.33333333333334,50.0,100.0,100.0,0.0,0.0,100.0,50.0,100.0,100.0,100.0,100.0,0.0,100.0,100.0,100.0,100.0,66.66666666666666,100.0,100.0,100.0,50.0,100.0,100.0,33.33333333333333,0.0,76.19047619047619,71.42857142857143,76.19047619047619,70.0,71.42857142857143,80.0,61.904761904761905,75.0,83.33333333333334,80.0,76.47058823529412,75.0,80.0,75.0,75.0,90.0,66.66666666666666,50.0,100.0,66.66666666666666,75.0,100.0,100.0,80.0,100.0,100.0,100.0,100.0,86.04651162790698,92.85714285714286,90.9090909090909,70.0,71.42857142857143,88.88888888888889,80.0,85.71428571428571,81.81818181818183,72.72727272727273,92.0,83.33333333333334,100.0,81.81818181818183,86.36363636363636,88.88888888888889,100.0,100.0,100.0,100.0,100.0,100.0,100.0,100.0,81.81818181818183,100.0,100.0,85.71428571428571,100.0,100.0,100.0,100.0,40.0,28.57142857142857,27.27272727272727,40.0,14.285714285714285,0.0,35.714285714285715,25.0,26.666666666666668,35.0,33.33333333333333,42.857142857142854,25.0,25.0,50.0,50.0,57.14285714285714,14.285714285714285,33.33333333333333,20.0,14.285714285714285,33.33333333333333,28.57142857142857,75.0,33.33333333333333,41.66666666666667,33.33333333333333,33.33333333333333,0.0,50.0,50.0,0.0,0.0,33.33333333333333,100.0,60.0,85.71428571428571,82.35294117647058,62.5,80.0,100.0,91.66666666666666,100.0,90.0,93.75,71.42857142857143,100.0,80.0,71.42857142857143,71.42857142857143,100.0,100.0,60.0,88.88888888888889,100.0,66.66666666666666,100.0,70.58823529411765,0.0,76.47058823529412,90.47619047619048,40.0,72.72727272727273,100.0,100.0,80.0,66.66666666666666],\"y0\":\" \",\"yaxis\":\"y\",\"type\":\"box\"}],                        {\"template\":{\"data\":{\"histogram2dcontour\":[{\"type\":\"histogram2dcontour\",\"colorbar\":{\"outlinewidth\":0,\"ticks\":\"\"},\"colorscale\":[[0.0,\"#0d0887\"],[0.1111111111111111,\"#46039f\"],[0.2222222222222222,\"#7201a8\"],[0.3333333333333333,\"#9c179e\"],[0.4444444444444444,\"#bd3786\"],[0.5555555555555556,\"#d8576b\"],[0.6666666666666666,\"#ed7953\"],[0.7777777777777778,\"#fb9f3a\"],[0.8888888888888888,\"#fdca26\"],[1.0,\"#f0f921\"]]}],\"choropleth\":[{\"type\":\"choropleth\",\"colorbar\":{\"outlinewidth\":0,\"ticks\":\"\"}}],\"histogram2d\":[{\"type\":\"histogram2d\",\"colorbar\":{\"outlinewidth\":0,\"ticks\":\"\"},\"colorscale\":[[0.0,\"#0d0887\"],[0.1111111111111111,\"#46039f\"],[0.2222222222222222,\"#7201a8\"],[0.3333333333333333,\"#9c179e\"],[0.4444444444444444,\"#bd3786\"],[0.5555555555555556,\"#d8576b\"],[0.6666666666666666,\"#ed7953\"],[0.7777777777777778,\"#fb9f3a\"],[0.8888888888888888,\"#fdca26\"],[1.0,\"#f0f921\"]]}],\"heatmap\":[{\"type\":\"heatmap\",\"colorbar\":{\"outlinewidth\":0,\"ticks\":\"\"},\"colorscale\":[[0.0,\"#0d0887\"],[0.1111111111111111,\"#46039f\"],[0.2222222222222222,\"#7201a8\"],[0.3333333333333333,\"#9c179e\"],[0.4444444444444444,\"#bd3786\"],[0.5555555555555556,\"#d8576b\"],[0.6666666666666666,\"#ed7953\"],[0.7777777777777778,\"#fb9f3a\"],[0.8888888888888888,\"#fdca26\"],[1.0,\"#f0f921\"]]}],\"heatmapgl\":[{\"type\":\"heatmapgl\",\"colorbar\":{\"outlinewidth\":0,\"ticks\":\"\"},\"colorscale\":[[0.0,\"#0d0887\"],[0.1111111111111111,\"#46039f\"],[0.2222222222222222,\"#7201a8\"],[0.3333333333333333,\"#9c179e\"],[0.4444444444444444,\"#bd3786\"],[0.5555555555555556,\"#d8576b\"],[0.6666666666666666,\"#ed7953\"],[0.7777777777777778,\"#fb9f3a\"],[0.8888888888888888,\"#fdca26\"],[1.0,\"#f0f921\"]]}],\"contourcarpet\":[{\"type\":\"contourcarpet\",\"colorbar\":{\"outlinewidth\":0,\"ticks\":\"\"}}],\"contour\":[{\"type\":\"contour\",\"colorbar\":{\"outlinewidth\":0,\"ticks\":\"\"},\"colorscale\":[[0.0,\"#0d0887\"],[0.1111111111111111,\"#46039f\"],[0.2222222222222222,\"#7201a8\"],[0.3333333333333333,\"#9c179e\"],[0.4444444444444444,\"#bd3786\"],[0.5555555555555556,\"#d8576b\"],[0.6666666666666666,\"#ed7953\"],[0.7777777777777778,\"#fb9f3a\"],[0.8888888888888888,\"#fdca26\"],[1.0,\"#f0f921\"]]}],\"surface\":[{\"type\":\"surface\",\"colorbar\":{\"outlinewidth\":0,\"ticks\":\"\"},\"colorscale\":[[0.0,\"#0d0887\"],[0.1111111111111111,\"#46039f\"],[0.2222222222222222,\"#7201a8\"],[0.3333333333333333,\"#9c179e\"],[0.4444444444444444,\"#bd3786\"],[0.5555555555555556,\"#d8576b\"],[0.6666666666666666,\"#ed7953\"],[0.7777777777777778,\"#fb9f3a\"],[0.8888888888888888,\"#fdca26\"],[1.0,\"#f0f921\"]]}],\"mesh3d\":[{\"type\":\"mesh3d\",\"colorbar\":{\"outlinewidth\":0,\"ticks\":\"\"}}],\"scatter\":[{\"fillpattern\":{\"fillmode\":\"overlay\",\"size\":10,\"solidity\":0.2},\"type\":\"scatter\"}],\"parcoords\":[{\"type\":\"parcoords\",\"line\":{\"colorbar\":{\"outlinewidth\":0,\"ticks\":\"\"}}}],\"scatterpolargl\":[{\"type\":\"scatterpolargl\",\"marker\":{\"colorbar\":{\"outlinewidth\":0,\"ticks\":\"\"}}}],\"bar\":[{\"error_x\":{\"color\":\"#2a3f5f\"},\"error_y\":{\"color\":\"#2a3f5f\"},\"marker\":{\"line\":{\"color\":\"#E5ECF6\",\"width\":0.5},\"pattern\":{\"fillmode\":\"overlay\",\"size\":10,\"solidity\":0.2}},\"type\":\"bar\"}],\"scattergeo\":[{\"type\":\"scattergeo\",\"marker\":{\"colorbar\":{\"outlinewidth\":0,\"ticks\":\"\"}}}],\"scatterpolar\":[{\"type\":\"scatterpolar\",\"marker\":{\"colorbar\":{\"outlinewidth\":0,\"ticks\":\"\"}}}],\"histogram\":[{\"marker\":{\"pattern\":{\"fillmode\":\"overlay\",\"size\":10,\"solidity\":0.2}},\"type\":\"histogram\"}],\"scattergl\":[{\"type\":\"scattergl\",\"marker\":{\"colorbar\":{\"outlinewidth\":0,\"ticks\":\"\"}}}],\"scatter3d\":[{\"type\":\"scatter3d\",\"line\":{\"colorbar\":{\"outlinewidth\":0,\"ticks\":\"\"}},\"marker\":{\"colorbar\":{\"outlinewidth\":0,\"ticks\":\"\"}}}],\"scattermapbox\":[{\"type\":\"scattermapbox\",\"marker\":{\"colorbar\":{\"outlinewidth\":0,\"ticks\":\"\"}}}],\"scatterternary\":[{\"type\":\"scatterternary\",\"marker\":{\"colorbar\":{\"outlinewidth\":0,\"ticks\":\"\"}}}],\"scattercarpet\":[{\"type\":\"scattercarpet\",\"marker\":{\"colorbar\":{\"outlinewidth\":0,\"ticks\":\"\"}}}],\"carpet\":[{\"aaxis\":{\"endlinecolor\":\"#2a3f5f\",\"gridcolor\":\"white\",\"linecolor\":\"white\",\"minorgridcolor\":\"white\",\"startlinecolor\":\"#2a3f5f\"},\"baxis\":{\"endlinecolor\":\"#2a3f5f\",\"gridcolor\":\"white\",\"linecolor\":\"white\",\"minorgridcolor\":\"white\",\"startlinecolor\":\"#2a3f5f\"},\"type\":\"carpet\"}],\"table\":[{\"cells\":{\"fill\":{\"color\":\"#EBF0F8\"},\"line\":{\"color\":\"white\"}},\"header\":{\"fill\":{\"color\":\"#C8D4E3\"},\"line\":{\"color\":\"white\"}},\"type\":\"table\"}],\"barpolar\":[{\"marker\":{\"line\":{\"color\":\"#E5ECF6\",\"width\":0.5},\"pattern\":{\"fillmode\":\"overlay\",\"size\":10,\"solidity\":0.2}},\"type\":\"barpolar\"}],\"pie\":[{\"automargin\":true,\"type\":\"pie\"}]},\"layout\":{\"autotypenumbers\":\"strict\",\"colorway\":[\"#636efa\",\"#EF553B\",\"#00cc96\",\"#ab63fa\",\"#FFA15A\",\"#19d3f3\",\"#FF6692\",\"#B6E880\",\"#FF97FF\",\"#FECB52\"],\"font\":{\"color\":\"#2a3f5f\"},\"hovermode\":\"closest\",\"hoverlabel\":{\"align\":\"left\"},\"paper_bgcolor\":\"white\",\"plot_bgcolor\":\"#E5ECF6\",\"polar\":{\"bgcolor\":\"#E5ECF6\",\"angularaxis\":{\"gridcolor\":\"white\",\"linecolor\":\"white\",\"ticks\":\"\"},\"radialaxis\":{\"gridcolor\":\"white\",\"linecolor\":\"white\",\"ticks\":\"\"}},\"ternary\":{\"bgcolor\":\"#E5ECF6\",\"aaxis\":{\"gridcolor\":\"white\",\"linecolor\":\"white\",\"ticks\":\"\"},\"baxis\":{\"gridcolor\":\"white\",\"linecolor\":\"white\",\"ticks\":\"\"},\"caxis\":{\"gridcolor\":\"white\",\"linecolor\":\"white\",\"ticks\":\"\"}},\"coloraxis\":{\"colorbar\":{\"outlinewidth\":0,\"ticks\":\"\"}},\"colorscale\":{\"sequential\":[[0.0,\"#0d0887\"],[0.1111111111111111,\"#46039f\"],[0.2222222222222222,\"#7201a8\"],[0.3333333333333333,\"#9c179e\"],[0.4444444444444444,\"#bd3786\"],[0.5555555555555556,\"#d8576b\"],[0.6666666666666666,\"#ed7953\"],[0.7777777777777778,\"#fb9f3a\"],[0.8888888888888888,\"#fdca26\"],[1.0,\"#f0f921\"]],\"sequentialminus\":[[0.0,\"#0d0887\"],[0.1111111111111111,\"#46039f\"],[0.2222222222222222,\"#7201a8\"],[0.3333333333333333,\"#9c179e\"],[0.4444444444444444,\"#bd3786\"],[0.5555555555555556,\"#d8576b\"],[0.6666666666666666,\"#ed7953\"],[0.7777777777777778,\"#fb9f3a\"],[0.8888888888888888,\"#fdca26\"],[1.0,\"#f0f921\"]],\"diverging\":[[0,\"#8e0152\"],[0.1,\"#c51b7d\"],[0.2,\"#de77ae\"],[0.3,\"#f1b6da\"],[0.4,\"#fde0ef\"],[0.5,\"#f7f7f7\"],[0.6,\"#e6f5d0\"],[0.7,\"#b8e186\"],[0.8,\"#7fbc41\"],[0.9,\"#4d9221\"],[1,\"#276419\"]]},\"xaxis\":{\"gridcolor\":\"white\",\"linecolor\":\"white\",\"ticks\":\"\",\"title\":{\"standoff\":15},\"zerolinecolor\":\"white\",\"automargin\":true,\"zerolinewidth\":2},\"yaxis\":{\"gridcolor\":\"white\",\"linecolor\":\"white\",\"ticks\":\"\",\"title\":{\"standoff\":15},\"zerolinecolor\":\"white\",\"automargin\":true,\"zerolinewidth\":2},\"scene\":{\"xaxis\":{\"backgroundcolor\":\"#E5ECF6\",\"gridcolor\":\"white\",\"linecolor\":\"white\",\"showbackground\":true,\"ticks\":\"\",\"zerolinecolor\":\"white\",\"gridwidth\":2},\"yaxis\":{\"backgroundcolor\":\"#E5ECF6\",\"gridcolor\":\"white\",\"linecolor\":\"white\",\"showbackground\":true,\"ticks\":\"\",\"zerolinecolor\":\"white\",\"gridwidth\":2},\"zaxis\":{\"backgroundcolor\":\"#E5ECF6\",\"gridcolor\":\"white\",\"linecolor\":\"white\",\"showbackground\":true,\"ticks\":\"\",\"zerolinecolor\":\"white\",\"gridwidth\":2}},\"shapedefaults\":{\"line\":{\"color\":\"#2a3f5f\"}},\"annotationdefaults\":{\"arrowcolor\":\"#2a3f5f\",\"arrowhead\":0,\"arrowwidth\":1},\"geo\":{\"bgcolor\":\"white\",\"landcolor\":\"#E5ECF6\",\"subunitcolor\":\"white\",\"showland\":true,\"showlakes\":true,\"lakecolor\":\"white\"},\"title\":{\"x\":0.05},\"mapbox\":{\"style\":\"light\"}}},\"xaxis\":{\"anchor\":\"y\",\"domain\":[0.0,1.0],\"title\":{\"text\":\"time\"}},\"yaxis\":{\"anchor\":\"x\",\"domain\":[0.0,1.0],\"title\":{\"text\":\"acceptance_rate\"}},\"legend\":{\"tracegroupgap\":0},\"margin\":{\"t\":60},\"boxmode\":\"group\"},                        {\"responsive\": true}                    ).then(function(){\n",
       "                            \n",
       "var gd = document.getElementById('d50766bd-e553-4639-89a7-8949afd66103');\n",
       "var x = new MutationObserver(function (mutations, observer) {{\n",
       "        var display = window.getComputedStyle(gd).display;\n",
       "        if (!display || display === 'none') {{\n",
       "            console.log([gd, 'removed!']);\n",
       "            Plotly.purge(gd);\n",
       "            observer.disconnect();\n",
       "        }}\n",
       "}});\n",
       "\n",
       "// Listen for the removal of the full notebook cells\n",
       "var notebookContainer = gd.closest('#notebook-container');\n",
       "if (notebookContainer) {{\n",
       "    x.observe(notebookContainer, {childList: true});\n",
       "}}\n",
       "\n",
       "// Listen for the clearing of the current output cell\n",
       "var outputEl = gd.closest('.output');\n",
       "if (outputEl) {{\n",
       "    x.observe(outputEl, {childList: true});\n",
       "}}\n",
       "\n",
       "                        })                };                });            </script>        </div>"
      ]
     },
     "metadata": {},
     "output_type": "display_data"
    }
   ],
   "source": [
    "#sns.boxplot(x='time', y='acceptance_rate', data=new_set)\n",
    "new_set2 = data.groupby(['coupon', 'time','weather', 'destination','temperature','passanger','gender','age'])['Y'].agg(['mean', 'sum']).reset_index()\n",
    "new_set2['acceptance_rate'] = new_set2['mean'] * 100\n",
    "px.box(new_set2, x='time', y=\"acceptance_rate\")\n"
   ]
  },
  {
   "cell_type": "code",
   "execution_count": 430,
   "metadata": {},
   "outputs": [
    {
     "data": {
      "text/html": [
       "<div>\n",
       "<style scoped>\n",
       "    .dataframe tbody tr th:only-of-type {\n",
       "        vertical-align: middle;\n",
       "    }\n",
       "\n",
       "    .dataframe tbody tr th {\n",
       "        vertical-align: top;\n",
       "    }\n",
       "\n",
       "    .dataframe thead th {\n",
       "        text-align: right;\n",
       "    }\n",
       "</style>\n",
       "<table border=\"1\" class=\"dataframe\">\n",
       "  <thead>\n",
       "    <tr style=\"text-align: right;\">\n",
       "      <th></th>\n",
       "      <th>coupon</th>\n",
       "      <th>time</th>\n",
       "      <th>weather</th>\n",
       "      <th>destination</th>\n",
       "      <th>temperature</th>\n",
       "      <th>passanger</th>\n",
       "      <th>gender</th>\n",
       "      <th>age</th>\n",
       "      <th>mean</th>\n",
       "      <th>sum</th>\n",
       "      <th>acceptance_rate</th>\n",
       "    </tr>\n",
       "  </thead>\n",
       "  <tbody>\n",
       "    <tr>\n",
       "      <th>1729</th>\n",
       "      <td>Restaurant(&lt;20)</td>\n",
       "      <td>6PM</td>\n",
       "      <td>Sunny</td>\n",
       "      <td>No Urgent Place</td>\n",
       "      <td>80</td>\n",
       "      <td>Friend(s)</td>\n",
       "      <td>Female</td>\n",
       "      <td>26</td>\n",
       "      <td>0.928571</td>\n",
       "      <td>39</td>\n",
       "      <td>92.857143</td>\n",
       "    </tr>\n",
       "    <tr>\n",
       "      <th>1728</th>\n",
       "      <td>Restaurant(&lt;20)</td>\n",
       "      <td>6PM</td>\n",
       "      <td>Sunny</td>\n",
       "      <td>No Urgent Place</td>\n",
       "      <td>80</td>\n",
       "      <td>Friend(s)</td>\n",
       "      <td>Female</td>\n",
       "      <td>21</td>\n",
       "      <td>0.860465</td>\n",
       "      <td>37</td>\n",
       "      <td>86.046512</td>\n",
       "    </tr>\n",
       "    <tr>\n",
       "      <th>720</th>\n",
       "      <td>Carry out &amp; Take away</td>\n",
       "      <td>7AM</td>\n",
       "      <td>Sunny</td>\n",
       "      <td>Work</td>\n",
       "      <td>80</td>\n",
       "      <td>Alone</td>\n",
       "      <td>Female</td>\n",
       "      <td>50plus</td>\n",
       "      <td>0.822222</td>\n",
       "      <td>37</td>\n",
       "      <td>82.222222</td>\n",
       "    </tr>\n",
       "    <tr>\n",
       "      <th>1736</th>\n",
       "      <td>Restaurant(&lt;20)</td>\n",
       "      <td>6PM</td>\n",
       "      <td>Sunny</td>\n",
       "      <td>No Urgent Place</td>\n",
       "      <td>80</td>\n",
       "      <td>Friend(s)</td>\n",
       "      <td>Male</td>\n",
       "      <td>21</td>\n",
       "      <td>0.818182</td>\n",
       "      <td>36</td>\n",
       "      <td>81.818182</td>\n",
       "    </tr>\n",
       "    <tr>\n",
       "      <th>716</th>\n",
       "      <td>Carry out &amp; Take away</td>\n",
       "      <td>7AM</td>\n",
       "      <td>Sunny</td>\n",
       "      <td>Work</td>\n",
       "      <td>80</td>\n",
       "      <td>Alone</td>\n",
       "      <td>Female</td>\n",
       "      <td>31</td>\n",
       "      <td>0.800000</td>\n",
       "      <td>32</td>\n",
       "      <td>80.000000</td>\n",
       "    </tr>\n",
       "  </tbody>\n",
       "</table>\n",
       "</div>"
      ],
      "text/plain": [
       "                     coupon time weather      destination  temperature  \\\n",
       "1729        Restaurant(<20)  6PM   Sunny  No Urgent Place           80   \n",
       "1728        Restaurant(<20)  6PM   Sunny  No Urgent Place           80   \n",
       "720   Carry out & Take away  7AM   Sunny             Work           80   \n",
       "1736        Restaurant(<20)  6PM   Sunny  No Urgent Place           80   \n",
       "716   Carry out & Take away  7AM   Sunny             Work           80   \n",
       "\n",
       "      passanger  gender     age      mean  sum  acceptance_rate  \n",
       "1729  Friend(s)  Female      26  0.928571   39        92.857143  \n",
       "1728  Friend(s)  Female      21  0.860465   37        86.046512  \n",
       "720       Alone  Female  50plus  0.822222   37        82.222222  \n",
       "1736  Friend(s)    Male      21  0.818182   36        81.818182  \n",
       "716       Alone  Female      31  0.800000   32        80.000000  "
      ]
     },
     "execution_count": 430,
     "metadata": {},
     "output_type": "execute_result"
    }
   ],
   "source": [
    "new_set4 = new_set2.sort_values(by='acceptance_rate', ascending=False)\n",
    "new_set6 = new_set4[new_set4['sum'] > 30]\n",
    "new_set6.head()\n"
   ]
  },
  {
   "cell_type": "markdown",
   "metadata": {},
   "source": [
    "**FINDINGS**\n",
    "\n",
    "* Overall acceptance rate is high at 56.8%\n",
    "* Coupon Type and Time of the day appears to be the most relevant attributes:\n",
    "  - The highest acceptance rate by time is at 2PM (76%)\n",
    "  - The highest acceptance rate by coupon type is for Carry out & Take away (73%) and Resaurants (<20) (70%)\n",
    "  - And the combination of both, as expected, is Carry out & Take away at 2PM with 86% acceptance rate and Restaurants (<20) at 6PM (82%)\n",
    "\n",
    "* Also noted that passagenrs with kids are more likely to accept a coupon (59% acceptance rate)\n",
    " \n",
    "* And a combination of 'coupon', 'time','weather', 'destination','temperature','passanger','gender','age' show that the most successful  combination with at least 30 occurances is Restaurant(<20) at 6PM in a Sunny day (80 degrees) for a female driver 26 years old with friends going to no urgent place. 92% acceprance rate. And the exact same but for a 21 year old has 86% acceptance rate.\n",
    "    - The next one is carry out & take away at 7AM for a 50 plus age female alone going to work. 82% acceptance rate.\n",
    "\n",
    "  \n",
    "* Overall the coupon strategy appears to be successful and with some fine tuning on audience type, it can be even more successful.\n"
   ]
  },
  {
   "cell_type": "code",
   "execution_count": null,
   "metadata": {},
   "outputs": [],
   "source": []
  }
 ],
 "metadata": {
  "colab": {
   "provenance": []
  },
  "kernelspec": {
   "display_name": "Python [conda env:base] *",
   "language": "python",
   "name": "conda-base-py"
  },
  "language_info": {
   "codemirror_mode": {
    "name": "ipython",
    "version": 3
   },
   "file_extension": ".py",
   "mimetype": "text/x-python",
   "name": "python",
   "nbconvert_exporter": "python",
   "pygments_lexer": "ipython3",
   "version": "3.12.7"
  }
 },
 "nbformat": 4,
 "nbformat_minor": 4
}
